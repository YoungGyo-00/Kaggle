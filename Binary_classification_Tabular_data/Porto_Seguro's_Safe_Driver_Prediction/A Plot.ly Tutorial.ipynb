{
 "cells": [
  {
   "cell_type": "markdown",
   "metadata": {},
   "source": [
    "## 1. Data Quality Checks"
   ]
  },
  {
   "cell_type": "code",
   "execution_count": 1,
   "metadata": {},
   "outputs": [
    {
     "data": {
      "text/html": [
       "        <script type=\"text/javascript\">\n",
       "        window.PlotlyConfig = {MathJaxConfig: 'local'};\n",
       "        if (window.MathJax) {MathJax.Hub.Config({SVG: {font: \"STIX-Web\"}});}\n",
       "        if (typeof require !== 'undefined') {\n",
       "        require.undef(\"plotly\");\n",
       "        requirejs.config({\n",
       "            paths: {\n",
       "                'plotly': ['https://cdn.plot.ly/plotly-2.6.3.min']\n",
       "            }\n",
       "        });\n",
       "        require(['plotly'], function(Plotly) {\n",
       "            window._Plotly = Plotly;\n",
       "        });\n",
       "        }\n",
       "        </script>\n",
       "        "
      ]
     },
     "metadata": {},
     "output_type": "display_data"
    }
   ],
   "source": [
    "import pandas as pd\n",
    "import numpy as np\n",
    "import seaborn as sns\n",
    "import matplotlib.pyplot as plt\n",
    "%matplotlib inline\n",
    "import plotly.offline as py\n",
    "py.init_notebook_mode(connected=True)\n",
    "import plotly.graph_objs as go\n",
    "import plotly.tools as tls\n",
    "import warnings\n",
    "from collections import Counter\n",
    "from sklearn.feature_selection import mutual_info_classif\n",
    "warnings.filterwarnings('ignore')"
   ]
  },
  {
   "cell_type": "code",
   "execution_count": 2,
   "metadata": {},
   "outputs": [
    {
     "data": {
      "text/html": [
       "<div>\n",
       "<style scoped>\n",
       "    .dataframe tbody tr th:only-of-type {\n",
       "        vertical-align: middle;\n",
       "    }\n",
       "\n",
       "    .dataframe tbody tr th {\n",
       "        vertical-align: top;\n",
       "    }\n",
       "\n",
       "    .dataframe thead th {\n",
       "        text-align: right;\n",
       "    }\n",
       "</style>\n",
       "<table border=\"1\" class=\"dataframe\">\n",
       "  <thead>\n",
       "    <tr style=\"text-align: right;\">\n",
       "      <th></th>\n",
       "      <th>id</th>\n",
       "      <th>target</th>\n",
       "      <th>ps_ind_01</th>\n",
       "      <th>ps_ind_02_cat</th>\n",
       "      <th>ps_ind_03</th>\n",
       "      <th>ps_ind_04_cat</th>\n",
       "      <th>ps_ind_05_cat</th>\n",
       "      <th>ps_ind_06_bin</th>\n",
       "      <th>ps_ind_07_bin</th>\n",
       "      <th>ps_ind_08_bin</th>\n",
       "      <th>...</th>\n",
       "      <th>ps_calc_11</th>\n",
       "      <th>ps_calc_12</th>\n",
       "      <th>ps_calc_13</th>\n",
       "      <th>ps_calc_14</th>\n",
       "      <th>ps_calc_15_bin</th>\n",
       "      <th>ps_calc_16_bin</th>\n",
       "      <th>ps_calc_17_bin</th>\n",
       "      <th>ps_calc_18_bin</th>\n",
       "      <th>ps_calc_19_bin</th>\n",
       "      <th>ps_calc_20_bin</th>\n",
       "    </tr>\n",
       "  </thead>\n",
       "  <tbody>\n",
       "    <tr>\n",
       "      <th>0</th>\n",
       "      <td>7</td>\n",
       "      <td>0</td>\n",
       "      <td>2</td>\n",
       "      <td>2</td>\n",
       "      <td>5</td>\n",
       "      <td>1</td>\n",
       "      <td>0</td>\n",
       "      <td>0</td>\n",
       "      <td>1</td>\n",
       "      <td>0</td>\n",
       "      <td>...</td>\n",
       "      <td>9</td>\n",
       "      <td>1</td>\n",
       "      <td>5</td>\n",
       "      <td>8</td>\n",
       "      <td>0</td>\n",
       "      <td>1</td>\n",
       "      <td>1</td>\n",
       "      <td>0</td>\n",
       "      <td>0</td>\n",
       "      <td>1</td>\n",
       "    </tr>\n",
       "    <tr>\n",
       "      <th>1</th>\n",
       "      <td>9</td>\n",
       "      <td>0</td>\n",
       "      <td>1</td>\n",
       "      <td>1</td>\n",
       "      <td>7</td>\n",
       "      <td>0</td>\n",
       "      <td>0</td>\n",
       "      <td>0</td>\n",
       "      <td>0</td>\n",
       "      <td>1</td>\n",
       "      <td>...</td>\n",
       "      <td>3</td>\n",
       "      <td>1</td>\n",
       "      <td>1</td>\n",
       "      <td>9</td>\n",
       "      <td>0</td>\n",
       "      <td>1</td>\n",
       "      <td>1</td>\n",
       "      <td>0</td>\n",
       "      <td>1</td>\n",
       "      <td>0</td>\n",
       "    </tr>\n",
       "    <tr>\n",
       "      <th>2</th>\n",
       "      <td>13</td>\n",
       "      <td>0</td>\n",
       "      <td>5</td>\n",
       "      <td>4</td>\n",
       "      <td>9</td>\n",
       "      <td>1</td>\n",
       "      <td>0</td>\n",
       "      <td>0</td>\n",
       "      <td>0</td>\n",
       "      <td>1</td>\n",
       "      <td>...</td>\n",
       "      <td>4</td>\n",
       "      <td>2</td>\n",
       "      <td>7</td>\n",
       "      <td>7</td>\n",
       "      <td>0</td>\n",
       "      <td>1</td>\n",
       "      <td>1</td>\n",
       "      <td>0</td>\n",
       "      <td>1</td>\n",
       "      <td>0</td>\n",
       "    </tr>\n",
       "    <tr>\n",
       "      <th>3</th>\n",
       "      <td>16</td>\n",
       "      <td>0</td>\n",
       "      <td>0</td>\n",
       "      <td>1</td>\n",
       "      <td>2</td>\n",
       "      <td>0</td>\n",
       "      <td>0</td>\n",
       "      <td>1</td>\n",
       "      <td>0</td>\n",
       "      <td>0</td>\n",
       "      <td>...</td>\n",
       "      <td>2</td>\n",
       "      <td>2</td>\n",
       "      <td>4</td>\n",
       "      <td>9</td>\n",
       "      <td>0</td>\n",
       "      <td>0</td>\n",
       "      <td>0</td>\n",
       "      <td>0</td>\n",
       "      <td>0</td>\n",
       "      <td>0</td>\n",
       "    </tr>\n",
       "    <tr>\n",
       "      <th>4</th>\n",
       "      <td>17</td>\n",
       "      <td>0</td>\n",
       "      <td>0</td>\n",
       "      <td>2</td>\n",
       "      <td>0</td>\n",
       "      <td>1</td>\n",
       "      <td>0</td>\n",
       "      <td>1</td>\n",
       "      <td>0</td>\n",
       "      <td>0</td>\n",
       "      <td>...</td>\n",
       "      <td>3</td>\n",
       "      <td>1</td>\n",
       "      <td>1</td>\n",
       "      <td>3</td>\n",
       "      <td>0</td>\n",
       "      <td>0</td>\n",
       "      <td>0</td>\n",
       "      <td>1</td>\n",
       "      <td>1</td>\n",
       "      <td>0</td>\n",
       "    </tr>\n",
       "  </tbody>\n",
       "</table>\n",
       "<p>5 rows × 59 columns</p>\n",
       "</div>"
      ],
      "text/plain": [
       "   id  target  ps_ind_01  ps_ind_02_cat  ps_ind_03  ps_ind_04_cat  \\\n",
       "0   7       0          2              2          5              1   \n",
       "1   9       0          1              1          7              0   \n",
       "2  13       0          5              4          9              1   \n",
       "3  16       0          0              1          2              0   \n",
       "4  17       0          0              2          0              1   \n",
       "\n",
       "   ps_ind_05_cat  ps_ind_06_bin  ps_ind_07_bin  ps_ind_08_bin  ...  \\\n",
       "0              0              0              1              0  ...   \n",
       "1              0              0              0              1  ...   \n",
       "2              0              0              0              1  ...   \n",
       "3              0              1              0              0  ...   \n",
       "4              0              1              0              0  ...   \n",
       "\n",
       "   ps_calc_11  ps_calc_12  ps_calc_13  ps_calc_14  ps_calc_15_bin  \\\n",
       "0           9           1           5           8               0   \n",
       "1           3           1           1           9               0   \n",
       "2           4           2           7           7               0   \n",
       "3           2           2           4           9               0   \n",
       "4           3           1           1           3               0   \n",
       "\n",
       "   ps_calc_16_bin  ps_calc_17_bin  ps_calc_18_bin  ps_calc_19_bin  \\\n",
       "0               1               1               0               0   \n",
       "1               1               1               0               1   \n",
       "2               1               1               0               1   \n",
       "3               0               0               0               0   \n",
       "4               0               0               1               1   \n",
       "\n",
       "   ps_calc_20_bin  \n",
       "0               1  \n",
       "1               0  \n",
       "2               0  \n",
       "3               0  \n",
       "4               0  \n",
       "\n",
       "[5 rows x 59 columns]"
      ]
     },
     "execution_count": 2,
     "metadata": {},
     "output_type": "execute_result"
    }
   ],
   "source": [
    "train = pd.read_csv('./data/train.csv', nrows=10000)\n",
    "train.head()"
   ]
  },
  {
   "cell_type": "code",
   "execution_count": 3,
   "metadata": {},
   "outputs": [],
   "source": [
    "test = pd.read_csv('./data/test.csv', nrows=10000)"
   ]
  },
  {
   "cell_type": "code",
   "execution_count": 4,
   "metadata": {},
   "outputs": [
    {
     "data": {
      "text/html": [
       "<div>\n",
       "<style scoped>\n",
       "    .dataframe tbody tr th:only-of-type {\n",
       "        vertical-align: middle;\n",
       "    }\n",
       "\n",
       "    .dataframe tbody tr th {\n",
       "        vertical-align: top;\n",
       "    }\n",
       "\n",
       "    .dataframe thead th {\n",
       "        text-align: right;\n",
       "    }\n",
       "</style>\n",
       "<table border=\"1\" class=\"dataframe\">\n",
       "  <thead>\n",
       "    <tr style=\"text-align: right;\">\n",
       "      <th></th>\n",
       "      <th>id</th>\n",
       "      <th>ps_ind_01</th>\n",
       "      <th>ps_ind_02_cat</th>\n",
       "      <th>ps_ind_03</th>\n",
       "      <th>ps_ind_04_cat</th>\n",
       "      <th>ps_ind_05_cat</th>\n",
       "      <th>ps_ind_06_bin</th>\n",
       "      <th>ps_ind_07_bin</th>\n",
       "      <th>ps_ind_08_bin</th>\n",
       "      <th>ps_ind_09_bin</th>\n",
       "      <th>...</th>\n",
       "      <th>ps_calc_11</th>\n",
       "      <th>ps_calc_12</th>\n",
       "      <th>ps_calc_13</th>\n",
       "      <th>ps_calc_14</th>\n",
       "      <th>ps_calc_15_bin</th>\n",
       "      <th>ps_calc_16_bin</th>\n",
       "      <th>ps_calc_17_bin</th>\n",
       "      <th>ps_calc_18_bin</th>\n",
       "      <th>ps_calc_19_bin</th>\n",
       "      <th>ps_calc_20_bin</th>\n",
       "    </tr>\n",
       "  </thead>\n",
       "  <tbody>\n",
       "    <tr>\n",
       "      <th>0</th>\n",
       "      <td>0</td>\n",
       "      <td>0</td>\n",
       "      <td>1</td>\n",
       "      <td>8</td>\n",
       "      <td>1</td>\n",
       "      <td>0</td>\n",
       "      <td>0</td>\n",
       "      <td>1</td>\n",
       "      <td>0</td>\n",
       "      <td>0</td>\n",
       "      <td>...</td>\n",
       "      <td>1</td>\n",
       "      <td>1</td>\n",
       "      <td>1</td>\n",
       "      <td>12</td>\n",
       "      <td>0</td>\n",
       "      <td>1</td>\n",
       "      <td>1</td>\n",
       "      <td>0</td>\n",
       "      <td>0</td>\n",
       "      <td>1</td>\n",
       "    </tr>\n",
       "    <tr>\n",
       "      <th>1</th>\n",
       "      <td>1</td>\n",
       "      <td>4</td>\n",
       "      <td>2</td>\n",
       "      <td>5</td>\n",
       "      <td>1</td>\n",
       "      <td>0</td>\n",
       "      <td>0</td>\n",
       "      <td>0</td>\n",
       "      <td>0</td>\n",
       "      <td>1</td>\n",
       "      <td>...</td>\n",
       "      <td>2</td>\n",
       "      <td>0</td>\n",
       "      <td>3</td>\n",
       "      <td>10</td>\n",
       "      <td>0</td>\n",
       "      <td>0</td>\n",
       "      <td>1</td>\n",
       "      <td>1</td>\n",
       "      <td>0</td>\n",
       "      <td>1</td>\n",
       "    </tr>\n",
       "    <tr>\n",
       "      <th>2</th>\n",
       "      <td>2</td>\n",
       "      <td>5</td>\n",
       "      <td>1</td>\n",
       "      <td>3</td>\n",
       "      <td>0</td>\n",
       "      <td>0</td>\n",
       "      <td>0</td>\n",
       "      <td>0</td>\n",
       "      <td>0</td>\n",
       "      <td>1</td>\n",
       "      <td>...</td>\n",
       "      <td>4</td>\n",
       "      <td>0</td>\n",
       "      <td>2</td>\n",
       "      <td>4</td>\n",
       "      <td>0</td>\n",
       "      <td>0</td>\n",
       "      <td>0</td>\n",
       "      <td>0</td>\n",
       "      <td>0</td>\n",
       "      <td>0</td>\n",
       "    </tr>\n",
       "    <tr>\n",
       "      <th>3</th>\n",
       "      <td>3</td>\n",
       "      <td>0</td>\n",
       "      <td>1</td>\n",
       "      <td>6</td>\n",
       "      <td>0</td>\n",
       "      <td>0</td>\n",
       "      <td>1</td>\n",
       "      <td>0</td>\n",
       "      <td>0</td>\n",
       "      <td>0</td>\n",
       "      <td>...</td>\n",
       "      <td>5</td>\n",
       "      <td>1</td>\n",
       "      <td>0</td>\n",
       "      <td>5</td>\n",
       "      <td>1</td>\n",
       "      <td>0</td>\n",
       "      <td>1</td>\n",
       "      <td>0</td>\n",
       "      <td>0</td>\n",
       "      <td>0</td>\n",
       "    </tr>\n",
       "    <tr>\n",
       "      <th>4</th>\n",
       "      <td>4</td>\n",
       "      <td>5</td>\n",
       "      <td>1</td>\n",
       "      <td>7</td>\n",
       "      <td>0</td>\n",
       "      <td>0</td>\n",
       "      <td>0</td>\n",
       "      <td>0</td>\n",
       "      <td>0</td>\n",
       "      <td>1</td>\n",
       "      <td>...</td>\n",
       "      <td>4</td>\n",
       "      <td>0</td>\n",
       "      <td>0</td>\n",
       "      <td>4</td>\n",
       "      <td>0</td>\n",
       "      <td>1</td>\n",
       "      <td>1</td>\n",
       "      <td>0</td>\n",
       "      <td>0</td>\n",
       "      <td>1</td>\n",
       "    </tr>\n",
       "  </tbody>\n",
       "</table>\n",
       "<p>5 rows × 58 columns</p>\n",
       "</div>"
      ],
      "text/plain": [
       "   id  ps_ind_01  ps_ind_02_cat  ps_ind_03  ps_ind_04_cat  ps_ind_05_cat  \\\n",
       "0   0          0              1          8              1              0   \n",
       "1   1          4              2          5              1              0   \n",
       "2   2          5              1          3              0              0   \n",
       "3   3          0              1          6              0              0   \n",
       "4   4          5              1          7              0              0   \n",
       "\n",
       "   ps_ind_06_bin  ps_ind_07_bin  ps_ind_08_bin  ps_ind_09_bin  ...  \\\n",
       "0              0              1              0              0  ...   \n",
       "1              0              0              0              1  ...   \n",
       "2              0              0              0              1  ...   \n",
       "3              1              0              0              0  ...   \n",
       "4              0              0              0              1  ...   \n",
       "\n",
       "   ps_calc_11  ps_calc_12  ps_calc_13  ps_calc_14  ps_calc_15_bin  \\\n",
       "0           1           1           1          12               0   \n",
       "1           2           0           3          10               0   \n",
       "2           4           0           2           4               0   \n",
       "3           5           1           0           5               1   \n",
       "4           4           0           0           4               0   \n",
       "\n",
       "   ps_calc_16_bin  ps_calc_17_bin  ps_calc_18_bin  ps_calc_19_bin  \\\n",
       "0               1               1               0               0   \n",
       "1               0               1               1               0   \n",
       "2               0               0               0               0   \n",
       "3               0               1               0               0   \n",
       "4               1               1               0               0   \n",
       "\n",
       "   ps_calc_20_bin  \n",
       "0               1  \n",
       "1               1  \n",
       "2               0  \n",
       "3               0  \n",
       "4               1  \n",
       "\n",
       "[5 rows x 58 columns]"
      ]
     },
     "execution_count": 4,
     "metadata": {},
     "output_type": "execute_result"
    }
   ],
   "source": [
    "test.head()"
   ]
  },
  {
   "cell_type": "code",
   "execution_count": 5,
   "metadata": {},
   "outputs": [
    {
     "data": {
      "text/plain": [
       "False"
      ]
     },
     "execution_count": 5,
     "metadata": {},
     "output_type": "execute_result"
    }
   ],
   "source": [
    "train.isnull().any().any()"
   ]
  },
  {
   "cell_type": "code",
   "execution_count": 6,
   "metadata": {},
   "outputs": [],
   "source": [
    "train_copy = train\n",
    "train_copy = train_copy.replace(-1, np.NaN)"
   ]
  },
  {
   "cell_type": "code",
   "execution_count": 7,
   "metadata": {},
   "outputs": [
    {
     "data": {
      "text/plain": [
       "<AxesSubplot:>"
      ]
     },
     "execution_count": 7,
     "metadata": {},
     "output_type": "execute_result"
    },
    {
     "data": {
      "image/png": "[encoded data removed]",
      "text/plain": [
       "<Figure size 1440x1008 with 2 Axes>"
      ]
     },
     "metadata": {
      "needs_background": "light"
     },
     "output_type": "display_data"
    }
   ],
   "source": [
    "import missingno as msno\n",
    "msno.matrix(df=train_copy.iloc[:,2:39], figsize=(20,14), color=(0.42, 0.1, 0.05))"
   ]
  },
  {
   "cell_type": "code",
   "execution_count": 8,
   "metadata": {},
   "outputs": [
    {
     "data": {
      "application/vnd.plotly.v1+json": {
       "config": {
        "linkText": "Export to plot.ly",
        "plotlyServerURL": "https://plot.ly",
        "showLink": false
       },
       "data": [
        {
         "text": "Distribution of target variable",
         "type": "bar",
         "x": [
          0,
          1
         ],
         "y": [
          9621,
          379
         ]
        }
       ],
       "layout": {
        "template": {
         "data": {
          "bar": [
           {
            "error_x": {
             "color": "#2a3f5f"
            },
            "error_y": {
             "color": "#2a3f5f"
            },
            "marker": {
             "line": {
              "color": "#E5ECF6",
              "width": 0.5
             },
             "pattern": {
              "fillmode": "overlay",
              "size": 10,
              "solidity": 0.2
             }
            },
            "type": "bar"
           }
          ],
          "barpolar": [
           {
            "marker": {
             "line": {
              "color": "#E5ECF6",
              "width": 0.5
             },
             "pattern": {
              "fillmode": "overlay",
              "size": 10,
              "solidity": 0.2
             }
            },
            "type": "barpolar"
           }
          ],
          "carpet": [
           {
            "aaxis": {
             "endlinecolor": "#2a3f5f",
             "gridcolor": "white",
             "linecolor": "white",
             "minorgridcolor": "white",
             "startlinecolor": "#2a3f5f"
            },
            "baxis": {
             "endlinecolor": "#2a3f5f",
             "gridcolor": "white",
             "linecolor": "white",
             "minorgridcolor": "white",
             "startlinecolor": "#2a3f5f"
            },
            "type": "carpet"
           }
          ],
          "choropleth": [
           {
            "colorbar": {
             "outlinewidth": 0,
             "ticks": ""
            },
            "type": "choropleth"
           }
          ],
          "contour": [
           {
            "colorbar": {
             "outlinewidth": 0,
             "ticks": ""
            },
            "colorscale": [
             [
              0,
              "#0d0887"
             ],
             [
              0.1111111111111111,
              "#46039f"
             ],
             [
              0.2222222222222222,
              "#7201a8"
             ],
             [
              0.3333333333333333,
              "#9c179e"
             ],
             [
              0.4444444444444444,
              "#bd3786"
             ],
             [
              0.5555555555555556,
              "#d8576b"
             ],
             [
              0.6666666666666666,
              "#ed7953"
             ],
             [
              0.7777777777777778,
              "#fb9f3a"
             ],
             [
              0.8888888888888888,
              "#fdca26"
             ],
             [
              1,
              "#f0f921"
             ]
            ],
            "type": "contour"
           }
          ],
          "contourcarpet": [
           {
            "colorbar": {
             "outlinewidth": 0,
             "ticks": ""
            },
            "type": "contourcarpet"
           }
          ],
          "heatmap": [
           {
            "colorbar": {
             "outlinewidth": 0,
             "ticks": ""
            },
            "colorscale": [
             [
              0,
              "#0d0887"
             ],
             [
              0.1111111111111111,
              "#46039f"
             ],
             [
              0.2222222222222222,
              "#7201a8"
             ],
             [
              0.3333333333333333,
              "#9c179e"
             ],
             [
              0.4444444444444444,
              "#bd3786"
             ],
             [
              0.5555555555555556,
              "#d8576b"
             ],
             [
              0.6666666666666666,
              "#ed7953"
             ],
             [
              0.7777777777777778,
              "#fb9f3a"
             ],
             [
              0.8888888888888888,
              "#fdca26"
             ],
             [
              1,
              "#f0f921"
             ]
            ],
            "type": "heatmap"
           }
          ],
          "heatmapgl": [
           {
            "colorbar": {
             "outlinewidth": 0,
             "ticks": ""
            },
            "colorscale": [
             [
              0,
              "#0d0887"
             ],
             [
              0.1111111111111111,
              "#46039f"
             ],
             [
              0.2222222222222222,
              "#7201a8"
             ],
             [
              0.3333333333333333,
              "#9c179e"
             ],
             [
              0.4444444444444444,
              "#bd3786"
             ],
             [
              0.5555555555555556,
              "#d8576b"
             ],
             [
              0.6666666666666666,
              "#ed7953"
             ],
             [
              0.7777777777777778,
              "#fb9f3a"
             ],
             [
              0.8888888888888888,
              "#fdca26"
             ],
             [
              1,
              "#f0f921"
             ]
            ],
            "type": "heatmapgl"
           }
          ],
          "histogram": [
           {
            "marker": {
             "pattern": {
              "fillmode": "overlay",
              "size": 10,
              "solidity": 0.2
             }
            },
            "type": "histogram"
           }
          ],
          "histogram2d": [
           {
            "colorbar": {
             "outlinewidth": 0,
             "ticks": ""
            },
            "colorscale": [
             [
              0,
              "#0d0887"
             ],
             [
              0.1111111111111111,
              "#46039f"
             ],
             [
              0.2222222222222222,
              "#7201a8"
             ],
             [
              0.3333333333333333,
              "#9c179e"
             ],
             [
              0.4444444444444444,
              "#bd3786"
             ],
             [
              0.5555555555555556,
              "#d8576b"
             ],
             [
              0.6666666666666666,
              "#ed7953"
             ],
             [
              0.7777777777777778,
              "#fb9f3a"
             ],
             [
              0.8888888888888888,
              "#fdca26"
             ],
             [
              1,
              "#f0f921"
             ]
            ],
            "type": "histogram2d"
           }
          ],
          "histogram2dcontour": [
           {
            "colorbar": {
             "outlinewidth": 0,
             "ticks": ""
            },
            "colorscale": [
             [
              0,
              "#0d0887"
             ],
             [
              0.1111111111111111,
              "#46039f"
             ],
             [
              0.2222222222222222,
              "#7201a8"
             ],
             [
              0.3333333333333333,
              "#9c179e"
             ],
             [
              0.4444444444444444,
              "#bd3786"
             ],
             [
              0.5555555555555556,
              "#d8576b"
             ],
             [
              0.6666666666666666,
              "#ed7953"
             ],
             [
              0.7777777777777778,
              "#fb9f3a"
             ],
             [
              0.8888888888888888,
              "#fdca26"
             ],
             [
              1,
              "#f0f921"
             ]
            ],
            "type": "histogram2dcontour"
           }
          ],
          "mesh3d": [
           {
            "colorbar": {
             "outlinewidth": 0,
             "ticks": ""
            },
            "type": "mesh3d"
           }
          ],
          "parcoords": [
           {
            "line": {
             "colorbar": {
              "outlinewidth": 0,
              "ticks": ""
             }
            },
            "type": "parcoords"
           }
          ],
          "pie": [
           {
            "automargin": true,
            "type": "pie"
           }
          ],
          "scatter": [
           {
            "marker": {
             "colorbar": {
              "outlinewidth": 0,
              "ticks": ""
             }
            },
            "type": "scatter"
           }
          ],
          "scatter3d": [
           {
            "line": {
             "colorbar": {
              "outlinewidth": 0,
              "ticks": ""
             }
            },
            "marker": {
             "colorbar": {
              "outlinewidth": 0,
              "ticks": ""
             }
            },
            "type": "scatter3d"
           }
          ],
          "scattercarpet": [
           {
            "marker": {
             "colorbar": {
              "outlinewidth": 0,
              "ticks": ""
             }
            },
            "type": "scattercarpet"
           }
          ],
          "scattergeo": [
           {
            "marker": {
             "colorbar": {
              "outlinewidth": 0,
              "ticks": ""
             }
            },
            "type": "scattergeo"
           }
          ],
          "scattergl": [
           {
            "marker": {
             "colorbar": {
              "outlinewidth": 0,
              "ticks": ""
             }
            },
            "type": "scattergl"
           }
          ],
          "scattermapbox": [
           {
            "marker": {
             "colorbar": {
              "outlinewidth": 0,
              "ticks": ""
             }
            },
            "type": "scattermapbox"
           }
          ],
          "scatterpolar": [
           {
            "marker": {
             "colorbar": {
              "outlinewidth": 0,
              "ticks": ""
             }
            },
            "type": "scatterpolar"
           }
          ],
          "scatterpolargl": [
           {
            "marker": {
             "colorbar": {
              "outlinewidth": 0,
              "ticks": ""
             }
            },
            "type": "scatterpolargl"
           }
          ],
          "scatterternary": [
           {
            "marker": {
             "colorbar": {
              "outlinewidth": 0,
              "ticks": ""
             }
            },
            "type": "scatterternary"
           }
          ],
          "surface": [
           {
            "colorbar": {
             "outlinewidth": 0,
             "ticks": ""
            },
            "colorscale": [
             [
              0,
              "#0d0887"
             ],
             [
              0.1111111111111111,
              "#46039f"
             ],
             [
              0.2222222222222222,
              "#7201a8"
             ],
             [
              0.3333333333333333,
              "#9c179e"
             ],
             [
              0.4444444444444444,
              "#bd3786"
             ],
             [
              0.5555555555555556,
              "#d8576b"
             ],
             [
              0.6666666666666666,
              "#ed7953"
             ],
             [
              0.7777777777777778,
              "#fb9f3a"
             ],
             [
              0.8888888888888888,
              "#fdca26"
             ],
             [
              1,
              "#f0f921"
             ]
            ],
            "type": "surface"
           }
          ],
          "table": [
           {
            "cells": {
             "fill": {
              "color": "#EBF0F8"
             },
             "line": {
              "color": "white"
             }
            },
            "header": {
             "fill": {
              "color": "#C8D4E3"
             },
             "line": {
              "color": "white"
             }
            },
            "type": "table"
           }
          ]
         },
         "layout": {
          "annotationdefaults": {
           "arrowcolor": "#2a3f5f",
           "arrowhead": 0,
           "arrowwidth": 1
          },
          "autotypenumbers": "strict",
          "coloraxis": {
           "colorbar": {
            "outlinewidth": 0,
            "ticks": ""
           }
          },
          "colorscale": {
           "diverging": [
            [
             0,
             "#8e0152"
            ],
            [
             0.1,
             "#c51b7d"
            ],
            [
             0.2,
             "#de77ae"
            ],
            [
             0.3,
             "#f1b6da"
            ],
            [
             0.4,
             "#fde0ef"
            ],
            [
             0.5,
             "#f7f7f7"
            ],
            [
             0.6,
             "#e6f5d0"
            ],
            [
             0.7,
             "#b8e186"
            ],
            [
             0.8,
             "#7fbc41"
            ],
            [
             0.9,
             "#4d9221"
            ],
            [
             1,
             "#276419"
            ]
           ],
           "sequential": [
            [
             0,
             "#0d0887"
            ],
            [
             0.1111111111111111,
             "#46039f"
            ],
            [
             0.2222222222222222,
             "#7201a8"
            ],
            [
             0.3333333333333333,
             "#9c179e"
            ],
            [
             0.4444444444444444,
             "#bd3786"
            ],
            [
             0.5555555555555556,
             "#d8576b"
            ],
            [
             0.6666666666666666,
             "#ed7953"
            ],
            [
             0.7777777777777778,
             "#fb9f3a"
            ],
            [
             0.8888888888888888,
             "#fdca26"
            ],
            [
             1,
             "#f0f921"
            ]
           ],
           "sequentialminus": [
            [
             0,
             "#0d0887"
            ],
            [
             0.1111111111111111,
             "#46039f"
            ],
            [
             0.2222222222222222,
             "#7201a8"
            ],
            [
             0.3333333333333333,
             "#9c179e"
            ],
            [
             0.4444444444444444,
             "#bd3786"
            ],
            [
             0.5555555555555556,
             "#d8576b"
            ],
            [
             0.6666666666666666,
             "#ed7953"
            ],
            [
             0.7777777777777778,
             "#fb9f3a"
            ],
            [
             0.8888888888888888,
             "#fdca26"
            ],
            [
             1,
             "#f0f921"
            ]
           ]
          },
          "colorway": [
           "#636efa",
           "#EF553B",
           "#00cc96",
           "#ab63fa",
           "#FFA15A",
           "#19d3f3",
           "#FF6692",
           "#B6E880",
           "#FF97FF",
           "#FECB52"
          ],
          "font": {
           "color": "#2a3f5f"
          },
          "geo": {
           "bgcolor": "white",
           "lakecolor": "white",
           "landcolor": "#E5ECF6",
           "showlakes": true,
           "showland": true,
           "subunitcolor": "white"
          },
          "hoverlabel": {
           "align": "left"
          },
          "hovermode": "closest",
          "mapbox": {
           "style": "light"
          },
          "paper_bgcolor": "white",
          "plot_bgcolor": "#E5ECF6",
          "polar": {
           "angularaxis": {
            "gridcolor": "white",
            "linecolor": "white",
            "ticks": ""
           },
           "bgcolor": "#E5ECF6",
           "radialaxis": {
            "gridcolor": "white",
            "linecolor": "white",
            "ticks": ""
           }
          },
          "scene": {
           "xaxis": {
            "backgroundcolor": "#E5ECF6",
            "gridcolor": "white",
            "gridwidth": 2,
            "linecolor": "white",
            "showbackground": true,
            "ticks": "",
            "zerolinecolor": "white"
           },
           "yaxis": {
            "backgroundcolor": "#E5ECF6",
            "gridcolor": "white",
            "gridwidth": 2,
            "linecolor": "white",
            "showbackground": true,
            "ticks": "",
            "zerolinecolor": "white"
           },
           "zaxis": {
            "backgroundcolor": "#E5ECF6",
            "gridcolor": "white",
            "gridwidth": 2,
            "linecolor": "white",
            "showbackground": true,
            "ticks": "",
            "zerolinecolor": "white"
           }
          },
          "shapedefaults": {
           "line": {
            "color": "#2a3f5f"
           }
          },
          "ternary": {
           "aaxis": {
            "gridcolor": "white",
            "linecolor": "white",
            "ticks": ""
           },
           "baxis": {
            "gridcolor": "white",
            "linecolor": "white",
            "ticks": ""
           },
           "bgcolor": "#E5ECF6",
           "caxis": {
            "gridcolor": "white",
            "linecolor": "white",
            "ticks": ""
           }
          },
          "title": {
           "x": 0.05
          },
          "xaxis": {
           "automargin": true,
           "gridcolor": "white",
           "linecolor": "white",
           "ticks": "",
           "title": {
            "standoff": 15
           },
           "zerolinecolor": "white",
           "zerolinewidth": 2
          },
          "yaxis": {
           "automargin": true,
           "gridcolor": "white",
           "linecolor": "white",
           "ticks": "",
           "title": {
            "standoff": 15
           },
           "zerolinecolor": "white",
           "zerolinewidth": 2
          }
         }
        },
        "title": {
         "text": "Target variable distribution"
        }
       }
      },
      "text/html": [
       "<div>                            <div id=\"51db11fd-7693-437d-84c6-be24b09cca16\" class=\"plotly-graph-div\" style=\"height:525px; width:100%;\"></div>            <script type=\"text/javascript\">                require([\"plotly\"], function(Plotly) {                    window.PLOTLYENV=window.PLOTLYENV || {};                                    if (document.getElementById(\"51db11fd-7693-437d-84c6-be24b09cca16\")) {                    Plotly.newPlot(                        \"51db11fd-7693-437d-84c6-be24b09cca16\",                        [{\"text\":\"Distribution of target variable\",\"x\":[0,1],\"y\":[9621,379],\"type\":\"bar\"}],                        {\"template\":{\"data\":{\"barpolar\":[{\"marker\":{\"line\":{\"color\":\"#E5ECF6\",\"width\":0.5},\"pattern\":{\"fillmode\":\"overlay\",\"size\":10,\"solidity\":0.2}},\"type\":\"barpolar\"}],\"bar\":[{\"error_x\":{\"color\":\"#2a3f5f\"},\"error_y\":{\"color\":\"#2a3f5f\"},\"marker\":{\"line\":{\"color\":\"#E5ECF6\",\"width\":0.5},\"pattern\":{\"fillmode\":\"overlay\",\"size\":10,\"solidity\":0.2}},\"type\":\"bar\"}],\"carpet\":[{\"aaxis\":{\"endlinecolor\":\"#2a3f5f\",\"gridcolor\":\"white\",\"linecolor\":\"white\",\"minorgridcolor\":\"white\",\"startlinecolor\":\"#2a3f5f\"},\"baxis\":{\"endlinecolor\":\"#2a3f5f\",\"gridcolor\":\"white\",\"linecolor\":\"white\",\"minorgridcolor\":\"white\",\"startlinecolor\":\"#2a3f5f\"},\"type\":\"carpet\"}],\"choropleth\":[{\"colorbar\":{\"outlinewidth\":0,\"ticks\":\"\"},\"type\":\"choropleth\"}],\"contourcarpet\":[{\"colorbar\":{\"outlinewidth\":0,\"ticks\":\"\"},\"type\":\"contourcarpet\"}],\"contour\":[{\"colorbar\":{\"outlinewidth\":0,\"ticks\":\"\"},\"colorscale\":[[0.0,\"#0d0887\"],[0.1111111111111111,\"#46039f\"],[0.2222222222222222,\"#7201a8\"],[0.3333333333333333,\"#9c179e\"],[0.4444444444444444,\"#bd3786\"],[0.5555555555555556,\"#d8576b\"],[0.6666666666666666,\"#ed7953\"],[0.7777777777777778,\"#fb9f3a\"],[0.8888888888888888,\"#fdca26\"],[1.0,\"#f0f921\"]],\"type\":\"contour\"}],\"heatmapgl\":[{\"colorbar\":{\"outlinewidth\":0,\"ticks\":\"\"},\"colorscale\":[[0.0,\"#0d0887\"],[0.1111111111111111,\"#46039f\"],[0.2222222222222222,\"#7201a8\"],[0.3333333333333333,\"#9c179e\"],[0.4444444444444444,\"#bd3786\"],[0.5555555555555556,\"#d8576b\"],[0.6666666666666666,\"#ed7953\"],[0.7777777777777778,\"#fb9f3a\"],[0.8888888888888888,\"#fdca26\"],[1.0,\"#f0f921\"]],\"type\":\"heatmapgl\"}],\"heatmap\":[{\"colorbar\":{\"outlinewidth\":0,\"ticks\":\"\"},\"colorscale\":[[0.0,\"#0d0887\"],[0.1111111111111111,\"#46039f\"],[0.2222222222222222,\"#7201a8\"],[0.3333333333333333,\"#9c179e\"],[0.4444444444444444,\"#bd3786\"],[0.5555555555555556,\"#d8576b\"],[0.6666666666666666,\"#ed7953\"],[0.7777777777777778,\"#fb9f3a\"],[0.8888888888888888,\"#fdca26\"],[1.0,\"#f0f921\"]],\"type\":\"heatmap\"}],\"histogram2dcontour\":[{\"colorbar\":{\"outlinewidth\":0,\"ticks\":\"\"},\"colorscale\":[[0.0,\"#0d0887\"],[0.1111111111111111,\"#46039f\"],[0.2222222222222222,\"#7201a8\"],[0.3333333333333333,\"#9c179e\"],[0.4444444444444444,\"#bd3786\"],[0.5555555555555556,\"#d8576b\"],[0.6666666666666666,\"#ed7953\"],[0.7777777777777778,\"#fb9f3a\"],[0.8888888888888888,\"#fdca26\"],[1.0,\"#f0f921\"]],\"type\":\"histogram2dcontour\"}],\"histogram2d\":[{\"colorbar\":{\"outlinewidth\":0,\"ticks\":\"\"},\"colorscale\":[[0.0,\"#0d0887\"],[0.1111111111111111,\"#46039f\"],[0.2222222222222222,\"#7201a8\"],[0.3333333333333333,\"#9c179e\"],[0.4444444444444444,\"#bd3786\"],[0.5555555555555556,\"#d8576b\"],[0.6666666666666666,\"#ed7953\"],[0.7777777777777778,\"#fb9f3a\"],[0.8888888888888888,\"#fdca26\"],[1.0,\"#f0f921\"]],\"type\":\"histogram2d\"}],\"histogram\":[{\"marker\":{\"pattern\":{\"fillmode\":\"overlay\",\"size\":10,\"solidity\":0.2}},\"type\":\"histogram\"}],\"mesh3d\":[{\"colorbar\":{\"outlinewidth\":0,\"ticks\":\"\"},\"type\":\"mesh3d\"}],\"parcoords\":[{\"line\":{\"colorbar\":{\"outlinewidth\":0,\"ticks\":\"\"}},\"type\":\"parcoords\"}],\"pie\":[{\"automargin\":true,\"type\":\"pie\"}],\"scatter3d\":[{\"line\":{\"colorbar\":{\"outlinewidth\":0,\"ticks\":\"\"}},\"marker\":{\"colorbar\":{\"outlinewidth\":0,\"ticks\":\"\"}},\"type\":\"scatter3d\"}],\"scattercarpet\":[{\"marker\":{\"colorbar\":{\"outlinewidth\":0,\"ticks\":\"\"}},\"type\":\"scattercarpet\"}],\"scattergeo\":[{\"marker\":{\"colorbar\":{\"outlinewidth\":0,\"ticks\":\"\"}},\"type\":\"scattergeo\"}],\"scattergl\":[{\"marker\":{\"colorbar\":{\"outlinewidth\":0,\"ticks\":\"\"}},\"type\":\"scattergl\"}],\"scattermapbox\":[{\"marker\":{\"colorbar\":{\"outlinewidth\":0,\"ticks\":\"\"}},\"type\":\"scattermapbox\"}],\"scatterpolargl\":[{\"marker\":{\"colorbar\":{\"outlinewidth\":0,\"ticks\":\"\"}},\"type\":\"scatterpolargl\"}],\"scatterpolar\":[{\"marker\":{\"colorbar\":{\"outlinewidth\":0,\"ticks\":\"\"}},\"type\":\"scatterpolar\"}],\"scatter\":[{\"marker\":{\"colorbar\":{\"outlinewidth\":0,\"ticks\":\"\"}},\"type\":\"scatter\"}],\"scatterternary\":[{\"marker\":{\"colorbar\":{\"outlinewidth\":0,\"ticks\":\"\"}},\"type\":\"scatterternary\"}],\"surface\":[{\"colorbar\":{\"outlinewidth\":0,\"ticks\":\"\"},\"colorscale\":[[0.0,\"#0d0887\"],[0.1111111111111111,\"#46039f\"],[0.2222222222222222,\"#7201a8\"],[0.3333333333333333,\"#9c179e\"],[0.4444444444444444,\"#bd3786\"],[0.5555555555555556,\"#d8576b\"],[0.6666666666666666,\"#ed7953\"],[0.7777777777777778,\"#fb9f3a\"],[0.8888888888888888,\"#fdca26\"],[1.0,\"#f0f921\"]],\"type\":\"surface\"}],\"table\":[{\"cells\":{\"fill\":{\"color\":\"#EBF0F8\"},\"line\":{\"color\":\"white\"}},\"header\":{\"fill\":{\"color\":\"#C8D4E3\"},\"line\":{\"color\":\"white\"}},\"type\":\"table\"}]},\"layout\":{\"annotationdefaults\":{\"arrowcolor\":\"#2a3f5f\",\"arrowhead\":0,\"arrowwidth\":1},\"autotypenumbers\":\"strict\",\"coloraxis\":{\"colorbar\":{\"outlinewidth\":0,\"ticks\":\"\"}},\"colorscale\":{\"diverging\":[[0,\"#8e0152\"],[0.1,\"#c51b7d\"],[0.2,\"#de77ae\"],[0.3,\"#f1b6da\"],[0.4,\"#fde0ef\"],[0.5,\"#f7f7f7\"],[0.6,\"#e6f5d0\"],[0.7,\"#b8e186\"],[0.8,\"#7fbc41\"],[0.9,\"#4d9221\"],[1,\"#276419\"]],\"sequential\":[[0.0,\"#0d0887\"],[0.1111111111111111,\"#46039f\"],[0.2222222222222222,\"#7201a8\"],[0.3333333333333333,\"#9c179e\"],[0.4444444444444444,\"#bd3786\"],[0.5555555555555556,\"#d8576b\"],[0.6666666666666666,\"#ed7953\"],[0.7777777777777778,\"#fb9f3a\"],[0.8888888888888888,\"#fdca26\"],[1.0,\"#f0f921\"]],\"sequentialminus\":[[0.0,\"#0d0887\"],[0.1111111111111111,\"#46039f\"],[0.2222222222222222,\"#7201a8\"],[0.3333333333333333,\"#9c179e\"],[0.4444444444444444,\"#bd3786\"],[0.5555555555555556,\"#d8576b\"],[0.6666666666666666,\"#ed7953\"],[0.7777777777777778,\"#fb9f3a\"],[0.8888888888888888,\"#fdca26\"],[1.0,\"#f0f921\"]]},\"colorway\":[\"#636efa\",\"#EF553B\",\"#00cc96\",\"#ab63fa\",\"#FFA15A\",\"#19d3f3\",\"#FF6692\",\"#B6E880\",\"#FF97FF\",\"#FECB52\"],\"font\":{\"color\":\"#2a3f5f\"},\"geo\":{\"bgcolor\":\"white\",\"lakecolor\":\"white\",\"landcolor\":\"#E5ECF6\",\"showlakes\":true,\"showland\":true,\"subunitcolor\":\"white\"},\"hoverlabel\":{\"align\":\"left\"},\"hovermode\":\"closest\",\"mapbox\":{\"style\":\"light\"},\"paper_bgcolor\":\"white\",\"plot_bgcolor\":\"#E5ECF6\",\"polar\":{\"angularaxis\":{\"gridcolor\":\"white\",\"linecolor\":\"white\",\"ticks\":\"\"},\"bgcolor\":\"#E5ECF6\",\"radialaxis\":{\"gridcolor\":\"white\",\"linecolor\":\"white\",\"ticks\":\"\"}},\"scene\":{\"xaxis\":{\"backgroundcolor\":\"#E5ECF6\",\"gridcolor\":\"white\",\"gridwidth\":2,\"linecolor\":\"white\",\"showbackground\":true,\"ticks\":\"\",\"zerolinecolor\":\"white\"},\"yaxis\":{\"backgroundcolor\":\"#E5ECF6\",\"gridcolor\":\"white\",\"gridwidth\":2,\"linecolor\":\"white\",\"showbackground\":true,\"ticks\":\"\",\"zerolinecolor\":\"white\"},\"zaxis\":{\"backgroundcolor\":\"#E5ECF6\",\"gridcolor\":\"white\",\"gridwidth\":2,\"linecolor\":\"white\",\"showbackground\":true,\"ticks\":\"\",\"zerolinecolor\":\"white\"}},\"shapedefaults\":{\"line\":{\"color\":\"#2a3f5f\"}},\"ternary\":{\"aaxis\":{\"gridcolor\":\"white\",\"linecolor\":\"white\",\"ticks\":\"\"},\"baxis\":{\"gridcolor\":\"white\",\"linecolor\":\"white\",\"ticks\":\"\"},\"bgcolor\":\"#E5ECF6\",\"caxis\":{\"gridcolor\":\"white\",\"linecolor\":\"white\",\"ticks\":\"\"}},\"title\":{\"x\":0.05},\"xaxis\":{\"automargin\":true,\"gridcolor\":\"white\",\"linecolor\":\"white\",\"ticks\":\"\",\"title\":{\"standoff\":15},\"zerolinecolor\":\"white\",\"zerolinewidth\":2},\"yaxis\":{\"automargin\":true,\"gridcolor\":\"white\",\"linecolor\":\"white\",\"ticks\":\"\",\"title\":{\"standoff\":15},\"zerolinecolor\":\"white\",\"zerolinewidth\":2}}},\"title\":{\"text\":\"Target variable distribution\"}},                        {\"responsive\": true}                    ).then(function(){\n",
       "                            \n",
       "var gd = document.getElementById('51db11fd-7693-437d-84c6-be24b09cca16');\n",
       "var x = new MutationObserver(function (mutations, observer) {{\n",
       "        var display = window.getComputedStyle(gd).display;\n",
       "        if (!display || display === 'none') {{\n",
       "            console.log([gd, 'removed!']);\n",
       "            Plotly.purge(gd);\n",
       "            observer.disconnect();\n",
       "        }}\n",
       "}});\n",
       "\n",
       "// Listen for the removal of the full notebook cells\n",
       "var notebookContainer = gd.closest('#notebook-container');\n",
       "if (notebookContainer) {{\n",
       "    x.observe(notebookContainer, {childList: true});\n",
       "}}\n",
       "\n",
       "// Listen for the clearing of the current output cell\n",
       "var outputEl = gd.closest('.output');\n",
       "if (outputEl) {{\n",
       "    x.observe(outputEl, {childList: true});\n",
       "}}\n",
       "\n",
       "                        })                };                });            </script>        </div>"
      ]
     },
     "metadata": {},
     "output_type": "display_data"
    }
   ],
   "source": [
    "data = [go.Bar(\n",
    "            x = train[\"target\"].value_counts().index.values,\n",
    "            y = train[\"target\"].value_counts().values,\n",
    "            text='Distribution of target variable'\n",
    "    )]\n",
    "\n",
    "layout = go.Layout(\n",
    "    title='Target variable distribution'\n",
    ")\n",
    "\n",
    "fig = go.Figure(data=data, layout=layout)\n",
    "\n",
    "py.iplot(fig, filename='basic-bar')"
   ]
  },
  {
   "cell_type": "code",
   "execution_count": 9,
   "metadata": {},
   "outputs": [
    {
     "data": {
      "text/plain": [
       "Counter({dtype('int64'): 49, dtype('float64'): 10})"
      ]
     },
     "execution_count": 9,
     "metadata": {},
     "output_type": "execute_result"
    }
   ],
   "source": [
    "Counter(train.dtypes.values)"
   ]
  },
  {
   "cell_type": "code",
   "execution_count": 10,
   "metadata": {},
   "outputs": [],
   "source": [
    "train_float = train.select_dtypes(include=['float64'])\n",
    "train_int = train.select_dtypes(include=['int64'])"
   ]
  },
  {
   "cell_type": "code",
   "execution_count": 11,
   "metadata": {},
   "outputs": [
    {
     "data": {
      "text/plain": [
       "<AxesSubplot:title={'center':'Pearson correlation of continuous features'}>"
      ]
     },
     "execution_count": 11,
     "metadata": {},
     "output_type": "execute_result"
    },
    {
     "data": {
      "image/png": "[encoded data removed]",
      "text/plain": [
       "<Figure size 1152x864 with 2 Axes>"
      ]
     },
     "metadata": {
      "needs_background": "light"
     },
     "output_type": "display_data"
    }
   ],
   "source": [
    "colormap = plt.cm.magma\n",
    "plt.figure(figsize=(16,12))\n",
    "plt.title('Pearson correlation of continuous features', y=1.05, size=15)\n",
    "sns.heatmap(train_float.corr(), linewidths=0.1, vmax=1.0, square=True, cmap=colormap, linecolor='white',annot=True)"
   ]
  },
  {
   "cell_type": "code",
   "execution_count": 12,
   "metadata": {},
   "outputs": [
    {
     "data": {
      "application/vnd.plotly.v1+json": {
       "config": {
        "linkText": "Export to plot.ly",
        "plotlyServerURL": "https://plot.ly",
        "showLink": false
       },
       "data": [
        {
         "colorscale": [
          [
           0,
           "#440154"
          ],
          [
           0.1111111111111111,
           "#482878"
          ],
          [
           0.2222222222222222,
           "#3e4989"
          ],
          [
           0.3333333333333333,
           "#31688e"
          ],
          [
           0.4444444444444444,
           "#26828e"
          ],
          [
           0.5555555555555556,
           "#1f9e89"
          ],
          [
           0.6666666666666666,
           "#35b779"
          ],
          [
           0.7777777777777778,
           "#6ece58"
          ],
          [
           0.8888888888888888,
           "#b5de2b"
          ],
          [
           1,
           "#fde725"
          ]
         ],
         "opacity": 1,
         "reversescale": false,
         "type": "heatmap",
         "x": [
          "id",
          "target",
          "ps_ind_01",
          "ps_ind_02_cat",
          "ps_ind_03",
          "ps_ind_04_cat",
          "ps_ind_05_cat",
          "ps_ind_06_bin",
          "ps_ind_07_bin",
          "ps_ind_08_bin",
          "ps_ind_09_bin",
          "ps_ind_10_bin",
          "ps_ind_11_bin",
          "ps_ind_12_bin",
          "ps_ind_13_bin",
          "ps_ind_14",
          "ps_ind_15",
          "ps_ind_16_bin",
          "ps_ind_17_bin",
          "ps_ind_18_bin",
          "ps_car_01_cat",
          "ps_car_02_cat",
          "ps_car_03_cat",
          "ps_car_04_cat",
          "ps_car_05_cat",
          "ps_car_06_cat",
          "ps_car_07_cat",
          "ps_car_08_cat",
          "ps_car_09_cat",
          "ps_car_10_cat",
          "ps_car_11_cat",
          "ps_car_11",
          "ps_calc_04",
          "ps_calc_05",
          "ps_calc_06",
          "ps_calc_07",
          "ps_calc_08",
          "ps_calc_09",
          "ps_calc_10",
          "ps_calc_11",
          "ps_calc_12",
          "ps_calc_13",
          "ps_calc_14",
          "ps_calc_15_bin",
          "ps_calc_16_bin",
          "ps_calc_17_bin",
          "ps_calc_18_bin",
          "ps_calc_19_bin",
          "ps_calc_20_bin"
         ],
         "y": [
          "id",
          "target",
          "ps_ind_01",
          "ps_ind_02_cat",
          "ps_ind_03",
          "ps_ind_04_cat",
          "ps_ind_05_cat",
          "ps_ind_06_bin",
          "ps_ind_07_bin",
          "ps_ind_08_bin",
          "ps_ind_09_bin",
          "ps_ind_10_bin",
          "ps_ind_11_bin",
          "ps_ind_12_bin",
          "ps_ind_13_bin",
          "ps_ind_14",
          "ps_ind_15",
          "ps_ind_16_bin",
          "ps_ind_17_bin",
          "ps_ind_18_bin",
          "ps_car_01_cat",
          "ps_car_02_cat",
          "ps_car_03_cat",
          "ps_car_04_cat",
          "ps_car_05_cat",
          "ps_car_06_cat",
          "ps_car_07_cat",
          "ps_car_08_cat",
          "ps_car_09_cat",
          "ps_car_10_cat",
          "ps_car_11_cat",
          "ps_car_11",
          "ps_calc_04",
          "ps_calc_05",
          "ps_calc_06",
          "ps_calc_07",
          "ps_calc_08",
          "ps_calc_09",
          "ps_calc_10",
          "ps_calc_11",
          "ps_calc_12",
          "ps_calc_13",
          "ps_calc_14",
          "ps_calc_15_bin",
          "ps_calc_16_bin",
          "ps_calc_17_bin",
          "ps_calc_18_bin",
          "ps_calc_19_bin",
          "ps_calc_20_bin"
         ],
         "z": [
          [
           1,
           0.01058726736144037,
           0.018060817366668463,
           0.014161895100018347,
           0.005599043776799584,
           0.005932992911399255,
           0.009646726153173362,
           -0.019076745611376855,
           0.01276433782714577,
           0.009676548381639052,
           0.0005191947047874936,
           0.011754486273544413,
           0.010684064429687957,
           0.0036576371113556288,
           0.030697368020668137,
           0.014928973118981555,
           0.009088894669745882,
           0.001087966604202796,
           0.004523611928473847,
           -0.0072701225471741415,
           0.013158473631324327,
           -0.012216738179946104,
           0.019882000819774162,
           0.00577794474442197,
           0.005926125574078121,
           0.0032984007258573442,
           -0.005887526623200731,
           -0.011376685850645918,
           0.0013924472770638296,
           -0.01549703769487104,
           -0.023813867452201685,
           -0.01897237715063843,
           0.013503527246185115,
           -0.003921733628142735,
           -0.014823077402537714,
           0.015393146366265289,
           -0.003736054724106672,
           0.006068950769303836,
           0.007178159218177098,
           0.011006690372968097,
           -0.01937243855787327,
           0.00882230092351001,
           -0.00965343371668132,
           -0.00048354666841699684,
           -0.0012628152060748033,
           0.002435812248483843,
           0.0030243739380476885,
           0.006351763523311996,
           0.005568936506102859
          ],
          [
           0.01058726736144037,
           1,
           0.02194860626764602,
           0.005858346139795664,
           0.004156493958893907,
           0.019923843991616067,
           0.035210857500769396,
           -0.04345080333673811,
           0.05109786587553302,
           0.019685408514211,
           -0.021093835283635967,
           -0.004863125197518824,
           -0.008428241426333456,
           0.007555342348367049,
           -0.00595698179542252,
           0.0005770408008580106,
           -0.03645097780109412,
           -0.02517503217453147,
           0.03212491427742838,
           0.009660354116694716,
           -0.0006353792292135586,
           -0.05475747145392681,
           0.01860756232008892,
           0.03813607206061216,
           0.02745930663061022,
           0.0318861535417119,
           -0.03147493905532574,
           -0.019262598672492748,
           -0.016030648309844304,
           0.01623464154177883,
           -0.02151059472516358,
           0.0020302083835024836,
           0.02291528136867004,
           0.0043538061363817895,
           0.009052534257690408,
           -0.0010007918354119532,
           -0.00671519862999251,
           0.004296155866167958,
           0.003807703524191122,
           -0.00794188277414339,
           -0.0002265744287807727,
           0.012078222272109335,
           0.00649261153815768,
           0.00744871082980294,
           -0.0023129763112049377,
           0.005619508275666679,
           -0.0036526760888617323,
           -0.013244509788068386,
           0.003374504990481269
          ],
          [
           0.018060817366668463,
           0.02194860626764602,
           1,
           -0.018184682086328105,
           0.21601781575676188,
           0.05668626903389774,
           0.021947534951288126,
           -0.27305590743778896,
           -0.011698089952767995,
           0.20117248973859203,
           0.16472850305158593,
           0.015632399831928594,
           -0.013378830052797651,
           -0.031577398902241725,
           -0.0035668222764968158,
           -0.024839742117638713,
           0.13749955735348748,
           0.04745731050518354,
           0.10488069425924783,
           -0.12222814857944626,
           -0.06313503299575239,
           -0.11751535447111938,
           0.03308191635086761,
           0.0827893352240289,
           0.1994265527705763,
           0.05189726823618464,
           0.0026532224542877513,
           0.1354971120579493,
           -0.0967201526985597,
           0.008001080982667285,
           0.0063322150486825445,
           0.004010276486208185,
           -0.004806214885914537,
           -0.01570219658787181,
           -0.005850707629668268,
           0.002035141944900636,
           0.012783459690659539,
           0.011569914304445166,
           -0.010363033484545096,
           -0.001040273126020623,
           0.0187230249547858,
           -0.011756411900580162,
           0.000526633021117893,
           -0.006556469485401224,
           -0.013061548414732732,
           -0.01511820956786853,
           0.003148778361711434,
           0.02924939590733193,
           0.0015894195686026035
          ],
          [
           0.014161895100018347,
           0.005858346139795664,
           -0.018184682086328105,
           1,
           -0.07885005349920175,
           0.14371054423287496,
           0.005099559797308399,
           -0.11847627420868041,
           0.016582233238663206,
           0.0317047213833252,
           0.09958255754866085,
           -0.00704297522635595,
           0.005768375471552693,
           -0.007467173195407979,
           0.009158684896193843,
           -0.0027966394032521323,
           0.0043298393561698985,
           0.0013961368221411482,
           -0.008391588364725302,
           0.0038345969897336527,
           0.011405462274080338,
           0.04302249065188724,
           -0.00643702433030089,
           -0.07497469844043711,
           -0.027052867622923735,
           -0.02035446047088296,
           -0.01062699964168461,
           -0.006955502679726164,
           0.003992406908156718,
           0.02004938429042135,
           0.024959202678681076,
           0.01019912280088731,
           -0.0017863710429452337,
           0.0037473061475124035,
           0.0007402027762224236,
           -0.00990165836352682,
           0.00722245961285022,
           -0.0006703384701473779,
           0.0006062538327914494,
           0.020111983015916487,
           -0.004890663626692986,
           -0.012679400712368963,
           0.015014565585175327,
           -0.005723959553100109,
           0.008766915653527864,
           -0.0016419094204129009,
           -0.0029001428896415996,
           0.000431248153075017,
           -0.007163542783521208
          ],
          [
           0.005599043776799584,
           0.004156493958893907,
           0.21601781575676188,
           -0.07885005349920175,
           1,
           -0.09488064533203161,
           0.0444771061899462,
           -0.03956025232905831,
           -0.07613615426071636,
           0.01303797629690893,
           0.12175466153451636,
           0.006865161266072767,
           -0.00034004142537816175,
           -0.007256624864738995,
           0.00037749633742538815,
           -0.003990657270352853,
           0.1707451931533995,
           0.0060401667611224875,
           0.0038660353225084096,
           -0.005436846351212686,
           -0.022939412393481,
           -0.042893589261064756,
           0.08389811045669178,
           0.07236201461175552,
           0.1432734940723495,
           0.004032127245831889,
           0.07537546521566592,
           0.006459010754726861,
           -0.009993559279075552,
           -0.01702480214814073,
           -0.016353129674417804,
           -0.07260210019917389,
           -0.0191062029279884,
           -0.00039802591323993825,
           -0.00343509602177159,
           0.012221820373379495,
           0.0024464225706894386,
           -0.009420269313029212,
           -0.0005118340364800163,
           0.002142571108327322,
           -0.0012506245759783352,
           -0.005014636297837565,
           0.007475391884979876,
           0.0061322786608868415,
           0.004798688967452346,
           0.0009221061921489273,
           0.027510106685062662,
           0.00012126368700327775,
           -0.016436622764380647
          ],
          [
           0.005932992911399255,
           0.019923843991616067,
           0.05668626903389774,
           0.14371054423287496,
           -0.09488064533203161,
           1,
           0.009102439085098082,
           -0.2889786831257978,
           0.3146601017252362,
           0.039898094249911614,
           -0.026831413798710443,
           -0.004054647224255185,
           0.01690384391468198,
           -0.011326192134085932,
           -0.011732290585030117,
           -0.006170403452547115,
           0.07331734733345903,
           0.01801748071897435,
           0.012879691874660723,
           -0.028942872160181946,
           0.0040669025930101495,
           0.00005772353711161294,
           0.030109113955873932,
           -0.039586033794097364,
           0.0688590316071943,
           0.024807322135576553,
           0.031938687538583,
           -0.01144419078355623,
           -0.035267028283924674,
           0.0204501175679691,
           -0.02215145622999855,
           0.060884027868248224,
           0.013218924923066715,
           -0.004112849760615797,
           0.017839964691943558,
           0.010362779853923317,
           -0.0020154155889355514,
           0.017342988986654713,
           0.013407947954372248,
           0.0020024609173588874,
           0.006293765232330089,
           -0.0033406248984080397,
           0.006084597947376114,
           -0.007240670241188875,
           0.0028172625070637027,
           0.0015457925242140884,
           0.0012870658861499232,
           0.008844882274439182,
           -0.015853357287718934
          ],
          [
           0.009646726153173362,
           0.035210857500769396,
           0.021947534951288126,
           0.005099559797308399,
           0.0444771061899462,
           0.009102439085098082,
           1,
           -0.003103318895375096,
           -0.0017484140233087187,
           0.006775942897522457,
           -0.0005471847364345695,
           0.0016162376267426792,
           0.009732757869365097,
           0.009867602038309104,
           0.005654192970075295,
           0.011691804731496459,
           0.007686011866842271,
           -0.002310501826582593,
           0.005271039890963962,
           0.00045646729609864376,
           -0.028134344376696215,
           -0.0015332383332940865,
           -0.02096096240801129,
           -0.0013157333207592817,
           0.0012473622111817868,
           -0.01570381283539008,
           0.03987043445492366,
           0.01857973180112111,
           -0.02108981726733055,
           0.0029494384132510484,
           -0.004540724121577228,
           -0.003824272927464189,
           0.0010822241491058918,
           -0.004201309907834541,
           -0.012674848376954687,
           -0.022352118673104892,
           0.004481122289365524,
           0.0022881519744807504,
           0.011524930938438347,
           0.015901966268169265,
           0.003982772701231231,
           0.004657750926319966,
           -0.009818338129756705,
           -0.015098056071217891,
           -0.000032591352760701374,
           0.007992912562340273,
           -0.008881102258951234,
           -0.008030515070356637,
           -0.0024347949692715134
          ],
          [
           -0.019076745611376855,
           -0.04345080333673811,
           -0.27305590743778896,
           -0.11847627420868041,
           -0.03956025232905831,
           -0.2889786831257978,
           -0.003103318895375096,
           1,
           -0.4718368301681489,
           -0.3541862263802888,
           -0.39025099567182536,
           -0.019781685128987477,
           -0.010149699497343827,
           -0.020009678428371525,
           -0.017408167958244444,
           -0.025012036884496335,
           0.014480029305008914,
           0.035165668193787115,
           -0.03926171141236536,
           -0.012965526342187733,
           -0.07423244208640903,
           0.1382355416126314,
           -0.06387614675945832,
           -0.19600949378800311,
           -0.16162280318972375,
           -0.05737389720252024,
           0.06435618094337649,
           0.03133688041892358,
           0.095563470824729,
           -0.026936392327858584,
           -0.03666287998240799,
           0.024121499475772013,
           -0.02581291882809945,
           0.005771795375246649,
           -0.003560408469226113,
           0.005651621516959116,
           0.010843234675263875,
           -0.0055299858760023525,
           0.005961774747337003,
           0.0023584176122685313,
           -0.0036112013124343445,
           0.010457689724404466,
           -0.007317637293926119,
           0.013953327936949604,
           0.017330814963609706,
           -0.01105915641679183,
           -0.018831407031906607,
           0.004806039470453818,
           0.02045285042413369
          ],
          [
           0.01276433782714577,
           0.05109786587553302,
           -0.011698089952767995,
           0.016582233238663206,
           -0.07613615426071636,
           0.3146601017252362,
           -0.0017484140233087187,
           -0.4718368301681489,
           1,
           -0.25639458079309757,
           -0.2825017829234694,
           0.00442833734368404,
           0.029336340694066283,
           0.05398454732283167,
           0.028389671409559784,
           0.05509402730356733,
           -0.12918953643360595,
           -0.07977259975014525,
           0.01136948476300099,
           0.09214515698599866,
           0.06151706947319174,
           -0.15515430538371452,
           0.10558388483795172,
           0.20159552174680476,
           0.08780035994221894,
           0.02808630603435476,
           -0.082858164391406,
           -0.13812415131848,
           -0.050493198734218626,
           0.02694186061855363,
           0.03860962932301362,
           0.07396056586441928,
           0.016005405260427392,
           -0.008288594898785452,
           0.005808257508359039,
           0.00029572215132037734,
           -0.017346431117599308,
           0.015083427096759913,
           0.00221613852779374,
           0.0051394147032346104,
           -0.0006388397707944147,
           -0.019754254048872863,
           0.01054654058364618,
           -0.011627634369480366,
           -0.015078334318265748,
           0.012970937076162904,
           0.009747367091643555,
           0.006877874196474066,
           -0.002615124808271618
          ],
          [
           0.009676548381639052,
           0.019685408514211,
           0.20117248973859203,
           0.0317047213833252,
           0.01303797629690893,
           0.039898094249911614,
           0.006775942897522457,
           -0.3541862263802888,
           -0.25639458079309757,
           1,
           -0.21206110681039525,
           0.011450826687057297,
           -0.005804573512696019,
           -0.0009330952888383882,
           -0.004102604208427893,
           -0.001326848407365893,
           0.04026891116370827,
           -0.0033447211665977353,
           0.06012961184942268,
           -0.04758747498362065,
           0.003474073880707213,
           -0.04360011585868705,
           0.008834301189064009,
           0.10066166354795296,
           0.04692368499172165,
           0.05938301313119714,
           -0.0215135604061425,
           0.0539211048341053,
           -0.008715710700904829,
           0.020444758485344702,
           0.05597650766001523,
           -0.06744022376149589,
           0.015450511204733442,
           -0.012202212888495594,
           0.006098012814845082,
           0.003828650963028,
           0.009063649062623426,
           0.0019605665556889536,
           -0.009368114805697955,
           -0.004934660097798262,
           -0.01007737058199201,
           -0.011139968385251392,
           -0.009740400592581303,
           -0.001996252265640231,
           -0.004547255123093159,
           0.005791893632321208,
           -0.004015653043644485,
           -0.01724692812979331,
           -0.005145393538269779
          ],
          [
           0.0005191947047874936,
           -0.021093835283635967,
           0.16472850305158593,
           0.09958255754866085,
           0.12175466153451636,
           -0.026831413798710443,
           -0.0005471847364345695,
           -0.39025099567182536,
           -0.2825017829234694,
           -0.21206110681039525,
           1,
           0.009000653623959914,
           -0.01450556108082182,
           -0.03418433287459224,
           -0.005996855960957392,
           -0.028808202680738294,
           0.08776188704887332,
           0.04796673151922059,
           -0.020123413881806867,
           -0.04159310502356782,
           0.02094047191708477,
           0.04100452977170384,
           -0.04600483124865038,
           -0.0741481254852925,
           0.05993296612588559,
           -0.015415157867609238,
           0.032044361204520616,
           0.06384967724494077,
           -0.05488373143849498,
           -0.015550036594408616,
           -0.04975157059173861,
           -0.048997269307481946,
           -0.00010292080843615036,
           0.013472688585234921,
           -0.007742060990243764,
           -0.01097348879781242,
           -0.002750121225157491,
           -0.011712636589659138,
           -0.0011045967852393928,
           -0.004022618966663764,
           0.014676892705777315,
           0.01937775025068567,
           0.006547896825255099,
           -0.0026033363599181716,
           -0.0005846697401150911,
           -0.006064220321239477,
           0.01642355568716899,
           0.0025518051365408475,
           -0.0177742116169667
          ],
          [
           0.011754486273544413,
           -0.004863125197518824,
           0.015632399831928594,
           -0.00704297522635595,
           0.006865161266072767,
           -0.004054647224255185,
           0.0016162376267426792,
           -0.019781685128987477,
           0.00442833734368404,
           0.011450826687057297,
           0.009000653623959914,
           1,
           0.0953001917851842,
           0.2080924244552653,
           0.13544950521898397,
           0.39080316367990836,
           -0.01504929746456478,
           -0.025629476254024456,
           0.003404803945083985,
           0.035637103308530114,
           0.013402245962846986,
           -0.032609905323069385,
           0.04129778938500249,
           0.01049255015425728,
           0.01877586941392507,
           0.016178101273057324,
           -0.04113483052908757,
           0.00017854425640325677,
           0.016977386594582644,
           0.0020041912368989594,
           -0.014244710623760969,
           -0.010251699683545994,
           -0.0007142205556107916,
           -0.004660711210346556,
           0.008370681759078543,
           0.0055515882185716205,
           -0.011917449934197636,
           0.009386897854289332,
           0.006474468209213807,
           -0.003119791313022606,
           0.028473967760412052,
           -0.0030277891323079106,
           -0.003333276164487653,
           0.01546039162602774,
           -0.005939938517407886,
           -0.019334386174155446,
           0.01094974322534363,
           0.02439318543939047,
           0.0008038397411375409
          ],
          [
           0.010684064429687957,
           -0.008428241426333456,
           -0.013378830052797651,
           0.005768375471552693,
           -0.00034004142537816175,
           0.01690384391468198,
           0.009732757869365097,
           -0.010149699497343827,
           0.029336340694066283,
           -0.005804573512696019,
           -0.01450556108082182,
           0.0953001917851842,
           1,
           0.33632310102689206,
           0.1560727621101197,
           0.6074184261221443,
           -0.05534447342811855,
           -0.05438999498563474,
           -0.0013252676057053435,
           0.07501637504883696,
           0.0006819960462854064,
           -0.018699992468330803,
           0.04476720960277531,
           0.01601585040534988,
           0.02139483588786965,
           0.013379969861257616,
           -0.00971283862479772,
           0.0003094335508819351,
           0.03183361593711322,
           -0.023327841554257975,
           0.012802298920313105,
           0.004943547789160111,
           0.011549480076085852,
           0.01657520650460558,
           -0.011931021959028126,
           0.002904893693701704,
           0.008305631635864301,
           -0.008040680621247843,
           -0.00195032055649275,
           -0.00845507676272999,
           0.002057151656109825,
           -0.0010312733597359618,
           -0.0023638557152638336,
           -0.008897161171251906,
           0.009125383136079038,
           -0.0050027222680179674,
           -0.0016951050717808431,
           0.012722584034794591,
           0.0013931279025769419
          ],
          [
           0.0036576371113556288,
           0.007555342348367049,
           -0.031577398902241725,
           -0.007467173195407979,
           -0.007256624864738995,
           -0.011326192134085932,
           0.009867602038309104,
           -0.020009678428371525,
           0.05398454732283167,
           -0.0009330952888383882,
           -0.03418433287459224,
           0.2080924244552653,
           0.33632310102689206,
           1,
           0.1689524767273918,
           0.8991467099938738,
           -0.11822572231843306,
           -0.10425529608733973,
           0.014135098285495955,
           0.12989108160007284,
           0.011561414839430368,
           -0.030274456296721985,
           0.12189918703993165,
           0.014771750485783957,
           0.059826558200375295,
           0.0066704936647759665,
           -0.04083711755164732,
           -0.016233989543302397,
           0.053112704190459666,
           -0.015412303639963718,
           0.01590839265751809,
           -0.006241567426317351,
           0.0076998757181664206,
           0.006208145272104786,
           -0.014936240208852442,
           -0.014986568343948809,
           0.008960885344831361,
           0.0006128322512826048,
           0.0065133852843950995,
           -0.015059612147465217,
           0.015507275999682898,
           0.014100464698060658,
           0.0027717690148903835,
           -0.027624066963828582,
           0.007020021322258225,
           -0.010499531145750121,
           -0.002529279330768872,
           0.002437502811993283,
           -0.007712115538881922
          ],
          [
           0.030697368020668137,
           -0.00595698179542252,
           -0.0035668222764968158,
           0.009158684896193843,
           0.00037749633742538815,
           -0.011732290585030117,
           0.005654192970075295,
           -0.017408167958244444,
           0.028389671409559784,
           -0.004102604208427893,
           -0.005996855960957392,
           0.13544950521898397,
           0.1560727621101197,
           0.1689524767273918,
           1,
           0.41696873263211304,
           -0.04052699293407929,
           -0.04196617103865431,
           0.009277967915805789,
           0.053020690547412624,
           0.011105206385539631,
           -0.004307642615967808,
           0.04006134206850855,
           0.022049496443274898,
           0.01709098904843158,
           -0.0018175475373444266,
           -0.0117007328519248,
           -0.004226499060785006,
           0.020796088681693473,
           0.0024549914361329454,
           0.01430751417769268,
           0.007506952088046286,
           0.008163036519679789,
           0.00881112746907911,
           -0.010924198422648291,
           -0.002694010619088175,
           -0.006638113171986846,
           0.004890073491502428,
           -0.012433169188919109,
           0.004078042428020781,
           0.00006127845301733624,
           0.010197532960697349,
           0.0013446050784613878,
           -0.0012431514087547426,
           0.00301828466689048,
           -0.013609555192671353,
           0.009759971260532093,
           -0.001451698012995521,
           -0.003625121379593183
          ],
          [
           0.014928973118981555,
           0.0005770408008580106,
           -0.024839742117638713,
           -0.0027966394032521323,
           -0.003990657270352853,
           -0.006170403452547115,
           0.011691804731496459,
           -0.025012036884496335,
           0.05509402730356733,
           -0.001326848407365893,
           -0.028808202680738294,
           0.39080316367990836,
           0.6074184261221443,
           0.8991467099938738,
           0.41696873263211304,
           1,
           -0.11402500503351792,
           -0.10592818414608979,
           0.012415255061979448,
           0.1350869179555106,
           0.013415188821312853,
           -0.03448652544123504,
           0.11799998823281167,
           0.02243701330017872,
           0.0568905104847129,
           0.011521485832376444,
           -0.04244051303862078,
           -0.012470324745643711,
           0.0558410087190228,
           -0.017484899748512712,
           0.016039950999443164,
           -0.003123783274525451,
           0.01083942851719756,
           0.0107736857171834,
           -0.015382021759200134,
           -0.009444967857412822,
           0.005408851308439556,
           0.0007043425753144773,
           0.0024797566108059393,
           -0.013131876023202628,
           0.016961917619208677,
           0.01152040603826219,
           0.0009431849224706478,
           -0.02010841216867676,
           0.007500156463612403,
           -0.015640442609871078,
           0.0018038727798083763,
           0.009845376188590703,
           -0.005761743264171208
          ],
          [
           0.009088894669745882,
           -0.03645097780109412,
           0.13749955735348748,
           0.0043298393561698985,
           0.1707451931533995,
           0.07331734733345903,
           0.007686011866842271,
           0.014480029305008914,
           -0.12918953643360595,
           0.04026891116370827,
           0.08776188704887332,
           -0.01504929746456478,
           -0.05534447342811855,
           -0.11822572231843306,
           -0.04052699293407929,
           -0.11402500503351792,
           1,
           0.30890724444047607,
           -0.0237433017496812,
           -0.4486333042794649,
           0.013391490031873884,
           0.008209139393891658,
           0.05039168389607462,
           -0.04705757139926631,
           0.03569160628318114,
           -0.00988168150557742,
           0.07311320159597297,
           0.035781508319640505,
           0.0447430243574875,
           0.004761928011159235,
           -0.014994812748889126,
           0.028428788515480894,
           -0.005979212986695979,
           0.0038754155489485343,
           -0.0007427923751643857,
           -0.002584550082419286,
           -0.00004600220457652777,
           -0.0009809347234557117,
           -0.002046727210366974,
           0.0004639971821233505,
           0.007966363486217687,
           -0.0006741240761285179,
           -0.008134684865803684,
           0.0032363220542963992,
           -0.0041701552290046295,
           -0.009427394296128088,
           -0.0032349879599093577,
           0.008807972953575563,
           0.00072643065497905
          ],
          [
           0.001087966604202796,
           -0.02517503217453147,
           0.04745731050518354,
           0.0013961368221411482,
           0.0060401667611224875,
           0.01801748071897435,
           -0.002310501826582593,
           0.035165668193787115,
           -0.07977259975014525,
           -0.0033447211665977353,
           0.04796673151922059,
           -0.025629476254024456,
           -0.05438999498563474,
           -0.10425529608733973,
           -0.04196617103865431,
           -0.10592818414608979,
           0.30890724444047607,
           1,
           -0.5195085007289164,
           -0.5848434423930696,
           -0.0010509214011007852,
           0.01908188598534677,
           -0.06130228042819916,
           -0.03319883540818456,
           -0.0652840558675852,
           0.007893619557429524,
           0.056319133807836215,
           0.029720777424691786,
           0.010789813877946045,
           -0.0008758759751619495,
           -0.0185468067186386,
           0.015161458015571797,
           -0.013710139449800015,
           -0.0005192898680562558,
           -0.011430188313067385,
           -0.009964065511512594,
           -0.013336483067572532,
           -0.002613250635974456,
           0.009617140193051767,
           0.0064101622392910215,
           -0.0005775787624570245,
           -0.011336805552091912,
           -0.006433407954074042,
           -0.0023512355221924647,
           -0.0018983755415358419,
           -0.011932355482942858,
           -0.0006185308245026228,
           -0.0086502314070969,
           0.01568397492764986
          ],
          [
           0.004523611928473847,
           0.03212491427742838,
           0.10488069425924783,
           -0.008391588364725302,
           0.0038660353225084096,
           0.012879691874660723,
           0.005271039890963962,
           -0.03926171141236536,
           0.01136948476300099,
           0.06012961184942268,
           -0.020123413881806867,
           0.003404803945083985,
           -0.0013252676057053435,
           0.014135098285495955,
           0.009277967915805789,
           0.012415255061979448,
           -0.0237433017496812,
           -0.5195085007289164,
           1,
           -0.15540577047839949,
           0.054103116703073995,
           -0.06269037026014895,
           0.13285664408485653,
           0.03216218065813515,
           0.07361816887271325,
           0.0298058024464937,
           -0.04752443050390076,
           -0.002872551109446398,
           0.07218089661171001,
           -0.011366306505264477,
           0.00703920676204209,
           0.01004014597912497,
           0.01204432060325517,
           -0.006301911914077008,
           0.015903974761393668,
           0.013038149515633205,
           -0.009527756345940191,
           0.011762847310120592,
           -0.018127172911081117,
           -0.02252821603236813,
           0.0012418235875088022,
           0.009071784132987697,
           0.00704397686747528,
           -0.0012812151467659501,
           -0.00024671798780578864,
           -0.003368253386674414,
           -0.0027161741087634405,
           0.00931473794421619,
           -0.01928381105856891
          ],
          [
           -0.0072701225471741415,
           0.009660354116694716,
           -0.12222814857944626,
           0.0038345969897336527,
           -0.005436846351212686,
           -0.028942872160181946,
           0.00045646729609864376,
           -0.012965526342187733,
           0.09214515698599866,
           -0.04758747498362065,
           -0.04159310502356782,
           0.035637103308530114,
           0.07501637504883696,
           0.12989108160007284,
           0.053020690547412624,
           0.1350869179555106,
           -0.4486333042794649,
           -0.5848434423930696,
           -0.15540577047839949,
           1,
           -0.04600309491876747,
           0.032192383689655116,
           -0.015947823908901843,
           0.0131161533139537,
           0.009808374951720664,
           -0.017572278264355517,
           -0.027915695300522316,
           -0.02753121379889048,
           -0.03821588265239145,
           0.0023002648530230717,
           0.02321313028758247,
           -0.02897721222509013,
           0.0039642420063148295,
           -0.009763687002675932,
           -0.00698791444730727,
           0.006730853694722598,
           0.012173379348044919,
           -0.006935691999401606,
           0.0034702170352956313,
           0.007214927241803544,
           -0.0009708758279438392,
           -0.0005915352303086416,
           -0.00510319470419587,
           0.004396702657972141,
           -0.0011007929091215955,
           0.017193572641834343,
           0.006926506644864998,
           -0.003418338874319539,
           0.002720272897126032
          ],
          [
           0.013158473631324327,
           -0.0006353792292135586,
           -0.06313503299575239,
           0.011405462274080338,
           -0.022939412393481,
           0.0040669025930101495,
           -0.028134344376696215,
           -0.07423244208640903,
           0.06151706947319174,
           0.003474073880707213,
           0.02094047191708477,
           0.013402245962846986,
           0.0006819960462854064,
           0.011561414839430368,
           0.011105206385539631,
           0.013415188821312853,
           0.013391490031873884,
           -0.0010509214011007852,
           0.054103116703073995,
           -0.04600309491876747,
           1,
           -0.14353773974010017,
           0.13321765197624943,
           0.06792793767758007,
           -0.1481917894292511,
           0.0557102484791568,
           -0.0006635613942662982,
           -0.06248857998946506,
           0.274361423324469,
           0.00863840153666489,
           0.008719812927482473,
           0.10772536661960523,
           0.004560940576714545,
           -0.003930178748298414,
           -0.008583899887013987,
           -0.007480680627867626,
           -0.013243040393036377,
           -0.0036769319199188555,
           0.006911876993387075,
           -0.0032505365083384413,
           -0.007052772497432311,
           0.01297265888216677,
           0.0008150786751205128,
           0.0035345181923789742,
           0.008509631444075341,
           0.016807156614483194,
           0.004947596898841485,
           0.020738552578774213,
           0.007093386466973748
          ],
          [
           -0.012216738179946104,
           -0.05475747145392681,
           -0.11751535447111938,
           0.04302249065188724,
           -0.042893589261064756,
           0.00005772353711161294,
           -0.0015332383332940865,
           0.1382355416126314,
           -0.15515430538371452,
           -0.04360011585868705,
           0.04100452977170384,
           -0.032609905323069385,
           -0.018699992468330803,
           -0.030274456296721985,
           -0.004307642615967808,
           -0.03448652544123504,
           0.008209139393891658,
           0.01908188598534677,
           -0.06269037026014895,
           0.032192383689655116,
           -0.14353773974010017,
           1,
           -0.11345086661628923,
           -0.27733735319565783,
           -0.10214860664913077,
           -0.2604249173709238,
           0.09921959769551363,
           0.022478483554362907,
           -0.005122369167057571,
           -0.02164616501855087,
           0.00536719767403085,
           -0.09712734889945722,
           0.004594274148531758,
           0.010793278569236103,
           -0.010510983564912044,
           0.015074202575317146,
           0.0004084797934395089,
           0.012652496390926424,
           0.018629383284437424,
           -0.008747595345032583,
           0.0028495131414692457,
           0.007935042480303453,
           0.00044621726563926986,
           0.00346627288695016,
           0.011541815642787074,
           0.0021910539482585243,
           -0.008333870061452281,
           -0.004070417732063738,
           -0.004551194461324724
          ],
          [
           0.019882000819774162,
           0.01860756232008892,
           0.03308191635086761,
           -0.00643702433030089,
           0.08389811045669178,
           0.030109113955873932,
           -0.02096096240801129,
           -0.06387614675945832,
           0.10558388483795172,
           0.008834301189064009,
           -0.04600483124865038,
           0.04129778938500249,
           0.04476720960277531,
           0.12189918703993165,
           0.04006134206850855,
           0.11799998823281167,
           0.05039168389607462,
           -0.06130228042819916,
           0.13285664408485653,
           -0.015947823908901843,
           0.13321765197624943,
           -0.11345086661628923,
           1,
           0.09809732782071827,
           0.47916634731169944,
           0.026795408043603336,
           -0.1513985453847149,
           -0.25541657064416756,
           0.2759574772454625,
           0.021338423535004165,
           0.013626015338964235,
           0.09455645128964657,
           -0.0007738166735248299,
           0.0199592597468276,
           -0.0014091930380247275,
           -0.0022235422048091894,
           0.012451921159792113,
           0.01680653340746653,
           -0.007799197967901708,
           -0.009061008487430623,
           -0.0006839376845140168,
           -0.001702754541390564,
           -0.007660776314534791,
           -0.0045375951165220205,
           0.00039039373023135965,
           0.016016013772256966,
           -0.007181829002130235,
           -0.016458267511510947,
           -0.015485929874722467
          ],
          [
           0.00577794474442197,
           0.03813607206061216,
           0.0827893352240289,
           -0.07497469844043711,
           0.07236201461175552,
           -0.039586033794097364,
           -0.0013157333207592817,
           -0.19600949378800311,
           0.20159552174680476,
           0.10066166354795296,
           -0.0741481254852925,
           0.01049255015425728,
           0.01601585040534988,
           0.014771750485783957,
           0.022049496443274898,
           0.02243701330017872,
           -0.04705757139926631,
           -0.03319883540818456,
           0.03216218065813515,
           0.0131161533139537,
           0.06792793767758007,
           -0.27733735319565783,
           0.09809732782071827,
           1,
           0.1520954898048471,
           0.20725281123603478,
           -0.19364519681754552,
           -0.06076657281586378,
           -0.05288697600391124,
           0.0020469221261309543,
           0.06593484997483812,
           -0.05373843900306957,
           0.005723505416076462,
           0.009746924219897294,
           -0.000209130401322314,
           -0.006289412334987032,
           0.020217471546463625,
           -0.0010747462823085835,
           -0.02061092093932031,
           0.012156716717675518,
           0.011106413118935624,
           0.0010504874616125948,
           -0.0015723070970203575,
           0.003437969843566659,
           -0.0008352297478094928,
           0.009258617894789857,
           0.008699536228741174,
           0.006115336299435938,
           -0.0050549178272657124
          ],
          [
           0.005926125574078121,
           0.02745930663061022,
           0.1994265527705763,
           -0.027052867622923735,
           0.1432734940723495,
           0.0688590316071943,
           0.0012473622111817868,
           -0.16162280318972375,
           0.08780035994221894,
           0.04692368499172165,
           0.05993296612588559,
           0.01877586941392507,
           0.02139483588786965,
           0.059826558200375295,
           0.01709098904843158,
           0.0568905104847129,
           0.03569160628318114,
           -0.0652840558675852,
           0.07361816887271325,
           0.009808374951720664,
           -0.1481917894292511,
           -0.10214860664913077,
           0.47916634731169944,
           0.1520954898048471,
           1,
           0.04909800618113987,
           -0.08859616392990452,
           -0.0409541943576253,
           -0.33909521175277463,
           0.021852899531694104,
           0.04071129818111514,
           -0.06816602228362409,
           0.002348717804780135,
           0.013065101427263326,
           0.002257830630746701,
           -0.008883932349995618,
           0.03634615226759596,
           0.012713128129259978,
           -0.021505388863997443,
           -0.003057078443223241,
           0.00796060575779871,
           0.014188806788896708,
           0.005497173386681702,
           -0.016188160719161567,
           -0.00819443658478265,
           -0.0052213212368222945,
           -0.002988878474843556,
           -0.01714505791381634,
           -0.013275771803250005
          ],
          [
           0.0032984007258573442,
           0.0318861535417119,
           0.05189726823618464,
           -0.02035446047088296,
           0.004032127245831889,
           0.024807322135576553,
           -0.01570381283539008,
           -0.05737389720252024,
           0.02808630603435476,
           0.05938301313119714,
           -0.015415157867609238,
           0.016178101273057324,
           0.013379969861257616,
           0.0066704936647759665,
           -0.0018175475373444266,
           0.011521485832376444,
           -0.00988168150557742,
           0.007893619557429524,
           0.0298058024464937,
           -0.017572278264355517,
           0.0557102484791568,
           -0.2604249173709238,
           0.026795408043603336,
           0.20725281123603478,
           0.04909800618113987,
           1,
           -0.03524136945081078,
           -0.0036637011132156045,
           0.003015547138166329,
           0.015333840136019319,
           0.037638830897677146,
           -0.03590721477162546,
           -0.011440027836122194,
           -0.003786101202814199,
           -0.005054898237836758,
           -0.0040066546709938465,
           0.012210003054508459,
           -0.003992033959864505,
           -0.019241252753844435,
           0.007986427539151155,
           0.0012682205134430143,
           0.005443039247699226,
           0.01163973516129088,
           0.00006122245659403988,
           -0.010723478674042622,
           -0.009710367211656072,
           0.012664062309833732,
           0.00829531879052454,
           -0.009850412743198386
          ],
          [
           -0.005887526623200731,
           -0.03147493905532574,
           0.0026532224542877513,
           -0.01062699964168461,
           0.07537546521566592,
           0.031938687538583,
           0.03987043445492366,
           0.06435618094337649,
           -0.082858164391406,
           -0.0215135604061425,
           0.032044361204520616,
           -0.04113483052908757,
           -0.00971283862479772,
           -0.04083711755164732,
           -0.0117007328519248,
           -0.04244051303862078,
           0.07311320159597297,
           0.056319133807836215,
           -0.04752443050390076,
           -0.027915695300522316,
           -0.0006635613942662982,
           0.09921959769551363,
           -0.1513985453847149,
           -0.19364519681754552,
           -0.08859616392990452,
           -0.03524136945081078,
           1,
           0.07674968000676051,
           -0.03480333288258935,
           -0.0043543763006035924,
           -0.08781880919125393,
           0.04825826512966718,
           -0.014934708290405243,
           -0.013355558685691275,
           -0.007182111782938754,
           0.010975417612579419,
           -0.002731476851176144,
           0.005356122863455943,
           0.008141751636328754,
           -0.00900596569292532,
           -0.011851082505274689,
           0.0026709774162048177,
           0.004885773226724823,
           0.0013815905426662499,
           0.011595592929754275,
           -0.001540133632795189,
           0.015176541823705399,
           0.006059336549284369,
           0.017570720884637032
          ],
          [
           -0.011376685850645918,
           -0.019262598672492748,
           0.1354971120579493,
           -0.006955502679726164,
           0.006459010754726861,
           -0.01144419078355623,
           0.01857973180112111,
           0.03133688041892358,
           -0.13812415131848,
           0.0539211048341053,
           0.06384967724494077,
           0.00017854425640325677,
           0.0003094335508819351,
           -0.016233989543302397,
           -0.004226499060785006,
           -0.012470324745643711,
           0.035781508319640505,
           0.029720777424691786,
           -0.002872551109446398,
           -0.02753121379889048,
           -0.06248857998946506,
           0.022478483554362907,
           -0.25541657064416756,
           -0.06076657281586378,
           -0.0409541943576253,
           -0.0036637011132156045,
           0.07674968000676051,
           1,
           -0.017123929070215576,
           -0.021796535903158918,
           0.029024512121209205,
           -0.0317578497749471,
           0.0017644536310750607,
           0.0024049677888924076,
           -0.00822118612556034,
           -0.006753120475032246,
           0.0020291245637553477,
           0.006952045781588593,
           -0.007672313484950095,
           -0.0026251972324978635,
           -0.009408176386589561,
           0.013296755762118062,
           -0.009786405459099682,
           0.009204870937811504,
           -0.014509457382868489,
           -0.0004837212671920871,
           -0.004424407445650696,
           -0.010068339461069465,
           0.008277673117863397
          ],
          [
           0.0013924472770638296,
           -0.016030648309844304,
           -0.0967201526985597,
           0.003992406908156718,
           -0.009993559279075552,
           -0.035267028283924674,
           -0.02108981726733055,
           0.095563470824729,
           -0.050493198734218626,
           -0.008715710700904829,
           -0.05488373143849498,
           0.016977386594582644,
           0.03183361593711322,
           0.053112704190459666,
           0.020796088681693473,
           0.0558410087190228,
           0.0447430243574875,
           0.010789813877946045,
           0.07218089661171001,
           -0.03821588265239145,
           0.274361423324469,
           -0.005122369167057571,
           0.2759574772454625,
           -0.05288697600391124,
           -0.33909521175277463,
           0.003015547138166329,
           -0.03480333288258935,
           -0.017123929070215576,
           1,
           -0.019534497663233164,
           -0.01275615717953861,
           0.11262527876340508,
           0.00484542723023839,
           -0.011143417543181204,
           -0.010521960926055937,
           0.00921543225551673,
           0.005847241675794493,
           -0.0023727070041567617,
           0.01107105636988967,
           0.011498564204438734,
           -0.01197702425821092,
           0.002625976161506643,
           -0.010299471957842364,
           0.016505753558917875,
           0.012387897307859833,
           0.0017996551100783855,
           -0.00571336152929554,
           0.009979094267994476,
           -0.0034307530390963034
          ],
          [
           -0.01549703769487104,
           0.01623464154177883,
           0.008001080982667285,
           0.02004938429042135,
           -0.01702480214814073,
           0.0204501175679691,
           0.0029494384132510484,
           -0.026936392327858584,
           0.02694186061855363,
           0.020444758485344702,
           -0.015550036594408616,
           0.0020041912368989594,
           -0.023327841554257975,
           -0.015412303639963718,
           0.0024549914361329454,
           -0.017484899748512712,
           0.004761928011159235,
           -0.0008758759751619495,
           -0.011366306505264477,
           0.0023002648530230717,
           0.00863840153666489,
           -0.02164616501855087,
           0.021338423535004165,
           0.0020469221261309543,
           0.021852899531694104,
           0.015333840136019319,
           -0.0043543763006035924,
           -0.021796535903158918,
           -0.019534497663233164,
           1,
           -0.0018521900015851804,
           0.02465401409127005,
           -0.01814164432127592,
           0.0056659193335993376,
           -0.005027388431667658,
           -0.005595462380429249,
           0.008019067933033709,
           0.005582924968233352,
           -0.00536079858731797,
           -0.0003495492280360726,
           0.009321802770507358,
           0.004693543277463174,
           -0.005308024991163334,
           0.0033879770320601552,
           -0.0058878417281959,
           0.009636340328432975,
           -0.009178240577337082,
           -0.005531274519184342,
           0.006738826080114583
          ],
          [
           -0.023813867452201685,
           -0.02151059472516358,
           0.0063322150486825445,
           0.024959202678681076,
           -0.016353129674417804,
           -0.02215145622999855,
           -0.004540724121577228,
           -0.03666287998240799,
           0.03860962932301362,
           0.05597650766001523,
           -0.04975157059173861,
           -0.014244710623760969,
           0.012802298920313105,
           0.01590839265751809,
           0.01430751417769268,
           0.016039950999443164,
           -0.014994812748889126,
           -0.0185468067186386,
           0.00703920676204209,
           0.02321313028758247,
           0.008719812927482473,
           0.00536719767403085,
           0.013626015338964235,
           0.06593484997483812,
           0.04071129818111514,
           0.037638830897677146,
           -0.08781880919125393,
           0.029024512121209205,
           -0.01275615717953861,
           -0.0018521900015851804,
           1,
           -0.05515235560348041,
           -0.005357474562398321,
           0.01300469115256058,
           -0.010787163398750393,
           -0.017959910432976112,
           0.0009401190021736293,
           0.006430115054107772,
           -0.006042399869398582,
           -0.003526476910702625,
           -0.013033334876945678,
           0.0012683010846465475,
           0.013669266090359004,
           0.005155576956058134,
           0.00827398315168487,
           -0.005071799918269267,
           0.004629152866203087,
           -0.0020834516099705407,
           -0.009165244925192393
          ],
          [
           -0.01897237715063843,
           0.0020302083835024836,
           0.004010276486208185,
           0.01019912280088731,
           -0.07260210019917389,
           0.060884027868248224,
           -0.003824272927464189,
           0.024121499475772013,
           0.07396056586441928,
           -0.06744022376149589,
           -0.048997269307481946,
           -0.010251699683545994,
           0.004943547789160111,
           -0.006241567426317351,
           0.007506952088046286,
           -0.003123783274525451,
           0.028428788515480894,
           0.015161458015571797,
           0.01004014597912497,
           -0.02897721222509013,
           0.10772536661960523,
           -0.09712734889945722,
           0.09455645128964657,
           -0.05373843900306957,
           -0.06816602228362409,
           -0.03590721477162546,
           0.04825826512966718,
           -0.0317578497749471,
           0.11262527876340508,
           0.02465401409127005,
           -0.05515235560348041,
           1,
           -0.00241233884173168,
           0.008960159758938298,
           -0.0009515074457144788,
           -0.0027539935696583393,
           -0.020786448726803654,
           -0.00018598984617829964,
           0.013206190615437109,
           0.007804176455509834,
           -0.023501941298140698,
           0.00901465692123545,
           -0.013940772615135795,
           -0.0014307792396160228,
           0.00839722991026407,
           0.005596746781243324,
           -0.006113518760592639,
           0.006645056162834619,
           0.004245064546183827
          ],
          [
           0.013503527246185115,
           0.02291528136867004,
           -0.004806214885914537,
           -0.0017863710429452337,
           -0.0191062029279884,
           0.013218924923066715,
           0.0010822241491058918,
           -0.02581291882809945,
           0.016005405260427392,
           0.015450511204733442,
           -0.00010292080843615036,
           -0.0007142205556107916,
           0.011549480076085852,
           0.0076998757181664206,
           0.008163036519679789,
           0.01083942851719756,
           -0.005979212986695979,
           -0.013710139449800015,
           0.01204432060325517,
           0.0039642420063148295,
           0.004560940576714545,
           0.004594274148531758,
           -0.0007738166735248299,
           0.005723505416076462,
           0.002348717804780135,
           -0.011440027836122194,
           -0.014934708290405243,
           0.0017644536310750607,
           0.00484542723023839,
           -0.01814164432127592,
           -0.005357474562398321,
           -0.00241233884173168,
           1,
           0.00913137262260315,
           0.009208289472675388,
           -0.0036547319948319243,
           -0.007482879562280064,
           -0.009852810176240796,
           0.011197875553789833,
           -0.0024188613002382535,
           0.010189932172327427,
           0.021703576227865458,
           -0.0049819524753975785,
           -0.012100660948660278,
           0.0006178164616712752,
           0.0051164936161477645,
           0.011245322284380948,
           0.005589691422219409,
           -0.01322401062837291
          ],
          [
           -0.003921733628142735,
           0.0043538061363817895,
           -0.01570219658787181,
           0.0037473061475124035,
           -0.00039802591323993825,
           -0.004112849760615797,
           -0.004201309907834541,
           0.005771795375246649,
           -0.008288594898785452,
           -0.012202212888495594,
           0.013472688585234921,
           -0.004660711210346556,
           0.01657520650460558,
           0.006208145272104786,
           0.00881112746907911,
           0.0107736857171834,
           0.0038754155489485343,
           -0.0005192898680562558,
           -0.006301911914077008,
           -0.009763687002675932,
           -0.003930178748298414,
           0.010793278569236103,
           0.0199592597468276,
           0.009746924219897294,
           0.013065101427263326,
           -0.003786101202814199,
           -0.013355558685691275,
           0.0024049677888924076,
           -0.011143417543181204,
           0.0056659193335993376,
           0.01300469115256058,
           0.008960159758938298,
           0.00913137262260315,
           1,
           0.008724556981833956,
           -0.0027745662083002855,
           0.021021122667945022,
           0.017266218279861526,
           -0.003907649297191935,
           0.00522009944578062,
           0.007917690570214448,
           -0.008490018046169693,
           -0.0007975585483081935,
           -0.00015935957513320484,
           -0.02475722751182871,
           0.014505828379401202,
           -0.016004289466696554,
           -0.0009784229472451398,
           -0.031570398492874824
          ],
          [
           -0.014823077402537714,
           0.009052534257690408,
           -0.005850707629668268,
           0.0007402027762224236,
           -0.00343509602177159,
           0.017839964691943558,
           -0.012674848376954687,
           -0.003560408469226113,
           0.005808257508359039,
           0.006098012814845082,
           -0.007742060990243764,
           0.008370681759078543,
           -0.011931021959028126,
           -0.014936240208852442,
           -0.010924198422648291,
           -0.015382021759200134,
           -0.0007427923751643857,
           -0.011430188313067385,
           0.015903974761393668,
           -0.00698791444730727,
           -0.008583899887013987,
           -0.010510983564912044,
           -0.0014091930380247275,
           -0.000209130401322314,
           0.002257830630746701,
           -0.005054898237836758,
           -0.007182111782938754,
           -0.00822118612556034,
           -0.010521960926055937,
           -0.005027388431667658,
           -0.010787163398750393,
           -0.0009515074457144788,
           0.009208289472675388,
           0.008724556981833956,
           1,
           0.02076995859030412,
           -0.010518333021532586,
           -0.0020667129149008496,
           0.007057472756061628,
           -0.019356540182942913,
           -0.007709600964567809,
           0.002854426416539347,
           -0.0021515353378321785,
           -0.008213043631614226,
           -0.006253517700918402,
           0.0003010616798249791,
           0.004775060734296595,
           0.0018700975103722725,
           0.002860436134089276
          ],
          [
           0.015393146366265289,
           -0.0010007918354119532,
           0.002035141944900636,
           -0.00990165836352682,
           0.012221820373379495,
           0.010362779853923317,
           -0.022352118673104892,
           0.005651621516959116,
           0.00029572215132037734,
           0.003828650963028,
           -0.01097348879781242,
           0.0055515882185716205,
           0.002904893693701704,
           -0.014986568343948809,
           -0.002694010619088175,
           -0.009444967857412822,
           -0.002584550082419286,
           -0.009964065511512594,
           0.013038149515633205,
           0.006730853694722598,
           -0.007480680627867626,
           0.015074202575317146,
           -0.0022235422048091894,
           -0.006289412334987032,
           -0.008883932349995618,
           -0.0040066546709938465,
           0.010975417612579419,
           -0.006753120475032246,
           0.00921543225551673,
           -0.005595462380429249,
           -0.017959910432976112,
           -0.0027539935696583393,
           -0.0036547319948319243,
           -0.0027745662083002855,
           0.02076995859030412,
           1,
           0.018154740717944682,
           -0.006346745594831386,
           -0.005598241953764829,
           -0.0005317036868792946,
           -0.0012662504878970917,
           -0.0023793003589664408,
           0.0013792894253352782,
           -0.010923139338049146,
           0.0023919167899659074,
           0.018379129634125118,
           0.004303344087954707,
           -0.007054887726148914,
           -0.010275449307652404
          ],
          [
           -0.003736054724106672,
           -0.00671519862999251,
           0.012783459690659539,
           0.00722245961285022,
           0.0024464225706894386,
           -0.0020154155889355514,
           0.004481122289365524,
           0.010843234675263875,
           -0.017346431117599308,
           0.009063649062623426,
           -0.002750121225157491,
           -0.011917449934197636,
           0.008305631635864301,
           0.008960885344831361,
           -0.006638113171986846,
           0.005408851308439556,
           -0.00004600220457652777,
           -0.013336483067572532,
           -0.009527756345940191,
           0.012173379348044919,
           -0.013243040393036377,
           0.0004084797934395089,
           0.012451921159792113,
           0.020217471546463625,
           0.03634615226759596,
           0.012210003054508459,
           -0.002731476851176144,
           0.0020291245637553477,
           0.005847241675794493,
           0.008019067933033709,
           0.0009401190021736293,
           -0.020786448726803654,
           -0.007482879562280064,
           0.021021122667945022,
           -0.010518333021532586,
           0.018154740717944682,
           1,
           -0.01157856951314238,
           0.0028117901194562762,
           -0.009916651176205299,
           0.011315625921464284,
           0.002454591755834022,
           -0.0074304659654221995,
           0.006794372473997065,
           0.00040003921369467213,
           0.008965116680151614,
           0.012538360080597435,
           0.006256649495590763,
           -0.0007604902578126315
          ],
          [
           0.006068950769303836,
           0.004296155866167958,
           0.011569914304445166,
           -0.0006703384701473779,
           -0.009420269313029212,
           0.017342988986654713,
           0.0022881519744807504,
           -0.0055299858760023525,
           0.015083427096759913,
           0.0019605665556889536,
           -0.011712636589659138,
           0.009386897854289332,
           -0.008040680621247843,
           0.0006128322512826048,
           0.004890073491502428,
           0.0007043425753144773,
           -0.0009809347234557117,
           -0.002613250635974456,
           0.011762847310120592,
           -0.006935691999401606,
           -0.0036769319199188555,
           0.012652496390926424,
           0.01680653340746653,
           -0.0010747462823085835,
           0.012713128129259978,
           -0.003992033959864505,
           0.005356122863455943,
           0.006952045781588593,
           -0.0023727070041567617,
           0.005582924968233352,
           0.006430115054107772,
           -0.00018598984617829964,
           -0.009852810176240796,
           0.017266218279861526,
           -0.0020667129149008496,
           -0.006346745594831386,
           -0.01157856951314238,
           1,
           -0.00019083929003588807,
           0.003753451574927769,
           0.00006620339148824132,
           -0.009932373330900746,
           0.0003497459900895302,
           0.006523450160898425,
           -0.0007014045100806624,
           0.0014765024839285617,
           0.011980813217183094,
           0.0011997848003649605,
           -0.0034622725812306324
          ],
          [
           0.007178159218177098,
           0.003807703524191122,
           -0.010363033484545096,
           0.0006062538327914494,
           -0.0005118340364800163,
           0.013407947954372248,
           0.011524930938438347,
           0.005961774747337003,
           0.00221613852779374,
           -0.009368114805697955,
           -0.0011045967852393928,
           0.006474468209213807,
           -0.00195032055649275,
           0.0065133852843950995,
           -0.012433169188919109,
           0.0024797566108059393,
           -0.002046727210366974,
           0.009617140193051767,
           -0.018127172911081117,
           0.0034702170352956313,
           0.006911876993387075,
           0.018629383284437424,
           -0.007799197967901708,
           -0.02061092093932031,
           -0.021505388863997443,
           -0.019241252753844435,
           0.008141751636328754,
           -0.007672313484950095,
           0.01107105636988967,
           -0.00536079858731797,
           -0.006042399869398582,
           0.013206190615437109,
           0.011197875553789833,
           -0.003907649297191935,
           0.007057472756061628,
           -0.005598241953764829,
           0.0028117901194562762,
           -0.00019083929003588807,
           1,
           0.023930531392509443,
           -0.011615577051457654,
           0.005268128296291696,
           0.010787617948962233,
           -0.013507184622948863,
           0.008453865921906641,
           -0.0034080436686504205,
           -0.0050315453863310705,
           -0.0006200487801405826,
           0.011793119302811333
          ],
          [
           0.011006690372968097,
           -0.00794188277414339,
           -0.001040273126020623,
           0.020111983015916487,
           0.002142571108327322,
           0.0020024609173588874,
           0.015901966268169265,
           0.0023584176122685313,
           0.0051394147032346104,
           -0.004934660097798262,
           -0.004022618966663764,
           -0.003119791313022606,
           -0.00845507676272999,
           -0.015059612147465217,
           0.004078042428020781,
           -0.013131876023202628,
           0.0004639971821233505,
           0.0064101622392910215,
           -0.02252821603236813,
           0.007214927241803544,
           -0.0032505365083384413,
           -0.008747595345032583,
           -0.009061008487430623,
           0.012156716717675518,
           -0.003057078443223241,
           0.007986427539151155,
           -0.00900596569292532,
           -0.0026251972324978635,
           0.011498564204438734,
           -0.0003495492280360726,
           -0.003526476910702625,
           0.007804176455509834,
           -0.0024188613002382535,
           0.00522009944578062,
           -0.019356540182942913,
           -0.0005317036868792946,
           -0.009916651176205299,
           0.003753451574927769,
           0.023930531392509443,
           1,
           0.0008501866264166535,
           0.0018482261017071827,
           0.021335103243860534,
           0.019032928509888008,
           -0.005414554855398194,
           -0.007454394822360145,
           -0.01164333305557531,
           -0.013856813714078545,
           0.001947931362792869
          ],
          [
           -0.01937243855787327,
           -0.0002265744287807727,
           0.0187230249547858,
           -0.004890663626692986,
           -0.0012506245759783352,
           0.006293765232330089,
           0.003982772701231231,
           -0.0036112013124343445,
           -0.0006388397707944147,
           -0.01007737058199201,
           0.014676892705777315,
           0.028473967760412052,
           0.002057151656109825,
           0.015507275999682898,
           0.00006127845301733624,
           0.016961917619208677,
           0.007966363486217687,
           -0.0005775787624570245,
           0.0012418235875088022,
           -0.0009708758279438392,
           -0.007052772497432311,
           0.0028495131414692457,
           -0.0006839376845140168,
           0.011106413118935624,
           0.00796060575779871,
           0.0012682205134430143,
           -0.011851082505274689,
           -0.009408176386589561,
           -0.01197702425821092,
           0.009321802770507358,
           -0.013033334876945678,
           -0.023501941298140698,
           0.010189932172327427,
           0.007917690570214448,
           -0.007709600964567809,
           -0.0012662504878970917,
           0.011315625921464284,
           0.00006620339148824132,
           -0.011615577051457654,
           0.0008501866264166535,
           1,
           0.0019145400844897938,
           -0.01595559598604777,
           0.014755153951509595,
           0.007790579860818539,
           -0.012206496381639613,
           0.008906954438406799,
           0.003534765050397731,
           -0.003975372946929452
          ],
          [
           0.00882230092351001,
           0.012078222272109335,
           -0.011756411900580162,
           -0.012679400712368963,
           -0.005014636297837565,
           -0.0033406248984080397,
           0.004657750926319966,
           0.010457689724404466,
           -0.019754254048872863,
           -0.011139968385251392,
           0.01937775025068567,
           -0.0030277891323079106,
           -0.0010312733597359618,
           0.014100464698060658,
           0.010197532960697349,
           0.01152040603826219,
           -0.0006741240761285179,
           -0.011336805552091912,
           0.009071784132987697,
           -0.0005915352303086416,
           0.01297265888216677,
           0.007935042480303453,
           -0.001702754541390564,
           0.0010504874616125948,
           0.014188806788896708,
           0.005443039247699226,
           0.0026709774162048177,
           0.013296755762118062,
           0.002625976161506643,
           0.004693543277463174,
           0.0012683010846465475,
           0.00901465692123545,
           0.021703576227865458,
           -0.008490018046169693,
           0.002854426416539347,
           -0.0023793003589664408,
           0.002454591755834022,
           -0.009932373330900746,
           0.005268128296291696,
           0.0018482261017071827,
           0.0019145400844897938,
           1,
           0.00007293718210066199,
           0.0018247274144143552,
           0.003531978951195011,
           -0.008139625710732125,
           -0.0044808318030338965,
           -0.011960818337338693,
           -0.003805534906619352
          ],
          [
           -0.00965343371668132,
           0.00649261153815768,
           0.000526633021117893,
           0.015014565585175327,
           0.007475391884979876,
           0.006084597947376114,
           -0.009818338129756705,
           -0.007317637293926119,
           0.01054654058364618,
           -0.009740400592581303,
           0.006547896825255099,
           -0.003333276164487653,
           -0.0023638557152638336,
           0.0027717690148903835,
           0.0013446050784613878,
           0.0009431849224706478,
           -0.008134684865803684,
           -0.006433407954074042,
           0.00704397686747528,
           -0.00510319470419587,
           0.0008150786751205128,
           0.00044621726563926986,
           -0.007660776314534791,
           -0.0015723070970203575,
           0.005497173386681702,
           0.01163973516129088,
           0.004885773226724823,
           -0.009786405459099682,
           -0.010299471957842364,
           -0.005308024991163334,
           0.013669266090359004,
           -0.013940772615135795,
           -0.0049819524753975785,
           -0.0007975585483081935,
           -0.0021515353378321785,
           0.0013792894253352782,
           -0.0074304659654221995,
           0.0003497459900895302,
           0.010787617948962233,
           0.021335103243860534,
           -0.01595559598604777,
           0.00007293718210066199,
           1,
           0.00433211329721483,
           0.0016807725175918245,
           -0.002297104367464923,
           -0.011701365514315108,
           0.0007489340613007799,
           -0.004924967081645329
          ],
          [
           -0.00048354666841699684,
           0.00744871082980294,
           -0.006556469485401224,
           -0.005723959553100109,
           0.0061322786608868415,
           -0.007240670241188875,
           -0.015098056071217891,
           0.013953327936949604,
           -0.011627634369480366,
           -0.001996252265640231,
           -0.0026033363599181716,
           0.01546039162602774,
           -0.008897161171251906,
           -0.027624066963828582,
           -0.0012431514087547426,
           -0.02010841216867676,
           0.0032363220542963992,
           -0.0023512355221924647,
           -0.0012812151467659501,
           0.004396702657972141,
           0.0035345181923789742,
           0.00346627288695016,
           -0.0045375951165220205,
           0.003437969843566659,
           -0.016188160719161567,
           0.00006122245659403988,
           0.0013815905426662499,
           0.009204870937811504,
           0.016505753558917875,
           0.0033879770320601552,
           0.005155576956058134,
           -0.0014307792396160228,
           -0.012100660948660278,
           -0.00015935957513320484,
           -0.008213043631614226,
           -0.010923139338049146,
           0.006794372473997065,
           0.006523450160898425,
           -0.013507184622948863,
           0.019032928509888008,
           0.014755153951509595,
           0.0018247274144143552,
           0.00433211329721483,
           1,
           -0.0018770275223128758,
           0.010353963020464043,
           -0.01352718138016132,
           0.008899884142149513,
           -0.006014878806803532
          ],
          [
           -0.0012628152060748033,
           -0.0023129763112049377,
           -0.013061548414732732,
           0.008766915653527864,
           0.004798688967452346,
           0.0028172625070637027,
           -0.000032591352760701374,
           0.017330814963609706,
           -0.015078334318265748,
           -0.004547255123093159,
           -0.0005846697401150911,
           -0.005939938517407886,
           0.009125383136079038,
           0.007020021322258225,
           0.00301828466689048,
           0.007500156463612403,
           -0.0041701552290046295,
           -0.0018983755415358419,
           -0.00024671798780578864,
           -0.0011007929091215955,
           0.008509631444075341,
           0.011541815642787074,
           0.00039039373023135965,
           -0.0008352297478094928,
           -0.00819443658478265,
           -0.010723478674042622,
           0.011595592929754275,
           -0.014509457382868489,
           0.012387897307859833,
           -0.0058878417281959,
           0.00827398315168487,
           0.00839722991026407,
           0.0006178164616712752,
           -0.02475722751182871,
           -0.006253517700918402,
           0.0023919167899659074,
           0.00040003921369467213,
           -0.0007014045100806624,
           0.008453865921906641,
           -0.005414554855398194,
           0.007790579860818539,
           0.003531978951195011,
           0.0016807725175918245,
           -0.0018770275223128758,
           1,
           0.018478300103941695,
           0.009156957730109386,
           0.004100261806086842,
           0.006056693939192809
          ],
          [
           0.002435812248483843,
           0.005619508275666679,
           -0.01511820956786853,
           -0.0016419094204129009,
           0.0009221061921489273,
           0.0015457925242140884,
           0.007992912562340273,
           -0.01105915641679183,
           0.012970937076162904,
           0.005791893632321208,
           -0.006064220321239477,
           -0.019334386174155446,
           -0.0050027222680179674,
           -0.010499531145750121,
           -0.013609555192671353,
           -0.015640442609871078,
           -0.009427394296128088,
           -0.011932355482942858,
           -0.003368253386674414,
           0.017193572641834343,
           0.016807156614483194,
           0.0021910539482585243,
           0.016016013772256966,
           0.009258617894789857,
           -0.0052213212368222945,
           -0.009710367211656072,
           -0.001540133632795189,
           -0.0004837212671920871,
           0.0017996551100783855,
           0.009636340328432975,
           -0.005071799918269267,
           0.005596746781243324,
           0.0051164936161477645,
           0.014505828379401202,
           0.0003010616798249791,
           0.018379129634125118,
           0.008965116680151614,
           0.0014765024839285617,
           -0.0034080436686504205,
           -0.007454394822360145,
           -0.012206496381639613,
           -0.008139625710732125,
           -0.002297104367464923,
           0.010353963020464043,
           0.018478300103941695,
           1,
           -0.0040409766957908745,
           0.02940974179136466,
           0.0002460821453361017
          ],
          [
           0.0030243739380476885,
           -0.0036526760888617323,
           0.003148778361711434,
           -0.0029001428896415996,
           0.027510106685062662,
           0.0012870658861499232,
           -0.008881102258951234,
           -0.018831407031906607,
           0.009747367091643555,
           -0.004015653043644485,
           0.01642355568716899,
           0.01094974322534363,
           -0.0016951050717808431,
           -0.002529279330768872,
           0.009759971260532093,
           0.0018038727798083763,
           -0.0032349879599093577,
           -0.0006185308245026228,
           -0.0027161741087634405,
           0.006926506644864998,
           0.004947596898841485,
           -0.008333870061452281,
           -0.007181829002130235,
           0.008699536228741174,
           -0.002988878474843556,
           0.012664062309833732,
           0.015176541823705399,
           -0.004424407445650696,
           -0.00571336152929554,
           -0.009178240577337082,
           0.004629152866203087,
           -0.006113518760592639,
           0.011245322284380948,
           -0.016004289466696554,
           0.004775060734296595,
           0.004303344087954707,
           0.012538360080597435,
           0.011980813217183094,
           -0.0050315453863310705,
           -0.01164333305557531,
           0.008906954438406799,
           -0.0044808318030338965,
           -0.011701365514315108,
           -0.01352718138016132,
           0.009156957730109386,
           -0.0040409766957908745,
           1,
           -0.020691232866402197,
           -0.007393449539468976
          ],
          [
           0.006351763523311996,
           -0.013244509788068386,
           0.02924939590733193,
           0.000431248153075017,
           0.00012126368700327775,
           0.008844882274439182,
           -0.008030515070356637,
           0.004806039470453818,
           0.006877874196474066,
           -0.01724692812979331,
           0.0025518051365408475,
           0.02439318543939047,
           0.012722584034794591,
           0.002437502811993283,
           -0.001451698012995521,
           0.009845376188590703,
           0.008807972953575563,
           -0.0086502314070969,
           0.00931473794421619,
           -0.003418338874319539,
           0.020738552578774213,
           -0.004070417732063738,
           -0.016458267511510947,
           0.006115336299435938,
           -0.01714505791381634,
           0.00829531879052454,
           0.006059336549284369,
           -0.010068339461069465,
           0.009979094267994476,
           -0.005531274519184342,
           -0.0020834516099705407,
           0.006645056162834619,
           0.005589691422219409,
           -0.0009784229472451398,
           0.0018700975103722725,
           -0.007054887726148914,
           0.006256649495590763,
           0.0011997848003649605,
           -0.0006200487801405826,
           -0.013856813714078545,
           0.003534765050397731,
           -0.011960818337338693,
           0.0007489340613007799,
           0.008899884142149513,
           0.004100261806086842,
           0.02940974179136466,
           -0.020691232866402197,
           1,
           -0.009155639422276216
          ],
          [
           0.005568936506102859,
           0.003374504990481269,
           0.0015894195686026035,
           -0.007163542783521208,
           -0.016436622764380647,
           -0.015853357287718934,
           -0.0024347949692715134,
           0.02045285042413369,
           -0.002615124808271618,
           -0.005145393538269779,
           -0.0177742116169667,
           0.0008038397411375409,
           0.0013931279025769419,
           -0.007712115538881922,
           -0.003625121379593183,
           -0.005761743264171208,
           0.00072643065497905,
           0.01568397492764986,
           -0.01928381105856891,
           0.002720272897126032,
           0.007093386466973748,
           -0.004551194461324724,
           -0.015485929874722467,
           -0.0050549178272657124,
           -0.013275771803250005,
           -0.009850412743198386,
           0.017570720884637032,
           0.008277673117863397,
           -0.0034307530390963034,
           0.006738826080114583,
           -0.009165244925192393,
           0.004245064546183827,
           -0.01322401062837291,
           -0.031570398492874824,
           0.002860436134089276,
           -0.010275449307652404,
           -0.0007604902578126315,
           -0.0034622725812306324,
           0.011793119302811333,
           0.001947931362792869,
           -0.003975372946929452,
           -0.003805534906619352,
           -0.004924967081645329,
           -0.006014878806803532,
           0.006056693939192809,
           0.0002460821453361017,
           -0.007393449539468976,
           -0.009155639422276216,
           1
          ]
         ]
        }
       ],
       "layout": {
        "height": 700,
        "template": {
         "data": {
          "bar": [
           {
            "error_x": {
             "color": "#2a3f5f"
            },
            "error_y": {
             "color": "#2a3f5f"
            },
            "marker": {
             "line": {
              "color": "#E5ECF6",
              "width": 0.5
             },
             "pattern": {
              "fillmode": "overlay",
              "size": 10,
              "solidity": 0.2
             }
            },
            "type": "bar"
           }
          ],
          "barpolar": [
           {
            "marker": {
             "line": {
              "color": "#E5ECF6",
              "width": 0.5
             },
             "pattern": {
              "fillmode": "overlay",
              "size": 10,
              "solidity": 0.2
             }
            },
            "type": "barpolar"
           }
          ],
          "carpet": [
           {
            "aaxis": {
             "endlinecolor": "#2a3f5f",
             "gridcolor": "white",
             "linecolor": "white",
             "minorgridcolor": "white",
             "startlinecolor": "#2a3f5f"
            },
            "baxis": {
             "endlinecolor": "#2a3f5f",
             "gridcolor": "white",
             "linecolor": "white",
             "minorgridcolor": "white",
             "startlinecolor": "#2a3f5f"
            },
            "type": "carpet"
           }
          ],
          "choropleth": [
           {
            "colorbar": {
             "outlinewidth": 0,
             "ticks": ""
            },
            "type": "choropleth"
           }
          ],
          "contour": [
           {
            "colorbar": {
             "outlinewidth": 0,
             "ticks": ""
            },
            "colorscale": [
             [
              0,
              "#0d0887"
             ],
             [
              0.1111111111111111,
              "#46039f"
             ],
             [
              0.2222222222222222,
              "#7201a8"
             ],
             [
              0.3333333333333333,
              "#9c179e"
             ],
             [
              0.4444444444444444,
              "#bd3786"
             ],
             [
              0.5555555555555556,
              "#d8576b"
             ],
             [
              0.6666666666666666,
              "#ed7953"
             ],
             [
              0.7777777777777778,
              "#fb9f3a"
             ],
             [
              0.8888888888888888,
              "#fdca26"
             ],
             [
              1,
              "#f0f921"
             ]
            ],
            "type": "contour"
           }
          ],
          "contourcarpet": [
           {
            "colorbar": {
             "outlinewidth": 0,
             "ticks": ""
            },
            "type": "contourcarpet"
           }
          ],
          "heatmap": [
           {
            "colorbar": {
             "outlinewidth": 0,
             "ticks": ""
            },
            "colorscale": [
             [
              0,
              "#0d0887"
             ],
             [
              0.1111111111111111,
              "#46039f"
             ],
             [
              0.2222222222222222,
              "#7201a8"
             ],
             [
              0.3333333333333333,
              "#9c179e"
             ],
             [
              0.4444444444444444,
              "#bd3786"
             ],
             [
              0.5555555555555556,
              "#d8576b"
             ],
             [
              0.6666666666666666,
              "#ed7953"
             ],
             [
              0.7777777777777778,
              "#fb9f3a"
             ],
             [
              0.8888888888888888,
              "#fdca26"
             ],
             [
              1,
              "#f0f921"
             ]
            ],
            "type": "heatmap"
           }
          ],
          "heatmapgl": [
           {
            "colorbar": {
             "outlinewidth": 0,
             "ticks": ""
            },
            "colorscale": [
             [
              0,
              "#0d0887"
             ],
             [
              0.1111111111111111,
              "#46039f"
             ],
             [
              0.2222222222222222,
              "#7201a8"
             ],
             [
              0.3333333333333333,
              "#9c179e"
             ],
             [
              0.4444444444444444,
              "#bd3786"
             ],
             [
              0.5555555555555556,
              "#d8576b"
             ],
             [
              0.6666666666666666,
              "#ed7953"
             ],
             [
              0.7777777777777778,
              "#fb9f3a"
             ],
             [
              0.8888888888888888,
              "#fdca26"
             ],
             [
              1,
              "#f0f921"
             ]
            ],
            "type": "heatmapgl"
           }
          ],
          "histogram": [
           {
            "marker": {
             "pattern": {
              "fillmode": "overlay",
              "size": 10,
              "solidity": 0.2
             }
            },
            "type": "histogram"
           }
          ],
          "histogram2d": [
           {
            "colorbar": {
             "outlinewidth": 0,
             "ticks": ""
            },
            "colorscale": [
             [
              0,
              "#0d0887"
             ],
             [
              0.1111111111111111,
              "#46039f"
             ],
             [
              0.2222222222222222,
              "#7201a8"
             ],
             [
              0.3333333333333333,
              "#9c179e"
             ],
             [
              0.4444444444444444,
              "#bd3786"
             ],
             [
              0.5555555555555556,
              "#d8576b"
             ],
             [
              0.6666666666666666,
              "#ed7953"
             ],
             [
              0.7777777777777778,
              "#fb9f3a"
             ],
             [
              0.8888888888888888,
              "#fdca26"
             ],
             [
              1,
              "#f0f921"
             ]
            ],
            "type": "histogram2d"
           }
          ],
          "histogram2dcontour": [
           {
            "colorbar": {
             "outlinewidth": 0,
             "ticks": ""
            },
            "colorscale": [
             [
              0,
              "#0d0887"
             ],
             [
              0.1111111111111111,
              "#46039f"
             ],
             [
              0.2222222222222222,
              "#7201a8"
             ],
             [
              0.3333333333333333,
              "#9c179e"
             ],
             [
              0.4444444444444444,
              "#bd3786"
             ],
             [
              0.5555555555555556,
              "#d8576b"
             ],
             [
              0.6666666666666666,
              "#ed7953"
             ],
             [
              0.7777777777777778,
              "#fb9f3a"
             ],
             [
              0.8888888888888888,
              "#fdca26"
             ],
             [
              1,
              "#f0f921"
             ]
            ],
            "type": "histogram2dcontour"
           }
          ],
          "mesh3d": [
           {
            "colorbar": {
             "outlinewidth": 0,
             "ticks": ""
            },
            "type": "mesh3d"
           }
          ],
          "parcoords": [
           {
            "line": {
             "colorbar": {
              "outlinewidth": 0,
              "ticks": ""
             }
            },
            "type": "parcoords"
           }
          ],
          "pie": [
           {
            "automargin": true,
            "type": "pie"
           }
          ],
          "scatter": [
           {
            "marker": {
             "colorbar": {
              "outlinewidth": 0,
              "ticks": ""
             }
            },
            "type": "scatter"
           }
          ],
          "scatter3d": [
           {
            "line": {
             "colorbar": {
              "outlinewidth": 0,
              "ticks": ""
             }
            },
            "marker": {
             "colorbar": {
              "outlinewidth": 0,
              "ticks": ""
             }
            },
            "type": "scatter3d"
           }
          ],
          "scattercarpet": [
           {
            "marker": {
             "colorbar": {
              "outlinewidth": 0,
              "ticks": ""
             }
            },
            "type": "scattercarpet"
           }
          ],
          "scattergeo": [
           {
            "marker": {
             "colorbar": {
              "outlinewidth": 0,
              "ticks": ""
             }
            },
            "type": "scattergeo"
           }
          ],
          "scattergl": [
           {
            "marker": {
             "colorbar": {
              "outlinewidth": 0,
              "ticks": ""
             }
            },
            "type": "scattergl"
           }
          ],
          "scattermapbox": [
           {
            "marker": {
             "colorbar": {
              "outlinewidth": 0,
              "ticks": ""
             }
            },
            "type": "scattermapbox"
           }
          ],
          "scatterpolar": [
           {
            "marker": {
             "colorbar": {
              "outlinewidth": 0,
              "ticks": ""
             }
            },
            "type": "scatterpolar"
           }
          ],
          "scatterpolargl": [
           {
            "marker": {
             "colorbar": {
              "outlinewidth": 0,
              "ticks": ""
             }
            },
            "type": "scatterpolargl"
           }
          ],
          "scatterternary": [
           {
            "marker": {
             "colorbar": {
              "outlinewidth": 0,
              "ticks": ""
             }
            },
            "type": "scatterternary"
           }
          ],
          "surface": [
           {
            "colorbar": {
             "outlinewidth": 0,
             "ticks": ""
            },
            "colorscale": [
             [
              0,
              "#0d0887"
             ],
             [
              0.1111111111111111,
              "#46039f"
             ],
             [
              0.2222222222222222,
              "#7201a8"
             ],
             [
              0.3333333333333333,
              "#9c179e"
             ],
             [
              0.4444444444444444,
              "#bd3786"
             ],
             [
              0.5555555555555556,
              "#d8576b"
             ],
             [
              0.6666666666666666,
              "#ed7953"
             ],
             [
              0.7777777777777778,
              "#fb9f3a"
             ],
             [
              0.8888888888888888,
              "#fdca26"
             ],
             [
              1,
              "#f0f921"
             ]
            ],
            "type": "surface"
           }
          ],
          "table": [
           {
            "cells": {
             "fill": {
              "color": "#EBF0F8"
             },
             "line": {
              "color": "white"
             }
            },
            "header": {
             "fill": {
              "color": "#C8D4E3"
             },
             "line": {
              "color": "white"
             }
            },
            "type": "table"
           }
          ]
         },
         "layout": {
          "annotationdefaults": {
           "arrowcolor": "#2a3f5f",
           "arrowhead": 0,
           "arrowwidth": 1
          },
          "autotypenumbers": "strict",
          "coloraxis": {
           "colorbar": {
            "outlinewidth": 0,
            "ticks": ""
           }
          },
          "colorscale": {
           "diverging": [
            [
             0,
             "#8e0152"
            ],
            [
             0.1,
             "#c51b7d"
            ],
            [
             0.2,
             "#de77ae"
            ],
            [
             0.3,
             "#f1b6da"
            ],
            [
             0.4,
             "#fde0ef"
            ],
            [
             0.5,
             "#f7f7f7"
            ],
            [
             0.6,
             "#e6f5d0"
            ],
            [
             0.7,
             "#b8e186"
            ],
            [
             0.8,
             "#7fbc41"
            ],
            [
             0.9,
             "#4d9221"
            ],
            [
             1,
             "#276419"
            ]
           ],
           "sequential": [
            [
             0,
             "#0d0887"
            ],
            [
             0.1111111111111111,
             "#46039f"
            ],
            [
             0.2222222222222222,
             "#7201a8"
            ],
            [
             0.3333333333333333,
             "#9c179e"
            ],
            [
             0.4444444444444444,
             "#bd3786"
            ],
            [
             0.5555555555555556,
             "#d8576b"
            ],
            [
             0.6666666666666666,
             "#ed7953"
            ],
            [
             0.7777777777777778,
             "#fb9f3a"
            ],
            [
             0.8888888888888888,
             "#fdca26"
            ],
            [
             1,
             "#f0f921"
            ]
           ],
           "sequentialminus": [
            [
             0,
             "#0d0887"
            ],
            [
             0.1111111111111111,
             "#46039f"
            ],
            [
             0.2222222222222222,
             "#7201a8"
            ],
            [
             0.3333333333333333,
             "#9c179e"
            ],
            [
             0.4444444444444444,
             "#bd3786"
            ],
            [
             0.5555555555555556,
             "#d8576b"
            ],
            [
             0.6666666666666666,
             "#ed7953"
            ],
            [
             0.7777777777777778,
             "#fb9f3a"
            ],
            [
             0.8888888888888888,
             "#fdca26"
            ],
            [
             1,
             "#f0f921"
            ]
           ]
          },
          "colorway": [
           "#636efa",
           "#EF553B",
           "#00cc96",
           "#ab63fa",
           "#FFA15A",
           "#19d3f3",
           "#FF6692",
           "#B6E880",
           "#FF97FF",
           "#FECB52"
          ],
          "font": {
           "color": "#2a3f5f"
          },
          "geo": {
           "bgcolor": "white",
           "lakecolor": "white",
           "landcolor": "#E5ECF6",
           "showlakes": true,
           "showland": true,
           "subunitcolor": "white"
          },
          "hoverlabel": {
           "align": "left"
          },
          "hovermode": "closest",
          "mapbox": {
           "style": "light"
          },
          "paper_bgcolor": "white",
          "plot_bgcolor": "#E5ECF6",
          "polar": {
           "angularaxis": {
            "gridcolor": "white",
            "linecolor": "white",
            "ticks": ""
           },
           "bgcolor": "#E5ECF6",
           "radialaxis": {
            "gridcolor": "white",
            "linecolor": "white",
            "ticks": ""
           }
          },
          "scene": {
           "xaxis": {
            "backgroundcolor": "#E5ECF6",
            "gridcolor": "white",
            "gridwidth": 2,
            "linecolor": "white",
            "showbackground": true,
            "ticks": "",
            "zerolinecolor": "white"
           },
           "yaxis": {
            "backgroundcolor": "#E5ECF6",
            "gridcolor": "white",
            "gridwidth": 2,
            "linecolor": "white",
            "showbackground": true,
            "ticks": "",
            "zerolinecolor": "white"
           },
           "zaxis": {
            "backgroundcolor": "#E5ECF6",
            "gridcolor": "white",
            "gridwidth": 2,
            "linecolor": "white",
            "showbackground": true,
            "ticks": "",
            "zerolinecolor": "white"
           }
          },
          "shapedefaults": {
           "line": {
            "color": "#2a3f5f"
           }
          },
          "ternary": {
           "aaxis": {
            "gridcolor": "white",
            "linecolor": "white",
            "ticks": ""
           },
           "baxis": {
            "gridcolor": "white",
            "linecolor": "white",
            "ticks": ""
           },
           "bgcolor": "#E5ECF6",
           "caxis": {
            "gridcolor": "white",
            "linecolor": "white",
            "ticks": ""
           }
          },
          "title": {
           "x": 0.05
          },
          "xaxis": {
           "automargin": true,
           "gridcolor": "white",
           "linecolor": "white",
           "ticks": "",
           "title": {
            "standoff": 15
           },
           "zerolinecolor": "white",
           "zerolinewidth": 2
          },
          "yaxis": {
           "automargin": true,
           "gridcolor": "white",
           "linecolor": "white",
           "ticks": "",
           "title": {
            "standoff": 15
           },
           "zerolinecolor": "white",
           "zerolinewidth": 2
          }
         }
        },
        "title": {
         "text": "Pearson Correlation of Integer-type features"
        },
        "width": 900,
        "xaxis": {
         "nticks": 36,
         "ticks": ""
        },
        "yaxis": {
         "ticks": ""
        }
       }
      },
      "text/html": [
       "<div>                            <div id=\"0676d3f6-bb49-43ac-90e2-3d18b467c6d2\" class=\"plotly-graph-div\" style=\"height:700px; width:900px;\"></div>            <script type=\"text/javascript\">                require([\"plotly\"], function(Plotly) {                    window.PLOTLYENV=window.PLOTLYENV || {};                                    if (document.getElementById(\"0676d3f6-bb49-43ac-90e2-3d18b467c6d2\")) {                    Plotly.newPlot(                        \"0676d3f6-bb49-43ac-90e2-3d18b467c6d2\",                        [{\"colorscale\":[[0.0,\"#440154\"],[0.1111111111111111,\"#482878\"],[0.2222222222222222,\"#3e4989\"],[0.3333333333333333,\"#31688e\"],[0.4444444444444444,\"#26828e\"],[0.5555555555555556,\"#1f9e89\"],[0.6666666666666666,\"#35b779\"],[0.7777777777777778,\"#6ece58\"],[0.8888888888888888,\"#b5de2b\"],[1.0,\"#fde725\"]],\"opacity\":1.0,\"reversescale\":false,\"x\":[\"id\",\"target\",\"ps_ind_01\",\"ps_ind_02_cat\",\"ps_ind_03\",\"ps_ind_04_cat\",\"ps_ind_05_cat\",\"ps_ind_06_bin\",\"ps_ind_07_bin\",\"ps_ind_08_bin\",\"ps_ind_09_bin\",\"ps_ind_10_bin\",\"ps_ind_11_bin\",\"ps_ind_12_bin\",\"ps_ind_13_bin\",\"ps_ind_14\",\"ps_ind_15\",\"ps_ind_16_bin\",\"ps_ind_17_bin\",\"ps_ind_18_bin\",\"ps_car_01_cat\",\"ps_car_02_cat\",\"ps_car_03_cat\",\"ps_car_04_cat\",\"ps_car_05_cat\",\"ps_car_06_cat\",\"ps_car_07_cat\",\"ps_car_08_cat\",\"ps_car_09_cat\",\"ps_car_10_cat\",\"ps_car_11_cat\",\"ps_car_11\",\"ps_calc_04\",\"ps_calc_05\",\"ps_calc_06\",\"ps_calc_07\",\"ps_calc_08\",\"ps_calc_09\",\"ps_calc_10\",\"ps_calc_11\",\"ps_calc_12\",\"ps_calc_13\",\"ps_calc_14\",\"ps_calc_15_bin\",\"ps_calc_16_bin\",\"ps_calc_17_bin\",\"ps_calc_18_bin\",\"ps_calc_19_bin\",\"ps_calc_20_bin\"],\"y\":[\"id\",\"target\",\"ps_ind_01\",\"ps_ind_02_cat\",\"ps_ind_03\",\"ps_ind_04_cat\",\"ps_ind_05_cat\",\"ps_ind_06_bin\",\"ps_ind_07_bin\",\"ps_ind_08_bin\",\"ps_ind_09_bin\",\"ps_ind_10_bin\",\"ps_ind_11_bin\",\"ps_ind_12_bin\",\"ps_ind_13_bin\",\"ps_ind_14\",\"ps_ind_15\",\"ps_ind_16_bin\",\"ps_ind_17_bin\",\"ps_ind_18_bin\",\"ps_car_01_cat\",\"ps_car_02_cat\",\"ps_car_03_cat\",\"ps_car_04_cat\",\"ps_car_05_cat\",\"ps_car_06_cat\",\"ps_car_07_cat\",\"ps_car_08_cat\",\"ps_car_09_cat\",\"ps_car_10_cat\",\"ps_car_11_cat\",\"ps_car_11\",\"ps_calc_04\",\"ps_calc_05\",\"ps_calc_06\",\"ps_calc_07\",\"ps_calc_08\",\"ps_calc_09\",\"ps_calc_10\",\"ps_calc_11\",\"ps_calc_12\",\"ps_calc_13\",\"ps_calc_14\",\"ps_calc_15_bin\",\"ps_calc_16_bin\",\"ps_calc_17_bin\",\"ps_calc_18_bin\",\"ps_calc_19_bin\",\"ps_calc_20_bin\"],\"z\":[[1.0,0.01058726736144037,0.018060817366668463,0.014161895100018347,0.005599043776799584,0.005932992911399255,0.009646726153173362,-0.019076745611376855,0.01276433782714577,0.009676548381639052,0.0005191947047874936,0.011754486273544413,0.010684064429687957,0.0036576371113556288,0.030697368020668137,0.014928973118981555,0.009088894669745882,0.001087966604202796,0.004523611928473847,-0.0072701225471741415,0.013158473631324327,-0.012216738179946104,0.019882000819774162,0.00577794474442197,0.005926125574078121,0.0032984007258573442,-0.005887526623200731,-0.011376685850645918,0.0013924472770638296,-0.01549703769487104,-0.023813867452201685,-0.01897237715063843,0.013503527246185115,-0.003921733628142735,-0.014823077402537714,0.015393146366265289,-0.003736054724106672,0.006068950769303836,0.007178159218177098,0.011006690372968097,-0.01937243855787327,0.00882230092351001,-0.00965343371668132,-0.00048354666841699684,-0.0012628152060748033,0.002435812248483843,0.0030243739380476885,0.006351763523311996,0.005568936506102859],[0.01058726736144037,1.0,0.02194860626764602,0.005858346139795664,0.004156493958893907,0.019923843991616067,0.035210857500769396,-0.04345080333673811,0.05109786587553302,0.019685408514211,-0.021093835283635967,-0.004863125197518824,-0.008428241426333456,0.007555342348367049,-0.00595698179542252,0.0005770408008580106,-0.03645097780109412,-0.02517503217453147,0.03212491427742838,0.009660354116694716,-0.0006353792292135586,-0.05475747145392681,0.01860756232008892,0.03813607206061216,0.02745930663061022,0.0318861535417119,-0.03147493905532574,-0.019262598672492748,-0.016030648309844304,0.01623464154177883,-0.02151059472516358,0.0020302083835024836,0.02291528136867004,0.0043538061363817895,0.009052534257690408,-0.0010007918354119532,-0.00671519862999251,0.004296155866167958,0.003807703524191122,-0.00794188277414339,-0.0002265744287807727,0.012078222272109335,0.00649261153815768,0.00744871082980294,-0.0023129763112049377,0.005619508275666679,-0.0036526760888617323,-0.013244509788068386,0.003374504990481269],[0.018060817366668463,0.02194860626764602,1.0,-0.018184682086328105,0.21601781575676188,0.05668626903389774,0.021947534951288126,-0.27305590743778896,-0.011698089952767995,0.20117248973859203,0.16472850305158593,0.015632399831928594,-0.013378830052797651,-0.031577398902241725,-0.0035668222764968158,-0.024839742117638713,0.13749955735348748,0.04745731050518354,0.10488069425924783,-0.12222814857944626,-0.06313503299575239,-0.11751535447111938,0.03308191635086761,0.0827893352240289,0.1994265527705763,0.05189726823618464,0.0026532224542877513,0.1354971120579493,-0.0967201526985597,0.008001080982667285,0.0063322150486825445,0.004010276486208185,-0.004806214885914537,-0.01570219658787181,-0.005850707629668268,0.002035141944900636,0.012783459690659539,0.011569914304445166,-0.010363033484545096,-0.001040273126020623,0.0187230249547858,-0.011756411900580162,0.000526633021117893,-0.006556469485401224,-0.013061548414732732,-0.01511820956786853,0.003148778361711434,0.02924939590733193,0.0015894195686026035],[0.014161895100018347,0.005858346139795664,-0.018184682086328105,1.0,-0.07885005349920175,0.14371054423287496,0.005099559797308399,-0.11847627420868041,0.016582233238663206,0.0317047213833252,0.09958255754866085,-0.00704297522635595,0.005768375471552693,-0.007467173195407979,0.009158684896193843,-0.0027966394032521323,0.0043298393561698985,0.0013961368221411482,-0.008391588364725302,0.0038345969897336527,0.011405462274080338,0.04302249065188724,-0.00643702433030089,-0.07497469844043711,-0.027052867622923735,-0.02035446047088296,-0.01062699964168461,-0.006955502679726164,0.003992406908156718,0.02004938429042135,0.024959202678681076,0.01019912280088731,-0.0017863710429452337,0.0037473061475124035,0.0007402027762224236,-0.00990165836352682,0.00722245961285022,-0.0006703384701473779,0.0006062538327914494,0.020111983015916487,-0.004890663626692986,-0.012679400712368963,0.015014565585175327,-0.005723959553100109,0.008766915653527864,-0.0016419094204129009,-0.0029001428896415996,0.000431248153075017,-0.007163542783521208],[0.005599043776799584,0.004156493958893907,0.21601781575676188,-0.07885005349920175,1.0,-0.09488064533203161,0.0444771061899462,-0.03956025232905831,-0.07613615426071636,0.01303797629690893,0.12175466153451636,0.006865161266072767,-0.00034004142537816175,-0.007256624864738995,0.00037749633742538815,-0.003990657270352853,0.1707451931533995,0.0060401667611224875,0.0038660353225084096,-0.005436846351212686,-0.022939412393481,-0.042893589261064756,0.08389811045669178,0.07236201461175552,0.1432734940723495,0.004032127245831889,0.07537546521566592,0.006459010754726861,-0.009993559279075552,-0.01702480214814073,-0.016353129674417804,-0.07260210019917389,-0.0191062029279884,-0.00039802591323993825,-0.00343509602177159,0.012221820373379495,0.0024464225706894386,-0.009420269313029212,-0.0005118340364800163,0.002142571108327322,-0.0012506245759783352,-0.005014636297837565,0.007475391884979876,0.0061322786608868415,0.004798688967452346,0.0009221061921489273,0.027510106685062662,0.00012126368700327775,-0.016436622764380647],[0.005932992911399255,0.019923843991616067,0.05668626903389774,0.14371054423287496,-0.09488064533203161,1.0,0.009102439085098082,-0.2889786831257978,0.3146601017252362,0.039898094249911614,-0.026831413798710443,-0.004054647224255185,0.01690384391468198,-0.011326192134085932,-0.011732290585030117,-0.006170403452547115,0.07331734733345903,0.01801748071897435,0.012879691874660723,-0.028942872160181946,0.0040669025930101495,5.772353711161294e-05,0.030109113955873932,-0.039586033794097364,0.0688590316071943,0.024807322135576553,0.031938687538583,-0.01144419078355623,-0.035267028283924674,0.0204501175679691,-0.02215145622999855,0.060884027868248224,0.013218924923066715,-0.004112849760615797,0.017839964691943558,0.010362779853923317,-0.0020154155889355514,0.017342988986654713,0.013407947954372248,0.0020024609173588874,0.006293765232330089,-0.0033406248984080397,0.006084597947376114,-0.007240670241188875,0.0028172625070637027,0.0015457925242140884,0.0012870658861499232,0.008844882274439182,-0.015853357287718934],[0.009646726153173362,0.035210857500769396,0.021947534951288126,0.005099559797308399,0.0444771061899462,0.009102439085098082,1.0,-0.003103318895375096,-0.0017484140233087187,0.006775942897522457,-0.0005471847364345695,0.0016162376267426792,0.009732757869365097,0.009867602038309104,0.005654192970075295,0.011691804731496459,0.007686011866842271,-0.002310501826582593,0.005271039890963962,0.00045646729609864376,-0.028134344376696215,-0.0015332383332940865,-0.02096096240801129,-0.0013157333207592817,0.0012473622111817868,-0.01570381283539008,0.03987043445492366,0.01857973180112111,-0.02108981726733055,0.0029494384132510484,-0.004540724121577228,-0.003824272927464189,0.0010822241491058918,-0.004201309907834541,-0.012674848376954687,-0.022352118673104892,0.004481122289365524,0.0022881519744807504,0.011524930938438347,0.015901966268169265,0.003982772701231231,0.004657750926319966,-0.009818338129756705,-0.015098056071217891,-3.2591352760701374e-05,0.007992912562340273,-0.008881102258951234,-0.008030515070356637,-0.0024347949692715134],[-0.019076745611376855,-0.04345080333673811,-0.27305590743778896,-0.11847627420868041,-0.03956025232905831,-0.2889786831257978,-0.003103318895375096,1.0,-0.4718368301681489,-0.3541862263802888,-0.39025099567182536,-0.019781685128987477,-0.010149699497343827,-0.020009678428371525,-0.017408167958244444,-0.025012036884496335,0.014480029305008914,0.035165668193787115,-0.03926171141236536,-0.012965526342187733,-0.07423244208640903,0.1382355416126314,-0.06387614675945832,-0.19600949378800311,-0.16162280318972375,-0.05737389720252024,0.06435618094337649,0.03133688041892358,0.095563470824729,-0.026936392327858584,-0.03666287998240799,0.024121499475772013,-0.02581291882809945,0.005771795375246649,-0.003560408469226113,0.005651621516959116,0.010843234675263875,-0.0055299858760023525,0.005961774747337003,0.0023584176122685313,-0.0036112013124343445,0.010457689724404466,-0.007317637293926119,0.013953327936949604,0.017330814963609706,-0.01105915641679183,-0.018831407031906607,0.004806039470453818,0.02045285042413369],[0.01276433782714577,0.05109786587553302,-0.011698089952767995,0.016582233238663206,-0.07613615426071636,0.3146601017252362,-0.0017484140233087187,-0.4718368301681489,1.0,-0.25639458079309757,-0.2825017829234694,0.00442833734368404,0.029336340694066283,0.05398454732283167,0.028389671409559784,0.05509402730356733,-0.12918953643360595,-0.07977259975014525,0.01136948476300099,0.09214515698599866,0.06151706947319174,-0.15515430538371452,0.10558388483795172,0.20159552174680476,0.08780035994221894,0.02808630603435476,-0.082858164391406,-0.13812415131848,-0.050493198734218626,0.02694186061855363,0.03860962932301362,0.07396056586441928,0.016005405260427392,-0.008288594898785452,0.005808257508359039,0.00029572215132037734,-0.017346431117599308,0.015083427096759913,0.00221613852779374,0.0051394147032346104,-0.0006388397707944147,-0.019754254048872863,0.01054654058364618,-0.011627634369480366,-0.015078334318265748,0.012970937076162904,0.009747367091643555,0.006877874196474066,-0.002615124808271618],[0.009676548381639052,0.019685408514211,0.20117248973859203,0.0317047213833252,0.01303797629690893,0.039898094249911614,0.006775942897522457,-0.3541862263802888,-0.25639458079309757,1.0,-0.21206110681039525,0.011450826687057297,-0.005804573512696019,-0.0009330952888383882,-0.004102604208427893,-0.001326848407365893,0.04026891116370827,-0.0033447211665977353,0.06012961184942268,-0.04758747498362065,0.003474073880707213,-0.04360011585868705,0.008834301189064009,0.10066166354795296,0.04692368499172165,0.05938301313119714,-0.0215135604061425,0.0539211048341053,-0.008715710700904829,0.020444758485344702,0.05597650766001523,-0.06744022376149589,0.015450511204733442,-0.012202212888495594,0.006098012814845082,0.003828650963028,0.009063649062623426,0.0019605665556889536,-0.009368114805697955,-0.004934660097798262,-0.01007737058199201,-0.011139968385251392,-0.009740400592581303,-0.001996252265640231,-0.004547255123093159,0.005791893632321208,-0.004015653043644485,-0.01724692812979331,-0.005145393538269779],[0.0005191947047874936,-0.021093835283635967,0.16472850305158593,0.09958255754866085,0.12175466153451636,-0.026831413798710443,-0.0005471847364345695,-0.39025099567182536,-0.2825017829234694,-0.21206110681039525,1.0,0.009000653623959914,-0.01450556108082182,-0.03418433287459224,-0.005996855960957392,-0.028808202680738294,0.08776188704887332,0.04796673151922059,-0.020123413881806867,-0.04159310502356782,0.02094047191708477,0.04100452977170384,-0.04600483124865038,-0.0741481254852925,0.05993296612588559,-0.015415157867609238,0.032044361204520616,0.06384967724494077,-0.05488373143849498,-0.015550036594408616,-0.04975157059173861,-0.048997269307481946,-0.00010292080843615036,0.013472688585234921,-0.007742060990243764,-0.01097348879781242,-0.002750121225157491,-0.011712636589659138,-0.0011045967852393928,-0.004022618966663764,0.014676892705777315,0.01937775025068567,0.006547896825255099,-0.0026033363599181716,-0.0005846697401150911,-0.006064220321239477,0.01642355568716899,0.0025518051365408475,-0.0177742116169667],[0.011754486273544413,-0.004863125197518824,0.015632399831928594,-0.00704297522635595,0.006865161266072767,-0.004054647224255185,0.0016162376267426792,-0.019781685128987477,0.00442833734368404,0.011450826687057297,0.009000653623959914,1.0,0.0953001917851842,0.2080924244552653,0.13544950521898397,0.39080316367990836,-0.01504929746456478,-0.025629476254024456,0.003404803945083985,0.035637103308530114,0.013402245962846986,-0.032609905323069385,0.04129778938500249,0.01049255015425728,0.01877586941392507,0.016178101273057324,-0.04113483052908757,0.00017854425640325677,0.016977386594582644,0.0020041912368989594,-0.014244710623760969,-0.010251699683545994,-0.0007142205556107916,-0.004660711210346556,0.008370681759078543,0.0055515882185716205,-0.011917449934197636,0.009386897854289332,0.006474468209213807,-0.003119791313022606,0.028473967760412052,-0.0030277891323079106,-0.003333276164487653,0.01546039162602774,-0.005939938517407886,-0.019334386174155446,0.01094974322534363,0.02439318543939047,0.0008038397411375409],[0.010684064429687957,-0.008428241426333456,-0.013378830052797651,0.005768375471552693,-0.00034004142537816175,0.01690384391468198,0.009732757869365097,-0.010149699497343827,0.029336340694066283,-0.005804573512696019,-0.01450556108082182,0.0953001917851842,1.0,0.33632310102689206,0.1560727621101197,0.6074184261221443,-0.05534447342811855,-0.05438999498563474,-0.0013252676057053435,0.07501637504883696,0.0006819960462854064,-0.018699992468330803,0.04476720960277531,0.01601585040534988,0.02139483588786965,0.013379969861257616,-0.00971283862479772,0.0003094335508819351,0.03183361593711322,-0.023327841554257975,0.012802298920313105,0.004943547789160111,0.011549480076085852,0.01657520650460558,-0.011931021959028126,0.002904893693701704,0.008305631635864301,-0.008040680621247843,-0.00195032055649275,-0.00845507676272999,0.002057151656109825,-0.0010312733597359618,-0.0023638557152638336,-0.008897161171251906,0.009125383136079038,-0.0050027222680179674,-0.0016951050717808431,0.012722584034794591,0.0013931279025769419],[0.0036576371113556288,0.007555342348367049,-0.031577398902241725,-0.007467173195407979,-0.007256624864738995,-0.011326192134085932,0.009867602038309104,-0.020009678428371525,0.05398454732283167,-0.0009330952888383882,-0.03418433287459224,0.2080924244552653,0.33632310102689206,1.0,0.1689524767273918,0.8991467099938738,-0.11822572231843306,-0.10425529608733973,0.014135098285495955,0.12989108160007284,0.011561414839430368,-0.030274456296721985,0.12189918703993165,0.014771750485783957,0.059826558200375295,0.0066704936647759665,-0.04083711755164732,-0.016233989543302397,0.053112704190459666,-0.015412303639963718,0.01590839265751809,-0.006241567426317351,0.0076998757181664206,0.006208145272104786,-0.014936240208852442,-0.014986568343948809,0.008960885344831361,0.0006128322512826048,0.0065133852843950995,-0.015059612147465217,0.015507275999682898,0.014100464698060658,0.0027717690148903835,-0.027624066963828582,0.007020021322258225,-0.010499531145750121,-0.002529279330768872,0.002437502811993283,-0.007712115538881922],[0.030697368020668137,-0.00595698179542252,-0.0035668222764968158,0.009158684896193843,0.00037749633742538815,-0.011732290585030117,0.005654192970075295,-0.017408167958244444,0.028389671409559784,-0.004102604208427893,-0.005996855960957392,0.13544950521898397,0.1560727621101197,0.1689524767273918,1.0,0.41696873263211304,-0.04052699293407929,-0.04196617103865431,0.009277967915805789,0.053020690547412624,0.011105206385539631,-0.004307642615967808,0.04006134206850855,0.022049496443274898,0.01709098904843158,-0.0018175475373444266,-0.0117007328519248,-0.004226499060785006,0.020796088681693473,0.0024549914361329454,0.01430751417769268,0.007506952088046286,0.008163036519679789,0.00881112746907911,-0.010924198422648291,-0.002694010619088175,-0.006638113171986846,0.004890073491502428,-0.012433169188919109,0.004078042428020781,6.127845301733624e-05,0.010197532960697349,0.0013446050784613878,-0.0012431514087547426,0.00301828466689048,-0.013609555192671353,0.009759971260532093,-0.001451698012995521,-0.003625121379593183],[0.014928973118981555,0.0005770408008580106,-0.024839742117638713,-0.0027966394032521323,-0.003990657270352853,-0.006170403452547115,0.011691804731496459,-0.025012036884496335,0.05509402730356733,-0.001326848407365893,-0.028808202680738294,0.39080316367990836,0.6074184261221443,0.8991467099938738,0.41696873263211304,1.0,-0.11402500503351792,-0.10592818414608979,0.012415255061979448,0.1350869179555106,0.013415188821312853,-0.03448652544123504,0.11799998823281167,0.02243701330017872,0.0568905104847129,0.011521485832376444,-0.04244051303862078,-0.012470324745643711,0.0558410087190228,-0.017484899748512712,0.016039950999443164,-0.003123783274525451,0.01083942851719756,0.0107736857171834,-0.015382021759200134,-0.009444967857412822,0.005408851308439556,0.0007043425753144773,0.0024797566108059393,-0.013131876023202628,0.016961917619208677,0.01152040603826219,0.0009431849224706478,-0.02010841216867676,0.007500156463612403,-0.015640442609871078,0.0018038727798083763,0.009845376188590703,-0.005761743264171208],[0.009088894669745882,-0.03645097780109412,0.13749955735348748,0.0043298393561698985,0.1707451931533995,0.07331734733345903,0.007686011866842271,0.014480029305008914,-0.12918953643360595,0.04026891116370827,0.08776188704887332,-0.01504929746456478,-0.05534447342811855,-0.11822572231843306,-0.04052699293407929,-0.11402500503351792,1.0,0.30890724444047607,-0.0237433017496812,-0.4486333042794649,0.013391490031873884,0.008209139393891658,0.05039168389607462,-0.04705757139926631,0.03569160628318114,-0.00988168150557742,0.07311320159597297,0.035781508319640505,0.0447430243574875,0.004761928011159235,-0.014994812748889126,0.028428788515480894,-0.005979212986695979,0.0038754155489485343,-0.0007427923751643857,-0.002584550082419286,-4.600220457652777e-05,-0.0009809347234557117,-0.002046727210366974,0.0004639971821233505,0.007966363486217687,-0.0006741240761285179,-0.008134684865803684,0.0032363220542963992,-0.0041701552290046295,-0.009427394296128088,-0.0032349879599093577,0.008807972953575563,0.00072643065497905],[0.001087966604202796,-0.02517503217453147,0.04745731050518354,0.0013961368221411482,0.0060401667611224875,0.01801748071897435,-0.002310501826582593,0.035165668193787115,-0.07977259975014525,-0.0033447211665977353,0.04796673151922059,-0.025629476254024456,-0.05438999498563474,-0.10425529608733973,-0.04196617103865431,-0.10592818414608979,0.30890724444047607,1.0,-0.5195085007289164,-0.5848434423930696,-0.0010509214011007852,0.01908188598534677,-0.06130228042819916,-0.03319883540818456,-0.0652840558675852,0.007893619557429524,0.056319133807836215,0.029720777424691786,0.010789813877946045,-0.0008758759751619495,-0.0185468067186386,0.015161458015571797,-0.013710139449800015,-0.0005192898680562558,-0.011430188313067385,-0.009964065511512594,-0.013336483067572532,-0.002613250635974456,0.009617140193051767,0.0064101622392910215,-0.0005775787624570245,-0.011336805552091912,-0.006433407954074042,-0.0023512355221924647,-0.0018983755415358419,-0.011932355482942858,-0.0006185308245026228,-0.0086502314070969,0.01568397492764986],[0.004523611928473847,0.03212491427742838,0.10488069425924783,-0.008391588364725302,0.0038660353225084096,0.012879691874660723,0.005271039890963962,-0.03926171141236536,0.01136948476300099,0.06012961184942268,-0.020123413881806867,0.003404803945083985,-0.0013252676057053435,0.014135098285495955,0.009277967915805789,0.012415255061979448,-0.0237433017496812,-0.5195085007289164,1.0,-0.15540577047839949,0.054103116703073995,-0.06269037026014895,0.13285664408485653,0.03216218065813515,0.07361816887271325,0.0298058024464937,-0.04752443050390076,-0.002872551109446398,0.07218089661171001,-0.011366306505264477,0.00703920676204209,0.01004014597912497,0.01204432060325517,-0.006301911914077008,0.015903974761393668,0.013038149515633205,-0.009527756345940191,0.011762847310120592,-0.018127172911081117,-0.02252821603236813,0.0012418235875088022,0.009071784132987697,0.00704397686747528,-0.0012812151467659501,-0.00024671798780578864,-0.003368253386674414,-0.0027161741087634405,0.00931473794421619,-0.01928381105856891],[-0.0072701225471741415,0.009660354116694716,-0.12222814857944626,0.0038345969897336527,-0.005436846351212686,-0.028942872160181946,0.00045646729609864376,-0.012965526342187733,0.09214515698599866,-0.04758747498362065,-0.04159310502356782,0.035637103308530114,0.07501637504883696,0.12989108160007284,0.053020690547412624,0.1350869179555106,-0.4486333042794649,-0.5848434423930696,-0.15540577047839949,1.0,-0.04600309491876747,0.032192383689655116,-0.015947823908901843,0.0131161533139537,0.009808374951720664,-0.017572278264355517,-0.027915695300522316,-0.02753121379889048,-0.03821588265239145,0.0023002648530230717,0.02321313028758247,-0.02897721222509013,0.0039642420063148295,-0.009763687002675932,-0.00698791444730727,0.006730853694722598,0.012173379348044919,-0.006935691999401606,0.0034702170352956313,0.007214927241803544,-0.0009708758279438392,-0.0005915352303086416,-0.00510319470419587,0.004396702657972141,-0.0011007929091215955,0.017193572641834343,0.006926506644864998,-0.003418338874319539,0.002720272897126032],[0.013158473631324327,-0.0006353792292135586,-0.06313503299575239,0.011405462274080338,-0.022939412393481,0.0040669025930101495,-0.028134344376696215,-0.07423244208640903,0.06151706947319174,0.003474073880707213,0.02094047191708477,0.013402245962846986,0.0006819960462854064,0.011561414839430368,0.011105206385539631,0.013415188821312853,0.013391490031873884,-0.0010509214011007852,0.054103116703073995,-0.04600309491876747,1.0,-0.14353773974010017,0.13321765197624943,0.06792793767758007,-0.1481917894292511,0.0557102484791568,-0.0006635613942662982,-0.06248857998946506,0.274361423324469,0.00863840153666489,0.008719812927482473,0.10772536661960523,0.004560940576714545,-0.003930178748298414,-0.008583899887013987,-0.007480680627867626,-0.013243040393036377,-0.0036769319199188555,0.006911876993387075,-0.0032505365083384413,-0.007052772497432311,0.01297265888216677,0.0008150786751205128,0.0035345181923789742,0.008509631444075341,0.016807156614483194,0.004947596898841485,0.020738552578774213,0.007093386466973748],[-0.012216738179946104,-0.05475747145392681,-0.11751535447111938,0.04302249065188724,-0.042893589261064756,5.772353711161294e-05,-0.0015332383332940865,0.1382355416126314,-0.15515430538371452,-0.04360011585868705,0.04100452977170384,-0.032609905323069385,-0.018699992468330803,-0.030274456296721985,-0.004307642615967808,-0.03448652544123504,0.008209139393891658,0.01908188598534677,-0.06269037026014895,0.032192383689655116,-0.14353773974010017,1.0,-0.11345086661628923,-0.27733735319565783,-0.10214860664913077,-0.2604249173709238,0.09921959769551363,0.022478483554362907,-0.005122369167057571,-0.02164616501855087,0.00536719767403085,-0.09712734889945722,0.004594274148531758,0.010793278569236103,-0.010510983564912044,0.015074202575317146,0.0004084797934395089,0.012652496390926424,0.018629383284437424,-0.008747595345032583,0.0028495131414692457,0.007935042480303453,0.00044621726563926986,0.00346627288695016,0.011541815642787074,0.0021910539482585243,-0.008333870061452281,-0.004070417732063738,-0.004551194461324724],[0.019882000819774162,0.01860756232008892,0.03308191635086761,-0.00643702433030089,0.08389811045669178,0.030109113955873932,-0.02096096240801129,-0.06387614675945832,0.10558388483795172,0.008834301189064009,-0.04600483124865038,0.04129778938500249,0.04476720960277531,0.12189918703993165,0.04006134206850855,0.11799998823281167,0.05039168389607462,-0.06130228042819916,0.13285664408485653,-0.015947823908901843,0.13321765197624943,-0.11345086661628923,1.0,0.09809732782071827,0.47916634731169944,0.026795408043603336,-0.1513985453847149,-0.25541657064416756,0.2759574772454625,0.021338423535004165,0.013626015338964235,0.09455645128964657,-0.0007738166735248299,0.0199592597468276,-0.0014091930380247275,-0.0022235422048091894,0.012451921159792113,0.01680653340746653,-0.007799197967901708,-0.009061008487430623,-0.0006839376845140168,-0.001702754541390564,-0.007660776314534791,-0.0045375951165220205,0.00039039373023135965,0.016016013772256966,-0.007181829002130235,-0.016458267511510947,-0.015485929874722467],[0.00577794474442197,0.03813607206061216,0.0827893352240289,-0.07497469844043711,0.07236201461175552,-0.039586033794097364,-0.0013157333207592817,-0.19600949378800311,0.20159552174680476,0.10066166354795296,-0.0741481254852925,0.01049255015425728,0.01601585040534988,0.014771750485783957,0.022049496443274898,0.02243701330017872,-0.04705757139926631,-0.03319883540818456,0.03216218065813515,0.0131161533139537,0.06792793767758007,-0.27733735319565783,0.09809732782071827,1.0,0.1520954898048471,0.20725281123603478,-0.19364519681754552,-0.06076657281586378,-0.05288697600391124,0.0020469221261309543,0.06593484997483812,-0.05373843900306957,0.005723505416076462,0.009746924219897294,-0.000209130401322314,-0.006289412334987032,0.020217471546463625,-0.0010747462823085835,-0.02061092093932031,0.012156716717675518,0.011106413118935624,0.0010504874616125948,-0.0015723070970203575,0.003437969843566659,-0.0008352297478094928,0.009258617894789857,0.008699536228741174,0.006115336299435938,-0.0050549178272657124],[0.005926125574078121,0.02745930663061022,0.1994265527705763,-0.027052867622923735,0.1432734940723495,0.0688590316071943,0.0012473622111817868,-0.16162280318972375,0.08780035994221894,0.04692368499172165,0.05993296612588559,0.01877586941392507,0.02139483588786965,0.059826558200375295,0.01709098904843158,0.0568905104847129,0.03569160628318114,-0.0652840558675852,0.07361816887271325,0.009808374951720664,-0.1481917894292511,-0.10214860664913077,0.47916634731169944,0.1520954898048471,1.0,0.04909800618113987,-0.08859616392990452,-0.0409541943576253,-0.33909521175277463,0.021852899531694104,0.04071129818111514,-0.06816602228362409,0.002348717804780135,0.013065101427263326,0.002257830630746701,-0.008883932349995618,0.03634615226759596,0.012713128129259978,-0.021505388863997443,-0.003057078443223241,0.00796060575779871,0.014188806788896708,0.005497173386681702,-0.016188160719161567,-0.00819443658478265,-0.0052213212368222945,-0.002988878474843556,-0.01714505791381634,-0.013275771803250005],[0.0032984007258573442,0.0318861535417119,0.05189726823618464,-0.02035446047088296,0.004032127245831889,0.024807322135576553,-0.01570381283539008,-0.05737389720252024,0.02808630603435476,0.05938301313119714,-0.015415157867609238,0.016178101273057324,0.013379969861257616,0.0066704936647759665,-0.0018175475373444266,0.011521485832376444,-0.00988168150557742,0.007893619557429524,0.0298058024464937,-0.017572278264355517,0.0557102484791568,-0.2604249173709238,0.026795408043603336,0.20725281123603478,0.04909800618113987,1.0,-0.03524136945081078,-0.0036637011132156045,0.003015547138166329,0.015333840136019319,0.037638830897677146,-0.03590721477162546,-0.011440027836122194,-0.003786101202814199,-0.005054898237836758,-0.0040066546709938465,0.012210003054508459,-0.003992033959864505,-0.019241252753844435,0.007986427539151155,0.0012682205134430143,0.005443039247699226,0.01163973516129088,6.122245659403988e-05,-0.010723478674042622,-0.009710367211656072,0.012664062309833732,0.00829531879052454,-0.009850412743198386],[-0.005887526623200731,-0.03147493905532574,0.0026532224542877513,-0.01062699964168461,0.07537546521566592,0.031938687538583,0.03987043445492366,0.06435618094337649,-0.082858164391406,-0.0215135604061425,0.032044361204520616,-0.04113483052908757,-0.00971283862479772,-0.04083711755164732,-0.0117007328519248,-0.04244051303862078,0.07311320159597297,0.056319133807836215,-0.04752443050390076,-0.027915695300522316,-0.0006635613942662982,0.09921959769551363,-0.1513985453847149,-0.19364519681754552,-0.08859616392990452,-0.03524136945081078,1.0,0.07674968000676051,-0.03480333288258935,-0.0043543763006035924,-0.08781880919125393,0.04825826512966718,-0.014934708290405243,-0.013355558685691275,-0.007182111782938754,0.010975417612579419,-0.002731476851176144,0.005356122863455943,0.008141751636328754,-0.00900596569292532,-0.011851082505274689,0.0026709774162048177,0.004885773226724823,0.0013815905426662499,0.011595592929754275,-0.001540133632795189,0.015176541823705399,0.006059336549284369,0.017570720884637032],[-0.011376685850645918,-0.019262598672492748,0.1354971120579493,-0.006955502679726164,0.006459010754726861,-0.01144419078355623,0.01857973180112111,0.03133688041892358,-0.13812415131848,0.0539211048341053,0.06384967724494077,0.00017854425640325677,0.0003094335508819351,-0.016233989543302397,-0.004226499060785006,-0.012470324745643711,0.035781508319640505,0.029720777424691786,-0.002872551109446398,-0.02753121379889048,-0.06248857998946506,0.022478483554362907,-0.25541657064416756,-0.06076657281586378,-0.0409541943576253,-0.0036637011132156045,0.07674968000676051,1.0,-0.017123929070215576,-0.021796535903158918,0.029024512121209205,-0.0317578497749471,0.0017644536310750607,0.0024049677888924076,-0.00822118612556034,-0.006753120475032246,0.0020291245637553477,0.006952045781588593,-0.007672313484950095,-0.0026251972324978635,-0.009408176386589561,0.013296755762118062,-0.009786405459099682,0.009204870937811504,-0.014509457382868489,-0.0004837212671920871,-0.004424407445650696,-0.010068339461069465,0.008277673117863397],[0.0013924472770638296,-0.016030648309844304,-0.0967201526985597,0.003992406908156718,-0.009993559279075552,-0.035267028283924674,-0.02108981726733055,0.095563470824729,-0.050493198734218626,-0.008715710700904829,-0.05488373143849498,0.016977386594582644,0.03183361593711322,0.053112704190459666,0.020796088681693473,0.0558410087190228,0.0447430243574875,0.010789813877946045,0.07218089661171001,-0.03821588265239145,0.274361423324469,-0.005122369167057571,0.2759574772454625,-0.05288697600391124,-0.33909521175277463,0.003015547138166329,-0.03480333288258935,-0.017123929070215576,1.0,-0.019534497663233164,-0.01275615717953861,0.11262527876340508,0.00484542723023839,-0.011143417543181204,-0.010521960926055937,0.00921543225551673,0.005847241675794493,-0.0023727070041567617,0.01107105636988967,0.011498564204438734,-0.01197702425821092,0.002625976161506643,-0.010299471957842364,0.016505753558917875,0.012387897307859833,0.0017996551100783855,-0.00571336152929554,0.009979094267994476,-0.0034307530390963034],[-0.01549703769487104,0.01623464154177883,0.008001080982667285,0.02004938429042135,-0.01702480214814073,0.0204501175679691,0.0029494384132510484,-0.026936392327858584,0.02694186061855363,0.020444758485344702,-0.015550036594408616,0.0020041912368989594,-0.023327841554257975,-0.015412303639963718,0.0024549914361329454,-0.017484899748512712,0.004761928011159235,-0.0008758759751619495,-0.011366306505264477,0.0023002648530230717,0.00863840153666489,-0.02164616501855087,0.021338423535004165,0.0020469221261309543,0.021852899531694104,0.015333840136019319,-0.0043543763006035924,-0.021796535903158918,-0.019534497663233164,1.0,-0.0018521900015851804,0.02465401409127005,-0.01814164432127592,0.0056659193335993376,-0.005027388431667658,-0.005595462380429249,0.008019067933033709,0.005582924968233352,-0.00536079858731797,-0.0003495492280360726,0.009321802770507358,0.004693543277463174,-0.005308024991163334,0.0033879770320601552,-0.0058878417281959,0.009636340328432975,-0.009178240577337082,-0.005531274519184342,0.006738826080114583],[-0.023813867452201685,-0.02151059472516358,0.0063322150486825445,0.024959202678681076,-0.016353129674417804,-0.02215145622999855,-0.004540724121577228,-0.03666287998240799,0.03860962932301362,0.05597650766001523,-0.04975157059173861,-0.014244710623760969,0.012802298920313105,0.01590839265751809,0.01430751417769268,0.016039950999443164,-0.014994812748889126,-0.0185468067186386,0.00703920676204209,0.02321313028758247,0.008719812927482473,0.00536719767403085,0.013626015338964235,0.06593484997483812,0.04071129818111514,0.037638830897677146,-0.08781880919125393,0.029024512121209205,-0.01275615717953861,-0.0018521900015851804,1.0,-0.05515235560348041,-0.005357474562398321,0.01300469115256058,-0.010787163398750393,-0.017959910432976112,0.0009401190021736293,0.006430115054107772,-0.006042399869398582,-0.003526476910702625,-0.013033334876945678,0.0012683010846465475,0.013669266090359004,0.005155576956058134,0.00827398315168487,-0.005071799918269267,0.004629152866203087,-0.0020834516099705407,-0.009165244925192393],[-0.01897237715063843,0.0020302083835024836,0.004010276486208185,0.01019912280088731,-0.07260210019917389,0.060884027868248224,-0.003824272927464189,0.024121499475772013,0.07396056586441928,-0.06744022376149589,-0.048997269307481946,-0.010251699683545994,0.004943547789160111,-0.006241567426317351,0.007506952088046286,-0.003123783274525451,0.028428788515480894,0.015161458015571797,0.01004014597912497,-0.02897721222509013,0.10772536661960523,-0.09712734889945722,0.09455645128964657,-0.05373843900306957,-0.06816602228362409,-0.03590721477162546,0.04825826512966718,-0.0317578497749471,0.11262527876340508,0.02465401409127005,-0.05515235560348041,1.0,-0.00241233884173168,0.008960159758938298,-0.0009515074457144788,-0.0027539935696583393,-0.020786448726803654,-0.00018598984617829964,0.013206190615437109,0.007804176455509834,-0.023501941298140698,0.00901465692123545,-0.013940772615135795,-0.0014307792396160228,0.00839722991026407,0.005596746781243324,-0.006113518760592639,0.006645056162834619,0.004245064546183827],[0.013503527246185115,0.02291528136867004,-0.004806214885914537,-0.0017863710429452337,-0.0191062029279884,0.013218924923066715,0.0010822241491058918,-0.02581291882809945,0.016005405260427392,0.015450511204733442,-0.00010292080843615036,-0.0007142205556107916,0.011549480076085852,0.0076998757181664206,0.008163036519679789,0.01083942851719756,-0.005979212986695979,-0.013710139449800015,0.01204432060325517,0.0039642420063148295,0.004560940576714545,0.004594274148531758,-0.0007738166735248299,0.005723505416076462,0.002348717804780135,-0.011440027836122194,-0.014934708290405243,0.0017644536310750607,0.00484542723023839,-0.01814164432127592,-0.005357474562398321,-0.00241233884173168,1.0,0.00913137262260315,0.009208289472675388,-0.0036547319948319243,-0.007482879562280064,-0.009852810176240796,0.011197875553789833,-0.0024188613002382535,0.010189932172327427,0.021703576227865458,-0.0049819524753975785,-0.012100660948660278,0.0006178164616712752,0.0051164936161477645,0.011245322284380948,0.005589691422219409,-0.01322401062837291],[-0.003921733628142735,0.0043538061363817895,-0.01570219658787181,0.0037473061475124035,-0.00039802591323993825,-0.004112849760615797,-0.004201309907834541,0.005771795375246649,-0.008288594898785452,-0.012202212888495594,0.013472688585234921,-0.004660711210346556,0.01657520650460558,0.006208145272104786,0.00881112746907911,0.0107736857171834,0.0038754155489485343,-0.0005192898680562558,-0.006301911914077008,-0.009763687002675932,-0.003930178748298414,0.010793278569236103,0.0199592597468276,0.009746924219897294,0.013065101427263326,-0.003786101202814199,-0.013355558685691275,0.0024049677888924076,-0.011143417543181204,0.0056659193335993376,0.01300469115256058,0.008960159758938298,0.00913137262260315,1.0,0.008724556981833956,-0.0027745662083002855,0.021021122667945022,0.017266218279861526,-0.003907649297191935,0.00522009944578062,0.007917690570214448,-0.008490018046169693,-0.0007975585483081935,-0.00015935957513320484,-0.02475722751182871,0.014505828379401202,-0.016004289466696554,-0.0009784229472451398,-0.031570398492874824],[-0.014823077402537714,0.009052534257690408,-0.005850707629668268,0.0007402027762224236,-0.00343509602177159,0.017839964691943558,-0.012674848376954687,-0.003560408469226113,0.005808257508359039,0.006098012814845082,-0.007742060990243764,0.008370681759078543,-0.011931021959028126,-0.014936240208852442,-0.010924198422648291,-0.015382021759200134,-0.0007427923751643857,-0.011430188313067385,0.015903974761393668,-0.00698791444730727,-0.008583899887013987,-0.010510983564912044,-0.0014091930380247275,-0.000209130401322314,0.002257830630746701,-0.005054898237836758,-0.007182111782938754,-0.00822118612556034,-0.010521960926055937,-0.005027388431667658,-0.010787163398750393,-0.0009515074457144788,0.009208289472675388,0.008724556981833956,1.0,0.02076995859030412,-0.010518333021532586,-0.0020667129149008496,0.007057472756061628,-0.019356540182942913,-0.007709600964567809,0.002854426416539347,-0.0021515353378321785,-0.008213043631614226,-0.006253517700918402,0.0003010616798249791,0.004775060734296595,0.0018700975103722725,0.002860436134089276],[0.015393146366265289,-0.0010007918354119532,0.002035141944900636,-0.00990165836352682,0.012221820373379495,0.010362779853923317,-0.022352118673104892,0.005651621516959116,0.00029572215132037734,0.003828650963028,-0.01097348879781242,0.0055515882185716205,0.002904893693701704,-0.014986568343948809,-0.002694010619088175,-0.009444967857412822,-0.002584550082419286,-0.009964065511512594,0.013038149515633205,0.006730853694722598,-0.007480680627867626,0.015074202575317146,-0.0022235422048091894,-0.006289412334987032,-0.008883932349995618,-0.0040066546709938465,0.010975417612579419,-0.006753120475032246,0.00921543225551673,-0.005595462380429249,-0.017959910432976112,-0.0027539935696583393,-0.0036547319948319243,-0.0027745662083002855,0.02076995859030412,1.0,0.018154740717944682,-0.006346745594831386,-0.005598241953764829,-0.0005317036868792946,-0.0012662504878970917,-0.0023793003589664408,0.0013792894253352782,-0.010923139338049146,0.0023919167899659074,0.018379129634125118,0.004303344087954707,-0.007054887726148914,-0.010275449307652404],[-0.003736054724106672,-0.00671519862999251,0.012783459690659539,0.00722245961285022,0.0024464225706894386,-0.0020154155889355514,0.004481122289365524,0.010843234675263875,-0.017346431117599308,0.009063649062623426,-0.002750121225157491,-0.011917449934197636,0.008305631635864301,0.008960885344831361,-0.006638113171986846,0.005408851308439556,-4.600220457652777e-05,-0.013336483067572532,-0.009527756345940191,0.012173379348044919,-0.013243040393036377,0.0004084797934395089,0.012451921159792113,0.020217471546463625,0.03634615226759596,0.012210003054508459,-0.002731476851176144,0.0020291245637553477,0.005847241675794493,0.008019067933033709,0.0009401190021736293,-0.020786448726803654,-0.007482879562280064,0.021021122667945022,-0.010518333021532586,0.018154740717944682,1.0,-0.01157856951314238,0.0028117901194562762,-0.009916651176205299,0.011315625921464284,0.002454591755834022,-0.0074304659654221995,0.006794372473997065,0.00040003921369467213,0.008965116680151614,0.012538360080597435,0.006256649495590763,-0.0007604902578126315],[0.006068950769303836,0.004296155866167958,0.011569914304445166,-0.0006703384701473779,-0.009420269313029212,0.017342988986654713,0.0022881519744807504,-0.0055299858760023525,0.015083427096759913,0.0019605665556889536,-0.011712636589659138,0.009386897854289332,-0.008040680621247843,0.0006128322512826048,0.004890073491502428,0.0007043425753144773,-0.0009809347234557117,-0.002613250635974456,0.011762847310120592,-0.006935691999401606,-0.0036769319199188555,0.012652496390926424,0.01680653340746653,-0.0010747462823085835,0.012713128129259978,-0.003992033959864505,0.005356122863455943,0.006952045781588593,-0.0023727070041567617,0.005582924968233352,0.006430115054107772,-0.00018598984617829964,-0.009852810176240796,0.017266218279861526,-0.0020667129149008496,-0.006346745594831386,-0.01157856951314238,1.0,-0.00019083929003588807,0.003753451574927769,6.620339148824132e-05,-0.009932373330900746,0.0003497459900895302,0.006523450160898425,-0.0007014045100806624,0.0014765024839285617,0.011980813217183094,0.0011997848003649605,-0.0034622725812306324],[0.007178159218177098,0.003807703524191122,-0.010363033484545096,0.0006062538327914494,-0.0005118340364800163,0.013407947954372248,0.011524930938438347,0.005961774747337003,0.00221613852779374,-0.009368114805697955,-0.0011045967852393928,0.006474468209213807,-0.00195032055649275,0.0065133852843950995,-0.012433169188919109,0.0024797566108059393,-0.002046727210366974,0.009617140193051767,-0.018127172911081117,0.0034702170352956313,0.006911876993387075,0.018629383284437424,-0.007799197967901708,-0.02061092093932031,-0.021505388863997443,-0.019241252753844435,0.008141751636328754,-0.007672313484950095,0.01107105636988967,-0.00536079858731797,-0.006042399869398582,0.013206190615437109,0.011197875553789833,-0.003907649297191935,0.007057472756061628,-0.005598241953764829,0.0028117901194562762,-0.00019083929003588807,1.0,0.023930531392509443,-0.011615577051457654,0.005268128296291696,0.010787617948962233,-0.013507184622948863,0.008453865921906641,-0.0034080436686504205,-0.0050315453863310705,-0.0006200487801405826,0.011793119302811333],[0.011006690372968097,-0.00794188277414339,-0.001040273126020623,0.020111983015916487,0.002142571108327322,0.0020024609173588874,0.015901966268169265,0.0023584176122685313,0.0051394147032346104,-0.004934660097798262,-0.004022618966663764,-0.003119791313022606,-0.00845507676272999,-0.015059612147465217,0.004078042428020781,-0.013131876023202628,0.0004639971821233505,0.0064101622392910215,-0.02252821603236813,0.007214927241803544,-0.0032505365083384413,-0.008747595345032583,-0.009061008487430623,0.012156716717675518,-0.003057078443223241,0.007986427539151155,-0.00900596569292532,-0.0026251972324978635,0.011498564204438734,-0.0003495492280360726,-0.003526476910702625,0.007804176455509834,-0.0024188613002382535,0.00522009944578062,-0.019356540182942913,-0.0005317036868792946,-0.009916651176205299,0.003753451574927769,0.023930531392509443,1.0,0.0008501866264166535,0.0018482261017071827,0.021335103243860534,0.019032928509888008,-0.005414554855398194,-0.007454394822360145,-0.01164333305557531,-0.013856813714078545,0.001947931362792869],[-0.01937243855787327,-0.0002265744287807727,0.0187230249547858,-0.004890663626692986,-0.0012506245759783352,0.006293765232330089,0.003982772701231231,-0.0036112013124343445,-0.0006388397707944147,-0.01007737058199201,0.014676892705777315,0.028473967760412052,0.002057151656109825,0.015507275999682898,6.127845301733624e-05,0.016961917619208677,0.007966363486217687,-0.0005775787624570245,0.0012418235875088022,-0.0009708758279438392,-0.007052772497432311,0.0028495131414692457,-0.0006839376845140168,0.011106413118935624,0.00796060575779871,0.0012682205134430143,-0.011851082505274689,-0.009408176386589561,-0.01197702425821092,0.009321802770507358,-0.013033334876945678,-0.023501941298140698,0.010189932172327427,0.007917690570214448,-0.007709600964567809,-0.0012662504878970917,0.011315625921464284,6.620339148824132e-05,-0.011615577051457654,0.0008501866264166535,1.0,0.0019145400844897938,-0.01595559598604777,0.014755153951509595,0.007790579860818539,-0.012206496381639613,0.008906954438406799,0.003534765050397731,-0.003975372946929452],[0.00882230092351001,0.012078222272109335,-0.011756411900580162,-0.012679400712368963,-0.005014636297837565,-0.0033406248984080397,0.004657750926319966,0.010457689724404466,-0.019754254048872863,-0.011139968385251392,0.01937775025068567,-0.0030277891323079106,-0.0010312733597359618,0.014100464698060658,0.010197532960697349,0.01152040603826219,-0.0006741240761285179,-0.011336805552091912,0.009071784132987697,-0.0005915352303086416,0.01297265888216677,0.007935042480303453,-0.001702754541390564,0.0010504874616125948,0.014188806788896708,0.005443039247699226,0.0026709774162048177,0.013296755762118062,0.002625976161506643,0.004693543277463174,0.0012683010846465475,0.00901465692123545,0.021703576227865458,-0.008490018046169693,0.002854426416539347,-0.0023793003589664408,0.002454591755834022,-0.009932373330900746,0.005268128296291696,0.0018482261017071827,0.0019145400844897938,1.0,7.293718210066199e-05,0.0018247274144143552,0.003531978951195011,-0.008139625710732125,-0.0044808318030338965,-0.011960818337338693,-0.003805534906619352],[-0.00965343371668132,0.00649261153815768,0.000526633021117893,0.015014565585175327,0.007475391884979876,0.006084597947376114,-0.009818338129756705,-0.007317637293926119,0.01054654058364618,-0.009740400592581303,0.006547896825255099,-0.003333276164487653,-0.0023638557152638336,0.0027717690148903835,0.0013446050784613878,0.0009431849224706478,-0.008134684865803684,-0.006433407954074042,0.00704397686747528,-0.00510319470419587,0.0008150786751205128,0.00044621726563926986,-0.007660776314534791,-0.0015723070970203575,0.005497173386681702,0.01163973516129088,0.004885773226724823,-0.009786405459099682,-0.010299471957842364,-0.005308024991163334,0.013669266090359004,-0.013940772615135795,-0.0049819524753975785,-0.0007975585483081935,-0.0021515353378321785,0.0013792894253352782,-0.0074304659654221995,0.0003497459900895302,0.010787617948962233,0.021335103243860534,-0.01595559598604777,7.293718210066199e-05,1.0,0.00433211329721483,0.0016807725175918245,-0.002297104367464923,-0.011701365514315108,0.0007489340613007799,-0.004924967081645329],[-0.00048354666841699684,0.00744871082980294,-0.006556469485401224,-0.005723959553100109,0.0061322786608868415,-0.007240670241188875,-0.015098056071217891,0.013953327936949604,-0.011627634369480366,-0.001996252265640231,-0.0026033363599181716,0.01546039162602774,-0.008897161171251906,-0.027624066963828582,-0.0012431514087547426,-0.02010841216867676,0.0032363220542963992,-0.0023512355221924647,-0.0012812151467659501,0.004396702657972141,0.0035345181923789742,0.00346627288695016,-0.0045375951165220205,0.003437969843566659,-0.016188160719161567,6.122245659403988e-05,0.0013815905426662499,0.009204870937811504,0.016505753558917875,0.0033879770320601552,0.005155576956058134,-0.0014307792396160228,-0.012100660948660278,-0.00015935957513320484,-0.008213043631614226,-0.010923139338049146,0.006794372473997065,0.006523450160898425,-0.013507184622948863,0.019032928509888008,0.014755153951509595,0.0018247274144143552,0.00433211329721483,1.0,-0.0018770275223128758,0.010353963020464043,-0.01352718138016132,0.008899884142149513,-0.006014878806803532],[-0.0012628152060748033,-0.0023129763112049377,-0.013061548414732732,0.008766915653527864,0.004798688967452346,0.0028172625070637027,-3.2591352760701374e-05,0.017330814963609706,-0.015078334318265748,-0.004547255123093159,-0.0005846697401150911,-0.005939938517407886,0.009125383136079038,0.007020021322258225,0.00301828466689048,0.007500156463612403,-0.0041701552290046295,-0.0018983755415358419,-0.00024671798780578864,-0.0011007929091215955,0.008509631444075341,0.011541815642787074,0.00039039373023135965,-0.0008352297478094928,-0.00819443658478265,-0.010723478674042622,0.011595592929754275,-0.014509457382868489,0.012387897307859833,-0.0058878417281959,0.00827398315168487,0.00839722991026407,0.0006178164616712752,-0.02475722751182871,-0.006253517700918402,0.0023919167899659074,0.00040003921369467213,-0.0007014045100806624,0.008453865921906641,-0.005414554855398194,0.007790579860818539,0.003531978951195011,0.0016807725175918245,-0.0018770275223128758,1.0,0.018478300103941695,0.009156957730109386,0.004100261806086842,0.006056693939192809],[0.002435812248483843,0.005619508275666679,-0.01511820956786853,-0.0016419094204129009,0.0009221061921489273,0.0015457925242140884,0.007992912562340273,-0.01105915641679183,0.012970937076162904,0.005791893632321208,-0.006064220321239477,-0.019334386174155446,-0.0050027222680179674,-0.010499531145750121,-0.013609555192671353,-0.015640442609871078,-0.009427394296128088,-0.011932355482942858,-0.003368253386674414,0.017193572641834343,0.016807156614483194,0.0021910539482585243,0.016016013772256966,0.009258617894789857,-0.0052213212368222945,-0.009710367211656072,-0.001540133632795189,-0.0004837212671920871,0.0017996551100783855,0.009636340328432975,-0.005071799918269267,0.005596746781243324,0.0051164936161477645,0.014505828379401202,0.0003010616798249791,0.018379129634125118,0.008965116680151614,0.0014765024839285617,-0.0034080436686504205,-0.007454394822360145,-0.012206496381639613,-0.008139625710732125,-0.002297104367464923,0.010353963020464043,0.018478300103941695,1.0,-0.0040409766957908745,0.02940974179136466,0.0002460821453361017],[0.0030243739380476885,-0.0036526760888617323,0.003148778361711434,-0.0029001428896415996,0.027510106685062662,0.0012870658861499232,-0.008881102258951234,-0.018831407031906607,0.009747367091643555,-0.004015653043644485,0.01642355568716899,0.01094974322534363,-0.0016951050717808431,-0.002529279330768872,0.009759971260532093,0.0018038727798083763,-0.0032349879599093577,-0.0006185308245026228,-0.0027161741087634405,0.006926506644864998,0.004947596898841485,-0.008333870061452281,-0.007181829002130235,0.008699536228741174,-0.002988878474843556,0.012664062309833732,0.015176541823705399,-0.004424407445650696,-0.00571336152929554,-0.009178240577337082,0.004629152866203087,-0.006113518760592639,0.011245322284380948,-0.016004289466696554,0.004775060734296595,0.004303344087954707,0.012538360080597435,0.011980813217183094,-0.0050315453863310705,-0.01164333305557531,0.008906954438406799,-0.0044808318030338965,-0.011701365514315108,-0.01352718138016132,0.009156957730109386,-0.0040409766957908745,1.0,-0.020691232866402197,-0.007393449539468976],[0.006351763523311996,-0.013244509788068386,0.02924939590733193,0.000431248153075017,0.00012126368700327775,0.008844882274439182,-0.008030515070356637,0.004806039470453818,0.006877874196474066,-0.01724692812979331,0.0025518051365408475,0.02439318543939047,0.012722584034794591,0.002437502811993283,-0.001451698012995521,0.009845376188590703,0.008807972953575563,-0.0086502314070969,0.00931473794421619,-0.003418338874319539,0.020738552578774213,-0.004070417732063738,-0.016458267511510947,0.006115336299435938,-0.01714505791381634,0.00829531879052454,0.006059336549284369,-0.010068339461069465,0.009979094267994476,-0.005531274519184342,-0.0020834516099705407,0.006645056162834619,0.005589691422219409,-0.0009784229472451398,0.0018700975103722725,-0.007054887726148914,0.006256649495590763,0.0011997848003649605,-0.0006200487801405826,-0.013856813714078545,0.003534765050397731,-0.011960818337338693,0.0007489340613007799,0.008899884142149513,0.004100261806086842,0.02940974179136466,-0.020691232866402197,1.0,-0.009155639422276216],[0.005568936506102859,0.003374504990481269,0.0015894195686026035,-0.007163542783521208,-0.016436622764380647,-0.015853357287718934,-0.0024347949692715134,0.02045285042413369,-0.002615124808271618,-0.005145393538269779,-0.0177742116169667,0.0008038397411375409,0.0013931279025769419,-0.007712115538881922,-0.003625121379593183,-0.005761743264171208,0.00072643065497905,0.01568397492764986,-0.01928381105856891,0.002720272897126032,0.007093386466973748,-0.004551194461324724,-0.015485929874722467,-0.0050549178272657124,-0.013275771803250005,-0.009850412743198386,0.017570720884637032,0.008277673117863397,-0.0034307530390963034,0.006738826080114583,-0.009165244925192393,0.004245064546183827,-0.01322401062837291,-0.031570398492874824,0.002860436134089276,-0.010275449307652404,-0.0007604902578126315,-0.0034622725812306324,0.011793119302811333,0.001947931362792869,-0.003975372946929452,-0.003805534906619352,-0.004924967081645329,-0.006014878806803532,0.006056693939192809,0.0002460821453361017,-0.007393449539468976,-0.009155639422276216,1.0]],\"type\":\"heatmap\"}],                        {\"height\":700,\"template\":{\"data\":{\"barpolar\":[{\"marker\":{\"line\":{\"color\":\"#E5ECF6\",\"width\":0.5},\"pattern\":{\"fillmode\":\"overlay\",\"size\":10,\"solidity\":0.2}},\"type\":\"barpolar\"}],\"bar\":[{\"error_x\":{\"color\":\"#2a3f5f\"},\"error_y\":{\"color\":\"#2a3f5f\"},\"marker\":{\"line\":{\"color\":\"#E5ECF6\",\"width\":0.5},\"pattern\":{\"fillmode\":\"overlay\",\"size\":10,\"solidity\":0.2}},\"type\":\"bar\"}],\"carpet\":[{\"aaxis\":{\"endlinecolor\":\"#2a3f5f\",\"gridcolor\":\"white\",\"linecolor\":\"white\",\"minorgridcolor\":\"white\",\"startlinecolor\":\"#2a3f5f\"},\"baxis\":{\"endlinecolor\":\"#2a3f5f\",\"gridcolor\":\"white\",\"linecolor\":\"white\",\"minorgridcolor\":\"white\",\"startlinecolor\":\"#2a3f5f\"},\"type\":\"carpet\"}],\"choropleth\":[{\"colorbar\":{\"outlinewidth\":0,\"ticks\":\"\"},\"type\":\"choropleth\"}],\"contourcarpet\":[{\"colorbar\":{\"outlinewidth\":0,\"ticks\":\"\"},\"type\":\"contourcarpet\"}],\"contour\":[{\"colorbar\":{\"outlinewidth\":0,\"ticks\":\"\"},\"colorscale\":[[0.0,\"#0d0887\"],[0.1111111111111111,\"#46039f\"],[0.2222222222222222,\"#7201a8\"],[0.3333333333333333,\"#9c179e\"],[0.4444444444444444,\"#bd3786\"],[0.5555555555555556,\"#d8576b\"],[0.6666666666666666,\"#ed7953\"],[0.7777777777777778,\"#fb9f3a\"],[0.8888888888888888,\"#fdca26\"],[1.0,\"#f0f921\"]],\"type\":\"contour\"}],\"heatmapgl\":[{\"colorbar\":{\"outlinewidth\":0,\"ticks\":\"\"},\"colorscale\":[[0.0,\"#0d0887\"],[0.1111111111111111,\"#46039f\"],[0.2222222222222222,\"#7201a8\"],[0.3333333333333333,\"#9c179e\"],[0.4444444444444444,\"#bd3786\"],[0.5555555555555556,\"#d8576b\"],[0.6666666666666666,\"#ed7953\"],[0.7777777777777778,\"#fb9f3a\"],[0.8888888888888888,\"#fdca26\"],[1.0,\"#f0f921\"]],\"type\":\"heatmapgl\"}],\"heatmap\":[{\"colorbar\":{\"outlinewidth\":0,\"ticks\":\"\"},\"colorscale\":[[0.0,\"#0d0887\"],[0.1111111111111111,\"#46039f\"],[0.2222222222222222,\"#7201a8\"],[0.3333333333333333,\"#9c179e\"],[0.4444444444444444,\"#bd3786\"],[0.5555555555555556,\"#d8576b\"],[0.6666666666666666,\"#ed7953\"],[0.7777777777777778,\"#fb9f3a\"],[0.8888888888888888,\"#fdca26\"],[1.0,\"#f0f921\"]],\"type\":\"heatmap\"}],\"histogram2dcontour\":[{\"colorbar\":{\"outlinewidth\":0,\"ticks\":\"\"},\"colorscale\":[[0.0,\"#0d0887\"],[0.1111111111111111,\"#46039f\"],[0.2222222222222222,\"#7201a8\"],[0.3333333333333333,\"#9c179e\"],[0.4444444444444444,\"#bd3786\"],[0.5555555555555556,\"#d8576b\"],[0.6666666666666666,\"#ed7953\"],[0.7777777777777778,\"#fb9f3a\"],[0.8888888888888888,\"#fdca26\"],[1.0,\"#f0f921\"]],\"type\":\"histogram2dcontour\"}],\"histogram2d\":[{\"colorbar\":{\"outlinewidth\":0,\"ticks\":\"\"},\"colorscale\":[[0.0,\"#0d0887\"],[0.1111111111111111,\"#46039f\"],[0.2222222222222222,\"#7201a8\"],[0.3333333333333333,\"#9c179e\"],[0.4444444444444444,\"#bd3786\"],[0.5555555555555556,\"#d8576b\"],[0.6666666666666666,\"#ed7953\"],[0.7777777777777778,\"#fb9f3a\"],[0.8888888888888888,\"#fdca26\"],[1.0,\"#f0f921\"]],\"type\":\"histogram2d\"}],\"histogram\":[{\"marker\":{\"pattern\":{\"fillmode\":\"overlay\",\"size\":10,\"solidity\":0.2}},\"type\":\"histogram\"}],\"mesh3d\":[{\"colorbar\":{\"outlinewidth\":0,\"ticks\":\"\"},\"type\":\"mesh3d\"}],\"parcoords\":[{\"line\":{\"colorbar\":{\"outlinewidth\":0,\"ticks\":\"\"}},\"type\":\"parcoords\"}],\"pie\":[{\"automargin\":true,\"type\":\"pie\"}],\"scatter3d\":[{\"line\":{\"colorbar\":{\"outlinewidth\":0,\"ticks\":\"\"}},\"marker\":{\"colorbar\":{\"outlinewidth\":0,\"ticks\":\"\"}},\"type\":\"scatter3d\"}],\"scattercarpet\":[{\"marker\":{\"colorbar\":{\"outlinewidth\":0,\"ticks\":\"\"}},\"type\":\"scattercarpet\"}],\"scattergeo\":[{\"marker\":{\"colorbar\":{\"outlinewidth\":0,\"ticks\":\"\"}},\"type\":\"scattergeo\"}],\"scattergl\":[{\"marker\":{\"colorbar\":{\"outlinewidth\":0,\"ticks\":\"\"}},\"type\":\"scattergl\"}],\"scattermapbox\":[{\"marker\":{\"colorbar\":{\"outlinewidth\":0,\"ticks\":\"\"}},\"type\":\"scattermapbox\"}],\"scatterpolargl\":[{\"marker\":{\"colorbar\":{\"outlinewidth\":0,\"ticks\":\"\"}},\"type\":\"scatterpolargl\"}],\"scatterpolar\":[{\"marker\":{\"colorbar\":{\"outlinewidth\":0,\"ticks\":\"\"}},\"type\":\"scatterpolar\"}],\"scatter\":[{\"marker\":{\"colorbar\":{\"outlinewidth\":0,\"ticks\":\"\"}},\"type\":\"scatter\"}],\"scatterternary\":[{\"marker\":{\"colorbar\":{\"outlinewidth\":0,\"ticks\":\"\"}},\"type\":\"scatterternary\"}],\"surface\":[{\"colorbar\":{\"outlinewidth\":0,\"ticks\":\"\"},\"colorscale\":[[0.0,\"#0d0887\"],[0.1111111111111111,\"#46039f\"],[0.2222222222222222,\"#7201a8\"],[0.3333333333333333,\"#9c179e\"],[0.4444444444444444,\"#bd3786\"],[0.5555555555555556,\"#d8576b\"],[0.6666666666666666,\"#ed7953\"],[0.7777777777777778,\"#fb9f3a\"],[0.8888888888888888,\"#fdca26\"],[1.0,\"#f0f921\"]],\"type\":\"surface\"}],\"table\":[{\"cells\":{\"fill\":{\"color\":\"#EBF0F8\"},\"line\":{\"color\":\"white\"}},\"header\":{\"fill\":{\"color\":\"#C8D4E3\"},\"line\":{\"color\":\"white\"}},\"type\":\"table\"}]},\"layout\":{\"annotationdefaults\":{\"arrowcolor\":\"#2a3f5f\",\"arrowhead\":0,\"arrowwidth\":1},\"autotypenumbers\":\"strict\",\"coloraxis\":{\"colorbar\":{\"outlinewidth\":0,\"ticks\":\"\"}},\"colorscale\":{\"diverging\":[[0,\"#8e0152\"],[0.1,\"#c51b7d\"],[0.2,\"#de77ae\"],[0.3,\"#f1b6da\"],[0.4,\"#fde0ef\"],[0.5,\"#f7f7f7\"],[0.6,\"#e6f5d0\"],[0.7,\"#b8e186\"],[0.8,\"#7fbc41\"],[0.9,\"#4d9221\"],[1,\"#276419\"]],\"sequential\":[[0.0,\"#0d0887\"],[0.1111111111111111,\"#46039f\"],[0.2222222222222222,\"#7201a8\"],[0.3333333333333333,\"#9c179e\"],[0.4444444444444444,\"#bd3786\"],[0.5555555555555556,\"#d8576b\"],[0.6666666666666666,\"#ed7953\"],[0.7777777777777778,\"#fb9f3a\"],[0.8888888888888888,\"#fdca26\"],[1.0,\"#f0f921\"]],\"sequentialminus\":[[0.0,\"#0d0887\"],[0.1111111111111111,\"#46039f\"],[0.2222222222222222,\"#7201a8\"],[0.3333333333333333,\"#9c179e\"],[0.4444444444444444,\"#bd3786\"],[0.5555555555555556,\"#d8576b\"],[0.6666666666666666,\"#ed7953\"],[0.7777777777777778,\"#fb9f3a\"],[0.8888888888888888,\"#fdca26\"],[1.0,\"#f0f921\"]]},\"colorway\":[\"#636efa\",\"#EF553B\",\"#00cc96\",\"#ab63fa\",\"#FFA15A\",\"#19d3f3\",\"#FF6692\",\"#B6E880\",\"#FF97FF\",\"#FECB52\"],\"font\":{\"color\":\"#2a3f5f\"},\"geo\":{\"bgcolor\":\"white\",\"lakecolor\":\"white\",\"landcolor\":\"#E5ECF6\",\"showlakes\":true,\"showland\":true,\"subunitcolor\":\"white\"},\"hoverlabel\":{\"align\":\"left\"},\"hovermode\":\"closest\",\"mapbox\":{\"style\":\"light\"},\"paper_bgcolor\":\"white\",\"plot_bgcolor\":\"#E5ECF6\",\"polar\":{\"angularaxis\":{\"gridcolor\":\"white\",\"linecolor\":\"white\",\"ticks\":\"\"},\"bgcolor\":\"#E5ECF6\",\"radialaxis\":{\"gridcolor\":\"white\",\"linecolor\":\"white\",\"ticks\":\"\"}},\"scene\":{\"xaxis\":{\"backgroundcolor\":\"#E5ECF6\",\"gridcolor\":\"white\",\"gridwidth\":2,\"linecolor\":\"white\",\"showbackground\":true,\"ticks\":\"\",\"zerolinecolor\":\"white\"},\"yaxis\":{\"backgroundcolor\":\"#E5ECF6\",\"gridcolor\":\"white\",\"gridwidth\":2,\"linecolor\":\"white\",\"showbackground\":true,\"ticks\":\"\",\"zerolinecolor\":\"white\"},\"zaxis\":{\"backgroundcolor\":\"#E5ECF6\",\"gridcolor\":\"white\",\"gridwidth\":2,\"linecolor\":\"white\",\"showbackground\":true,\"ticks\":\"\",\"zerolinecolor\":\"white\"}},\"shapedefaults\":{\"line\":{\"color\":\"#2a3f5f\"}},\"ternary\":{\"aaxis\":{\"gridcolor\":\"white\",\"linecolor\":\"white\",\"ticks\":\"\"},\"baxis\":{\"gridcolor\":\"white\",\"linecolor\":\"white\",\"ticks\":\"\"},\"bgcolor\":\"#E5ECF6\",\"caxis\":{\"gridcolor\":\"white\",\"linecolor\":\"white\",\"ticks\":\"\"}},\"title\":{\"x\":0.05},\"xaxis\":{\"automargin\":true,\"gridcolor\":\"white\",\"linecolor\":\"white\",\"ticks\":\"\",\"title\":{\"standoff\":15},\"zerolinecolor\":\"white\",\"zerolinewidth\":2},\"yaxis\":{\"automargin\":true,\"gridcolor\":\"white\",\"linecolor\":\"white\",\"ticks\":\"\",\"title\":{\"standoff\":15},\"zerolinecolor\":\"white\",\"zerolinewidth\":2}}},\"title\":{\"text\":\"Pearson Correlation of Integer-type features\"},\"width\":900,\"xaxis\":{\"nticks\":36,\"ticks\":\"\"},\"yaxis\":{\"ticks\":\"\"}},                        {\"responsive\": true}                    ).then(function(){\n",
       "                            \n",
       "var gd = document.getElementById('0676d3f6-bb49-43ac-90e2-3d18b467c6d2');\n",
       "var x = new MutationObserver(function (mutations, observer) {{\n",
       "        var display = window.getComputedStyle(gd).display;\n",
       "        if (!display || display === 'none') {{\n",
       "            console.log([gd, 'removed!']);\n",
       "            Plotly.purge(gd);\n",
       "            observer.disconnect();\n",
       "        }}\n",
       "}});\n",
       "\n",
       "// Listen for the removal of the full notebook cells\n",
       "var notebookContainer = gd.closest('#notebook-container');\n",
       "if (notebookContainer) {{\n",
       "    x.observe(notebookContainer, {childList: true});\n",
       "}}\n",
       "\n",
       "// Listen for the clearing of the current output cell\n",
       "var outputEl = gd.closest('.output');\n",
       "if (outputEl) {{\n",
       "    x.observe(outputEl, {childList: true});\n",
       "}}\n",
       "\n",
       "                        })                };                });            </script>        </div>"
      ]
     },
     "metadata": {},
     "output_type": "display_data"
    }
   ],
   "source": [
    "data = [\n",
    "    go.Heatmap(\n",
    "        z= train_int.corr().values,\n",
    "        x=train_int.columns.values,\n",
    "        y=train_int.columns.values,\n",
    "        colorscale='Viridis',\n",
    "        reversescale = False,\n",
    "        opacity = 1.0 )\n",
    "]\n",
    "\n",
    "layout = go.Layout(\n",
    "    title='Pearson Correlation of Integer-type features',\n",
    "    xaxis = dict(ticks='', nticks=36),\n",
    "    yaxis = dict(ticks='' ),\n",
    "    width = 900, height = 700)\n",
    "\n",
    "fig = go.Figure(data=data, layout=layout)\n",
    "py.iplot(fig, filename='labelled-heatmap')"
   ]
  },
  {
   "cell_type": "code",
   "execution_count": 13,
   "metadata": {},
   "outputs": [
    {
     "name": "stdout",
     "output_type": "stream",
     "text": [
      "[0.00064944 0.0012414  0.         0.00234327 0.0012132  0.00330449\n",
      " 0.00232514 0.         0.000206   0.        ]\n"
     ]
    }
   ],
   "source": [
    "mf = mutual_info_classif(train_float.values, train.target.values, n_neighbors=3, random_state=17 )\n",
    "print(mf)"
   ]
  },
  {
   "cell_type": "code",
   "execution_count": 14,
   "metadata": {},
   "outputs": [
    {
     "data": {
      "application/vnd.plotly.v1+json": {
       "config": {
        "linkText": "Export to plot.ly",
        "plotlyServerURL": "https://plot.ly",
        "showLink": false
       },
       "data": [
        {
         "name": "Zero count",
         "type": "bar",
         "x": [
          "ps_ind_06_bin",
          "ps_ind_07_bin",
          "ps_ind_08_bin",
          "ps_ind_09_bin",
          "ps_ind_10_bin",
          "ps_ind_11_bin",
          "ps_ind_12_bin",
          "ps_ind_13_bin",
          "ps_ind_16_bin",
          "ps_ind_17_bin",
          "ps_ind_18_bin",
          "ps_calc_15_bin",
          "ps_calc_16_bin",
          "ps_calc_17_bin",
          "ps_calc_18_bin",
          "ps_calc_19_bin",
          "ps_calc_20_bin"
         ],
         "y": [
          6054,
          7454,
          8386,
          8106,
          9994,
          9982,
          9905,
          9991,
          3384,
          8787,
          8511,
          8752,
          3822,
          4415,
          7040,
          6435,
          8452
         ]
        },
        {
         "name": "One count",
         "type": "bar",
         "x": [
          "ps_ind_06_bin",
          "ps_ind_07_bin",
          "ps_ind_08_bin",
          "ps_ind_09_bin",
          "ps_ind_10_bin",
          "ps_ind_11_bin",
          "ps_ind_12_bin",
          "ps_ind_13_bin",
          "ps_ind_16_bin",
          "ps_ind_17_bin",
          "ps_ind_18_bin",
          "ps_calc_15_bin",
          "ps_calc_16_bin",
          "ps_calc_17_bin",
          "ps_calc_18_bin",
          "ps_calc_19_bin",
          "ps_calc_20_bin"
         ],
         "y": [
          3946,
          2546,
          1614,
          1894,
          6,
          18,
          95,
          9,
          6616,
          1213,
          1489,
          1248,
          6178,
          5585,
          2960,
          3565,
          1548
         ]
        }
       ],
       "layout": {
        "barmode": "stack",
        "template": {
         "data": {
          "bar": [
           {
            "error_x": {
             "color": "#2a3f5f"
            },
            "error_y": {
             "color": "#2a3f5f"
            },
            "marker": {
             "line": {
              "color": "#E5ECF6",
              "width": 0.5
             },
             "pattern": {
              "fillmode": "overlay",
              "size": 10,
              "solidity": 0.2
             }
            },
            "type": "bar"
           }
          ],
          "barpolar": [
           {
            "marker": {
             "line": {
              "color": "#E5ECF6",
              "width": 0.5
             },
             "pattern": {
              "fillmode": "overlay",
              "size": 10,
              "solidity": 0.2
             }
            },
            "type": "barpolar"
           }
          ],
          "carpet": [
           {
            "aaxis": {
             "endlinecolor": "#2a3f5f",
             "gridcolor": "white",
             "linecolor": "white",
             "minorgridcolor": "white",
             "startlinecolor": "#2a3f5f"
            },
            "baxis": {
             "endlinecolor": "#2a3f5f",
             "gridcolor": "white",
             "linecolor": "white",
             "minorgridcolor": "white",
             "startlinecolor": "#2a3f5f"
            },
            "type": "carpet"
           }
          ],
          "choropleth": [
           {
            "colorbar": {
             "outlinewidth": 0,
             "ticks": ""
            },
            "type": "choropleth"
           }
          ],
          "contour": [
           {
            "colorbar": {
             "outlinewidth": 0,
             "ticks": ""
            },
            "colorscale": [
             [
              0,
              "#0d0887"
             ],
             [
              0.1111111111111111,
              "#46039f"
             ],
             [
              0.2222222222222222,
              "#7201a8"
             ],
             [
              0.3333333333333333,
              "#9c179e"
             ],
             [
              0.4444444444444444,
              "#bd3786"
             ],
             [
              0.5555555555555556,
              "#d8576b"
             ],
             [
              0.6666666666666666,
              "#ed7953"
             ],
             [
              0.7777777777777778,
              "#fb9f3a"
             ],
             [
              0.8888888888888888,
              "#fdca26"
             ],
             [
              1,
              "#f0f921"
             ]
            ],
            "type": "contour"
           }
          ],
          "contourcarpet": [
           {
            "colorbar": {
             "outlinewidth": 0,
             "ticks": ""
            },
            "type": "contourcarpet"
           }
          ],
          "heatmap": [
           {
            "colorbar": {
             "outlinewidth": 0,
             "ticks": ""
            },
            "colorscale": [
             [
              0,
              "#0d0887"
             ],
             [
              0.1111111111111111,
              "#46039f"
             ],
             [
              0.2222222222222222,
              "#7201a8"
             ],
             [
              0.3333333333333333,
              "#9c179e"
             ],
             [
              0.4444444444444444,
              "#bd3786"
             ],
             [
              0.5555555555555556,
              "#d8576b"
             ],
             [
              0.6666666666666666,
              "#ed7953"
             ],
             [
              0.7777777777777778,
              "#fb9f3a"
             ],
             [
              0.8888888888888888,
              "#fdca26"
             ],
             [
              1,
              "#f0f921"
             ]
            ],
            "type": "heatmap"
           }
          ],
          "heatmapgl": [
           {
            "colorbar": {
             "outlinewidth": 0,
             "ticks": ""
            },
            "colorscale": [
             [
              0,
              "#0d0887"
             ],
             [
              0.1111111111111111,
              "#46039f"
             ],
             [
              0.2222222222222222,
              "#7201a8"
             ],
             [
              0.3333333333333333,
              "#9c179e"
             ],
             [
              0.4444444444444444,
              "#bd3786"
             ],
             [
              0.5555555555555556,
              "#d8576b"
             ],
             [
              0.6666666666666666,
              "#ed7953"
             ],
             [
              0.7777777777777778,
              "#fb9f3a"
             ],
             [
              0.8888888888888888,
              "#fdca26"
             ],
             [
              1,
              "#f0f921"
             ]
            ],
            "type": "heatmapgl"
           }
          ],
          "histogram": [
           {
            "marker": {
             "pattern": {
              "fillmode": "overlay",
              "size": 10,
              "solidity": 0.2
             }
            },
            "type": "histogram"
           }
          ],
          "histogram2d": [
           {
            "colorbar": {
             "outlinewidth": 0,
             "ticks": ""
            },
            "colorscale": [
             [
              0,
              "#0d0887"
             ],
             [
              0.1111111111111111,
              "#46039f"
             ],
             [
              0.2222222222222222,
              "#7201a8"
             ],
             [
              0.3333333333333333,
              "#9c179e"
             ],
             [
              0.4444444444444444,
              "#bd3786"
             ],
             [
              0.5555555555555556,
              "#d8576b"
             ],
             [
              0.6666666666666666,
              "#ed7953"
             ],
             [
              0.7777777777777778,
              "#fb9f3a"
             ],
             [
              0.8888888888888888,
              "#fdca26"
             ],
             [
              1,
              "#f0f921"
             ]
            ],
            "type": "histogram2d"
           }
          ],
          "histogram2dcontour": [
           {
            "colorbar": {
             "outlinewidth": 0,
             "ticks": ""
            },
            "colorscale": [
             [
              0,
              "#0d0887"
             ],
             [
              0.1111111111111111,
              "#46039f"
             ],
             [
              0.2222222222222222,
              "#7201a8"
             ],
             [
              0.3333333333333333,
              "#9c179e"
             ],
             [
              0.4444444444444444,
              "#bd3786"
             ],
             [
              0.5555555555555556,
              "#d8576b"
             ],
             [
              0.6666666666666666,
              "#ed7953"
             ],
             [
              0.7777777777777778,
              "#fb9f3a"
             ],
             [
              0.8888888888888888,
              "#fdca26"
             ],
             [
              1,
              "#f0f921"
             ]
            ],
            "type": "histogram2dcontour"
           }
          ],
          "mesh3d": [
           {
            "colorbar": {
             "outlinewidth": 0,
             "ticks": ""
            },
            "type": "mesh3d"
           }
          ],
          "parcoords": [
           {
            "line": {
             "colorbar": {
              "outlinewidth": 0,
              "ticks": ""
             }
            },
            "type": "parcoords"
           }
          ],
          "pie": [
           {
            "automargin": true,
            "type": "pie"
           }
          ],
          "scatter": [
           {
            "marker": {
             "colorbar": {
              "outlinewidth": 0,
              "ticks": ""
             }
            },
            "type": "scatter"
           }
          ],
          "scatter3d": [
           {
            "line": {
             "colorbar": {
              "outlinewidth": 0,
              "ticks": ""
             }
            },
            "marker": {
             "colorbar": {
              "outlinewidth": 0,
              "ticks": ""
             }
            },
            "type": "scatter3d"
           }
          ],
          "scattercarpet": [
           {
            "marker": {
             "colorbar": {
              "outlinewidth": 0,
              "ticks": ""
             }
            },
            "type": "scattercarpet"
           }
          ],
          "scattergeo": [
           {
            "marker": {
             "colorbar": {
              "outlinewidth": 0,
              "ticks": ""
             }
            },
            "type": "scattergeo"
           }
          ],
          "scattergl": [
           {
            "marker": {
             "colorbar": {
              "outlinewidth": 0,
              "ticks": ""
             }
            },
            "type": "scattergl"
           }
          ],
          "scattermapbox": [
           {
            "marker": {
             "colorbar": {
              "outlinewidth": 0,
              "ticks": ""
             }
            },
            "type": "scattermapbox"
           }
          ],
          "scatterpolar": [
           {
            "marker": {
             "colorbar": {
              "outlinewidth": 0,
              "ticks": ""
             }
            },
            "type": "scatterpolar"
           }
          ],
          "scatterpolargl": [
           {
            "marker": {
             "colorbar": {
              "outlinewidth": 0,
              "ticks": ""
             }
            },
            "type": "scatterpolargl"
           }
          ],
          "scatterternary": [
           {
            "marker": {
             "colorbar": {
              "outlinewidth": 0,
              "ticks": ""
             }
            },
            "type": "scatterternary"
           }
          ],
          "surface": [
           {
            "colorbar": {
             "outlinewidth": 0,
             "ticks": ""
            },
            "colorscale": [
             [
              0,
              "#0d0887"
             ],
             [
              0.1111111111111111,
              "#46039f"
             ],
             [
              0.2222222222222222,
              "#7201a8"
             ],
             [
              0.3333333333333333,
              "#9c179e"
             ],
             [
              0.4444444444444444,
              "#bd3786"
             ],
             [
              0.5555555555555556,
              "#d8576b"
             ],
             [
              0.6666666666666666,
              "#ed7953"
             ],
             [
              0.7777777777777778,
              "#fb9f3a"
             ],
             [
              0.8888888888888888,
              "#fdca26"
             ],
             [
              1,
              "#f0f921"
             ]
            ],
            "type": "surface"
           }
          ],
          "table": [
           {
            "cells": {
             "fill": {
              "color": "#EBF0F8"
             },
             "line": {
              "color": "white"
             }
            },
            "header": {
             "fill": {
              "color": "#C8D4E3"
             },
             "line": {
              "color": "white"
             }
            },
            "type": "table"
           }
          ]
         },
         "layout": {
          "annotationdefaults": {
           "arrowcolor": "#2a3f5f",
           "arrowhead": 0,
           "arrowwidth": 1
          },
          "autotypenumbers": "strict",
          "coloraxis": {
           "colorbar": {
            "outlinewidth": 0,
            "ticks": ""
           }
          },
          "colorscale": {
           "diverging": [
            [
             0,
             "#8e0152"
            ],
            [
             0.1,
             "#c51b7d"
            ],
            [
             0.2,
             "#de77ae"
            ],
            [
             0.3,
             "#f1b6da"
            ],
            [
             0.4,
             "#fde0ef"
            ],
            [
             0.5,
             "#f7f7f7"
            ],
            [
             0.6,
             "#e6f5d0"
            ],
            [
             0.7,
             "#b8e186"
            ],
            [
             0.8,
             "#7fbc41"
            ],
            [
             0.9,
             "#4d9221"
            ],
            [
             1,
             "#276419"
            ]
           ],
           "sequential": [
            [
             0,
             "#0d0887"
            ],
            [
             0.1111111111111111,
             "#46039f"
            ],
            [
             0.2222222222222222,
             "#7201a8"
            ],
            [
             0.3333333333333333,
             "#9c179e"
            ],
            [
             0.4444444444444444,
             "#bd3786"
            ],
            [
             0.5555555555555556,
             "#d8576b"
            ],
            [
             0.6666666666666666,
             "#ed7953"
            ],
            [
             0.7777777777777778,
             "#fb9f3a"
            ],
            [
             0.8888888888888888,
             "#fdca26"
            ],
            [
             1,
             "#f0f921"
            ]
           ],
           "sequentialminus": [
            [
             0,
             "#0d0887"
            ],
            [
             0.1111111111111111,
             "#46039f"
            ],
            [
             0.2222222222222222,
             "#7201a8"
            ],
            [
             0.3333333333333333,
             "#9c179e"
            ],
            [
             0.4444444444444444,
             "#bd3786"
            ],
            [
             0.5555555555555556,
             "#d8576b"
            ],
            [
             0.6666666666666666,
             "#ed7953"
            ],
            [
             0.7777777777777778,
             "#fb9f3a"
            ],
            [
             0.8888888888888888,
             "#fdca26"
            ],
            [
             1,
             "#f0f921"
            ]
           ]
          },
          "colorway": [
           "#636efa",
           "#EF553B",
           "#00cc96",
           "#ab63fa",
           "#FFA15A",
           "#19d3f3",
           "#FF6692",
           "#B6E880",
           "#FF97FF",
           "#FECB52"
          ],
          "font": {
           "color": "#2a3f5f"
          },
          "geo": {
           "bgcolor": "white",
           "lakecolor": "white",
           "landcolor": "#E5ECF6",
           "showlakes": true,
           "showland": true,
           "subunitcolor": "white"
          },
          "hoverlabel": {
           "align": "left"
          },
          "hovermode": "closest",
          "mapbox": {
           "style": "light"
          },
          "paper_bgcolor": "white",
          "plot_bgcolor": "#E5ECF6",
          "polar": {
           "angularaxis": {
            "gridcolor": "white",
            "linecolor": "white",
            "ticks": ""
           },
           "bgcolor": "#E5ECF6",
           "radialaxis": {
            "gridcolor": "white",
            "linecolor": "white",
            "ticks": ""
           }
          },
          "scene": {
           "xaxis": {
            "backgroundcolor": "#E5ECF6",
            "gridcolor": "white",
            "gridwidth": 2,
            "linecolor": "white",
            "showbackground": true,
            "ticks": "",
            "zerolinecolor": "white"
           },
           "yaxis": {
            "backgroundcolor": "#E5ECF6",
            "gridcolor": "white",
            "gridwidth": 2,
            "linecolor": "white",
            "showbackground": true,
            "ticks": "",
            "zerolinecolor": "white"
           },
           "zaxis": {
            "backgroundcolor": "#E5ECF6",
            "gridcolor": "white",
            "gridwidth": 2,
            "linecolor": "white",
            "showbackground": true,
            "ticks": "",
            "zerolinecolor": "white"
           }
          },
          "shapedefaults": {
           "line": {
            "color": "#2a3f5f"
           }
          },
          "ternary": {
           "aaxis": {
            "gridcolor": "white",
            "linecolor": "white",
            "ticks": ""
           },
           "baxis": {
            "gridcolor": "white",
            "linecolor": "white",
            "ticks": ""
           },
           "bgcolor": "#E5ECF6",
           "caxis": {
            "gridcolor": "white",
            "linecolor": "white",
            "ticks": ""
           }
          },
          "title": {
           "x": 0.05
          },
          "xaxis": {
           "automargin": true,
           "gridcolor": "white",
           "linecolor": "white",
           "ticks": "",
           "title": {
            "standoff": 15
           },
           "zerolinecolor": "white",
           "zerolinewidth": 2
          },
          "yaxis": {
           "automargin": true,
           "gridcolor": "white",
           "linecolor": "white",
           "ticks": "",
           "title": {
            "standoff": 15
           },
           "zerolinecolor": "white",
           "zerolinewidth": 2
          }
         }
        },
        "title": {
         "text": "Count of 1 and 0 in binary variables"
        }
       }
      },
      "text/html": [
       "<div>                            <div id=\"4aa2b970-fc3b-4412-9dfd-16f44d8fc3b6\" class=\"plotly-graph-div\" style=\"height:525px; width:100%;\"></div>            <script type=\"text/javascript\">                require([\"plotly\"], function(Plotly) {                    window.PLOTLYENV=window.PLOTLYENV || {};                                    if (document.getElementById(\"4aa2b970-fc3b-4412-9dfd-16f44d8fc3b6\")) {                    Plotly.newPlot(                        \"4aa2b970-fc3b-4412-9dfd-16f44d8fc3b6\",                        [{\"name\":\"Zero count\",\"x\":[\"ps_ind_06_bin\",\"ps_ind_07_bin\",\"ps_ind_08_bin\",\"ps_ind_09_bin\",\"ps_ind_10_bin\",\"ps_ind_11_bin\",\"ps_ind_12_bin\",\"ps_ind_13_bin\",\"ps_ind_16_bin\",\"ps_ind_17_bin\",\"ps_ind_18_bin\",\"ps_calc_15_bin\",\"ps_calc_16_bin\",\"ps_calc_17_bin\",\"ps_calc_18_bin\",\"ps_calc_19_bin\",\"ps_calc_20_bin\"],\"y\":[6054,7454,8386,8106,9994,9982,9905,9991,3384,8787,8511,8752,3822,4415,7040,6435,8452],\"type\":\"bar\"},{\"name\":\"One count\",\"x\":[\"ps_ind_06_bin\",\"ps_ind_07_bin\",\"ps_ind_08_bin\",\"ps_ind_09_bin\",\"ps_ind_10_bin\",\"ps_ind_11_bin\",\"ps_ind_12_bin\",\"ps_ind_13_bin\",\"ps_ind_16_bin\",\"ps_ind_17_bin\",\"ps_ind_18_bin\",\"ps_calc_15_bin\",\"ps_calc_16_bin\",\"ps_calc_17_bin\",\"ps_calc_18_bin\",\"ps_calc_19_bin\",\"ps_calc_20_bin\"],\"y\":[3946,2546,1614,1894,6,18,95,9,6616,1213,1489,1248,6178,5585,2960,3565,1548],\"type\":\"bar\"}],                        {\"barmode\":\"stack\",\"template\":{\"data\":{\"barpolar\":[{\"marker\":{\"line\":{\"color\":\"#E5ECF6\",\"width\":0.5},\"pattern\":{\"fillmode\":\"overlay\",\"size\":10,\"solidity\":0.2}},\"type\":\"barpolar\"}],\"bar\":[{\"error_x\":{\"color\":\"#2a3f5f\"},\"error_y\":{\"color\":\"#2a3f5f\"},\"marker\":{\"line\":{\"color\":\"#E5ECF6\",\"width\":0.5},\"pattern\":{\"fillmode\":\"overlay\",\"size\":10,\"solidity\":0.2}},\"type\":\"bar\"}],\"carpet\":[{\"aaxis\":{\"endlinecolor\":\"#2a3f5f\",\"gridcolor\":\"white\",\"linecolor\":\"white\",\"minorgridcolor\":\"white\",\"startlinecolor\":\"#2a3f5f\"},\"baxis\":{\"endlinecolor\":\"#2a3f5f\",\"gridcolor\":\"white\",\"linecolor\":\"white\",\"minorgridcolor\":\"white\",\"startlinecolor\":\"#2a3f5f\"},\"type\":\"carpet\"}],\"choropleth\":[{\"colorbar\":{\"outlinewidth\":0,\"ticks\":\"\"},\"type\":\"choropleth\"}],\"contourcarpet\":[{\"colorbar\":{\"outlinewidth\":0,\"ticks\":\"\"},\"type\":\"contourcarpet\"}],\"contour\":[{\"colorbar\":{\"outlinewidth\":0,\"ticks\":\"\"},\"colorscale\":[[0.0,\"#0d0887\"],[0.1111111111111111,\"#46039f\"],[0.2222222222222222,\"#7201a8\"],[0.3333333333333333,\"#9c179e\"],[0.4444444444444444,\"#bd3786\"],[0.5555555555555556,\"#d8576b\"],[0.6666666666666666,\"#ed7953\"],[0.7777777777777778,\"#fb9f3a\"],[0.8888888888888888,\"#fdca26\"],[1.0,\"#f0f921\"]],\"type\":\"contour\"}],\"heatmapgl\":[{\"colorbar\":{\"outlinewidth\":0,\"ticks\":\"\"},\"colorscale\":[[0.0,\"#0d0887\"],[0.1111111111111111,\"#46039f\"],[0.2222222222222222,\"#7201a8\"],[0.3333333333333333,\"#9c179e\"],[0.4444444444444444,\"#bd3786\"],[0.5555555555555556,\"#d8576b\"],[0.6666666666666666,\"#ed7953\"],[0.7777777777777778,\"#fb9f3a\"],[0.8888888888888888,\"#fdca26\"],[1.0,\"#f0f921\"]],\"type\":\"heatmapgl\"}],\"heatmap\":[{\"colorbar\":{\"outlinewidth\":0,\"ticks\":\"\"},\"colorscale\":[[0.0,\"#0d0887\"],[0.1111111111111111,\"#46039f\"],[0.2222222222222222,\"#7201a8\"],[0.3333333333333333,\"#9c179e\"],[0.4444444444444444,\"#bd3786\"],[0.5555555555555556,\"#d8576b\"],[0.6666666666666666,\"#ed7953\"],[0.7777777777777778,\"#fb9f3a\"],[0.8888888888888888,\"#fdca26\"],[1.0,\"#f0f921\"]],\"type\":\"heatmap\"}],\"histogram2dcontour\":[{\"colorbar\":{\"outlinewidth\":0,\"ticks\":\"\"},\"colorscale\":[[0.0,\"#0d0887\"],[0.1111111111111111,\"#46039f\"],[0.2222222222222222,\"#7201a8\"],[0.3333333333333333,\"#9c179e\"],[0.4444444444444444,\"#bd3786\"],[0.5555555555555556,\"#d8576b\"],[0.6666666666666666,\"#ed7953\"],[0.7777777777777778,\"#fb9f3a\"],[0.8888888888888888,\"#fdca26\"],[1.0,\"#f0f921\"]],\"type\":\"histogram2dcontour\"}],\"histogram2d\":[{\"colorbar\":{\"outlinewidth\":0,\"ticks\":\"\"},\"colorscale\":[[0.0,\"#0d0887\"],[0.1111111111111111,\"#46039f\"],[0.2222222222222222,\"#7201a8\"],[0.3333333333333333,\"#9c179e\"],[0.4444444444444444,\"#bd3786\"],[0.5555555555555556,\"#d8576b\"],[0.6666666666666666,\"#ed7953\"],[0.7777777777777778,\"#fb9f3a\"],[0.8888888888888888,\"#fdca26\"],[1.0,\"#f0f921\"]],\"type\":\"histogram2d\"}],\"histogram\":[{\"marker\":{\"pattern\":{\"fillmode\":\"overlay\",\"size\":10,\"solidity\":0.2}},\"type\":\"histogram\"}],\"mesh3d\":[{\"colorbar\":{\"outlinewidth\":0,\"ticks\":\"\"},\"type\":\"mesh3d\"}],\"parcoords\":[{\"line\":{\"colorbar\":{\"outlinewidth\":0,\"ticks\":\"\"}},\"type\":\"parcoords\"}],\"pie\":[{\"automargin\":true,\"type\":\"pie\"}],\"scatter3d\":[{\"line\":{\"colorbar\":{\"outlinewidth\":0,\"ticks\":\"\"}},\"marker\":{\"colorbar\":{\"outlinewidth\":0,\"ticks\":\"\"}},\"type\":\"scatter3d\"}],\"scattercarpet\":[{\"marker\":{\"colorbar\":{\"outlinewidth\":0,\"ticks\":\"\"}},\"type\":\"scattercarpet\"}],\"scattergeo\":[{\"marker\":{\"colorbar\":{\"outlinewidth\":0,\"ticks\":\"\"}},\"type\":\"scattergeo\"}],\"scattergl\":[{\"marker\":{\"colorbar\":{\"outlinewidth\":0,\"ticks\":\"\"}},\"type\":\"scattergl\"}],\"scattermapbox\":[{\"marker\":{\"colorbar\":{\"outlinewidth\":0,\"ticks\":\"\"}},\"type\":\"scattermapbox\"}],\"scatterpolargl\":[{\"marker\":{\"colorbar\":{\"outlinewidth\":0,\"ticks\":\"\"}},\"type\":\"scatterpolargl\"}],\"scatterpolar\":[{\"marker\":{\"colorbar\":{\"outlinewidth\":0,\"ticks\":\"\"}},\"type\":\"scatterpolar\"}],\"scatter\":[{\"marker\":{\"colorbar\":{\"outlinewidth\":0,\"ticks\":\"\"}},\"type\":\"scatter\"}],\"scatterternary\":[{\"marker\":{\"colorbar\":{\"outlinewidth\":0,\"ticks\":\"\"}},\"type\":\"scatterternary\"}],\"surface\":[{\"colorbar\":{\"outlinewidth\":0,\"ticks\":\"\"},\"colorscale\":[[0.0,\"#0d0887\"],[0.1111111111111111,\"#46039f\"],[0.2222222222222222,\"#7201a8\"],[0.3333333333333333,\"#9c179e\"],[0.4444444444444444,\"#bd3786\"],[0.5555555555555556,\"#d8576b\"],[0.6666666666666666,\"#ed7953\"],[0.7777777777777778,\"#fb9f3a\"],[0.8888888888888888,\"#fdca26\"],[1.0,\"#f0f921\"]],\"type\":\"surface\"}],\"table\":[{\"cells\":{\"fill\":{\"color\":\"#EBF0F8\"},\"line\":{\"color\":\"white\"}},\"header\":{\"fill\":{\"color\":\"#C8D4E3\"},\"line\":{\"color\":\"white\"}},\"type\":\"table\"}]},\"layout\":{\"annotationdefaults\":{\"arrowcolor\":\"#2a3f5f\",\"arrowhead\":0,\"arrowwidth\":1},\"autotypenumbers\":\"strict\",\"coloraxis\":{\"colorbar\":{\"outlinewidth\":0,\"ticks\":\"\"}},\"colorscale\":{\"diverging\":[[0,\"#8e0152\"],[0.1,\"#c51b7d\"],[0.2,\"#de77ae\"],[0.3,\"#f1b6da\"],[0.4,\"#fde0ef\"],[0.5,\"#f7f7f7\"],[0.6,\"#e6f5d0\"],[0.7,\"#b8e186\"],[0.8,\"#7fbc41\"],[0.9,\"#4d9221\"],[1,\"#276419\"]],\"sequential\":[[0.0,\"#0d0887\"],[0.1111111111111111,\"#46039f\"],[0.2222222222222222,\"#7201a8\"],[0.3333333333333333,\"#9c179e\"],[0.4444444444444444,\"#bd3786\"],[0.5555555555555556,\"#d8576b\"],[0.6666666666666666,\"#ed7953\"],[0.7777777777777778,\"#fb9f3a\"],[0.8888888888888888,\"#fdca26\"],[1.0,\"#f0f921\"]],\"sequentialminus\":[[0.0,\"#0d0887\"],[0.1111111111111111,\"#46039f\"],[0.2222222222222222,\"#7201a8\"],[0.3333333333333333,\"#9c179e\"],[0.4444444444444444,\"#bd3786\"],[0.5555555555555556,\"#d8576b\"],[0.6666666666666666,\"#ed7953\"],[0.7777777777777778,\"#fb9f3a\"],[0.8888888888888888,\"#fdca26\"],[1.0,\"#f0f921\"]]},\"colorway\":[\"#636efa\",\"#EF553B\",\"#00cc96\",\"#ab63fa\",\"#FFA15A\",\"#19d3f3\",\"#FF6692\",\"#B6E880\",\"#FF97FF\",\"#FECB52\"],\"font\":{\"color\":\"#2a3f5f\"},\"geo\":{\"bgcolor\":\"white\",\"lakecolor\":\"white\",\"landcolor\":\"#E5ECF6\",\"showlakes\":true,\"showland\":true,\"subunitcolor\":\"white\"},\"hoverlabel\":{\"align\":\"left\"},\"hovermode\":\"closest\",\"mapbox\":{\"style\":\"light\"},\"paper_bgcolor\":\"white\",\"plot_bgcolor\":\"#E5ECF6\",\"polar\":{\"angularaxis\":{\"gridcolor\":\"white\",\"linecolor\":\"white\",\"ticks\":\"\"},\"bgcolor\":\"#E5ECF6\",\"radialaxis\":{\"gridcolor\":\"white\",\"linecolor\":\"white\",\"ticks\":\"\"}},\"scene\":{\"xaxis\":{\"backgroundcolor\":\"#E5ECF6\",\"gridcolor\":\"white\",\"gridwidth\":2,\"linecolor\":\"white\",\"showbackground\":true,\"ticks\":\"\",\"zerolinecolor\":\"white\"},\"yaxis\":{\"backgroundcolor\":\"#E5ECF6\",\"gridcolor\":\"white\",\"gridwidth\":2,\"linecolor\":\"white\",\"showbackground\":true,\"ticks\":\"\",\"zerolinecolor\":\"white\"},\"zaxis\":{\"backgroundcolor\":\"#E5ECF6\",\"gridcolor\":\"white\",\"gridwidth\":2,\"linecolor\":\"white\",\"showbackground\":true,\"ticks\":\"\",\"zerolinecolor\":\"white\"}},\"shapedefaults\":{\"line\":{\"color\":\"#2a3f5f\"}},\"ternary\":{\"aaxis\":{\"gridcolor\":\"white\",\"linecolor\":\"white\",\"ticks\":\"\"},\"baxis\":{\"gridcolor\":\"white\",\"linecolor\":\"white\",\"ticks\":\"\"},\"bgcolor\":\"#E5ECF6\",\"caxis\":{\"gridcolor\":\"white\",\"linecolor\":\"white\",\"ticks\":\"\"}},\"title\":{\"x\":0.05},\"xaxis\":{\"automargin\":true,\"gridcolor\":\"white\",\"linecolor\":\"white\",\"ticks\":\"\",\"title\":{\"standoff\":15},\"zerolinecolor\":\"white\",\"zerolinewidth\":2},\"yaxis\":{\"automargin\":true,\"gridcolor\":\"white\",\"linecolor\":\"white\",\"ticks\":\"\",\"title\":{\"standoff\":15},\"zerolinecolor\":\"white\",\"zerolinewidth\":2}}},\"title\":{\"text\":\"Count of 1 and 0 in binary variables\"}},                        {\"responsive\": true}                    ).then(function(){\n",
       "                            \n",
       "var gd = document.getElementById('4aa2b970-fc3b-4412-9dfd-16f44d8fc3b6');\n",
       "var x = new MutationObserver(function (mutations, observer) {{\n",
       "        var display = window.getComputedStyle(gd).display;\n",
       "        if (!display || display === 'none') {{\n",
       "            console.log([gd, 'removed!']);\n",
       "            Plotly.purge(gd);\n",
       "            observer.disconnect();\n",
       "        }}\n",
       "}});\n",
       "\n",
       "// Listen for the removal of the full notebook cells\n",
       "var notebookContainer = gd.closest('#notebook-container');\n",
       "if (notebookContainer) {{\n",
       "    x.observe(notebookContainer, {childList: true});\n",
       "}}\n",
       "\n",
       "// Listen for the clearing of the current output cell\n",
       "var outputEl = gd.closest('.output');\n",
       "if (outputEl) {{\n",
       "    x.observe(outputEl, {childList: true});\n",
       "}}\n",
       "\n",
       "                        })                };                });            </script>        </div>"
      ]
     },
     "metadata": {},
     "output_type": "display_data"
    }
   ],
   "source": [
    "bin_col = [col for col in train.columns if '_bin' in col]\n",
    "zero_list = []\n",
    "one_list = []\n",
    "for col in bin_col:\n",
    "  zero_list.append((train[col]==0).sum())\n",
    "  one_list.append((train[col]==1).sum())\n",
    "\n",
    "trace1 = go.Bar(\n",
    "  x = bin_col,\n",
    "  y = zero_list,\n",
    "  name = 'Zero count'\n",
    ")\n",
    "\n",
    "trace2 = go.Bar(\n",
    "  x = bin_col,\n",
    "  y = one_list,\n",
    "  name = 'One count'\n",
    ")\n",
    "\n",
    "data = [trace1, trace2]\n",
    "layout = go.Layout(\n",
    "  barmode = 'stack',\n",
    "  title = 'Count of 1 and 0 in binary variables'\n",
    ")\n",
    "\n",
    "fig = go.Figure(data=data, layout = layout)\n",
    "py.iplot(fig, filename='stacked-bar')"
   ]
  },
  {
   "cell_type": "code",
   "execution_count": 15,
   "metadata": {},
   "outputs": [],
   "source": [
    "from sklearn.ensemble import RandomForestClassifier\n",
    "\n",
    "rf = RandomForestClassifier(n_estimators=150, max_depth=8, min_samples_leaf=4,\\\n",
    "  max_features=0.2, n_jobs=-1, random_state=0)\n",
    "\n",
    "rf.fit(train.drop(['id', 'target'], axis=1), train.target)\n",
    "features = train.drop(['id', 'target'], axis=1).columns.values"
   ]
  },
  {
   "cell_type": "code",
   "execution_count": 16,
   "metadata": {},
   "outputs": [
    {
     "data": {
      "application/vnd.plotly.v1+json": {
       "config": {
        "linkText": "Export to plot.ly",
        "plotlyServerURL": "https://plot.ly",
        "showLink": false
       },
       "data": [
        {
         "marker": {
          "color": [
           0.019705344349808217,
           0.011707972321864029,
           0.03216992339636868,
           0.005565543512250457,
           0.020336827584850378,
           0.004133219800260837,
           0.009357557727790703,
           0.005799619559534664,
           0.0027889695780508065,
           0,
           0,
           0.001664812429948304,
           0,
           0.0013578575037256706,
           0.03777932456962228,
           0.005950316294767961,
           0.007196198282161908,
           0.00378683314379272,
           0.023130238064811195,
           0.030009081131462428,
           0.04938912961803565,
           0.02958208355866236,
           0.008578282874816023,
           0.007048899764045243,
           0.011713302961583797,
           0.009720374677325639,
           0.02342179317983305,
           0.006775795592924175,
           0.0029425313923714326,
           0.009341756849656093,
           0,
           0.04473600762844828,
           0.010651233180797654,
           0.025903577324600722,
           0.07648530802435659,
           0.04309107397351763,
           0.024757972485045365,
           0.024532144132099757,
           0.02743948350131267,
           0.030260673644205215,
           0.02132442423261006,
           0.026109003655280724,
           0.020697662463855262,
           0.01916220239707149,
           0.02298034664649857,
           0.01636377379464658,
           0.03187905413240004,
           0.038510297987964036,
           0.018535948974752976,
           0.026302427526269438,
           0.037288176695396365,
           0.003828409771269791,
           0.006871804698246132,
           0.006551762401625957,
           0.004170575457898376,
           0.005973266137066635,
           0.004639799412438958
          ],
          "colorscale": [
           [
            0,
            "rgb(12,51,131)"
           ],
           [
            0.25,
            "rgb(10,136,186)"
           ],
           [
            0.5,
            "rgb(242,211,56)"
           ],
           [
            0.75,
            "rgb(242,143,56)"
           ],
           [
            1,
            "rgb(217,30,30)"
           ]
          ],
          "showscale": true,
          "size": 13,
          "sizemode": "diameter",
          "sizeref": 1
         },
         "mode": "markers",
         "text": [
          "ps_ind_01",
          "ps_ind_02_cat",
          "ps_ind_03",
          "ps_ind_04_cat",
          "ps_ind_05_cat",
          "ps_ind_06_bin",
          "ps_ind_07_bin",
          "ps_ind_08_bin",
          "ps_ind_09_bin",
          "ps_ind_10_bin",
          "ps_ind_11_bin",
          "ps_ind_12_bin",
          "ps_ind_13_bin",
          "ps_ind_14",
          "ps_ind_15",
          "ps_ind_16_bin",
          "ps_ind_17_bin",
          "ps_ind_18_bin",
          "ps_reg_01",
          "ps_reg_02",
          "ps_reg_03",
          "ps_car_01_cat",
          "ps_car_02_cat",
          "ps_car_03_cat",
          "ps_car_04_cat",
          "ps_car_05_cat",
          "ps_car_06_cat",
          "ps_car_07_cat",
          "ps_car_08_cat",
          "ps_car_09_cat",
          "ps_car_10_cat",
          "ps_car_11_cat",
          "ps_car_11",
          "ps_car_12",
          "ps_car_13",
          "ps_car_14",
          "ps_car_15",
          "ps_calc_01",
          "ps_calc_02",
          "ps_calc_03",
          "ps_calc_04",
          "ps_calc_05",
          "ps_calc_06",
          "ps_calc_07",
          "ps_calc_08",
          "ps_calc_09",
          "ps_calc_10",
          "ps_calc_11",
          "ps_calc_12",
          "ps_calc_13",
          "ps_calc_14",
          "ps_calc_15_bin",
          "ps_calc_16_bin",
          "ps_calc_17_bin",
          "ps_calc_18_bin",
          "ps_calc_19_bin",
          "ps_calc_20_bin"
         ],
         "type": "scatter",
         "x": [
          "ps_ind_01",
          "ps_ind_02_cat",
          "ps_ind_03",
          "ps_ind_04_cat",
          "ps_ind_05_cat",
          "ps_ind_06_bin",
          "ps_ind_07_bin",
          "ps_ind_08_bin",
          "ps_ind_09_bin",
          "ps_ind_10_bin",
          "ps_ind_11_bin",
          "ps_ind_12_bin",
          "ps_ind_13_bin",
          "ps_ind_14",
          "ps_ind_15",
          "ps_ind_16_bin",
          "ps_ind_17_bin",
          "ps_ind_18_bin",
          "ps_reg_01",
          "ps_reg_02",
          "ps_reg_03",
          "ps_car_01_cat",
          "ps_car_02_cat",
          "ps_car_03_cat",
          "ps_car_04_cat",
          "ps_car_05_cat",
          "ps_car_06_cat",
          "ps_car_07_cat",
          "ps_car_08_cat",
          "ps_car_09_cat",
          "ps_car_10_cat",
          "ps_car_11_cat",
          "ps_car_11",
          "ps_car_12",
          "ps_car_13",
          "ps_car_14",
          "ps_car_15",
          "ps_calc_01",
          "ps_calc_02",
          "ps_calc_03",
          "ps_calc_04",
          "ps_calc_05",
          "ps_calc_06",
          "ps_calc_07",
          "ps_calc_08",
          "ps_calc_09",
          "ps_calc_10",
          "ps_calc_11",
          "ps_calc_12",
          "ps_calc_13",
          "ps_calc_14",
          "ps_calc_15_bin",
          "ps_calc_16_bin",
          "ps_calc_17_bin",
          "ps_calc_18_bin",
          "ps_calc_19_bin",
          "ps_calc_20_bin"
         ],
         "y": [
          0.019705344349808217,
          0.011707972321864029,
          0.03216992339636868,
          0.005565543512250457,
          0.020336827584850378,
          0.004133219800260837,
          0.009357557727790703,
          0.005799619559534664,
          0.0027889695780508065,
          0,
          0,
          0.001664812429948304,
          0,
          0.0013578575037256706,
          0.03777932456962228,
          0.005950316294767961,
          0.007196198282161908,
          0.00378683314379272,
          0.023130238064811195,
          0.030009081131462428,
          0.04938912961803565,
          0.02958208355866236,
          0.008578282874816023,
          0.007048899764045243,
          0.011713302961583797,
          0.009720374677325639,
          0.02342179317983305,
          0.006775795592924175,
          0.0029425313923714326,
          0.009341756849656093,
          0,
          0.04473600762844828,
          0.010651233180797654,
          0.025903577324600722,
          0.07648530802435659,
          0.04309107397351763,
          0.024757972485045365,
          0.024532144132099757,
          0.02743948350131267,
          0.030260673644205215,
          0.02132442423261006,
          0.026109003655280724,
          0.020697662463855262,
          0.01916220239707149,
          0.02298034664649857,
          0.01636377379464658,
          0.03187905413240004,
          0.038510297987964036,
          0.018535948974752976,
          0.026302427526269438,
          0.037288176695396365,
          0.003828409771269791,
          0.006871804698246132,
          0.006551762401625957,
          0.004170575457898376,
          0.005973266137066635,
          0.004639799412438958
         ]
        }
       ],
       "layout": {
        "autosize": true,
        "hovermode": "closest",
        "showlegend": false,
        "template": {
         "data": {
          "bar": [
           {
            "error_x": {
             "color": "#2a3f5f"
            },
            "error_y": {
             "color": "#2a3f5f"
            },
            "marker": {
             "line": {
              "color": "#E5ECF6",
              "width": 0.5
             },
             "pattern": {
              "fillmode": "overlay",
              "size": 10,
              "solidity": 0.2
             }
            },
            "type": "bar"
           }
          ],
          "barpolar": [
           {
            "marker": {
             "line": {
              "color": "#E5ECF6",
              "width": 0.5
             },
             "pattern": {
              "fillmode": "overlay",
              "size": 10,
              "solidity": 0.2
             }
            },
            "type": "barpolar"
           }
          ],
          "carpet": [
           {
            "aaxis": {
             "endlinecolor": "#2a3f5f",
             "gridcolor": "white",
             "linecolor": "white",
             "minorgridcolor": "white",
             "startlinecolor": "#2a3f5f"
            },
            "baxis": {
             "endlinecolor": "#2a3f5f",
             "gridcolor": "white",
             "linecolor": "white",
             "minorgridcolor": "white",
             "startlinecolor": "#2a3f5f"
            },
            "type": "carpet"
           }
          ],
          "choropleth": [
           {
            "colorbar": {
             "outlinewidth": 0,
             "ticks": ""
            },
            "type": "choropleth"
           }
          ],
          "contour": [
           {
            "colorbar": {
             "outlinewidth": 0,
             "ticks": ""
            },
            "colorscale": [
             [
              0,
              "#0d0887"
             ],
             [
              0.1111111111111111,
              "#46039f"
             ],
             [
              0.2222222222222222,
              "#7201a8"
             ],
             [
              0.3333333333333333,
              "#9c179e"
             ],
             [
              0.4444444444444444,
              "#bd3786"
             ],
             [
              0.5555555555555556,
              "#d8576b"
             ],
             [
              0.6666666666666666,
              "#ed7953"
             ],
             [
              0.7777777777777778,
              "#fb9f3a"
             ],
             [
              0.8888888888888888,
              "#fdca26"
             ],
             [
              1,
              "#f0f921"
             ]
            ],
            "type": "contour"
           }
          ],
          "contourcarpet": [
           {
            "colorbar": {
             "outlinewidth": 0,
             "ticks": ""
            },
            "type": "contourcarpet"
           }
          ],
          "heatmap": [
           {
            "colorbar": {
             "outlinewidth": 0,
             "ticks": ""
            },
            "colorscale": [
             [
              0,
              "#0d0887"
             ],
             [
              0.1111111111111111,
              "#46039f"
             ],
             [
              0.2222222222222222,
              "#7201a8"
             ],
             [
              0.3333333333333333,
              "#9c179e"
             ],
             [
              0.4444444444444444,
              "#bd3786"
             ],
             [
              0.5555555555555556,
              "#d8576b"
             ],
             [
              0.6666666666666666,
              "#ed7953"
             ],
             [
              0.7777777777777778,
              "#fb9f3a"
             ],
             [
              0.8888888888888888,
              "#fdca26"
             ],
             [
              1,
              "#f0f921"
             ]
            ],
            "type": "heatmap"
           }
          ],
          "heatmapgl": [
           {
            "colorbar": {
             "outlinewidth": 0,
             "ticks": ""
            },
            "colorscale": [
             [
              0,
              "#0d0887"
             ],
             [
              0.1111111111111111,
              "#46039f"
             ],
             [
              0.2222222222222222,
              "#7201a8"
             ],
             [
              0.3333333333333333,
              "#9c179e"
             ],
             [
              0.4444444444444444,
              "#bd3786"
             ],
             [
              0.5555555555555556,
              "#d8576b"
             ],
             [
              0.6666666666666666,
              "#ed7953"
             ],
             [
              0.7777777777777778,
              "#fb9f3a"
             ],
             [
              0.8888888888888888,
              "#fdca26"
             ],
             [
              1,
              "#f0f921"
             ]
            ],
            "type": "heatmapgl"
           }
          ],
          "histogram": [
           {
            "marker": {
             "pattern": {
              "fillmode": "overlay",
              "size": 10,
              "solidity": 0.2
             }
            },
            "type": "histogram"
           }
          ],
          "histogram2d": [
           {
            "colorbar": {
             "outlinewidth": 0,
             "ticks": ""
            },
            "colorscale": [
             [
              0,
              "#0d0887"
             ],
             [
              0.1111111111111111,
              "#46039f"
             ],
             [
              0.2222222222222222,
              "#7201a8"
             ],
             [
              0.3333333333333333,
              "#9c179e"
             ],
             [
              0.4444444444444444,
              "#bd3786"
             ],
             [
              0.5555555555555556,
              "#d8576b"
             ],
             [
              0.6666666666666666,
              "#ed7953"
             ],
             [
              0.7777777777777778,
              "#fb9f3a"
             ],
             [
              0.8888888888888888,
              "#fdca26"
             ],
             [
              1,
              "#f0f921"
             ]
            ],
            "type": "histogram2d"
           }
          ],
          "histogram2dcontour": [
           {
            "colorbar": {
             "outlinewidth": 0,
             "ticks": ""
            },
            "colorscale": [
             [
              0,
              "#0d0887"
             ],
             [
              0.1111111111111111,
              "#46039f"
             ],
             [
              0.2222222222222222,
              "#7201a8"
             ],
             [
              0.3333333333333333,
              "#9c179e"
             ],
             [
              0.4444444444444444,
              "#bd3786"
             ],
             [
              0.5555555555555556,
              "#d8576b"
             ],
             [
              0.6666666666666666,
              "#ed7953"
             ],
             [
              0.7777777777777778,
              "#fb9f3a"
             ],
             [
              0.8888888888888888,
              "#fdca26"
             ],
             [
              1,
              "#f0f921"
             ]
            ],
            "type": "histogram2dcontour"
           }
          ],
          "mesh3d": [
           {
            "colorbar": {
             "outlinewidth": 0,
             "ticks": ""
            },
            "type": "mesh3d"
           }
          ],
          "parcoords": [
           {
            "line": {
             "colorbar": {
              "outlinewidth": 0,
              "ticks": ""
             }
            },
            "type": "parcoords"
           }
          ],
          "pie": [
           {
            "automargin": true,
            "type": "pie"
           }
          ],
          "scatter": [
           {
            "marker": {
             "colorbar": {
              "outlinewidth": 0,
              "ticks": ""
             }
            },
            "type": "scatter"
           }
          ],
          "scatter3d": [
           {
            "line": {
             "colorbar": {
              "outlinewidth": 0,
              "ticks": ""
             }
            },
            "marker": {
             "colorbar": {
              "outlinewidth": 0,
              "ticks": ""
             }
            },
            "type": "scatter3d"
           }
          ],
          "scattercarpet": [
           {
            "marker": {
             "colorbar": {
              "outlinewidth": 0,
              "ticks": ""
             }
            },
            "type": "scattercarpet"
           }
          ],
          "scattergeo": [
           {
            "marker": {
             "colorbar": {
              "outlinewidth": 0,
              "ticks": ""
             }
            },
            "type": "scattergeo"
           }
          ],
          "scattergl": [
           {
            "marker": {
             "colorbar": {
              "outlinewidth": 0,
              "ticks": ""
             }
            },
            "type": "scattergl"
           }
          ],
          "scattermapbox": [
           {
            "marker": {
             "colorbar": {
              "outlinewidth": 0,
              "ticks": ""
             }
            },
            "type": "scattermapbox"
           }
          ],
          "scatterpolar": [
           {
            "marker": {
             "colorbar": {
              "outlinewidth": 0,
              "ticks": ""
             }
            },
            "type": "scatterpolar"
           }
          ],
          "scatterpolargl": [
           {
            "marker": {
             "colorbar": {
              "outlinewidth": 0,
              "ticks": ""
             }
            },
            "type": "scatterpolargl"
           }
          ],
          "scatterternary": [
           {
            "marker": {
             "colorbar": {
              "outlinewidth": 0,
              "ticks": ""
             }
            },
            "type": "scatterternary"
           }
          ],
          "surface": [
           {
            "colorbar": {
             "outlinewidth": 0,
             "ticks": ""
            },
            "colorscale": [
             [
              0,
              "#0d0887"
             ],
             [
              0.1111111111111111,
              "#46039f"
             ],
             [
              0.2222222222222222,
              "#7201a8"
             ],
             [
              0.3333333333333333,
              "#9c179e"
             ],
             [
              0.4444444444444444,
              "#bd3786"
             ],
             [
              0.5555555555555556,
              "#d8576b"
             ],
             [
              0.6666666666666666,
              "#ed7953"
             ],
             [
              0.7777777777777778,
              "#fb9f3a"
             ],
             [
              0.8888888888888888,
              "#fdca26"
             ],
             [
              1,
              "#f0f921"
             ]
            ],
            "type": "surface"
           }
          ],
          "table": [
           {
            "cells": {
             "fill": {
              "color": "#EBF0F8"
             },
             "line": {
              "color": "white"
             }
            },
            "header": {
             "fill": {
              "color": "#C8D4E3"
             },
             "line": {
              "color": "white"
             }
            },
            "type": "table"
           }
          ]
         },
         "layout": {
          "annotationdefaults": {
           "arrowcolor": "#2a3f5f",
           "arrowhead": 0,
           "arrowwidth": 1
          },
          "autotypenumbers": "strict",
          "coloraxis": {
           "colorbar": {
            "outlinewidth": 0,
            "ticks": ""
           }
          },
          "colorscale": {
           "diverging": [
            [
             0,
             "#8e0152"
            ],
            [
             0.1,
             "#c51b7d"
            ],
            [
             0.2,
             "#de77ae"
            ],
            [
             0.3,
             "#f1b6da"
            ],
            [
             0.4,
             "#fde0ef"
            ],
            [
             0.5,
             "#f7f7f7"
            ],
            [
             0.6,
             "#e6f5d0"
            ],
            [
             0.7,
             "#b8e186"
            ],
            [
             0.8,
             "#7fbc41"
            ],
            [
             0.9,
             "#4d9221"
            ],
            [
             1,
             "#276419"
            ]
           ],
           "sequential": [
            [
             0,
             "#0d0887"
            ],
            [
             0.1111111111111111,
             "#46039f"
            ],
            [
             0.2222222222222222,
             "#7201a8"
            ],
            [
             0.3333333333333333,
             "#9c179e"
            ],
            [
             0.4444444444444444,
             "#bd3786"
            ],
            [
             0.5555555555555556,
             "#d8576b"
            ],
            [
             0.6666666666666666,
             "#ed7953"
            ],
            [
             0.7777777777777778,
             "#fb9f3a"
            ],
            [
             0.8888888888888888,
             "#fdca26"
            ],
            [
             1,
             "#f0f921"
            ]
           ],
           "sequentialminus": [
            [
             0,
             "#0d0887"
            ],
            [
             0.1111111111111111,
             "#46039f"
            ],
            [
             0.2222222222222222,
             "#7201a8"
            ],
            [
             0.3333333333333333,
             "#9c179e"
            ],
            [
             0.4444444444444444,
             "#bd3786"
            ],
            [
             0.5555555555555556,
             "#d8576b"
            ],
            [
             0.6666666666666666,
             "#ed7953"
            ],
            [
             0.7777777777777778,
             "#fb9f3a"
            ],
            [
             0.8888888888888888,
             "#fdca26"
            ],
            [
             1,
             "#f0f921"
            ]
           ]
          },
          "colorway": [
           "#636efa",
           "#EF553B",
           "#00cc96",
           "#ab63fa",
           "#FFA15A",
           "#19d3f3",
           "#FF6692",
           "#B6E880",
           "#FF97FF",
           "#FECB52"
          ],
          "font": {
           "color": "#2a3f5f"
          },
          "geo": {
           "bgcolor": "white",
           "lakecolor": "white",
           "landcolor": "#E5ECF6",
           "showlakes": true,
           "showland": true,
           "subunitcolor": "white"
          },
          "hoverlabel": {
           "align": "left"
          },
          "hovermode": "closest",
          "mapbox": {
           "style": "light"
          },
          "paper_bgcolor": "white",
          "plot_bgcolor": "#E5ECF6",
          "polar": {
           "angularaxis": {
            "gridcolor": "white",
            "linecolor": "white",
            "ticks": ""
           },
           "bgcolor": "#E5ECF6",
           "radialaxis": {
            "gridcolor": "white",
            "linecolor": "white",
            "ticks": ""
           }
          },
          "scene": {
           "xaxis": {
            "backgroundcolor": "#E5ECF6",
            "gridcolor": "white",
            "gridwidth": 2,
            "linecolor": "white",
            "showbackground": true,
            "ticks": "",
            "zerolinecolor": "white"
           },
           "yaxis": {
            "backgroundcolor": "#E5ECF6",
            "gridcolor": "white",
            "gridwidth": 2,
            "linecolor": "white",
            "showbackground": true,
            "ticks": "",
            "zerolinecolor": "white"
           },
           "zaxis": {
            "backgroundcolor": "#E5ECF6",
            "gridcolor": "white",
            "gridwidth": 2,
            "linecolor": "white",
            "showbackground": true,
            "ticks": "",
            "zerolinecolor": "white"
           }
          },
          "shapedefaults": {
           "line": {
            "color": "#2a3f5f"
           }
          },
          "ternary": {
           "aaxis": {
            "gridcolor": "white",
            "linecolor": "white",
            "ticks": ""
           },
           "baxis": {
            "gridcolor": "white",
            "linecolor": "white",
            "ticks": ""
           },
           "bgcolor": "#E5ECF6",
           "caxis": {
            "gridcolor": "white",
            "linecolor": "white",
            "ticks": ""
           }
          },
          "title": {
           "x": 0.05
          },
          "xaxis": {
           "automargin": true,
           "gridcolor": "white",
           "linecolor": "white",
           "ticks": "",
           "title": {
            "standoff": 15
           },
           "zerolinecolor": "white",
           "zerolinewidth": 2
          },
          "yaxis": {
           "automargin": true,
           "gridcolor": "white",
           "linecolor": "white",
           "ticks": "",
           "title": {
            "standoff": 15
           },
           "zerolinecolor": "white",
           "zerolinewidth": 2
          }
         }
        },
        "title": {
         "text": "Random Forest Feature Importance"
        },
        "xaxis": {
         "showgrid": false,
         "showline": false,
         "ticklen": 5,
         "zeroline": false
        },
        "yaxis": {
         "gridwidth": 2,
         "showgrid": false,
         "ticklen": 5,
         "title": {
          "text": "Feature Importance"
         },
         "zeroline": false
        }
       }
      },
      "text/html": [
       "<div>                            <div id=\"af2dbd06-3e21-4018-9435-c96dc8447e16\" class=\"plotly-graph-div\" style=\"height:525px; width:100%;\"></div>            <script type=\"text/javascript\">                require([\"plotly\"], function(Plotly) {                    window.PLOTLYENV=window.PLOTLYENV || {};                                    if (document.getElementById(\"af2dbd06-3e21-4018-9435-c96dc8447e16\")) {                    Plotly.newPlot(                        \"af2dbd06-3e21-4018-9435-c96dc8447e16\",                        [{\"marker\":{\"color\":[0.019705344349808217,0.011707972321864029,0.03216992339636868,0.005565543512250457,0.020336827584850378,0.004133219800260837,0.009357557727790703,0.005799619559534664,0.0027889695780508065,0.0,0.0,0.001664812429948304,0.0,0.0013578575037256706,0.03777932456962228,0.005950316294767961,0.007196198282161908,0.00378683314379272,0.023130238064811195,0.030009081131462428,0.04938912961803565,0.02958208355866236,0.008578282874816023,0.007048899764045243,0.011713302961583797,0.009720374677325639,0.02342179317983305,0.006775795592924175,0.0029425313923714326,0.009341756849656093,0.0,0.04473600762844828,0.010651233180797654,0.025903577324600722,0.07648530802435659,0.04309107397351763,0.024757972485045365,0.024532144132099757,0.02743948350131267,0.030260673644205215,0.02132442423261006,0.026109003655280724,0.020697662463855262,0.01916220239707149,0.02298034664649857,0.01636377379464658,0.03187905413240004,0.038510297987964036,0.018535948974752976,0.026302427526269438,0.037288176695396365,0.003828409771269791,0.006871804698246132,0.006551762401625957,0.004170575457898376,0.005973266137066635,0.004639799412438958],\"colorscale\":[[0.0,\"rgb(12,51,131)\"],[0.25,\"rgb(10,136,186)\"],[0.5,\"rgb(242,211,56)\"],[0.75,\"rgb(242,143,56)\"],[1.0,\"rgb(217,30,30)\"]],\"showscale\":true,\"size\":13,\"sizemode\":\"diameter\",\"sizeref\":1},\"mode\":\"markers\",\"text\":[\"ps_ind_01\",\"ps_ind_02_cat\",\"ps_ind_03\",\"ps_ind_04_cat\",\"ps_ind_05_cat\",\"ps_ind_06_bin\",\"ps_ind_07_bin\",\"ps_ind_08_bin\",\"ps_ind_09_bin\",\"ps_ind_10_bin\",\"ps_ind_11_bin\",\"ps_ind_12_bin\",\"ps_ind_13_bin\",\"ps_ind_14\",\"ps_ind_15\",\"ps_ind_16_bin\",\"ps_ind_17_bin\",\"ps_ind_18_bin\",\"ps_reg_01\",\"ps_reg_02\",\"ps_reg_03\",\"ps_car_01_cat\",\"ps_car_02_cat\",\"ps_car_03_cat\",\"ps_car_04_cat\",\"ps_car_05_cat\",\"ps_car_06_cat\",\"ps_car_07_cat\",\"ps_car_08_cat\",\"ps_car_09_cat\",\"ps_car_10_cat\",\"ps_car_11_cat\",\"ps_car_11\",\"ps_car_12\",\"ps_car_13\",\"ps_car_14\",\"ps_car_15\",\"ps_calc_01\",\"ps_calc_02\",\"ps_calc_03\",\"ps_calc_04\",\"ps_calc_05\",\"ps_calc_06\",\"ps_calc_07\",\"ps_calc_08\",\"ps_calc_09\",\"ps_calc_10\",\"ps_calc_11\",\"ps_calc_12\",\"ps_calc_13\",\"ps_calc_14\",\"ps_calc_15_bin\",\"ps_calc_16_bin\",\"ps_calc_17_bin\",\"ps_calc_18_bin\",\"ps_calc_19_bin\",\"ps_calc_20_bin\"],\"x\":[\"ps_ind_01\",\"ps_ind_02_cat\",\"ps_ind_03\",\"ps_ind_04_cat\",\"ps_ind_05_cat\",\"ps_ind_06_bin\",\"ps_ind_07_bin\",\"ps_ind_08_bin\",\"ps_ind_09_bin\",\"ps_ind_10_bin\",\"ps_ind_11_bin\",\"ps_ind_12_bin\",\"ps_ind_13_bin\",\"ps_ind_14\",\"ps_ind_15\",\"ps_ind_16_bin\",\"ps_ind_17_bin\",\"ps_ind_18_bin\",\"ps_reg_01\",\"ps_reg_02\",\"ps_reg_03\",\"ps_car_01_cat\",\"ps_car_02_cat\",\"ps_car_03_cat\",\"ps_car_04_cat\",\"ps_car_05_cat\",\"ps_car_06_cat\",\"ps_car_07_cat\",\"ps_car_08_cat\",\"ps_car_09_cat\",\"ps_car_10_cat\",\"ps_car_11_cat\",\"ps_car_11\",\"ps_car_12\",\"ps_car_13\",\"ps_car_14\",\"ps_car_15\",\"ps_calc_01\",\"ps_calc_02\",\"ps_calc_03\",\"ps_calc_04\",\"ps_calc_05\",\"ps_calc_06\",\"ps_calc_07\",\"ps_calc_08\",\"ps_calc_09\",\"ps_calc_10\",\"ps_calc_11\",\"ps_calc_12\",\"ps_calc_13\",\"ps_calc_14\",\"ps_calc_15_bin\",\"ps_calc_16_bin\",\"ps_calc_17_bin\",\"ps_calc_18_bin\",\"ps_calc_19_bin\",\"ps_calc_20_bin\"],\"y\":[0.019705344349808217,0.011707972321864029,0.03216992339636868,0.005565543512250457,0.020336827584850378,0.004133219800260837,0.009357557727790703,0.005799619559534664,0.0027889695780508065,0.0,0.0,0.001664812429948304,0.0,0.0013578575037256706,0.03777932456962228,0.005950316294767961,0.007196198282161908,0.00378683314379272,0.023130238064811195,0.030009081131462428,0.04938912961803565,0.02958208355866236,0.008578282874816023,0.007048899764045243,0.011713302961583797,0.009720374677325639,0.02342179317983305,0.006775795592924175,0.0029425313923714326,0.009341756849656093,0.0,0.04473600762844828,0.010651233180797654,0.025903577324600722,0.07648530802435659,0.04309107397351763,0.024757972485045365,0.024532144132099757,0.02743948350131267,0.030260673644205215,0.02132442423261006,0.026109003655280724,0.020697662463855262,0.01916220239707149,0.02298034664649857,0.01636377379464658,0.03187905413240004,0.038510297987964036,0.018535948974752976,0.026302427526269438,0.037288176695396365,0.003828409771269791,0.006871804698246132,0.006551762401625957,0.004170575457898376,0.005973266137066635,0.004639799412438958],\"type\":\"scatter\"}],                        {\"autosize\":true,\"hovermode\":\"closest\",\"showlegend\":false,\"template\":{\"data\":{\"barpolar\":[{\"marker\":{\"line\":{\"color\":\"#E5ECF6\",\"width\":0.5},\"pattern\":{\"fillmode\":\"overlay\",\"size\":10,\"solidity\":0.2}},\"type\":\"barpolar\"}],\"bar\":[{\"error_x\":{\"color\":\"#2a3f5f\"},\"error_y\":{\"color\":\"#2a3f5f\"},\"marker\":{\"line\":{\"color\":\"#E5ECF6\",\"width\":0.5},\"pattern\":{\"fillmode\":\"overlay\",\"size\":10,\"solidity\":0.2}},\"type\":\"bar\"}],\"carpet\":[{\"aaxis\":{\"endlinecolor\":\"#2a3f5f\",\"gridcolor\":\"white\",\"linecolor\":\"white\",\"minorgridcolor\":\"white\",\"startlinecolor\":\"#2a3f5f\"},\"baxis\":{\"endlinecolor\":\"#2a3f5f\",\"gridcolor\":\"white\",\"linecolor\":\"white\",\"minorgridcolor\":\"white\",\"startlinecolor\":\"#2a3f5f\"},\"type\":\"carpet\"}],\"choropleth\":[{\"colorbar\":{\"outlinewidth\":0,\"ticks\":\"\"},\"type\":\"choropleth\"}],\"contourcarpet\":[{\"colorbar\":{\"outlinewidth\":0,\"ticks\":\"\"},\"type\":\"contourcarpet\"}],\"contour\":[{\"colorbar\":{\"outlinewidth\":0,\"ticks\":\"\"},\"colorscale\":[[0.0,\"#0d0887\"],[0.1111111111111111,\"#46039f\"],[0.2222222222222222,\"#7201a8\"],[0.3333333333333333,\"#9c179e\"],[0.4444444444444444,\"#bd3786\"],[0.5555555555555556,\"#d8576b\"],[0.6666666666666666,\"#ed7953\"],[0.7777777777777778,\"#fb9f3a\"],[0.8888888888888888,\"#fdca26\"],[1.0,\"#f0f921\"]],\"type\":\"contour\"}],\"heatmapgl\":[{\"colorbar\":{\"outlinewidth\":0,\"ticks\":\"\"},\"colorscale\":[[0.0,\"#0d0887\"],[0.1111111111111111,\"#46039f\"],[0.2222222222222222,\"#7201a8\"],[0.3333333333333333,\"#9c179e\"],[0.4444444444444444,\"#bd3786\"],[0.5555555555555556,\"#d8576b\"],[0.6666666666666666,\"#ed7953\"],[0.7777777777777778,\"#fb9f3a\"],[0.8888888888888888,\"#fdca26\"],[1.0,\"#f0f921\"]],\"type\":\"heatmapgl\"}],\"heatmap\":[{\"colorbar\":{\"outlinewidth\":0,\"ticks\":\"\"},\"colorscale\":[[0.0,\"#0d0887\"],[0.1111111111111111,\"#46039f\"],[0.2222222222222222,\"#7201a8\"],[0.3333333333333333,\"#9c179e\"],[0.4444444444444444,\"#bd3786\"],[0.5555555555555556,\"#d8576b\"],[0.6666666666666666,\"#ed7953\"],[0.7777777777777778,\"#fb9f3a\"],[0.8888888888888888,\"#fdca26\"],[1.0,\"#f0f921\"]],\"type\":\"heatmap\"}],\"histogram2dcontour\":[{\"colorbar\":{\"outlinewidth\":0,\"ticks\":\"\"},\"colorscale\":[[0.0,\"#0d0887\"],[0.1111111111111111,\"#46039f\"],[0.2222222222222222,\"#7201a8\"],[0.3333333333333333,\"#9c179e\"],[0.4444444444444444,\"#bd3786\"],[0.5555555555555556,\"#d8576b\"],[0.6666666666666666,\"#ed7953\"],[0.7777777777777778,\"#fb9f3a\"],[0.8888888888888888,\"#fdca26\"],[1.0,\"#f0f921\"]],\"type\":\"histogram2dcontour\"}],\"histogram2d\":[{\"colorbar\":{\"outlinewidth\":0,\"ticks\":\"\"},\"colorscale\":[[0.0,\"#0d0887\"],[0.1111111111111111,\"#46039f\"],[0.2222222222222222,\"#7201a8\"],[0.3333333333333333,\"#9c179e\"],[0.4444444444444444,\"#bd3786\"],[0.5555555555555556,\"#d8576b\"],[0.6666666666666666,\"#ed7953\"],[0.7777777777777778,\"#fb9f3a\"],[0.8888888888888888,\"#fdca26\"],[1.0,\"#f0f921\"]],\"type\":\"histogram2d\"}],\"histogram\":[{\"marker\":{\"pattern\":{\"fillmode\":\"overlay\",\"size\":10,\"solidity\":0.2}},\"type\":\"histogram\"}],\"mesh3d\":[{\"colorbar\":{\"outlinewidth\":0,\"ticks\":\"\"},\"type\":\"mesh3d\"}],\"parcoords\":[{\"line\":{\"colorbar\":{\"outlinewidth\":0,\"ticks\":\"\"}},\"type\":\"parcoords\"}],\"pie\":[{\"automargin\":true,\"type\":\"pie\"}],\"scatter3d\":[{\"line\":{\"colorbar\":{\"outlinewidth\":0,\"ticks\":\"\"}},\"marker\":{\"colorbar\":{\"outlinewidth\":0,\"ticks\":\"\"}},\"type\":\"scatter3d\"}],\"scattercarpet\":[{\"marker\":{\"colorbar\":{\"outlinewidth\":0,\"ticks\":\"\"}},\"type\":\"scattercarpet\"}],\"scattergeo\":[{\"marker\":{\"colorbar\":{\"outlinewidth\":0,\"ticks\":\"\"}},\"type\":\"scattergeo\"}],\"scattergl\":[{\"marker\":{\"colorbar\":{\"outlinewidth\":0,\"ticks\":\"\"}},\"type\":\"scattergl\"}],\"scattermapbox\":[{\"marker\":{\"colorbar\":{\"outlinewidth\":0,\"ticks\":\"\"}},\"type\":\"scattermapbox\"}],\"scatterpolargl\":[{\"marker\":{\"colorbar\":{\"outlinewidth\":0,\"ticks\":\"\"}},\"type\":\"scatterpolargl\"}],\"scatterpolar\":[{\"marker\":{\"colorbar\":{\"outlinewidth\":0,\"ticks\":\"\"}},\"type\":\"scatterpolar\"}],\"scatter\":[{\"marker\":{\"colorbar\":{\"outlinewidth\":0,\"ticks\":\"\"}},\"type\":\"scatter\"}],\"scatterternary\":[{\"marker\":{\"colorbar\":{\"outlinewidth\":0,\"ticks\":\"\"}},\"type\":\"scatterternary\"}],\"surface\":[{\"colorbar\":{\"outlinewidth\":0,\"ticks\":\"\"},\"colorscale\":[[0.0,\"#0d0887\"],[0.1111111111111111,\"#46039f\"],[0.2222222222222222,\"#7201a8\"],[0.3333333333333333,\"#9c179e\"],[0.4444444444444444,\"#bd3786\"],[0.5555555555555556,\"#d8576b\"],[0.6666666666666666,\"#ed7953\"],[0.7777777777777778,\"#fb9f3a\"],[0.8888888888888888,\"#fdca26\"],[1.0,\"#f0f921\"]],\"type\":\"surface\"}],\"table\":[{\"cells\":{\"fill\":{\"color\":\"#EBF0F8\"},\"line\":{\"color\":\"white\"}},\"header\":{\"fill\":{\"color\":\"#C8D4E3\"},\"line\":{\"color\":\"white\"}},\"type\":\"table\"}]},\"layout\":{\"annotationdefaults\":{\"arrowcolor\":\"#2a3f5f\",\"arrowhead\":0,\"arrowwidth\":1},\"autotypenumbers\":\"strict\",\"coloraxis\":{\"colorbar\":{\"outlinewidth\":0,\"ticks\":\"\"}},\"colorscale\":{\"diverging\":[[0,\"#8e0152\"],[0.1,\"#c51b7d\"],[0.2,\"#de77ae\"],[0.3,\"#f1b6da\"],[0.4,\"#fde0ef\"],[0.5,\"#f7f7f7\"],[0.6,\"#e6f5d0\"],[0.7,\"#b8e186\"],[0.8,\"#7fbc41\"],[0.9,\"#4d9221\"],[1,\"#276419\"]],\"sequential\":[[0.0,\"#0d0887\"],[0.1111111111111111,\"#46039f\"],[0.2222222222222222,\"#7201a8\"],[0.3333333333333333,\"#9c179e\"],[0.4444444444444444,\"#bd3786\"],[0.5555555555555556,\"#d8576b\"],[0.6666666666666666,\"#ed7953\"],[0.7777777777777778,\"#fb9f3a\"],[0.8888888888888888,\"#fdca26\"],[1.0,\"#f0f921\"]],\"sequentialminus\":[[0.0,\"#0d0887\"],[0.1111111111111111,\"#46039f\"],[0.2222222222222222,\"#7201a8\"],[0.3333333333333333,\"#9c179e\"],[0.4444444444444444,\"#bd3786\"],[0.5555555555555556,\"#d8576b\"],[0.6666666666666666,\"#ed7953\"],[0.7777777777777778,\"#fb9f3a\"],[0.8888888888888888,\"#fdca26\"],[1.0,\"#f0f921\"]]},\"colorway\":[\"#636efa\",\"#EF553B\",\"#00cc96\",\"#ab63fa\",\"#FFA15A\",\"#19d3f3\",\"#FF6692\",\"#B6E880\",\"#FF97FF\",\"#FECB52\"],\"font\":{\"color\":\"#2a3f5f\"},\"geo\":{\"bgcolor\":\"white\",\"lakecolor\":\"white\",\"landcolor\":\"#E5ECF6\",\"showlakes\":true,\"showland\":true,\"subunitcolor\":\"white\"},\"hoverlabel\":{\"align\":\"left\"},\"hovermode\":\"closest\",\"mapbox\":{\"style\":\"light\"},\"paper_bgcolor\":\"white\",\"plot_bgcolor\":\"#E5ECF6\",\"polar\":{\"angularaxis\":{\"gridcolor\":\"white\",\"linecolor\":\"white\",\"ticks\":\"\"},\"bgcolor\":\"#E5ECF6\",\"radialaxis\":{\"gridcolor\":\"white\",\"linecolor\":\"white\",\"ticks\":\"\"}},\"scene\":{\"xaxis\":{\"backgroundcolor\":\"#E5ECF6\",\"gridcolor\":\"white\",\"gridwidth\":2,\"linecolor\":\"white\",\"showbackground\":true,\"ticks\":\"\",\"zerolinecolor\":\"white\"},\"yaxis\":{\"backgroundcolor\":\"#E5ECF6\",\"gridcolor\":\"white\",\"gridwidth\":2,\"linecolor\":\"white\",\"showbackground\":true,\"ticks\":\"\",\"zerolinecolor\":\"white\"},\"zaxis\":{\"backgroundcolor\":\"#E5ECF6\",\"gridcolor\":\"white\",\"gridwidth\":2,\"linecolor\":\"white\",\"showbackground\":true,\"ticks\":\"\",\"zerolinecolor\":\"white\"}},\"shapedefaults\":{\"line\":{\"color\":\"#2a3f5f\"}},\"ternary\":{\"aaxis\":{\"gridcolor\":\"white\",\"linecolor\":\"white\",\"ticks\":\"\"},\"baxis\":{\"gridcolor\":\"white\",\"linecolor\":\"white\",\"ticks\":\"\"},\"bgcolor\":\"#E5ECF6\",\"caxis\":{\"gridcolor\":\"white\",\"linecolor\":\"white\",\"ticks\":\"\"}},\"title\":{\"x\":0.05},\"xaxis\":{\"automargin\":true,\"gridcolor\":\"white\",\"linecolor\":\"white\",\"ticks\":\"\",\"title\":{\"standoff\":15},\"zerolinecolor\":\"white\",\"zerolinewidth\":2},\"yaxis\":{\"automargin\":true,\"gridcolor\":\"white\",\"linecolor\":\"white\",\"ticks\":\"\",\"title\":{\"standoff\":15},\"zerolinecolor\":\"white\",\"zerolinewidth\":2}}},\"title\":{\"text\":\"Random Forest Feature Importance\"},\"xaxis\":{\"showgrid\":false,\"showline\":false,\"ticklen\":5,\"zeroline\":false},\"yaxis\":{\"gridwidth\":2,\"showgrid\":false,\"ticklen\":5,\"title\":{\"text\":\"Feature Importance\"},\"zeroline\":false}},                        {\"responsive\": true}                    ).then(function(){\n",
       "                            \n",
       "var gd = document.getElementById('af2dbd06-3e21-4018-9435-c96dc8447e16');\n",
       "var x = new MutationObserver(function (mutations, observer) {{\n",
       "        var display = window.getComputedStyle(gd).display;\n",
       "        if (!display || display === 'none') {{\n",
       "            console.log([gd, 'removed!']);\n",
       "            Plotly.purge(gd);\n",
       "            observer.disconnect();\n",
       "        }}\n",
       "}});\n",
       "\n",
       "// Listen for the removal of the full notebook cells\n",
       "var notebookContainer = gd.closest('#notebook-container');\n",
       "if (notebookContainer) {{\n",
       "    x.observe(notebookContainer, {childList: true});\n",
       "}}\n",
       "\n",
       "// Listen for the clearing of the current output cell\n",
       "var outputEl = gd.closest('.output');\n",
       "if (outputEl) {{\n",
       "    x.observe(outputEl, {childList: true});\n",
       "}}\n",
       "\n",
       "                        })                };                });            </script>        </div>"
      ]
     },
     "metadata": {},
     "output_type": "display_data"
    }
   ],
   "source": [
    "trace = go.Scatter(\n",
    "  y = rf.feature_importances_,\n",
    "  x = features,\n",
    "  mode = 'markers',\n",
    "  marker = dict(\n",
    "    sizemode = 'diameter',\n",
    "    sizeref = 1,\n",
    "    size = 13,\n",
    "    color = rf.feature_importances_,\n",
    "    colorscale = 'Portland',\n",
    "    showscale = True\n",
    "  ),\n",
    "  text = features\n",
    ")\n",
    "\n",
    "data = [trace]\n",
    "\n",
    "layout = go.Layout(\n",
    "  autosize = True,\n",
    "  title = 'Random Forest Feature Importance',\n",
    "  hovermode = 'closest',\n",
    "  xaxis = dict(\n",
    "    ticklen = 5,\n",
    "    showgrid = False,\n",
    "    zeroline = False,\n",
    "    showline = False\n",
    "  ),\n",
    "  yaxis = dict(\n",
    "    title = 'Feature Importance',\n",
    "    showgrid = False,\n",
    "    zeroline = False,\n",
    "    ticklen = 5,\n",
    "    gridwidth = 2\n",
    "  ),\n",
    "  showlegend = False\n",
    ")\n",
    "\n",
    "fig = go.Figure(data=data, layout=layout)\n",
    "py.iplot(fig, filename = 'scatter2010')"
   ]
  },
  {
   "cell_type": "code",
   "execution_count": 17,
   "metadata": {},
   "outputs": [
    {
     "data": {
      "application/vnd.plotly.v1+json": {
       "config": {
        "linkText": "Export to plot.ly",
        "plotlyServerURL": "https://plot.ly",
        "showLink": false
       },
       "data": [
        {
         "marker": {
          "color": [
           0,
           0,
           0,
           0,
           0.0013578575037256706,
           0.001664812429948304,
           0.0027889695780508065,
           0.0029425313923714326,
           0.00378683314379272,
           0.003828409771269791,
           0.004133219800260837,
           0.004170575457898376,
           0.004639799412438958,
           0.005565543512250457,
           0.005799619559534664,
           0.005950316294767961,
           0.005973266137066635,
           0.006551762401625957,
           0.006775795592924175,
           0.006871804698246132,
           0.007048899764045243,
           0.007196198282161908,
           0.008578282874816023,
           0.009341756849656093,
           0.009357557727790703,
           0.009720374677325639,
           0.010651233180797654,
           0.011707972321864029,
           0.011713302961583797,
           0.01636377379464658,
           0.018535948974752976,
           0.01916220239707149,
           0.019705344349808217,
           0.020336827584850378,
           0.020697662463855262,
           0.02132442423261006,
           0.02298034664649857,
           0.023130238064811195,
           0.02342179317983305,
           0.024532144132099757,
           0.024757972485045365,
           0.025903577324600722,
           0.026109003655280724,
           0.026302427526269438,
           0.02743948350131267,
           0.02958208355866236,
           0.030009081131462428,
           0.030260673644205215,
           0.03187905413240004,
           0.03216992339636868,
           0.037288176695396365,
           0.03777932456962228,
           0.038510297987964036,
           0.04309107397351763,
           0.04473600762844828,
           0.04938912961803565,
           0.07648530802435659
          ],
          "colorscale": [
           [
            0,
            "#440154"
           ],
           [
            0.1111111111111111,
            "#482878"
           ],
           [
            0.2222222222222222,
            "#3e4989"
           ],
           [
            0.3333333333333333,
            "#31688e"
           ],
           [
            0.4444444444444444,
            "#26828e"
           ],
           [
            0.5555555555555556,
            "#1f9e89"
           ],
           [
            0.6666666666666666,
            "#35b779"
           ],
           [
            0.7777777777777778,
            "#6ece58"
           ],
           [
            0.8888888888888888,
            "#b5de2b"
           ],
           [
            1,
            "#fde725"
           ]
          ],
          "reversescale": true
         },
         "name": "Random Forest Feature iportance",
         "orientation": "h",
         "type": "bar",
         "x": [
          0,
          0,
          0,
          0,
          0.0013578575037256706,
          0.001664812429948304,
          0.0027889695780508065,
          0.0029425313923714326,
          0.00378683314379272,
          0.003828409771269791,
          0.004133219800260837,
          0.004170575457898376,
          0.004639799412438958,
          0.005565543512250457,
          0.005799619559534664,
          0.005950316294767961,
          0.005973266137066635,
          0.006551762401625957,
          0.006775795592924175,
          0.006871804698246132,
          0.007048899764045243,
          0.007196198282161908,
          0.008578282874816023,
          0.009341756849656093,
          0.009357557727790703,
          0.009720374677325639,
          0.010651233180797654,
          0.011707972321864029,
          0.011713302961583797,
          0.01636377379464658,
          0.018535948974752976,
          0.01916220239707149,
          0.019705344349808217,
          0.020336827584850378,
          0.020697662463855262,
          0.02132442423261006,
          0.02298034664649857,
          0.023130238064811195,
          0.02342179317983305,
          0.024532144132099757,
          0.024757972485045365,
          0.025903577324600722,
          0.026109003655280724,
          0.026302427526269438,
          0.02743948350131267,
          0.02958208355866236,
          0.030009081131462428,
          0.030260673644205215,
          0.03187905413240004,
          0.03216992339636868,
          0.037288176695396365,
          0.03777932456962228,
          0.038510297987964036,
          0.04309107397351763,
          0.04473600762844828,
          0.04938912961803565,
          0.07648530802435659
         ],
         "y": [
          "ps_car_10_cat",
          "ps_ind_10_bin",
          "ps_ind_11_bin",
          "ps_ind_13_bin",
          "ps_ind_14",
          "ps_ind_12_bin",
          "ps_ind_09_bin",
          "ps_car_08_cat",
          "ps_ind_18_bin",
          "ps_calc_15_bin",
          "ps_ind_06_bin",
          "ps_calc_18_bin",
          "ps_calc_20_bin",
          "ps_ind_04_cat",
          "ps_ind_08_bin",
          "ps_ind_16_bin",
          "ps_calc_19_bin",
          "ps_calc_17_bin",
          "ps_car_07_cat",
          "ps_calc_16_bin",
          "ps_car_03_cat",
          "ps_ind_17_bin",
          "ps_car_02_cat",
          "ps_car_09_cat",
          "ps_ind_07_bin",
          "ps_car_05_cat",
          "ps_car_11",
          "ps_ind_02_cat",
          "ps_car_04_cat",
          "ps_calc_09",
          "ps_calc_12",
          "ps_calc_07",
          "ps_ind_01",
          "ps_ind_05_cat",
          "ps_calc_06",
          "ps_calc_04",
          "ps_calc_08",
          "ps_reg_01",
          "ps_car_06_cat",
          "ps_calc_01",
          "ps_car_15",
          "ps_car_12",
          "ps_calc_05",
          "ps_calc_13",
          "ps_calc_02",
          "ps_car_01_cat",
          "ps_reg_02",
          "ps_calc_03",
          "ps_calc_10",
          "ps_ind_03",
          "ps_calc_14",
          "ps_ind_15",
          "ps_calc_11",
          "ps_car_14",
          "ps_car_11_cat",
          "ps_reg_03",
          "ps_car_13"
         ]
        }
       ],
       "layout": {
        "height": 2000,
        "template": {
         "data": {
          "bar": [
           {
            "error_x": {
             "color": "#2a3f5f"
            },
            "error_y": {
             "color": "#2a3f5f"
            },
            "marker": {
             "line": {
              "color": "#E5ECF6",
              "width": 0.5
             },
             "pattern": {
              "fillmode": "overlay",
              "size": 10,
              "solidity": 0.2
             }
            },
            "type": "bar"
           }
          ],
          "barpolar": [
           {
            "marker": {
             "line": {
              "color": "#E5ECF6",
              "width": 0.5
             },
             "pattern": {
              "fillmode": "overlay",
              "size": 10,
              "solidity": 0.2
             }
            },
            "type": "barpolar"
           }
          ],
          "carpet": [
           {
            "aaxis": {
             "endlinecolor": "#2a3f5f",
             "gridcolor": "white",
             "linecolor": "white",
             "minorgridcolor": "white",
             "startlinecolor": "#2a3f5f"
            },
            "baxis": {
             "endlinecolor": "#2a3f5f",
             "gridcolor": "white",
             "linecolor": "white",
             "minorgridcolor": "white",
             "startlinecolor": "#2a3f5f"
            },
            "type": "carpet"
           }
          ],
          "choropleth": [
           {
            "colorbar": {
             "outlinewidth": 0,
             "ticks": ""
            },
            "type": "choropleth"
           }
          ],
          "contour": [
           {
            "colorbar": {
             "outlinewidth": 0,
             "ticks": ""
            },
            "colorscale": [
             [
              0,
              "#0d0887"
             ],
             [
              0.1111111111111111,
              "#46039f"
             ],
             [
              0.2222222222222222,
              "#7201a8"
             ],
             [
              0.3333333333333333,
              "#9c179e"
             ],
             [
              0.4444444444444444,
              "#bd3786"
             ],
             [
              0.5555555555555556,
              "#d8576b"
             ],
             [
              0.6666666666666666,
              "#ed7953"
             ],
             [
              0.7777777777777778,
              "#fb9f3a"
             ],
             [
              0.8888888888888888,
              "#fdca26"
             ],
             [
              1,
              "#f0f921"
             ]
            ],
            "type": "contour"
           }
          ],
          "contourcarpet": [
           {
            "colorbar": {
             "outlinewidth": 0,
             "ticks": ""
            },
            "type": "contourcarpet"
           }
          ],
          "heatmap": [
           {
            "colorbar": {
             "outlinewidth": 0,
             "ticks": ""
            },
            "colorscale": [
             [
              0,
              "#0d0887"
             ],
             [
              0.1111111111111111,
              "#46039f"
             ],
             [
              0.2222222222222222,
              "#7201a8"
             ],
             [
              0.3333333333333333,
              "#9c179e"
             ],
             [
              0.4444444444444444,
              "#bd3786"
             ],
             [
              0.5555555555555556,
              "#d8576b"
             ],
             [
              0.6666666666666666,
              "#ed7953"
             ],
             [
              0.7777777777777778,
              "#fb9f3a"
             ],
             [
              0.8888888888888888,
              "#fdca26"
             ],
             [
              1,
              "#f0f921"
             ]
            ],
            "type": "heatmap"
           }
          ],
          "heatmapgl": [
           {
            "colorbar": {
             "outlinewidth": 0,
             "ticks": ""
            },
            "colorscale": [
             [
              0,
              "#0d0887"
             ],
             [
              0.1111111111111111,
              "#46039f"
             ],
             [
              0.2222222222222222,
              "#7201a8"
             ],
             [
              0.3333333333333333,
              "#9c179e"
             ],
             [
              0.4444444444444444,
              "#bd3786"
             ],
             [
              0.5555555555555556,
              "#d8576b"
             ],
             [
              0.6666666666666666,
              "#ed7953"
             ],
             [
              0.7777777777777778,
              "#fb9f3a"
             ],
             [
              0.8888888888888888,
              "#fdca26"
             ],
             [
              1,
              "#f0f921"
             ]
            ],
            "type": "heatmapgl"
           }
          ],
          "histogram": [
           {
            "marker": {
             "pattern": {
              "fillmode": "overlay",
              "size": 10,
              "solidity": 0.2
             }
            },
            "type": "histogram"
           }
          ],
          "histogram2d": [
           {
            "colorbar": {
             "outlinewidth": 0,
             "ticks": ""
            },
            "colorscale": [
             [
              0,
              "#0d0887"
             ],
             [
              0.1111111111111111,
              "#46039f"
             ],
             [
              0.2222222222222222,
              "#7201a8"
             ],
             [
              0.3333333333333333,
              "#9c179e"
             ],
             [
              0.4444444444444444,
              "#bd3786"
             ],
             [
              0.5555555555555556,
              "#d8576b"
             ],
             [
              0.6666666666666666,
              "#ed7953"
             ],
             [
              0.7777777777777778,
              "#fb9f3a"
             ],
             [
              0.8888888888888888,
              "#fdca26"
             ],
             [
              1,
              "#f0f921"
             ]
            ],
            "type": "histogram2d"
           }
          ],
          "histogram2dcontour": [
           {
            "colorbar": {
             "outlinewidth": 0,
             "ticks": ""
            },
            "colorscale": [
             [
              0,
              "#0d0887"
             ],
             [
              0.1111111111111111,
              "#46039f"
             ],
             [
              0.2222222222222222,
              "#7201a8"
             ],
             [
              0.3333333333333333,
              "#9c179e"
             ],
             [
              0.4444444444444444,
              "#bd3786"
             ],
             [
              0.5555555555555556,
              "#d8576b"
             ],
             [
              0.6666666666666666,
              "#ed7953"
             ],
             [
              0.7777777777777778,
              "#fb9f3a"
             ],
             [
              0.8888888888888888,
              "#fdca26"
             ],
             [
              1,
              "#f0f921"
             ]
            ],
            "type": "histogram2dcontour"
           }
          ],
          "mesh3d": [
           {
            "colorbar": {
             "outlinewidth": 0,
             "ticks": ""
            },
            "type": "mesh3d"
           }
          ],
          "parcoords": [
           {
            "line": {
             "colorbar": {
              "outlinewidth": 0,
              "ticks": ""
             }
            },
            "type": "parcoords"
           }
          ],
          "pie": [
           {
            "automargin": true,
            "type": "pie"
           }
          ],
          "scatter": [
           {
            "marker": {
             "colorbar": {
              "outlinewidth": 0,
              "ticks": ""
             }
            },
            "type": "scatter"
           }
          ],
          "scatter3d": [
           {
            "line": {
             "colorbar": {
              "outlinewidth": 0,
              "ticks": ""
             }
            },
            "marker": {
             "colorbar": {
              "outlinewidth": 0,
              "ticks": ""
             }
            },
            "type": "scatter3d"
           }
          ],
          "scattercarpet": [
           {
            "marker": {
             "colorbar": {
              "outlinewidth": 0,
              "ticks": ""
             }
            },
            "type": "scattercarpet"
           }
          ],
          "scattergeo": [
           {
            "marker": {
             "colorbar": {
              "outlinewidth": 0,
              "ticks": ""
             }
            },
            "type": "scattergeo"
           }
          ],
          "scattergl": [
           {
            "marker": {
             "colorbar": {
              "outlinewidth": 0,
              "ticks": ""
             }
            },
            "type": "scattergl"
           }
          ],
          "scattermapbox": [
           {
            "marker": {
             "colorbar": {
              "outlinewidth": 0,
              "ticks": ""
             }
            },
            "type": "scattermapbox"
           }
          ],
          "scatterpolar": [
           {
            "marker": {
             "colorbar": {
              "outlinewidth": 0,
              "ticks": ""
             }
            },
            "type": "scatterpolar"
           }
          ],
          "scatterpolargl": [
           {
            "marker": {
             "colorbar": {
              "outlinewidth": 0,
              "ticks": ""
             }
            },
            "type": "scatterpolargl"
           }
          ],
          "scatterternary": [
           {
            "marker": {
             "colorbar": {
              "outlinewidth": 0,
              "ticks": ""
             }
            },
            "type": "scatterternary"
           }
          ],
          "surface": [
           {
            "colorbar": {
             "outlinewidth": 0,
             "ticks": ""
            },
            "colorscale": [
             [
              0,
              "#0d0887"
             ],
             [
              0.1111111111111111,
              "#46039f"
             ],
             [
              0.2222222222222222,
              "#7201a8"
             ],
             [
              0.3333333333333333,
              "#9c179e"
             ],
             [
              0.4444444444444444,
              "#bd3786"
             ],
             [
              0.5555555555555556,
              "#d8576b"
             ],
             [
              0.6666666666666666,
              "#ed7953"
             ],
             [
              0.7777777777777778,
              "#fb9f3a"
             ],
             [
              0.8888888888888888,
              "#fdca26"
             ],
             [
              1,
              "#f0f921"
             ]
            ],
            "type": "surface"
           }
          ],
          "table": [
           {
            "cells": {
             "fill": {
              "color": "#EBF0F8"
             },
             "line": {
              "color": "white"
             }
            },
            "header": {
             "fill": {
              "color": "#C8D4E3"
             },
             "line": {
              "color": "white"
             }
            },
            "type": "table"
           }
          ]
         },
         "layout": {
          "annotationdefaults": {
           "arrowcolor": "#2a3f5f",
           "arrowhead": 0,
           "arrowwidth": 1
          },
          "autotypenumbers": "strict",
          "coloraxis": {
           "colorbar": {
            "outlinewidth": 0,
            "ticks": ""
           }
          },
          "colorscale": {
           "diverging": [
            [
             0,
             "#8e0152"
            ],
            [
             0.1,
             "#c51b7d"
            ],
            [
             0.2,
             "#de77ae"
            ],
            [
             0.3,
             "#f1b6da"
            ],
            [
             0.4,
             "#fde0ef"
            ],
            [
             0.5,
             "#f7f7f7"
            ],
            [
             0.6,
             "#e6f5d0"
            ],
            [
             0.7,
             "#b8e186"
            ],
            [
             0.8,
             "#7fbc41"
            ],
            [
             0.9,
             "#4d9221"
            ],
            [
             1,
             "#276419"
            ]
           ],
           "sequential": [
            [
             0,
             "#0d0887"
            ],
            [
             0.1111111111111111,
             "#46039f"
            ],
            [
             0.2222222222222222,
             "#7201a8"
            ],
            [
             0.3333333333333333,
             "#9c179e"
            ],
            [
             0.4444444444444444,
             "#bd3786"
            ],
            [
             0.5555555555555556,
             "#d8576b"
            ],
            [
             0.6666666666666666,
             "#ed7953"
            ],
            [
             0.7777777777777778,
             "#fb9f3a"
            ],
            [
             0.8888888888888888,
             "#fdca26"
            ],
            [
             1,
             "#f0f921"
            ]
           ],
           "sequentialminus": [
            [
             0,
             "#0d0887"
            ],
            [
             0.1111111111111111,
             "#46039f"
            ],
            [
             0.2222222222222222,
             "#7201a8"
            ],
            [
             0.3333333333333333,
             "#9c179e"
            ],
            [
             0.4444444444444444,
             "#bd3786"
            ],
            [
             0.5555555555555556,
             "#d8576b"
            ],
            [
             0.6666666666666666,
             "#ed7953"
            ],
            [
             0.7777777777777778,
             "#fb9f3a"
            ],
            [
             0.8888888888888888,
             "#fdca26"
            ],
            [
             1,
             "#f0f921"
            ]
           ]
          },
          "colorway": [
           "#636efa",
           "#EF553B",
           "#00cc96",
           "#ab63fa",
           "#FFA15A",
           "#19d3f3",
           "#FF6692",
           "#B6E880",
           "#FF97FF",
           "#FECB52"
          ],
          "font": {
           "color": "#2a3f5f"
          },
          "geo": {
           "bgcolor": "white",
           "lakecolor": "white",
           "landcolor": "#E5ECF6",
           "showlakes": true,
           "showland": true,
           "subunitcolor": "white"
          },
          "hoverlabel": {
           "align": "left"
          },
          "hovermode": "closest",
          "mapbox": {
           "style": "light"
          },
          "paper_bgcolor": "white",
          "plot_bgcolor": "#E5ECF6",
          "polar": {
           "angularaxis": {
            "gridcolor": "white",
            "linecolor": "white",
            "ticks": ""
           },
           "bgcolor": "#E5ECF6",
           "radialaxis": {
            "gridcolor": "white",
            "linecolor": "white",
            "ticks": ""
           }
          },
          "scene": {
           "xaxis": {
            "backgroundcolor": "#E5ECF6",
            "gridcolor": "white",
            "gridwidth": 2,
            "linecolor": "white",
            "showbackground": true,
            "ticks": "",
            "zerolinecolor": "white"
           },
           "yaxis": {
            "backgroundcolor": "#E5ECF6",
            "gridcolor": "white",
            "gridwidth": 2,
            "linecolor": "white",
            "showbackground": true,
            "ticks": "",
            "zerolinecolor": "white"
           },
           "zaxis": {
            "backgroundcolor": "#E5ECF6",
            "gridcolor": "white",
            "gridwidth": 2,
            "linecolor": "white",
            "showbackground": true,
            "ticks": "",
            "zerolinecolor": "white"
           }
          },
          "shapedefaults": {
           "line": {
            "color": "#2a3f5f"
           }
          },
          "ternary": {
           "aaxis": {
            "gridcolor": "white",
            "linecolor": "white",
            "ticks": ""
           },
           "baxis": {
            "gridcolor": "white",
            "linecolor": "white",
            "ticks": ""
           },
           "bgcolor": "#E5ECF6",
           "caxis": {
            "gridcolor": "white",
            "linecolor": "white",
            "ticks": ""
           }
          },
          "title": {
           "x": 0.05
          },
          "xaxis": {
           "automargin": true,
           "gridcolor": "white",
           "linecolor": "white",
           "ticks": "",
           "title": {
            "standoff": 15
           },
           "zerolinecolor": "white",
           "zerolinewidth": 2
          },
          "yaxis": {
           "automargin": true,
           "gridcolor": "white",
           "linecolor": "white",
           "ticks": "",
           "title": {
            "standoff": 15
           },
           "zerolinecolor": "white",
           "zerolinewidth": 2
          }
         }
        },
        "title": {
         "text": "Barplot of Feature importances"
        },
        "width": 900,
        "yaxis": {
         "showgrid": false,
         "showline": false,
         "showticklabels": true
        }
       }
      },
      "text/html": [
       "<div>                            <div id=\"12a53a85-6447-4e3e-987e-a5f663308174\" class=\"plotly-graph-div\" style=\"height:2000px; width:900px;\"></div>            <script type=\"text/javascript\">                require([\"plotly\"], function(Plotly) {                    window.PLOTLYENV=window.PLOTLYENV || {};                                    if (document.getElementById(\"12a53a85-6447-4e3e-987e-a5f663308174\")) {                    Plotly.newPlot(                        \"12a53a85-6447-4e3e-987e-a5f663308174\",                        [{\"marker\":{\"color\":[0.0,0.0,0.0,0.0,0.0013578575037256706,0.001664812429948304,0.0027889695780508065,0.0029425313923714326,0.00378683314379272,0.003828409771269791,0.004133219800260837,0.004170575457898376,0.004639799412438958,0.005565543512250457,0.005799619559534664,0.005950316294767961,0.005973266137066635,0.006551762401625957,0.006775795592924175,0.006871804698246132,0.007048899764045243,0.007196198282161908,0.008578282874816023,0.009341756849656093,0.009357557727790703,0.009720374677325639,0.010651233180797654,0.011707972321864029,0.011713302961583797,0.01636377379464658,0.018535948974752976,0.01916220239707149,0.019705344349808217,0.020336827584850378,0.020697662463855262,0.02132442423261006,0.02298034664649857,0.023130238064811195,0.02342179317983305,0.024532144132099757,0.024757972485045365,0.025903577324600722,0.026109003655280724,0.026302427526269438,0.02743948350131267,0.02958208355866236,0.030009081131462428,0.030260673644205215,0.03187905413240004,0.03216992339636868,0.037288176695396365,0.03777932456962228,0.038510297987964036,0.04309107397351763,0.04473600762844828,0.04938912961803565,0.07648530802435659],\"colorscale\":[[0.0,\"#440154\"],[0.1111111111111111,\"#482878\"],[0.2222222222222222,\"#3e4989\"],[0.3333333333333333,\"#31688e\"],[0.4444444444444444,\"#26828e\"],[0.5555555555555556,\"#1f9e89\"],[0.6666666666666666,\"#35b779\"],[0.7777777777777778,\"#6ece58\"],[0.8888888888888888,\"#b5de2b\"],[1.0,\"#fde725\"]],\"reversescale\":true},\"name\":\"Random Forest Feature iportance\",\"orientation\":\"h\",\"x\":[0.0,0.0,0.0,0.0,0.0013578575037256706,0.001664812429948304,0.0027889695780508065,0.0029425313923714326,0.00378683314379272,0.003828409771269791,0.004133219800260837,0.004170575457898376,0.004639799412438958,0.005565543512250457,0.005799619559534664,0.005950316294767961,0.005973266137066635,0.006551762401625957,0.006775795592924175,0.006871804698246132,0.007048899764045243,0.007196198282161908,0.008578282874816023,0.009341756849656093,0.009357557727790703,0.009720374677325639,0.010651233180797654,0.011707972321864029,0.011713302961583797,0.01636377379464658,0.018535948974752976,0.01916220239707149,0.019705344349808217,0.020336827584850378,0.020697662463855262,0.02132442423261006,0.02298034664649857,0.023130238064811195,0.02342179317983305,0.024532144132099757,0.024757972485045365,0.025903577324600722,0.026109003655280724,0.026302427526269438,0.02743948350131267,0.02958208355866236,0.030009081131462428,0.030260673644205215,0.03187905413240004,0.03216992339636868,0.037288176695396365,0.03777932456962228,0.038510297987964036,0.04309107397351763,0.04473600762844828,0.04938912961803565,0.07648530802435659],\"y\":[\"ps_car_10_cat\",\"ps_ind_10_bin\",\"ps_ind_11_bin\",\"ps_ind_13_bin\",\"ps_ind_14\",\"ps_ind_12_bin\",\"ps_ind_09_bin\",\"ps_car_08_cat\",\"ps_ind_18_bin\",\"ps_calc_15_bin\",\"ps_ind_06_bin\",\"ps_calc_18_bin\",\"ps_calc_20_bin\",\"ps_ind_04_cat\",\"ps_ind_08_bin\",\"ps_ind_16_bin\",\"ps_calc_19_bin\",\"ps_calc_17_bin\",\"ps_car_07_cat\",\"ps_calc_16_bin\",\"ps_car_03_cat\",\"ps_ind_17_bin\",\"ps_car_02_cat\",\"ps_car_09_cat\",\"ps_ind_07_bin\",\"ps_car_05_cat\",\"ps_car_11\",\"ps_ind_02_cat\",\"ps_car_04_cat\",\"ps_calc_09\",\"ps_calc_12\",\"ps_calc_07\",\"ps_ind_01\",\"ps_ind_05_cat\",\"ps_calc_06\",\"ps_calc_04\",\"ps_calc_08\",\"ps_reg_01\",\"ps_car_06_cat\",\"ps_calc_01\",\"ps_car_15\",\"ps_car_12\",\"ps_calc_05\",\"ps_calc_13\",\"ps_calc_02\",\"ps_car_01_cat\",\"ps_reg_02\",\"ps_calc_03\",\"ps_calc_10\",\"ps_ind_03\",\"ps_calc_14\",\"ps_ind_15\",\"ps_calc_11\",\"ps_car_14\",\"ps_car_11_cat\",\"ps_reg_03\",\"ps_car_13\"],\"type\":\"bar\"}],                        {\"height\":2000,\"template\":{\"data\":{\"barpolar\":[{\"marker\":{\"line\":{\"color\":\"#E5ECF6\",\"width\":0.5},\"pattern\":{\"fillmode\":\"overlay\",\"size\":10,\"solidity\":0.2}},\"type\":\"barpolar\"}],\"bar\":[{\"error_x\":{\"color\":\"#2a3f5f\"},\"error_y\":{\"color\":\"#2a3f5f\"},\"marker\":{\"line\":{\"color\":\"#E5ECF6\",\"width\":0.5},\"pattern\":{\"fillmode\":\"overlay\",\"size\":10,\"solidity\":0.2}},\"type\":\"bar\"}],\"carpet\":[{\"aaxis\":{\"endlinecolor\":\"#2a3f5f\",\"gridcolor\":\"white\",\"linecolor\":\"white\",\"minorgridcolor\":\"white\",\"startlinecolor\":\"#2a3f5f\"},\"baxis\":{\"endlinecolor\":\"#2a3f5f\",\"gridcolor\":\"white\",\"linecolor\":\"white\",\"minorgridcolor\":\"white\",\"startlinecolor\":\"#2a3f5f\"},\"type\":\"carpet\"}],\"choropleth\":[{\"colorbar\":{\"outlinewidth\":0,\"ticks\":\"\"},\"type\":\"choropleth\"}],\"contourcarpet\":[{\"colorbar\":{\"outlinewidth\":0,\"ticks\":\"\"},\"type\":\"contourcarpet\"}],\"contour\":[{\"colorbar\":{\"outlinewidth\":0,\"ticks\":\"\"},\"colorscale\":[[0.0,\"#0d0887\"],[0.1111111111111111,\"#46039f\"],[0.2222222222222222,\"#7201a8\"],[0.3333333333333333,\"#9c179e\"],[0.4444444444444444,\"#bd3786\"],[0.5555555555555556,\"#d8576b\"],[0.6666666666666666,\"#ed7953\"],[0.7777777777777778,\"#fb9f3a\"],[0.8888888888888888,\"#fdca26\"],[1.0,\"#f0f921\"]],\"type\":\"contour\"}],\"heatmapgl\":[{\"colorbar\":{\"outlinewidth\":0,\"ticks\":\"\"},\"colorscale\":[[0.0,\"#0d0887\"],[0.1111111111111111,\"#46039f\"],[0.2222222222222222,\"#7201a8\"],[0.3333333333333333,\"#9c179e\"],[0.4444444444444444,\"#bd3786\"],[0.5555555555555556,\"#d8576b\"],[0.6666666666666666,\"#ed7953\"],[0.7777777777777778,\"#fb9f3a\"],[0.8888888888888888,\"#fdca26\"],[1.0,\"#f0f921\"]],\"type\":\"heatmapgl\"}],\"heatmap\":[{\"colorbar\":{\"outlinewidth\":0,\"ticks\":\"\"},\"colorscale\":[[0.0,\"#0d0887\"],[0.1111111111111111,\"#46039f\"],[0.2222222222222222,\"#7201a8\"],[0.3333333333333333,\"#9c179e\"],[0.4444444444444444,\"#bd3786\"],[0.5555555555555556,\"#d8576b\"],[0.6666666666666666,\"#ed7953\"],[0.7777777777777778,\"#fb9f3a\"],[0.8888888888888888,\"#fdca26\"],[1.0,\"#f0f921\"]],\"type\":\"heatmap\"}],\"histogram2dcontour\":[{\"colorbar\":{\"outlinewidth\":0,\"ticks\":\"\"},\"colorscale\":[[0.0,\"#0d0887\"],[0.1111111111111111,\"#46039f\"],[0.2222222222222222,\"#7201a8\"],[0.3333333333333333,\"#9c179e\"],[0.4444444444444444,\"#bd3786\"],[0.5555555555555556,\"#d8576b\"],[0.6666666666666666,\"#ed7953\"],[0.7777777777777778,\"#fb9f3a\"],[0.8888888888888888,\"#fdca26\"],[1.0,\"#f0f921\"]],\"type\":\"histogram2dcontour\"}],\"histogram2d\":[{\"colorbar\":{\"outlinewidth\":0,\"ticks\":\"\"},\"colorscale\":[[0.0,\"#0d0887\"],[0.1111111111111111,\"#46039f\"],[0.2222222222222222,\"#7201a8\"],[0.3333333333333333,\"#9c179e\"],[0.4444444444444444,\"#bd3786\"],[0.5555555555555556,\"#d8576b\"],[0.6666666666666666,\"#ed7953\"],[0.7777777777777778,\"#fb9f3a\"],[0.8888888888888888,\"#fdca26\"],[1.0,\"#f0f921\"]],\"type\":\"histogram2d\"}],\"histogram\":[{\"marker\":{\"pattern\":{\"fillmode\":\"overlay\",\"size\":10,\"solidity\":0.2}},\"type\":\"histogram\"}],\"mesh3d\":[{\"colorbar\":{\"outlinewidth\":0,\"ticks\":\"\"},\"type\":\"mesh3d\"}],\"parcoords\":[{\"line\":{\"colorbar\":{\"outlinewidth\":0,\"ticks\":\"\"}},\"type\":\"parcoords\"}],\"pie\":[{\"automargin\":true,\"type\":\"pie\"}],\"scatter3d\":[{\"line\":{\"colorbar\":{\"outlinewidth\":0,\"ticks\":\"\"}},\"marker\":{\"colorbar\":{\"outlinewidth\":0,\"ticks\":\"\"}},\"type\":\"scatter3d\"}],\"scattercarpet\":[{\"marker\":{\"colorbar\":{\"outlinewidth\":0,\"ticks\":\"\"}},\"type\":\"scattercarpet\"}],\"scattergeo\":[{\"marker\":{\"colorbar\":{\"outlinewidth\":0,\"ticks\":\"\"}},\"type\":\"scattergeo\"}],\"scattergl\":[{\"marker\":{\"colorbar\":{\"outlinewidth\":0,\"ticks\":\"\"}},\"type\":\"scattergl\"}],\"scattermapbox\":[{\"marker\":{\"colorbar\":{\"outlinewidth\":0,\"ticks\":\"\"}},\"type\":\"scattermapbox\"}],\"scatterpolargl\":[{\"marker\":{\"colorbar\":{\"outlinewidth\":0,\"ticks\":\"\"}},\"type\":\"scatterpolargl\"}],\"scatterpolar\":[{\"marker\":{\"colorbar\":{\"outlinewidth\":0,\"ticks\":\"\"}},\"type\":\"scatterpolar\"}],\"scatter\":[{\"marker\":{\"colorbar\":{\"outlinewidth\":0,\"ticks\":\"\"}},\"type\":\"scatter\"}],\"scatterternary\":[{\"marker\":{\"colorbar\":{\"outlinewidth\":0,\"ticks\":\"\"}},\"type\":\"scatterternary\"}],\"surface\":[{\"colorbar\":{\"outlinewidth\":0,\"ticks\":\"\"},\"colorscale\":[[0.0,\"#0d0887\"],[0.1111111111111111,\"#46039f\"],[0.2222222222222222,\"#7201a8\"],[0.3333333333333333,\"#9c179e\"],[0.4444444444444444,\"#bd3786\"],[0.5555555555555556,\"#d8576b\"],[0.6666666666666666,\"#ed7953\"],[0.7777777777777778,\"#fb9f3a\"],[0.8888888888888888,\"#fdca26\"],[1.0,\"#f0f921\"]],\"type\":\"surface\"}],\"table\":[{\"cells\":{\"fill\":{\"color\":\"#EBF0F8\"},\"line\":{\"color\":\"white\"}},\"header\":{\"fill\":{\"color\":\"#C8D4E3\"},\"line\":{\"color\":\"white\"}},\"type\":\"table\"}]},\"layout\":{\"annotationdefaults\":{\"arrowcolor\":\"#2a3f5f\",\"arrowhead\":0,\"arrowwidth\":1},\"autotypenumbers\":\"strict\",\"coloraxis\":{\"colorbar\":{\"outlinewidth\":0,\"ticks\":\"\"}},\"colorscale\":{\"diverging\":[[0,\"#8e0152\"],[0.1,\"#c51b7d\"],[0.2,\"#de77ae\"],[0.3,\"#f1b6da\"],[0.4,\"#fde0ef\"],[0.5,\"#f7f7f7\"],[0.6,\"#e6f5d0\"],[0.7,\"#b8e186\"],[0.8,\"#7fbc41\"],[0.9,\"#4d9221\"],[1,\"#276419\"]],\"sequential\":[[0.0,\"#0d0887\"],[0.1111111111111111,\"#46039f\"],[0.2222222222222222,\"#7201a8\"],[0.3333333333333333,\"#9c179e\"],[0.4444444444444444,\"#bd3786\"],[0.5555555555555556,\"#d8576b\"],[0.6666666666666666,\"#ed7953\"],[0.7777777777777778,\"#fb9f3a\"],[0.8888888888888888,\"#fdca26\"],[1.0,\"#f0f921\"]],\"sequentialminus\":[[0.0,\"#0d0887\"],[0.1111111111111111,\"#46039f\"],[0.2222222222222222,\"#7201a8\"],[0.3333333333333333,\"#9c179e\"],[0.4444444444444444,\"#bd3786\"],[0.5555555555555556,\"#d8576b\"],[0.6666666666666666,\"#ed7953\"],[0.7777777777777778,\"#fb9f3a\"],[0.8888888888888888,\"#fdca26\"],[1.0,\"#f0f921\"]]},\"colorway\":[\"#636efa\",\"#EF553B\",\"#00cc96\",\"#ab63fa\",\"#FFA15A\",\"#19d3f3\",\"#FF6692\",\"#B6E880\",\"#FF97FF\",\"#FECB52\"],\"font\":{\"color\":\"#2a3f5f\"},\"geo\":{\"bgcolor\":\"white\",\"lakecolor\":\"white\",\"landcolor\":\"#E5ECF6\",\"showlakes\":true,\"showland\":true,\"subunitcolor\":\"white\"},\"hoverlabel\":{\"align\":\"left\"},\"hovermode\":\"closest\",\"mapbox\":{\"style\":\"light\"},\"paper_bgcolor\":\"white\",\"plot_bgcolor\":\"#E5ECF6\",\"polar\":{\"angularaxis\":{\"gridcolor\":\"white\",\"linecolor\":\"white\",\"ticks\":\"\"},\"bgcolor\":\"#E5ECF6\",\"radialaxis\":{\"gridcolor\":\"white\",\"linecolor\":\"white\",\"ticks\":\"\"}},\"scene\":{\"xaxis\":{\"backgroundcolor\":\"#E5ECF6\",\"gridcolor\":\"white\",\"gridwidth\":2,\"linecolor\":\"white\",\"showbackground\":true,\"ticks\":\"\",\"zerolinecolor\":\"white\"},\"yaxis\":{\"backgroundcolor\":\"#E5ECF6\",\"gridcolor\":\"white\",\"gridwidth\":2,\"linecolor\":\"white\",\"showbackground\":true,\"ticks\":\"\",\"zerolinecolor\":\"white\"},\"zaxis\":{\"backgroundcolor\":\"#E5ECF6\",\"gridcolor\":\"white\",\"gridwidth\":2,\"linecolor\":\"white\",\"showbackground\":true,\"ticks\":\"\",\"zerolinecolor\":\"white\"}},\"shapedefaults\":{\"line\":{\"color\":\"#2a3f5f\"}},\"ternary\":{\"aaxis\":{\"gridcolor\":\"white\",\"linecolor\":\"white\",\"ticks\":\"\"},\"baxis\":{\"gridcolor\":\"white\",\"linecolor\":\"white\",\"ticks\":\"\"},\"bgcolor\":\"#E5ECF6\",\"caxis\":{\"gridcolor\":\"white\",\"linecolor\":\"white\",\"ticks\":\"\"}},\"title\":{\"x\":0.05},\"xaxis\":{\"automargin\":true,\"gridcolor\":\"white\",\"linecolor\":\"white\",\"ticks\":\"\",\"title\":{\"standoff\":15},\"zerolinecolor\":\"white\",\"zerolinewidth\":2},\"yaxis\":{\"automargin\":true,\"gridcolor\":\"white\",\"linecolor\":\"white\",\"ticks\":\"\",\"title\":{\"standoff\":15},\"zerolinecolor\":\"white\",\"zerolinewidth\":2}}},\"title\":{\"text\":\"Barplot of Feature importances\"},\"width\":900,\"yaxis\":{\"showgrid\":false,\"showline\":false,\"showticklabels\":true}},                        {\"responsive\": true}                    ).then(function(){\n",
       "                            \n",
       "var gd = document.getElementById('12a53a85-6447-4e3e-987e-a5f663308174');\n",
       "var x = new MutationObserver(function (mutations, observer) {{\n",
       "        var display = window.getComputedStyle(gd).display;\n",
       "        if (!display || display === 'none') {{\n",
       "            console.log([gd, 'removed!']);\n",
       "            Plotly.purge(gd);\n",
       "            observer.disconnect();\n",
       "        }}\n",
       "}});\n",
       "\n",
       "// Listen for the removal of the full notebook cells\n",
       "var notebookContainer = gd.closest('#notebook-container');\n",
       "if (notebookContainer) {{\n",
       "    x.observe(notebookContainer, {childList: true});\n",
       "}}\n",
       "\n",
       "// Listen for the clearing of the current output cell\n",
       "var outputEl = gd.closest('.output');\n",
       "if (outputEl) {{\n",
       "    x.observe(outputEl, {childList: true});\n",
       "}}\n",
       "\n",
       "                        })                };                });            </script>        </div>"
      ]
     },
     "metadata": {},
     "output_type": "display_data"
    }
   ],
   "source": [
    "x, y = (list(x) for x in zip(*sorted(zip(rf.feature_importances_, features), reverse = False)))\n",
    "\n",
    "trace2 = go.Bar(\n",
    "  x = x,\n",
    "  y = y,\n",
    "  marker = dict(\n",
    "    color = x,\n",
    "    colorscale = 'Viridis',\n",
    "    reversescale = True\n",
    "  ),\n",
    "  name = 'Random Forest Feature iportance',\n",
    "  orientation = 'h',\n",
    ")\n",
    "\n",
    "layout = dict(\n",
    "  title = 'Barplot of Feature importances',\n",
    "  width = 900,\n",
    "  height = 2000,\n",
    "  yaxis = dict(\n",
    "    showgrid = False,\n",
    "    showline = False,\n",
    "    showticklabels = True\n",
    "  )\n",
    ")\n",
    "\n",
    "fig1 = go.Figure(data=[trace2],layout=layout)\n",
    "py.iplot(fig1, filename = 'plots')"
   ]
  },
  {
   "cell_type": "code",
   "execution_count": null,
   "metadata": {},
   "outputs": [],
   "source": []
  }
 ],
 "metadata": {
  "interpreter": {
   "hash": "aa2d47bc11f4184ec0f4ad036b942f7d7cdb077768e25a9953837c39fb45c11e"
  },
  "kernelspec": {
   "display_name": "Python 3.7.2 32-bit",
   "language": "python",
   "name": "python3"
  },
  "language_info": {
   "codemirror_mode": {
    "name": "ipython",
    "version": 3
   },
   "file_extension": ".py",
   "mimetype": "text/x-python",
   "name": "python",
   "nbconvert_exporter": "python",
   "pygments_lexer": "ipython3",
   "version": "3.7.2"
  },
  "orig_nbformat": 4
 },
 "nbformat": 4,
 "nbformat_minor": 2
}
