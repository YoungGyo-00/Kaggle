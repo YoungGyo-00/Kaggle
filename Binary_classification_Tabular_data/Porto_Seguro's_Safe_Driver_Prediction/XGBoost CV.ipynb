{
 "cells": [
  {
   "cell_type": "code",
   "execution_count": 14,
   "metadata": {},
   "outputs": [],
   "source": [
    "MAX_ROUNDS = 400\n",
    "OPTIMIZE_ROUNDS = False\n",
    "LEARNING_RATE = 0.07\n",
    "EARLY_STOPPING_ROUNDS = 50"
   ]
  },
  {
   "cell_type": "code",
   "execution_count": 15,
   "metadata": {},
   "outputs": [],
   "source": [
    "import numpy as np\n",
    "import pandas as pd\n",
    "from xgboost import XGBClassifier\n",
    "from sklearn.model_selection import train_test_split\n",
    "from sklearn.model_selection import KFold\n",
    "from sklearn.preprocessing import LabelEncoder\n",
    "from numba import jit\n",
    "import time\n",
    "import gc\n"
   ]
  },
  {
   "cell_type": "code",
   "execution_count": 16,
   "metadata": {},
   "outputs": [],
   "source": [
    "@jit # 성능 향상\n",
    "def eval_gini(y_true, y_prob):\n",
    "  y_true = np.asarray(y_true) # 얇은 copy()\n",
    "  y_true = y_true[np.argsort(y_prob)]\n",
    "  ntrue = 0\n",
    "  gini = 0\n",
    "  delta = 0\n",
    "  n = len(y_true)\n",
    "  for i in range(n-1, -1, -1):\n",
    "    y_i = y_true[i]\n",
    "    ntrue += y_i\n",
    "    gini += y_i * delta\n",
    "    delta += 1 - y_i\n",
    "  gini = 1 - 2 * gini / (ntrue * ( n - ntrue))\n",
    "  return gini # 불순도 측정 지표, 높을 수록 분산도 높음\n"
   ]
  },
  {
   "cell_type": "code",
   "execution_count": 17,
   "metadata": {},
   "outputs": [],
   "source": [
    "def gini_xgb(preds, dtrain):\n",
    "  labels = dtrain.get_label()\n",
    "  gini_score = -eval_gini(labels, preds)\n",
    "  return [('gini', gini_score)]\n",
    "\n",
    "# 가우시안 정규 분포\n",
    "def add_noise(series, noise_level):\n",
    "  return series * (1 + noise_level + np.random.randn(len(series)))\n",
    "\n",
    "def target_encode(trn_series=None, val_series=None, tst_series=None, \\\n",
    "  target=None, min_samples_leaf=1, smoothing=1, noise_level=0):\n",
    "\n",
    "  assert len(trn_series) == len(target) # 예외 처리 구문\n",
    "  assert trn_series.name == tst_series.name\n",
    "  temp = pd.concat([trn_series, target], axis=1) # colunm\n",
    "  averages = temp.groupby(by=trn_series.name)[target.name].agg([\"mean\", \"count\"])\n",
    "  smoothing = 1 / (1 + np.exp(-(averages[\"count\"] - min_samples_leaf) / smoothing))\n",
    "  prior = target.mean()\n",
    "\n",
    "  averages[target.name] = prior * (1-smoothing) + averages[\"mean\"] * smoothing\n",
    "  averages.drop([\"mean\", \"count\"], axis=1, inplace=True)\n",
    "  \n",
    "  ft_trn_series = pd.merge(\n",
    "    trn_series.to_frame(trn_series.name),\n",
    "    averages.reset_index().rename(columns={'index': target.name, target.name:'average'}),\n",
    "    on=trn_series.name,\n",
    "    how='left')['average'].rename(trn_series.name + '_mean').fillna(prior)\n",
    "  \n",
    "  ft_trn_series.index = trn_series.index\n",
    "  \n",
    "  ft_val_series = pd.merge(\n",
    "      val_series.to_frame(val_series.name),\n",
    "      averages.reset_index().rename(columns={'index': target.name, target.name: 'average'}),\n",
    "      on=val_series.name,\n",
    "      how='left')['average'].rename(trn_series.name + '_mean').fillna(prior)\n",
    "  \n",
    "  ft_val_series.index = val_series.index\n",
    "\n",
    "  ft_tst_series = pd.merge(\n",
    "    tst_series.to_frame(tst_series.name),\n",
    "    averages.reset_index().rename(columns={'index': target.name, target.name: 'average'}),\n",
    "    on=tst_series.name,\n",
    "    how='left')['average'].rename(trn_series.name + '_mean').fillna(prior)\n",
    "  \n",
    "  ft_tst_series.index = tst_series.index\n",
    "\n",
    "  return add_noise(ft_trn_series, noise_level), add_noise(ft_val_series, noise_level),\\\n",
    "    add_noise(ft_tst_series, noise_level)\n"
   ]
  },
  {
   "cell_type": "code",
   "execution_count": 18,
   "metadata": {},
   "outputs": [],
   "source": [
    "train_df = pd.read_csv('./data/train.csv', na_values=\"-1\", nrows=10000)\n",
    "test_df = pd.read_csv('./data/test.csv', na_values=\"-1\", nrows=10000)"
   ]
  },
  {
   "cell_type": "code",
   "execution_count": 19,
   "metadata": {},
   "outputs": [
    {
     "name": "stdout",
     "output_type": "stream",
     "text": [
      "      id  target  ps_ind_01  ps_ind_02_cat  ps_ind_03  ps_ind_04_cat  \\\n",
      "0      7       0          2            2.0          5            1.0   \n",
      "1      9       0          1            1.0          7            0.0   \n",
      "2     13       0          5            4.0          9            1.0   \n",
      "3     16       0          0            1.0          2            0.0   \n",
      "4     17       0          0            2.0          0            1.0   \n",
      "..   ...     ...        ...            ...        ...            ...   \n",
      "195  493       0          1            1.0          7            0.0   \n",
      "196  495       0          3            2.0          4            0.0   \n",
      "197  496       0          2            1.0          6            0.0   \n",
      "198  498       0          3            1.0          3            1.0   \n",
      "199  502       0          1            1.0          5            1.0   \n",
      "\n",
      "     ps_ind_05_cat  ps_ind_06_bin  ps_ind_07_bin  ps_ind_08_bin  ...  \\\n",
      "0              0.0              0              1              0  ...   \n",
      "1              0.0              0              0              1  ...   \n",
      "2              0.0              0              0              1  ...   \n",
      "3              0.0              1              0              0  ...   \n",
      "4              0.0              1              0              0  ...   \n",
      "..             ...            ...            ...            ...  ...   \n",
      "195            0.0              0              0              0  ...   \n",
      "196            0.0              0              0              0  ...   \n",
      "197            3.0              1              0              0  ...   \n",
      "198            0.0              0              1              0  ...   \n",
      "199            0.0              1              0              0  ...   \n",
      "\n",
      "     ps_calc_11  ps_calc_12  ps_calc_13  ps_calc_14  ps_calc_15_bin  \\\n",
      "0             9           1           5           8               0   \n",
      "1             3           1           1           9               0   \n",
      "2             4           2           7           7               0   \n",
      "3             2           2           4           9               0   \n",
      "4             3           1           1           3               0   \n",
      "..          ...         ...         ...         ...             ...   \n",
      "195           3           2           4           8               0   \n",
      "196           6           0           3           7               0   \n",
      "197           5           1           4          13               0   \n",
      "198           9           1           1           4               1   \n",
      "199           9           4           4          13               1   \n",
      "\n",
      "     ps_calc_16_bin  ps_calc_17_bin  ps_calc_18_bin  ps_calc_19_bin  \\\n",
      "0                 1               1               0               0   \n",
      "1                 1               1               0               1   \n",
      "2                 1               1               0               1   \n",
      "3                 0               0               0               0   \n",
      "4                 0               0               1               1   \n",
      "..              ...             ...             ...             ...   \n",
      "195               1               0               0               0   \n",
      "196               1               1               0               1   \n",
      "197               1               0               0               1   \n",
      "198               1               1               0               0   \n",
      "199               1               1               1               1   \n",
      "\n",
      "     ps_calc_20_bin  \n",
      "0                 1  \n",
      "1                 0  \n",
      "2                 0  \n",
      "3                 0  \n",
      "4                 0  \n",
      "..              ...  \n",
      "195               0  \n",
      "196               0  \n",
      "197               0  \n",
      "198               0  \n",
      "199               0  \n",
      "\n",
      "[200 rows x 59 columns]\n",
      "[    7     9    13 ... 25232 25235 25241]\n"
     ]
    }
   ],
   "source": [
    "print(train_df.iloc[0:200])\n",
    "print(train_df['id'].values)"
   ]
  },
  {
   "cell_type": "code",
   "execution_count": 20,
   "metadata": {},
   "outputs": [],
   "source": [
    "# from olivier\n",
    "train_features = [\n",
    "    \"ps_car_13\",  #            : 1571.65 / shadow  609.23\n",
    "\t\"ps_reg_03\",  #            : 1408.42 / shadow  511.15\n",
    "\t\"ps_ind_05_cat\",  #        : 1387.87 / shadow   84.72\n",
    "\t\"ps_ind_03\",  #            : 1219.47 / shadow  230.55\n",
    "\t\"ps_ind_15\",  #            :  922.18 / shadow  242.00\n",
    "\t\"ps_reg_02\",  #            :  920.65 / shadow  267.50\n",
    "\t\"ps_car_14\",  #            :  798.48 / shadow  549.58\n",
    "\t\"ps_car_12\",  #            :  731.93 / shadow  293.62\n",
    "\t\"ps_car_01_cat\",  #        :  698.07 / shadow  178.72\n",
    "\t\"ps_car_07_cat\",  #        :  694.53 / shadow   36.35\n",
    "\t\"ps_ind_17_bin\",  #        :  620.77 / shadow   23.15\n",
    "\t\"ps_car_03_cat\",  #        :  611.73 / shadow   50.67\n",
    "\t\"ps_reg_01\",  #            :  598.60 / shadow  178.57\n",
    "\t\"ps_car_15\",  #            :  593.35 / shadow  226.43\n",
    "\t\"ps_ind_01\",  #            :  547.32 / shadow  154.58\n",
    "\t\"ps_ind_16_bin\",  #        :  475.37 / shadow   34.17\n",
    "\t\"ps_ind_07_bin\",  #        :  435.28 / shadow   28.92\n",
    "\t\"ps_car_06_cat\",  #        :  398.02 / shadow  212.43\n",
    "\t\"ps_car_04_cat\",  #        :  376.87 / shadow   76.98\n",
    "\t\"ps_ind_06_bin\",  #        :  370.97 / shadow   36.13\n",
    "\t\"ps_car_09_cat\",  #        :  214.12 / shadow   81.38\n",
    "\t\"ps_car_02_cat\",  #        :  203.03 / shadow   26.67\n",
    "\t\"ps_ind_02_cat\",  #        :  189.47 / shadow   65.68\n",
    "\t\"ps_car_11\",  #            :  173.28 / shadow   76.45\n",
    "\t\"ps_car_05_cat\",  #        :  172.75 / shadow   62.92\n",
    "\t\"ps_calc_09\",  #           :  169.13 / shadow  129.72\n",
    "\t\"ps_calc_05\",  #           :  148.83 / shadow  120.68\n",
    "\t\"ps_ind_08_bin\",  #        :  140.73 / shadow   27.63\n",
    "\t\"ps_car_08_cat\",  #        :  120.87 / shadow   28.82\n",
    "\t\"ps_ind_09_bin\",  #        :  113.92 / shadow   27.05\n",
    "\t\"ps_ind_04_cat\",  #        :  107.27 / shadow   37.43\n",
    "\t\"ps_ind_18_bin\",  #        :   77.42 / shadow   25.97\n",
    "\t\"ps_ind_12_bin\",  #        :   39.67 / shadow   15.52\n",
    "\t\"ps_ind_14\",  #            :   37.37 / shadow   16.65\n",
    "]\n",
    "# add combinations\n",
    "combs = [\n",
    "    ('ps_reg_01', 'ps_car_02_cat'),  \n",
    "    ('ps_reg_01', 'ps_car_04_cat'),\n",
    "]"
   ]
  },
  {
   "cell_type": "code",
   "execution_count": 21,
   "metadata": {},
   "outputs": [
    {
     "name": "stdout",
     "output_type": "stream",
     "text": [
      "[    0     1     2 ... 16425 16426 16427]\n"
     ]
    }
   ],
   "source": [
    "id_test = test_df['id'].values\n",
    "print(id_test)"
   ]
  },
  {
   "cell_type": "code",
   "execution_count": 23,
   "metadata": {},
   "outputs": [
    {
     "name": "stdout",
     "output_type": "stream",
     "text": [
      "current feature   ps_reg_01_plus_ps_car_02_cat    1 in   0.0current feature   ps_reg_01_plus_ps_car_04_cat    2 in   0.00       0\n",
      "1       0\n",
      "2       0\n",
      "3       0\n",
      "4       0\n",
      "       ..\n",
      "9995    0\n",
      "9996    0\n",
      "9997    0\n",
      "9998    0\n",
      "9999    0\n",
      "Name: target, Length: 10000, dtype: int64\n"
     ]
    }
   ],
   "source": [
    "id_train = train_df['id'].values\n",
    "y = train_df['target']\n",
    "\n",
    "start = time.time()\n",
    "\n",
    "for n_c, (f1, f2) in enumerate(combs):\n",
    "  name1 = f1 + \"_plus_\" + f2\n",
    "  print('current feature %30s %4d in %5.1f' %(name1, n_c + 1, (time.time() - start) / 60), end='')\n",
    "  train_df[name1] = train_df[f1].apply(lambda x: str(x)) + \"_\" + test_df[f2].apply(lambda x: str(x))\n",
    "  test_df[name1] = test_df[f1].apply(lambda x: str(x)) + \"_\" + test_df[f2].apply(lambda x: str(x))\n",
    "  \n",
    "  lbl = LabelEncoder()\n",
    "  lbl.fit(list(train_df[name1].values) + list(test_df[name1].values))\n",
    "  train_df[name1] = lbl.transform(list(train_df[name1].values))\n",
    "  test_df[name1] = lbl.transform(list(test_df[name1].values))\n",
    "\n",
    "  train_features.append(name1)\n",
    "\n",
    "X = train_df[train_features]\n",
    "test_df = test_df[train_features]\n",
    "\n",
    "f_cats = [f for f in X.columns if \"_cat\" in f]"
   ]
  },
  {
   "cell_type": "code",
   "execution_count": 24,
   "metadata": {},
   "outputs": [],
   "source": [
    "y_valid_pred = 0*y\n",
    "y_test_pred = 0"
   ]
  },
  {
   "cell_type": "code",
   "execution_count": 26,
   "metadata": {},
   "outputs": [],
   "source": [
    "K = 5\n",
    "kf = KFold(n_splits = K, random_state= 1, shuffle = True)\n",
    "np.random.seed(0)"
   ]
  },
  {
   "cell_type": "code",
   "execution_count": 27,
   "metadata": {},
   "outputs": [],
   "source": [
    "model = XGBClassifier(    \n",
    "  n_estimators=MAX_ROUNDS,\n",
    "  max_depth=4,\n",
    "  objective=\"binary:logistic\",\n",
    "  learning_rate=LEARNING_RATE, \n",
    "  subsample=.8,\n",
    "  min_child_weight=6,\n",
    "  colsample_bytree=.8,\n",
    "  scale_pos_weight=1.6,\n",
    "  gamma=10,\n",
    "  reg_alpha=8,\n",
    "  reg_lambda=1.3,\n",
    ")"
   ]
  },
  {
   "cell_type": "code",
   "execution_count": 32,
   "metadata": {},
   "outputs": [
    {
     "name": "stdout",
     "output_type": "stream",
     "text": [
      "\n",
      "Fold  0\n",
      "ps_ind_05_cat\n",
      "ps_car_01_cat\n",
      "ps_car_07_cat\n",
      "ps_car_03_cat\n",
      "ps_car_06_cat\n",
      "ps_car_04_cat\n",
      "ps_car_09_cat\n",
      "ps_car_02_cat\n",
      "ps_ind_02_cat\n",
      "ps_car_05_cat\n",
      "ps_car_08_cat\n",
      "ps_ind_04_cat\n",
      "ps_reg_01_plus_ps_car_02_cat\n"
     ]
    },
    {
     "ename": "AttributeError",
     "evalue": "'DataFrame' object has no attribute 'name'",
     "output_type": "error",
     "traceback": [
      "\u001b[1;31m---------------------------------------------------------------------------\u001b[0m",
      "\u001b[1;31mAttributeError\u001b[0m                            Traceback (most recent call last)",
      "\u001b[1;32m<ipython-input-32-abd44341a222>\u001b[0m in \u001b[0;36m<module>\u001b[1;34m\u001b[0m\n\u001b[0;32m     12\u001b[0m       \u001b[0mval_series\u001b[0m\u001b[1;33m=\u001b[0m\u001b[0mX_valid\u001b[0m\u001b[1;33m[\u001b[0m\u001b[0mf\u001b[0m\u001b[1;33m]\u001b[0m\u001b[1;33m,\u001b[0m\u001b[1;33m\u001b[0m\u001b[1;33m\u001b[0m\u001b[0m\n\u001b[0;32m     13\u001b[0m       \u001b[0mtst_series\u001b[0m\u001b[1;33m=\u001b[0m\u001b[0mX_test\u001b[0m\u001b[1;33m[\u001b[0m\u001b[0mf\u001b[0m\u001b[1;33m]\u001b[0m\u001b[1;33m,\u001b[0m\u001b[1;33m\u001b[0m\u001b[1;33m\u001b[0m\u001b[0m\n\u001b[1;32m---> 14\u001b[1;33m       \u001b[0mtarget\u001b[0m\u001b[1;33m=\u001b[0m\u001b[0my_train\u001b[0m\u001b[1;33m,\u001b[0m\u001b[1;33m\u001b[0m\u001b[1;33m\u001b[0m\u001b[0m\n\u001b[0m\u001b[0;32m     15\u001b[0m \u001b[1;33m\u001b[0m\u001b[0m\n\u001b[0;32m     16\u001b[0m     )\n",
      "\u001b[1;32m<ipython-input-17-48aa81c7b8f8>\u001b[0m in \u001b[0;36mtarget_encode\u001b[1;34m(trn_series, val_series, tst_series, target, min_samples_leaf, smoothing, noise_level)\u001b[0m\n\u001b[0;32m     12\u001b[0m \u001b[1;33m\u001b[0m\u001b[0m\n\u001b[0;32m     13\u001b[0m   \u001b[1;32massert\u001b[0m \u001b[0mlen\u001b[0m\u001b[1;33m(\u001b[0m\u001b[0mtrn_series\u001b[0m\u001b[1;33m)\u001b[0m \u001b[1;33m==\u001b[0m \u001b[0mlen\u001b[0m\u001b[1;33m(\u001b[0m\u001b[0mtarget\u001b[0m\u001b[1;33m)\u001b[0m \u001b[1;31m# 예외 처리 구문\u001b[0m\u001b[1;33m\u001b[0m\u001b[1;33m\u001b[0m\u001b[0m\n\u001b[1;32m---> 14\u001b[1;33m   \u001b[1;32massert\u001b[0m \u001b[0mtrn_series\u001b[0m\u001b[1;33m.\u001b[0m\u001b[0mname\u001b[0m \u001b[1;33m==\u001b[0m \u001b[0mtst_series\u001b[0m\u001b[1;33m.\u001b[0m\u001b[0mname\u001b[0m\u001b[1;33m\u001b[0m\u001b[1;33m\u001b[0m\u001b[0m\n\u001b[0m\u001b[0;32m     15\u001b[0m   \u001b[0mtemp\u001b[0m \u001b[1;33m=\u001b[0m \u001b[0mpd\u001b[0m\u001b[1;33m.\u001b[0m\u001b[0mconcat\u001b[0m\u001b[1;33m(\u001b[0m\u001b[1;33m[\u001b[0m\u001b[0mtrn_series\u001b[0m\u001b[1;33m,\u001b[0m \u001b[0mtarget\u001b[0m\u001b[1;33m]\u001b[0m\u001b[1;33m,\u001b[0m \u001b[0maxis\u001b[0m\u001b[1;33m=\u001b[0m\u001b[1;36m1\u001b[0m\u001b[1;33m)\u001b[0m \u001b[1;31m# colunm\u001b[0m\u001b[1;33m\u001b[0m\u001b[1;33m\u001b[0m\u001b[0m\n\u001b[0;32m     16\u001b[0m   \u001b[0maverages\u001b[0m \u001b[1;33m=\u001b[0m \u001b[0mtemp\u001b[0m\u001b[1;33m.\u001b[0m\u001b[0mgroupby\u001b[0m\u001b[1;33m(\u001b[0m\u001b[0mby\u001b[0m\u001b[1;33m=\u001b[0m\u001b[0mtrn_series\u001b[0m\u001b[1;33m.\u001b[0m\u001b[0mname\u001b[0m\u001b[1;33m)\u001b[0m\u001b[1;33m[\u001b[0m\u001b[0mtarget\u001b[0m\u001b[1;33m.\u001b[0m\u001b[0mname\u001b[0m\u001b[1;33m]\u001b[0m\u001b[1;33m.\u001b[0m\u001b[0magg\u001b[0m\u001b[1;33m(\u001b[0m\u001b[1;33m[\u001b[0m\u001b[1;34m\"mean\"\u001b[0m\u001b[1;33m,\u001b[0m \u001b[1;34m\"count\"\u001b[0m\u001b[1;33m]\u001b[0m\u001b[1;33m)\u001b[0m\u001b[1;33m\u001b[0m\u001b[1;33m\u001b[0m\u001b[0m\n",
      "\u001b[1;32m~\\Anaconda3\\lib\\site-packages\\pandas\\core\\generic.py\u001b[0m in \u001b[0;36m__getattr__\u001b[1;34m(self, name)\u001b[0m\n\u001b[0;32m   5177\u001b[0m             \u001b[1;32mif\u001b[0m \u001b[0mself\u001b[0m\u001b[1;33m.\u001b[0m\u001b[0m_info_axis\u001b[0m\u001b[1;33m.\u001b[0m\u001b[0m_can_hold_identifiers_and_holds_name\u001b[0m\u001b[1;33m(\u001b[0m\u001b[0mname\u001b[0m\u001b[1;33m)\u001b[0m\u001b[1;33m:\u001b[0m\u001b[1;33m\u001b[0m\u001b[1;33m\u001b[0m\u001b[0m\n\u001b[0;32m   5178\u001b[0m                 \u001b[1;32mreturn\u001b[0m \u001b[0mself\u001b[0m\u001b[1;33m[\u001b[0m\u001b[0mname\u001b[0m\u001b[1;33m]\u001b[0m\u001b[1;33m\u001b[0m\u001b[1;33m\u001b[0m\u001b[0m\n\u001b[1;32m-> 5179\u001b[1;33m             \u001b[1;32mreturn\u001b[0m \u001b[0mobject\u001b[0m\u001b[1;33m.\u001b[0m\u001b[0m__getattribute__\u001b[0m\u001b[1;33m(\u001b[0m\u001b[0mself\u001b[0m\u001b[1;33m,\u001b[0m \u001b[0mname\u001b[0m\u001b[1;33m)\u001b[0m\u001b[1;33m\u001b[0m\u001b[1;33m\u001b[0m\u001b[0m\n\u001b[0m\u001b[0;32m   5180\u001b[0m \u001b[1;33m\u001b[0m\u001b[0m\n\u001b[0;32m   5181\u001b[0m     \u001b[1;32mdef\u001b[0m \u001b[0m__setattr__\u001b[0m\u001b[1;33m(\u001b[0m\u001b[0mself\u001b[0m\u001b[1;33m,\u001b[0m \u001b[0mname\u001b[0m\u001b[1;33m,\u001b[0m \u001b[0mvalue\u001b[0m\u001b[1;33m)\u001b[0m\u001b[1;33m:\u001b[0m\u001b[1;33m\u001b[0m\u001b[1;33m\u001b[0m\u001b[0m\n",
      "\u001b[1;31mAttributeError\u001b[0m: 'DataFrame' object has no attribute 'name'"
     ]
    }
   ],
   "source": [
    "for i, (train_index, test_index) in enumerate(kf.split(train_df)):\n",
    "  y_train, y_valid = y.iloc[train_index].copy(), y.iloc[test_index]\n",
    "  X_train, X_valid = X.iloc[train_index].copy(), X.iloc[test_index].copy()\n",
    "\n",
    "  X_test = test_df.copy()\n",
    "  print(\"\\nFold \", i)\n",
    "\n",
    "  for f in f_cats:\n",
    "    X_train[f + \"_avg\"], X_valid[f + \"_avg\"], X_test[f + \"_avg\"] = target_encode( \n",
    "      trn_series=X_train[f],\n",
    "      val_series=X_valid[f],\n",
    "      tst_series=X_test[f],\n",
    "      target=y_train,\n",
    "      min_samples_leaf=200,\n",
    "      smoothing=10,\n",
    "      noise_level=0\n",
    "    )\n",
    "\n",
    "  if OPTIMIZE_ROUNDS:\n",
    "    eval_set = [(X_valid, y_valid)]\n",
    "    fit_model = model.fit( X_train, y_train, eval_set=eval_set, eval_metric=gini_xgb,\n",
    "      early_stopping_rounds=EARLY_STOPPING_ROUNDS, verbose=False)\n",
    "      "
   ]
  },
  {
   "cell_type": "code",
   "execution_count": null,
   "metadata": {},
   "outputs": [],
   "source": []
  }
 ],
 "metadata": {
  "interpreter": {
   "hash": "aa2d47bc11f4184ec0f4ad036b942f7d7cdb077768e25a9953837c39fb45c11e"
  },
  "kernelspec": {
   "display_name": "Python 3.7.2 32-bit",
   "language": "python",
   "name": "python3"
  },
  "language_info": {
   "codemirror_mode": {
    "name": "ipython",
    "version": 3
   },
   "file_extension": ".py",
   "mimetype": "text/x-python",
   "name": "python",
   "nbconvert_exporter": "python",
   "pygments_lexer": "ipython3",
   "version": "3.7.4"
  },
  "orig_nbformat": 4
 },
 "nbformat": 4,
 "nbformat_minor": 2
}
