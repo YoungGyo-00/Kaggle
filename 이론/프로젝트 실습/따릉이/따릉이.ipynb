{
 "cells": [
  {
   "cell_type": "code",
   "execution_count": 2,
   "metadata": {},
   "outputs": [
    {
     "name": "stderr",
     "output_type": "stream",
     "text": [
      "'sudo'��(��) ���� �Ǵ� �ܺ� ����, ������ �� �ִ� ���α׷�, �Ǵ�\n",
      "��ġ ������ �ƴմϴ�.\n",
      "'sudo'��(��) ���� �Ǵ� �ܺ� ����, ������ �� �ִ� ���α׷�, �Ǵ�\n",
      "��ġ ������ �ƴմϴ�.\n",
      "'rm'��(��) ���� �Ǵ� �ܺ� ����, ������ �� �ִ� ���α׷�, �Ǵ�\n",
      "��ġ ������ �ƴմϴ�.\n"
     ]
    }
   ],
   "source": [
    "!sudo apt-get install -y fonts-nanum\n",
    "!sudo fc-cache -fv\n",
    "!rm ~/.cache/matplotlib -rf"
   ]
  },
  {
   "cell_type": "code",
   "execution_count": 3,
   "metadata": {},
   "outputs": [],
   "source": [
    "import math\n",
    "import numpy as np\n",
    "import pandas as pd\n",
    "import seaborn as sns\n",
    "import matplotlib.pyplot as plt\n",
    "\n",
    "plt.style.use('seaborn')\n",
    "sns.set(font_scale=1)\n",
    "plt.rc('font', family='NanumBarunGothic')\n",
    "plt.rcParams['font.family'] = 'NanumGothic'\n",
    "\n",
    "import warnings\n",
    "warnings.simplefilter(action='ignore', category=FutureWarning)"
   ]
  },
  {
   "cell_type": "code",
   "execution_count": 4,
   "metadata": {},
   "outputs": [],
   "source": [
    "bike1 = pd.read_csv('./data/공공자전거 대여소 정보(21.01.31 기준).csv', encoding='cp949')\n",
    "bike2 = pd.read_csv('./data/공공자전거 대여소별 이용정보_2020.07_2021.01.csv', encoding='cp949')"
   ]
  },
  {
   "cell_type": "code",
   "execution_count": 5,
   "metadata": {},
   "outputs": [
    {
     "data": {
      "text/html": [
       "<div>\n",
       "<style scoped>\n",
       "    .dataframe tbody tr th:only-of-type {\n",
       "        vertical-align: middle;\n",
       "    }\n",
       "\n",
       "    .dataframe tbody tr th {\n",
       "        vertical-align: top;\n",
       "    }\n",
       "\n",
       "    .dataframe thead th {\n",
       "        text-align: right;\n",
       "    }\n",
       "</style>\n",
       "<table border=\"1\" class=\"dataframe\">\n",
       "  <thead>\n",
       "    <tr style=\"text-align: right;\">\n",
       "      <th></th>\n",
       "      <th>대여소 그룹</th>\n",
       "      <th>대여소 명</th>\n",
       "      <th>대여 일자 / 월</th>\n",
       "      <th>대여 건수</th>\n",
       "    </tr>\n",
       "  </thead>\n",
       "  <tbody>\n",
       "    <tr>\n",
       "      <td>0</td>\n",
       "      <td>강남구</td>\n",
       "      <td>2301. 현대고등학교 건너편</td>\n",
       "      <td>202007</td>\n",
       "      <td>3997</td>\n",
       "    </tr>\n",
       "    <tr>\n",
       "      <td>1</td>\n",
       "      <td>강남구</td>\n",
       "      <td>2302. 교보타워 버스정류장(신논현역 3번출구 후면)</td>\n",
       "      <td>202007</td>\n",
       "      <td>1250</td>\n",
       "    </tr>\n",
       "    <tr>\n",
       "      <td>2</td>\n",
       "      <td>강남구</td>\n",
       "      <td>2303. 논현역 7번출구</td>\n",
       "      <td>202007</td>\n",
       "      <td>863</td>\n",
       "    </tr>\n",
       "    <tr>\n",
       "      <td>3</td>\n",
       "      <td>강남구</td>\n",
       "      <td>2304. 신영 ROYAL PALACE 앞</td>\n",
       "      <td>202007</td>\n",
       "      <td>334</td>\n",
       "    </tr>\n",
       "    <tr>\n",
       "      <td>4</td>\n",
       "      <td>강남구</td>\n",
       "      <td>2305. MCM 본사 직영점 앞</td>\n",
       "      <td>202007</td>\n",
       "      <td>436</td>\n",
       "    </tr>\n",
       "    <tr>\n",
       "      <td>...</td>\n",
       "      <td>...</td>\n",
       "      <td>...</td>\n",
       "      <td>...</td>\n",
       "      <td>...</td>\n",
       "    </tr>\n",
       "    <tr>\n",
       "      <td>14749</td>\n",
       "      <td>중랑구</td>\n",
       "      <td>1474.서울중랑우체국</td>\n",
       "      <td>202101</td>\n",
       "      <td>315</td>\n",
       "    </tr>\n",
       "    <tr>\n",
       "      <td>14750</td>\n",
       "      <td>중랑구</td>\n",
       "      <td>1477.면목삼익아파트 앞</td>\n",
       "      <td>202101</td>\n",
       "      <td>159</td>\n",
       "    </tr>\n",
       "    <tr>\n",
       "      <td>14751</td>\n",
       "      <td>중랑구</td>\n",
       "      <td>1478.홈플러스 상봉점 앞</td>\n",
       "      <td>202101</td>\n",
       "      <td>427</td>\n",
       "    </tr>\n",
       "    <tr>\n",
       "      <td>14752</td>\n",
       "      <td>중랑구</td>\n",
       "      <td>1479.면목 홈플러스 2</td>\n",
       "      <td>202101</td>\n",
       "      <td>187</td>\n",
       "    </tr>\n",
       "    <tr>\n",
       "      <td>14753</td>\n",
       "      <td>중랑구</td>\n",
       "      <td>1480. 용마지구대 옆</td>\n",
       "      <td>202101</td>\n",
       "      <td>207</td>\n",
       "    </tr>\n",
       "  </tbody>\n",
       "</table>\n",
       "<p>14754 rows × 4 columns</p>\n",
       "</div>"
      ],
      "text/plain": [
       "      대여소 그룹                           대여소 명  대여 일자 / 월  대여 건수\n",
       "0        강남구                2301. 현대고등학교 건너편     202007   3997\n",
       "1        강남구  2302. 교보타워 버스정류장(신논현역 3번출구 후면)     202007   1250\n",
       "2        강남구                  2303. 논현역 7번출구     202007    863\n",
       "3        강남구         2304. 신영 ROYAL PALACE 앞     202007    334\n",
       "4        강남구              2305. MCM 본사 직영점 앞     202007    436\n",
       "...      ...                             ...        ...    ...\n",
       "14749    중랑구                    1474.서울중랑우체국     202101    315\n",
       "14750    중랑구                  1477.면목삼익아파트 앞     202101    159\n",
       "14751    중랑구                 1478.홈플러스 상봉점 앞     202101    427\n",
       "14752    중랑구                  1479.면목 홈플러스 2     202101    187\n",
       "14753    중랑구                   1480. 용마지구대 옆     202101    207\n",
       "\n",
       "[14754 rows x 4 columns]"
      ]
     },
     "execution_count": 5,
     "metadata": {},
     "output_type": "execute_result"
    }
   ],
   "source": [
    "bike2"
   ]
  },
  {
   "cell_type": "code",
   "execution_count": 6,
   "metadata": {},
   "outputs": [
    {
     "name": "stdout",
     "output_type": "stream",
     "text": [
      "<class 'pandas.core.frame.DataFrame'>\n",
      "RangeIndex: 2154 entries, 0 to 2153\n",
      "Data columns (total 10 columns):\n",
      "대여소\n",
      "번호       2154 non-null int64\n",
      "보관소(대여소)명    2154 non-null object\n",
      "자치구          2154 non-null object\n",
      "상세주소         2154 non-null object\n",
      "위도           2042 non-null float64\n",
      "경도           2042 non-null float64\n",
      "설치\n",
      "시기        2152 non-null object\n",
      "거치대수_LCD     1482 non-null float64\n",
      "거치대수_QR      671 non-null float64\n",
      "운영\n",
      "방식        2154 non-null object\n",
      "dtypes: float64(4), int64(1), object(5)\n",
      "memory usage: 168.4+ KB\n"
     ]
    }
   ],
   "source": [
    "bike1.info()"
   ]
  },
  {
   "cell_type": "code",
   "execution_count": 7,
   "metadata": {},
   "outputs": [
    {
     "name": "stdout",
     "output_type": "stream",
     "text": [
      "<class 'pandas.core.frame.DataFrame'>\n",
      "RangeIndex: 14754 entries, 0 to 14753\n",
      "Data columns (total 4 columns):\n",
      "대여소 그룹       14754 non-null object\n",
      "대여소 명        14754 non-null object\n",
      "대여 일자 / 월    14754 non-null int64\n",
      "대여 건수        14754 non-null int64\n",
      "dtypes: int64(2), object(2)\n",
      "memory usage: 461.2+ KB\n"
     ]
    }
   ],
   "source": [
    "bike2.info()"
   ]
  },
  {
   "cell_type": "code",
   "execution_count": 8,
   "metadata": {},
   "outputs": [],
   "source": [
    "bike1.columns = ['대여소번호', '대여소명', '자치구', '상세주소', '위도', '경도', '설치시기', '거치대수icd', '거치대수qr', '운영방식']"
   ]
  },
  {
   "cell_type": "code",
   "execution_count": 9,
   "metadata": {},
   "outputs": [
    {
     "data": {
      "text/html": [
       "<div>\n",
       "<style scoped>\n",
       "    .dataframe tbody tr th:only-of-type {\n",
       "        vertical-align: middle;\n",
       "    }\n",
       "\n",
       "    .dataframe tbody tr th {\n",
       "        vertical-align: top;\n",
       "    }\n",
       "\n",
       "    .dataframe thead th {\n",
       "        text-align: right;\n",
       "    }\n",
       "</style>\n",
       "<table border=\"1\" class=\"dataframe\">\n",
       "  <thead>\n",
       "    <tr style=\"text-align: right;\">\n",
       "      <th></th>\n",
       "      <th>대여소번호</th>\n",
       "      <th>대여소명</th>\n",
       "      <th>자치구</th>\n",
       "      <th>상세주소</th>\n",
       "      <th>위도</th>\n",
       "      <th>경도</th>\n",
       "      <th>설치시기</th>\n",
       "      <th>거치대수icd</th>\n",
       "      <th>거치대수qr</th>\n",
       "      <th>운영방식</th>\n",
       "    </tr>\n",
       "  </thead>\n",
       "  <tbody>\n",
       "    <tr>\n",
       "      <td>0</td>\n",
       "      <td>301</td>\n",
       "      <td>경복궁역 7번출구 앞</td>\n",
       "      <td>종로구</td>\n",
       "      <td>서울특별시 종로구 사직로 지하130</td>\n",
       "      <td>37.575794</td>\n",
       "      <td>126.971451</td>\n",
       "      <td>2015-10-07</td>\n",
       "      <td>16.0</td>\n",
       "      <td>NaN</td>\n",
       "      <td>LCD</td>\n",
       "    </tr>\n",
       "    <tr>\n",
       "      <td>1</td>\n",
       "      <td>302</td>\n",
       "      <td>경복궁역 4번출구 뒤</td>\n",
       "      <td>종로구</td>\n",
       "      <td>서울특별시 종로구 사직로 지하130</td>\n",
       "      <td>37.575947</td>\n",
       "      <td>126.974060</td>\n",
       "      <td>2015-10-07</td>\n",
       "      <td>12.0</td>\n",
       "      <td>NaN</td>\n",
       "      <td>LCD</td>\n",
       "    </tr>\n",
       "    <tr>\n",
       "      <td>2</td>\n",
       "      <td>303</td>\n",
       "      <td>광화문역 1번출구 앞</td>\n",
       "      <td>종로구</td>\n",
       "      <td>서울특별시 종로구 세종대로 지하189</td>\n",
       "      <td>37.571770</td>\n",
       "      <td>126.974663</td>\n",
       "      <td>2015-10-07</td>\n",
       "      <td>8.0</td>\n",
       "      <td>NaN</td>\n",
       "      <td>LCD</td>\n",
       "    </tr>\n",
       "    <tr>\n",
       "      <td>3</td>\n",
       "      <td>304</td>\n",
       "      <td>광화문역 2번출구 앞</td>\n",
       "      <td>종로구</td>\n",
       "      <td>서울특별시 종로구 세종대로 지하172</td>\n",
       "      <td>37.572113</td>\n",
       "      <td>126.977577</td>\n",
       "      <td>2021-01-26</td>\n",
       "      <td>NaN</td>\n",
       "      <td>7.0</td>\n",
       "      <td>QR</td>\n",
       "    </tr>\n",
       "    <tr>\n",
       "      <td>4</td>\n",
       "      <td>305</td>\n",
       "      <td>종로구청 옆</td>\n",
       "      <td>종로구</td>\n",
       "      <td>서울특별시 종로구 삼봉로 43</td>\n",
       "      <td>37.572582</td>\n",
       "      <td>126.978355</td>\n",
       "      <td>2015-10-07</td>\n",
       "      <td>16.0</td>\n",
       "      <td>NaN</td>\n",
       "      <td>LCD</td>\n",
       "    </tr>\n",
       "  </tbody>\n",
       "</table>\n",
       "</div>"
      ],
      "text/plain": [
       "   대여소번호         대여소명  자치구                  상세주소         위도          경도  \\\n",
       "0    301  경복궁역 7번출구 앞  종로구   서울특별시 종로구 사직로 지하130  37.575794  126.971451   \n",
       "1    302  경복궁역 4번출구 뒤  종로구   서울특별시 종로구 사직로 지하130  37.575947  126.974060   \n",
       "2    303  광화문역 1번출구 앞  종로구  서울특별시 종로구 세종대로 지하189  37.571770  126.974663   \n",
       "3    304  광화문역 2번출구 앞  종로구  서울특별시 종로구 세종대로 지하172  37.572113  126.977577   \n",
       "4    305       종로구청 옆  종로구      서울특별시 종로구 삼봉로 43  37.572582  126.978355   \n",
       "\n",
       "         설치시기  거치대수icd  거치대수qr 운영방식  \n",
       "0  2015-10-07     16.0     NaN  LCD  \n",
       "1  2015-10-07     12.0     NaN  LCD  \n",
       "2  2015-10-07      8.0     NaN  LCD  \n",
       "3  2021-01-26      NaN     7.0   QR  \n",
       "4  2015-10-07     16.0     NaN  LCD  "
      ]
     },
     "execution_count": 9,
     "metadata": {},
     "output_type": "execute_result"
    }
   ],
   "source": [
    "bike1.head()"
   ]
  },
  {
   "cell_type": "code",
   "execution_count": 10,
   "metadata": {},
   "outputs": [],
   "source": [
    "bike1 = bike1.drop(['상세주소', '위도', '경도'], axis=1, inplace=False)"
   ]
  },
  {
   "cell_type": "code",
   "execution_count": 11,
   "metadata": {},
   "outputs": [],
   "source": [
    "bike1['거치대수icd'] = bike1['거치대수icd'].fillna(0)\n",
    "bike1['거치대수qr'] = bike1['거치대수qr'].fillna(0)"
   ]
  },
  {
   "cell_type": "code",
   "execution_count": 12,
   "metadata": {},
   "outputs": [],
   "source": [
    "bike2['대여소번호'] = bike2['대여소 명'].str.split('.', expand=True)[0]\n",
    "bike2['대여소명_new'] = bike2['대여소 명'].str.split('.', expand=True)[1]"
   ]
  },
  {
   "cell_type": "code",
   "execution_count": 13,
   "metadata": {},
   "outputs": [],
   "source": [
    "bike22 = bike2.dropna(subset=['대여소명_new'])"
   ]
  },
  {
   "cell_type": "code",
   "execution_count": 14,
   "metadata": {},
   "outputs": [
    {
     "data": {
      "text/plain": [
       "대여소 그룹       False\n",
       "대여소 명        False\n",
       "대여 일자 / 월    False\n",
       "대여 건수        False\n",
       "대여소번호        False\n",
       "대여소명_new     False\n",
       "dtype: bool"
      ]
     },
     "execution_count": 14,
     "metadata": {},
     "output_type": "execute_result"
    }
   ],
   "source": [
    "bike22.isnull().any()"
   ]
  },
  {
   "cell_type": "code",
   "execution_count": 15,
   "metadata": {},
   "outputs": [],
   "source": [
    "bike1['대여소번호'] = bike1['대여소번호'].astype(object)"
   ]
  },
  {
   "cell_type": "code",
   "execution_count": 16,
   "metadata": {},
   "outputs": [
    {
     "data": {
      "text/plain": [
       "dtype('O')"
      ]
     },
     "execution_count": 16,
     "metadata": {},
     "output_type": "execute_result"
    }
   ],
   "source": [
    "bike1['대여소번호'].dtypes"
   ]
  },
  {
   "cell_type": "code",
   "execution_count": 17,
   "metadata": {},
   "outputs": [
    {
     "data": {
      "text/html": [
       "<div>\n",
       "<style scoped>\n",
       "    .dataframe tbody tr th:only-of-type {\n",
       "        vertical-align: middle;\n",
       "    }\n",
       "\n",
       "    .dataframe tbody tr th {\n",
       "        vertical-align: top;\n",
       "    }\n",
       "\n",
       "    .dataframe thead th {\n",
       "        text-align: right;\n",
       "    }\n",
       "</style>\n",
       "<table border=\"1\" class=\"dataframe\">\n",
       "  <thead>\n",
       "    <tr style=\"text-align: right;\">\n",
       "      <th></th>\n",
       "      <th>대여소번호</th>\n",
       "      <th>대여소명</th>\n",
       "      <th>자치구</th>\n",
       "      <th>설치시기</th>\n",
       "      <th>거치대수icd</th>\n",
       "      <th>거치대수qr</th>\n",
       "      <th>운영방식</th>\n",
       "    </tr>\n",
       "  </thead>\n",
       "  <tbody>\n",
       "    <tr>\n",
       "      <td>0</td>\n",
       "      <td>301</td>\n",
       "      <td>경복궁역 7번출구 앞</td>\n",
       "      <td>종로구</td>\n",
       "      <td>2015-10-07</td>\n",
       "      <td>16.0</td>\n",
       "      <td>0.0</td>\n",
       "      <td>LCD</td>\n",
       "    </tr>\n",
       "    <tr>\n",
       "      <td>1</td>\n",
       "      <td>302</td>\n",
       "      <td>경복궁역 4번출구 뒤</td>\n",
       "      <td>종로구</td>\n",
       "      <td>2015-10-07</td>\n",
       "      <td>12.0</td>\n",
       "      <td>0.0</td>\n",
       "      <td>LCD</td>\n",
       "    </tr>\n",
       "    <tr>\n",
       "      <td>2</td>\n",
       "      <td>303</td>\n",
       "      <td>광화문역 1번출구 앞</td>\n",
       "      <td>종로구</td>\n",
       "      <td>2015-10-07</td>\n",
       "      <td>8.0</td>\n",
       "      <td>0.0</td>\n",
       "      <td>LCD</td>\n",
       "    </tr>\n",
       "    <tr>\n",
       "      <td>3</td>\n",
       "      <td>304</td>\n",
       "      <td>광화문역 2번출구 앞</td>\n",
       "      <td>종로구</td>\n",
       "      <td>2021-01-26</td>\n",
       "      <td>0.0</td>\n",
       "      <td>7.0</td>\n",
       "      <td>QR</td>\n",
       "    </tr>\n",
       "    <tr>\n",
       "      <td>4</td>\n",
       "      <td>305</td>\n",
       "      <td>종로구청 옆</td>\n",
       "      <td>종로구</td>\n",
       "      <td>2015-10-07</td>\n",
       "      <td>16.0</td>\n",
       "      <td>0.0</td>\n",
       "      <td>LCD</td>\n",
       "    </tr>\n",
       "  </tbody>\n",
       "</table>\n",
       "</div>"
      ],
      "text/plain": [
       "  대여소번호         대여소명  자치구        설치시기  거치대수icd  거치대수qr 운영방식\n",
       "0   301  경복궁역 7번출구 앞  종로구  2015-10-07     16.0     0.0  LCD\n",
       "1   302  경복궁역 4번출구 뒤  종로구  2015-10-07     12.0     0.0  LCD\n",
       "2   303  광화문역 1번출구 앞  종로구  2015-10-07      8.0     0.0  LCD\n",
       "3   304  광화문역 2번출구 앞  종로구  2021-01-26      0.0     7.0   QR\n",
       "4   305       종로구청 옆  종로구  2015-10-07     16.0     0.0  LCD"
      ]
     },
     "execution_count": 17,
     "metadata": {},
     "output_type": "execute_result"
    }
   ],
   "source": [
    "bike1.head()"
   ]
  },
  {
   "cell_type": "code",
   "execution_count": 19,
   "metadata": {},
   "outputs": [],
   "source": [
    "bike1['총거치대수'] = bike1['거치대수icd'] + bike1['거치대수qr']"
   ]
  },
  {
   "cell_type": "code",
   "execution_count": 21,
   "metadata": {},
   "outputs": [],
   "source": [
    "bike_sum1 = bike1.groupby(['자치구'])['총거치대수'].sum().reset_index()\n",
    "bike_sum1 = bike_sum1.set_index('자치구')"
   ]
  },
  {
   "cell_type": "code",
   "execution_count": 22,
   "metadata": {},
   "outputs": [
    {
     "data": {
      "text/html": [
       "<div>\n",
       "<style scoped>\n",
       "    .dataframe tbody tr th:only-of-type {\n",
       "        vertical-align: middle;\n",
       "    }\n",
       "\n",
       "    .dataframe tbody tr th {\n",
       "        vertical-align: top;\n",
       "    }\n",
       "\n",
       "    .dataframe thead th {\n",
       "        text-align: right;\n",
       "    }\n",
       "</style>\n",
       "<table border=\"1\" class=\"dataframe\">\n",
       "  <thead>\n",
       "    <tr style=\"text-align: right;\">\n",
       "      <th></th>\n",
       "      <th>총거치대수</th>\n",
       "    </tr>\n",
       "    <tr>\n",
       "      <th>자치구</th>\n",
       "      <th></th>\n",
       "    </tr>\n",
       "  </thead>\n",
       "  <tbody>\n",
       "    <tr>\n",
       "      <td>강남구</td>\n",
       "      <td>1482.0</td>\n",
       "    </tr>\n",
       "    <tr>\n",
       "      <td>강동구</td>\n",
       "      <td>1152.0</td>\n",
       "    </tr>\n",
       "    <tr>\n",
       "      <td>강북구</td>\n",
       "      <td>676.0</td>\n",
       "    </tr>\n",
       "    <tr>\n",
       "      <td>강서구</td>\n",
       "      <td>2029.0</td>\n",
       "    </tr>\n",
       "    <tr>\n",
       "      <td>관악구</td>\n",
       "      <td>827.0</td>\n",
       "    </tr>\n",
       "    <tr>\n",
       "      <td>광진구</td>\n",
       "      <td>1029.0</td>\n",
       "    </tr>\n",
       "    <tr>\n",
       "      <td>구로구</td>\n",
       "      <td>1184.0</td>\n",
       "    </tr>\n",
       "    <tr>\n",
       "      <td>금천구</td>\n",
       "      <td>717.0</td>\n",
       "    </tr>\n",
       "    <tr>\n",
       "      <td>노원구</td>\n",
       "      <td>1131.0</td>\n",
       "    </tr>\n",
       "    <tr>\n",
       "      <td>도봉구</td>\n",
       "      <td>683.0</td>\n",
       "    </tr>\n",
       "    <tr>\n",
       "      <td>동대문구</td>\n",
       "      <td>1021.0</td>\n",
       "    </tr>\n",
       "    <tr>\n",
       "      <td>동작구</td>\n",
       "      <td>844.0</td>\n",
       "    </tr>\n",
       "    <tr>\n",
       "      <td>마포구</td>\n",
       "      <td>1310.0</td>\n",
       "    </tr>\n",
       "    <tr>\n",
       "      <td>서대문구</td>\n",
       "      <td>1015.0</td>\n",
       "    </tr>\n",
       "    <tr>\n",
       "      <td>서초구</td>\n",
       "      <td>1631.0</td>\n",
       "    </tr>\n",
       "    <tr>\n",
       "      <td>성동구</td>\n",
       "      <td>977.0</td>\n",
       "    </tr>\n",
       "    <tr>\n",
       "      <td>성북구</td>\n",
       "      <td>911.0</td>\n",
       "    </tr>\n",
       "    <tr>\n",
       "      <td>송파구</td>\n",
       "      <td>1770.0</td>\n",
       "    </tr>\n",
       "    <tr>\n",
       "      <td>양천구</td>\n",
       "      <td>1028.0</td>\n",
       "    </tr>\n",
       "    <tr>\n",
       "      <td>영등포구</td>\n",
       "      <td>1495.0</td>\n",
       "    </tr>\n",
       "    <tr>\n",
       "      <td>용산구</td>\n",
       "      <td>865.0</td>\n",
       "    </tr>\n",
       "    <tr>\n",
       "      <td>은평구</td>\n",
       "      <td>927.0</td>\n",
       "    </tr>\n",
       "    <tr>\n",
       "      <td>종로구</td>\n",
       "      <td>1168.0</td>\n",
       "    </tr>\n",
       "    <tr>\n",
       "      <td>중구</td>\n",
       "      <td>962.0</td>\n",
       "    </tr>\n",
       "    <tr>\n",
       "      <td>중랑구</td>\n",
       "      <td>830.0</td>\n",
       "    </tr>\n",
       "  </tbody>\n",
       "</table>\n",
       "</div>"
      ],
      "text/plain": [
       "       총거치대수\n",
       "자치구         \n",
       "강남구   1482.0\n",
       "강동구   1152.0\n",
       "강북구    676.0\n",
       "강서구   2029.0\n",
       "관악구    827.0\n",
       "광진구   1029.0\n",
       "구로구   1184.0\n",
       "금천구    717.0\n",
       "노원구   1131.0\n",
       "도봉구    683.0\n",
       "동대문구  1021.0\n",
       "동작구    844.0\n",
       "마포구   1310.0\n",
       "서대문구  1015.0\n",
       "서초구   1631.0\n",
       "성동구    977.0\n",
       "성북구    911.0\n",
       "송파구   1770.0\n",
       "양천구   1028.0\n",
       "영등포구  1495.0\n",
       "용산구    865.0\n",
       "은평구    927.0\n",
       "종로구   1168.0\n",
       "중구     962.0\n",
       "중랑구    830.0"
      ]
     },
     "execution_count": 22,
     "metadata": {},
     "output_type": "execute_result"
    }
   ],
   "source": [
    "bike_sum1"
   ]
  },
  {
   "cell_type": "code",
   "execution_count": 25,
   "metadata": {},
   "outputs": [],
   "source": [
    "import json\n",
    "import folium\n",
    "import warnings"
   ]
  },
  {
   "cell_type": "code",
   "execution_count": 24,
   "metadata": {},
   "outputs": [
    {
     "name": "stdout",
     "output_type": "stream",
     "text": [
      "Collecting folium\n",
      "  Downloading https://files.pythonhosted.org/packages/b9/05/bb30dc97efa1b431c88deac7a77af3d62df1423574c4fe2d5a10a4932e85/folium-0.12.1.post1-py2.py3-none-any.whl (95kB)\n",
      "Requirement already satisfied: jinja2>=2.9 in c:\\users\\lee45\\anaconda3\\lib\\site-packages (from folium) (2.10.3)\n",
      "Requirement already satisfied: numpy in c:\\users\\lee45\\anaconda3\\lib\\site-packages (from folium) (1.16.5)\n",
      "Collecting branca>=0.3.0 (from folium)\n",
      "  Downloading https://files.pythonhosted.org/packages/61/1f/570b0615c452265d57e4114e633231d6cd9b9d275256778a675681e4f711/branca-0.4.2-py3-none-any.whl\n",
      "Requirement already satisfied: requests in c:\\users\\lee45\\anaconda3\\lib\\site-packages (from folium) (2.22.0)\n",
      "Requirement already satisfied: MarkupSafe>=0.23 in c:\\users\\lee45\\anaconda3\\lib\\site-packages (from jinja2>=2.9->folium) (1.1.1)\n",
      "Requirement already satisfied: chardet<3.1.0,>=3.0.2 in c:\\users\\lee45\\anaconda3\\lib\\site-packages (from requests->folium) (3.0.4)\n",
      "Requirement already satisfied: certifi>=2017.4.17 in c:\\users\\lee45\\anaconda3\\lib\\site-packages (from requests->folium) (2019.9.11)\n",
      "Requirement already satisfied: idna<2.9,>=2.5 in c:\\users\\lee45\\anaconda3\\lib\\site-packages (from requests->folium) (2.8)\n",
      "Requirement already satisfied: urllib3!=1.25.0,!=1.25.1,<1.26,>=1.21.1 in c:\\users\\lee45\\anaconda3\\lib\\site-packages (from requests->folium) (1.24.2)\n",
      "Installing collected packages: branca, folium\n",
      "Successfully installed branca-0.4.2 folium-0.12.1.post1\n"
     ]
    }
   ],
   "source": [
    "!pip install folium"
   ]
  },
  {
   "cell_type": "code",
   "execution_count": null,
   "metadata": {},
   "outputs": [],
   "source": []
  }
 ],
 "metadata": {
  "interpreter": {
   "hash": "0e6c42097f02f8ac3396d1729e2acff59b9d1614a89fb6280131b727afe8d540"
  },
  "kernelspec": {
   "display_name": "Python 3.7.4 64-bit ('base': conda)",
   "language": "python",
   "name": "python3"
  },
  "language_info": {
   "codemirror_mode": {
    "name": "ipython",
    "version": 3
   },
   "file_extension": ".py",
   "mimetype": "text/x-python",
   "name": "python",
   "nbconvert_exporter": "python",
   "pygments_lexer": "ipython3",
   "version": "3.7.4"
  },
  "orig_nbformat": 4
 },
 "nbformat": 4,
 "nbformat_minor": 2
}
