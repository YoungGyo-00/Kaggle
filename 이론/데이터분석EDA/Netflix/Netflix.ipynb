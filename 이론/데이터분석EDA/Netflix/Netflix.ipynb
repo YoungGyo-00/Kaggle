{
 "cells": [
  {
   "cell_type": "code",
   "execution_count": 2,
   "metadata": {},
   "outputs": [],
   "source": [
    "import numpy as np\n",
    "import pandas as pd\n",
    "\n",
    "import plotly.express as px\n",
    "import plotly.graph_objects as go\n",
    "import plotly.figure_factory as ff\n",
    "from plotly.subplots import make_subplots\n",
    "\n",
    "import matplotlib.pyplot as plt\n",
    "%matplotlib inline\n",
    "\n",
    "import seaborn as sns"
   ]
  },
  {
   "cell_type": "code",
   "execution_count": 3,
   "metadata": {},
   "outputs": [
    {
     "data": {
      "text/html": [
       "<div>\n",
       "<style scoped>\n",
       "    .dataframe tbody tr th:only-of-type {\n",
       "        vertical-align: middle;\n",
       "    }\n",
       "\n",
       "    .dataframe tbody tr th {\n",
       "        vertical-align: top;\n",
       "    }\n",
       "\n",
       "    .dataframe thead th {\n",
       "        text-align: right;\n",
       "    }\n",
       "</style>\n",
       "<table border=\"1\" class=\"dataframe\">\n",
       "  <thead>\n",
       "    <tr style=\"text-align: right;\">\n",
       "      <th></th>\n",
       "      <th>show_id</th>\n",
       "      <th>type</th>\n",
       "      <th>title</th>\n",
       "      <th>director</th>\n",
       "      <th>cast</th>\n",
       "      <th>country</th>\n",
       "      <th>date_added</th>\n",
       "      <th>release_year</th>\n",
       "      <th>rating</th>\n",
       "      <th>duration</th>\n",
       "      <th>listed_in</th>\n",
       "      <th>description</th>\n",
       "    </tr>\n",
       "  </thead>\n",
       "  <tbody>\n",
       "    <tr>\n",
       "      <th>0</th>\n",
       "      <td>s1</td>\n",
       "      <td>Movie</td>\n",
       "      <td>Dick Johnson Is Dead</td>\n",
       "      <td>Kirsten Johnson</td>\n",
       "      <td>NaN</td>\n",
       "      <td>United States</td>\n",
       "      <td>September 25, 2021</td>\n",
       "      <td>2020</td>\n",
       "      <td>PG-13</td>\n",
       "      <td>90 min</td>\n",
       "      <td>Documentaries</td>\n",
       "      <td>As her father nears the end of his life, filmm...</td>\n",
       "    </tr>\n",
       "    <tr>\n",
       "      <th>1</th>\n",
       "      <td>s2</td>\n",
       "      <td>TV Show</td>\n",
       "      <td>Blood &amp; Water</td>\n",
       "      <td>NaN</td>\n",
       "      <td>Ama Qamata, Khosi Ngema, Gail Mabalane, Thaban...</td>\n",
       "      <td>South Africa</td>\n",
       "      <td>September 24, 2021</td>\n",
       "      <td>2021</td>\n",
       "      <td>TV-MA</td>\n",
       "      <td>2 Seasons</td>\n",
       "      <td>International TV Shows, TV Dramas, TV Mysteries</td>\n",
       "      <td>After crossing paths at a party, a Cape Town t...</td>\n",
       "    </tr>\n",
       "    <tr>\n",
       "      <th>2</th>\n",
       "      <td>s3</td>\n",
       "      <td>TV Show</td>\n",
       "      <td>Ganglands</td>\n",
       "      <td>Julien Leclercq</td>\n",
       "      <td>Sami Bouajila, Tracy Gotoas, Samuel Jouy, Nabi...</td>\n",
       "      <td>NaN</td>\n",
       "      <td>September 24, 2021</td>\n",
       "      <td>2021</td>\n",
       "      <td>TV-MA</td>\n",
       "      <td>1 Season</td>\n",
       "      <td>Crime TV Shows, International TV Shows, TV Act...</td>\n",
       "      <td>To protect his family from a powerful drug lor...</td>\n",
       "    </tr>\n",
       "    <tr>\n",
       "      <th>3</th>\n",
       "      <td>s4</td>\n",
       "      <td>TV Show</td>\n",
       "      <td>Jailbirds New Orleans</td>\n",
       "      <td>NaN</td>\n",
       "      <td>NaN</td>\n",
       "      <td>NaN</td>\n",
       "      <td>September 24, 2021</td>\n",
       "      <td>2021</td>\n",
       "      <td>TV-MA</td>\n",
       "      <td>1 Season</td>\n",
       "      <td>Docuseries, Reality TV</td>\n",
       "      <td>Feuds, flirtations and toilet talk go down amo...</td>\n",
       "    </tr>\n",
       "    <tr>\n",
       "      <th>4</th>\n",
       "      <td>s5</td>\n",
       "      <td>TV Show</td>\n",
       "      <td>Kota Factory</td>\n",
       "      <td>NaN</td>\n",
       "      <td>Mayur More, Jitendra Kumar, Ranjan Raj, Alam K...</td>\n",
       "      <td>India</td>\n",
       "      <td>September 24, 2021</td>\n",
       "      <td>2021</td>\n",
       "      <td>TV-MA</td>\n",
       "      <td>2 Seasons</td>\n",
       "      <td>International TV Shows, Romantic TV Shows, TV ...</td>\n",
       "      <td>In a city of coaching centers known to train I...</td>\n",
       "    </tr>\n",
       "  </tbody>\n",
       "</table>\n",
       "</div>"
      ],
      "text/plain": [
       "  show_id     type                  title         director  \\\n",
       "0      s1    Movie   Dick Johnson Is Dead  Kirsten Johnson   \n",
       "1      s2  TV Show          Blood & Water              NaN   \n",
       "2      s3  TV Show              Ganglands  Julien Leclercq   \n",
       "3      s4  TV Show  Jailbirds New Orleans              NaN   \n",
       "4      s5  TV Show           Kota Factory              NaN   \n",
       "\n",
       "                                                cast        country  \\\n",
       "0                                                NaN  United States   \n",
       "1  Ama Qamata, Khosi Ngema, Gail Mabalane, Thaban...   South Africa   \n",
       "2  Sami Bouajila, Tracy Gotoas, Samuel Jouy, Nabi...            NaN   \n",
       "3                                                NaN            NaN   \n",
       "4  Mayur More, Jitendra Kumar, Ranjan Raj, Alam K...          India   \n",
       "\n",
       "           date_added  release_year rating   duration  \\\n",
       "0  September 25, 2021          2020  PG-13     90 min   \n",
       "1  September 24, 2021          2021  TV-MA  2 Seasons   \n",
       "2  September 24, 2021          2021  TV-MA   1 Season   \n",
       "3  September 24, 2021          2021  TV-MA   1 Season   \n",
       "4  September 24, 2021          2021  TV-MA  2 Seasons   \n",
       "\n",
       "                                           listed_in  \\\n",
       "0                                      Documentaries   \n",
       "1    International TV Shows, TV Dramas, TV Mysteries   \n",
       "2  Crime TV Shows, International TV Shows, TV Act...   \n",
       "3                             Docuseries, Reality TV   \n",
       "4  International TV Shows, Romantic TV Shows, TV ...   \n",
       "\n",
       "                                         description  \n",
       "0  As her father nears the end of his life, filmm...  \n",
       "1  After crossing paths at a party, a Cape Town t...  \n",
       "2  To protect his family from a powerful drug lor...  \n",
       "3  Feuds, flirtations and toilet talk go down amo...  \n",
       "4  In a city of coaching centers known to train I...  "
      ]
     },
     "execution_count": 3,
     "metadata": {},
     "output_type": "execute_result"
    }
   ],
   "source": [
    "df = pd.read_csv(\"./data/netflix_titles.csv\")\n",
    "df.head()"
   ]
  },
  {
   "cell_type": "code",
   "execution_count": 4,
   "metadata": {},
   "outputs": [
    {
     "name": "stdout",
     "output_type": "stream",
     "text": [
      "<class 'pandas.core.frame.DataFrame'>\n",
      "RangeIndex: 8807 entries, 0 to 8806\n",
      "Data columns (total 12 columns):\n",
      " #   Column        Non-Null Count  Dtype \n",
      "---  ------        --------------  ----- \n",
      " 0   show_id       8807 non-null   object\n",
      " 1   type          8807 non-null   object\n",
      " 2   title         8807 non-null   object\n",
      " 3   director      6173 non-null   object\n",
      " 4   cast          7982 non-null   object\n",
      " 5   country       7976 non-null   object\n",
      " 6   date_added    8797 non-null   object\n",
      " 7   release_year  8807 non-null   int64 \n",
      " 8   rating        8803 non-null   object\n",
      " 9   duration      8804 non-null   object\n",
      " 10  listed_in     8807 non-null   object\n",
      " 11  description   8807 non-null   object\n",
      "dtypes: int64(1), object(11)\n",
      "memory usage: 447.3+ KB\n"
     ]
    }
   ],
   "source": [
    "df.info()"
   ]
  },
  {
   "cell_type": "code",
   "execution_count": 5,
   "metadata": {},
   "outputs": [
    {
     "data": {
      "text/plain": [
       "show_id         8807\n",
       "type               2\n",
       "title           8807\n",
       "director        4528\n",
       "cast            7692\n",
       "country          748\n",
       "date_added      1767\n",
       "release_year      74\n",
       "rating            17\n",
       "duration         220\n",
       "listed_in        514\n",
       "description     8775\n",
       "dtype: int64"
      ]
     },
     "execution_count": 5,
     "metadata": {},
     "output_type": "execute_result"
    }
   ],
   "source": [
    "df.nunique()"
   ]
  },
  {
   "cell_type": "code",
   "execution_count": 6,
   "metadata": {},
   "outputs": [
    {
     "data": {
      "text/plain": [
       "show_id            0\n",
       "type               0\n",
       "title              0\n",
       "director        2634\n",
       "cast             825\n",
       "country          831\n",
       "date_added        10\n",
       "release_year       0\n",
       "rating             4\n",
       "duration           3\n",
       "listed_in          0\n",
       "description        0\n",
       "dtype: int64"
      ]
     },
     "execution_count": 6,
     "metadata": {},
     "output_type": "execute_result"
    }
   ],
   "source": [
    "df.isna().sum()"
   ]
  },
  {
   "cell_type": "code",
   "execution_count": 7,
   "metadata": {},
   "outputs": [
    {
     "data": {
      "text/plain": [
       "show_id            0\n",
       "type               0\n",
       "title              0\n",
       "director        2634\n",
       "cast             825\n",
       "country          831\n",
       "date_added        10\n",
       "release_year       0\n",
       "rating             4\n",
       "duration           3\n",
       "listed_in          0\n",
       "description        0\n",
       "dtype: int64"
      ]
     },
     "execution_count": 7,
     "metadata": {},
     "output_type": "execute_result"
    }
   ],
   "source": [
    "df.isnull().sum()"
   ]
  },
  {
   "cell_type": "code",
   "execution_count": 8,
   "metadata": {},
   "outputs": [
    {
     "data": {
      "text/plain": [
       "array(['PG-13', 'TV-MA', 'PG', 'TV-14', 'TV-PG', 'TV-Y', 'TV-Y7', 'R',\n",
       "       'TV-G', 'G', 'NC-17', '74 min', '84 min', '66 min', 'NR', nan,\n",
       "       'TV-Y7-FV', 'UR'], dtype=object)"
      ]
     },
     "execution_count": 8,
     "metadata": {},
     "output_type": "execute_result"
    }
   ],
   "source": [
    "df['rating'].unique()"
   ]
  },
  {
   "cell_type": "code",
   "execution_count": 9,
   "metadata": {},
   "outputs": [
    {
     "data": {
      "text/html": [
       "<div>\n",
       "<style scoped>\n",
       "    .dataframe tbody tr th:only-of-type {\n",
       "        vertical-align: middle;\n",
       "    }\n",
       "\n",
       "    .dataframe tbody tr th {\n",
       "        vertical-align: top;\n",
       "    }\n",
       "\n",
       "    .dataframe thead th {\n",
       "        text-align: right;\n",
       "    }\n",
       "</style>\n",
       "<table border=\"1\" class=\"dataframe\">\n",
       "  <thead>\n",
       "    <tr style=\"text-align: right;\">\n",
       "      <th></th>\n",
       "      <th>show_id</th>\n",
       "      <th>type</th>\n",
       "      <th>title</th>\n",
       "      <th>director</th>\n",
       "      <th>cast</th>\n",
       "      <th>country</th>\n",
       "      <th>date_added</th>\n",
       "      <th>release_year</th>\n",
       "      <th>rating</th>\n",
       "      <th>duration</th>\n",
       "      <th>listed_in</th>\n",
       "      <th>description</th>\n",
       "    </tr>\n",
       "  </thead>\n",
       "  <tbody>\n",
       "    <tr>\n",
       "      <th>5989</th>\n",
       "      <td>s5990</td>\n",
       "      <td>Movie</td>\n",
       "      <td>13TH: A Conversation with Oprah Winfrey &amp; Ava ...</td>\n",
       "      <td>NaN</td>\n",
       "      <td>Oprah Winfrey, Ava DuVernay</td>\n",
       "      <td>NaN</td>\n",
       "      <td>January 26, 2017</td>\n",
       "      <td>2017</td>\n",
       "      <td>NaN</td>\n",
       "      <td>37 min</td>\n",
       "      <td>Movies</td>\n",
       "      <td>Oprah Winfrey sits down with director Ava DuVe...</td>\n",
       "    </tr>\n",
       "    <tr>\n",
       "      <th>6827</th>\n",
       "      <td>s6828</td>\n",
       "      <td>TV Show</td>\n",
       "      <td>Gargantia on the Verdurous Planet</td>\n",
       "      <td>NaN</td>\n",
       "      <td>Kaito Ishikawa, Hisako Kanemoto, Ai Kayano, Ka...</td>\n",
       "      <td>Japan</td>\n",
       "      <td>December 1, 2016</td>\n",
       "      <td>2013</td>\n",
       "      <td>NaN</td>\n",
       "      <td>1 Season</td>\n",
       "      <td>Anime Series, International TV Shows</td>\n",
       "      <td>After falling through a wormhole, a space-dwel...</td>\n",
       "    </tr>\n",
       "    <tr>\n",
       "      <th>7312</th>\n",
       "      <td>s7313</td>\n",
       "      <td>TV Show</td>\n",
       "      <td>Little Lunch</td>\n",
       "      <td>NaN</td>\n",
       "      <td>Flynn Curry, Olivia Deeble, Madison Lu, Oisín ...</td>\n",
       "      <td>Australia</td>\n",
       "      <td>February 1, 2018</td>\n",
       "      <td>2015</td>\n",
       "      <td>NaN</td>\n",
       "      <td>1 Season</td>\n",
       "      <td>Kids' TV, TV Comedies</td>\n",
       "      <td>Adopting a child's perspective, this show take...</td>\n",
       "    </tr>\n",
       "    <tr>\n",
       "      <th>7537</th>\n",
       "      <td>s7538</td>\n",
       "      <td>Movie</td>\n",
       "      <td>My Honor Was Loyalty</td>\n",
       "      <td>Alessandro Pepe</td>\n",
       "      <td>Leone Frisa, Paolo Vaccarino, Francesco Miglio...</td>\n",
       "      <td>Italy</td>\n",
       "      <td>March 1, 2017</td>\n",
       "      <td>2015</td>\n",
       "      <td>NaN</td>\n",
       "      <td>115 min</td>\n",
       "      <td>Dramas</td>\n",
       "      <td>Amid the chaos and horror of World War II, a c...</td>\n",
       "    </tr>\n",
       "  </tbody>\n",
       "</table>\n",
       "</div>"
      ],
      "text/plain": [
       "     show_id     type                                              title  \\\n",
       "5989   s5990    Movie  13TH: A Conversation with Oprah Winfrey & Ava ...   \n",
       "6827   s6828  TV Show                  Gargantia on the Verdurous Planet   \n",
       "7312   s7313  TV Show                                       Little Lunch   \n",
       "7537   s7538    Movie                               My Honor Was Loyalty   \n",
       "\n",
       "             director                                               cast  \\\n",
       "5989              NaN                        Oprah Winfrey, Ava DuVernay   \n",
       "6827              NaN  Kaito Ishikawa, Hisako Kanemoto, Ai Kayano, Ka...   \n",
       "7312              NaN  Flynn Curry, Olivia Deeble, Madison Lu, Oisín ...   \n",
       "7537  Alessandro Pepe  Leone Frisa, Paolo Vaccarino, Francesco Miglio...   \n",
       "\n",
       "        country        date_added  release_year rating  duration  \\\n",
       "5989        NaN  January 26, 2017          2017    NaN    37 min   \n",
       "6827      Japan  December 1, 2016          2013    NaN  1 Season   \n",
       "7312  Australia  February 1, 2018          2015    NaN  1 Season   \n",
       "7537      Italy     March 1, 2017          2015    NaN   115 min   \n",
       "\n",
       "                                 listed_in  \\\n",
       "5989                                Movies   \n",
       "6827  Anime Series, International TV Shows   \n",
       "7312                 Kids' TV, TV Comedies   \n",
       "7537                                Dramas   \n",
       "\n",
       "                                            description  \n",
       "5989  Oprah Winfrey sits down with director Ava DuVe...  \n",
       "6827  After falling through a wormhole, a space-dwel...  \n",
       "7312  Adopting a child's perspective, this show take...  \n",
       "7537  Amid the chaos and horror of World War II, a c...  "
      ]
     },
     "execution_count": 9,
     "metadata": {},
     "output_type": "execute_result"
    }
   ],
   "source": [
    "df[df['rating'].isna()]"
   ]
  },
  {
   "cell_type": "code",
   "execution_count": 10,
   "metadata": {},
   "outputs": [
    {
     "data": {
      "text/plain": [
       "Index(['show_id', 'type', 'title', 'country', 'date_added', 'release_year',\n",
       "       'rating', 'duration', 'listed_in', 'description'],\n",
       "      dtype='object')"
      ]
     },
     "execution_count": 10,
     "metadata": {},
     "output_type": "execute_result"
    }
   ],
   "source": [
    "df = df.drop(['director', 'cast'], axis=1)\n",
    "df.columns"
   ]
  },
  {
   "cell_type": "code",
   "execution_count": 11,
   "metadata": {},
   "outputs": [],
   "source": [
    "df=df[df['date_added'].notna()]"
   ]
  },
  {
   "cell_type": "code",
   "execution_count": 12,
   "metadata": {},
   "outputs": [],
   "source": [
    "df = df[df['duration'].notna()]"
   ]
  },
  {
   "cell_type": "code",
   "execution_count": 13,
   "metadata": {},
   "outputs": [],
   "source": [
    "df['country'] = df['country'].fillna(df['country'].mode()[0])"
   ]
  },
  {
   "cell_type": "code",
   "execution_count": 14,
   "metadata": {},
   "outputs": [
    {
     "data": {
      "text/plain": [
       "show_id         0\n",
       "type            0\n",
       "title           0\n",
       "country         0\n",
       "date_added      0\n",
       "release_year    0\n",
       "rating          4\n",
       "duration        0\n",
       "listed_in       0\n",
       "description     0\n",
       "dtype: int64"
      ]
     },
     "execution_count": 14,
     "metadata": {},
     "output_type": "execute_result"
    }
   ],
   "source": [
    "df.isna().sum()"
   ]
  },
  {
   "cell_type": "code",
   "execution_count": 15,
   "metadata": {},
   "outputs": [
    {
     "data": {
      "text/plain": [
       "0    2021\n",
       "1    2021\n",
       "2    2021\n",
       "3    2021\n",
       "4    2021\n",
       "Name: year_added, dtype: object"
      ]
     },
     "execution_count": 15,
     "metadata": {},
     "output_type": "execute_result"
    }
   ],
   "source": [
    "df['year_added'] = df['date_added'].apply(lambda x: x.split(\" \")[-1])\n",
    "df['year_added'].head()"
   ]
  },
  {
   "cell_type": "code",
   "execution_count": 16,
   "metadata": {},
   "outputs": [
    {
     "data": {
      "text/plain": [
       "0    September\n",
       "1    September\n",
       "2    September\n",
       "3    September\n",
       "4    September\n",
       "Name: month_added, dtype: object"
      ]
     },
     "execution_count": 16,
     "metadata": {},
     "output_type": "execute_result"
    }
   ],
   "source": [
    "df['month_added'] = df['date_added'].apply(lambda x: x.split(\" \")[0])\n",
    "df['month_added'].head()"
   ]
  },
  {
   "cell_type": "code",
   "execution_count": 17,
   "metadata": {},
   "outputs": [],
   "source": [
    "ratings_ages = {\n",
    "    'TV-PG': 'Older Kids',\n",
    "    'TV-MA': 'Adults',\n",
    "    'TV-Y7-FV': 'Older Kids',\n",
    "    'TV-Y7': 'Older Kids',\n",
    "    'TV-14': 'Teens',\n",
    "    'R': 'Adults',\n",
    "    'TV-Y': 'Kids',\n",
    "    'NR': 'Adults',\n",
    "    'PG-13': 'Teens',\n",
    "    'TV-G': 'Kids',\n",
    "    'PG': 'Older Kids',\n",
    "    'G': 'Kids',\n",
    "    'UR': 'Adults',\n",
    "    'NC-17': 'Adults'\n",
    "}"
   ]
  },
  {
   "cell_type": "code",
   "execution_count": 18,
   "metadata": {},
   "outputs": [
    {
     "data": {
      "text/plain": [
       "array(['Teens', 'Adults', 'Older Kids', 'Kids', nan], dtype=object)"
      ]
     },
     "execution_count": 18,
     "metadata": {},
     "output_type": "execute_result"
    }
   ],
   "source": [
    "df['target_ages'] = df['rating'].replace(ratings_ages)\n",
    "df['target_ages'].unique()"
   ]
  },
  {
   "cell_type": "code",
   "execution_count": 19,
   "metadata": {},
   "outputs": [],
   "source": [
    "df['principal_country'] = df['country'].apply(lambda x: x.split(\" \")[0])"
   ]
  },
  {
   "cell_type": "code",
   "execution_count": 20,
   "metadata": {},
   "outputs": [
    {
     "data": {
      "text/plain": [
       "show_id              object\n",
       "type                 object\n",
       "title                object\n",
       "country              object\n",
       "date_added           object\n",
       "release_year          int64\n",
       "rating               object\n",
       "duration             object\n",
       "listed_in            object\n",
       "description          object\n",
       "year_added           object\n",
       "month_added          object\n",
       "target_ages          object\n",
       "principal_country    object\n",
       "dtype: object"
      ]
     },
     "execution_count": 20,
     "metadata": {},
     "output_type": "execute_result"
    }
   ],
   "source": [
    "df.dtypes"
   ]
  },
  {
   "cell_type": "code",
   "execution_count": 21,
   "metadata": {},
   "outputs": [
    {
     "data": {
      "text/html": [
       "<div>\n",
       "<style scoped>\n",
       "    .dataframe tbody tr th:only-of-type {\n",
       "        vertical-align: middle;\n",
       "    }\n",
       "\n",
       "    .dataframe tbody tr th {\n",
       "        vertical-align: top;\n",
       "    }\n",
       "\n",
       "    .dataframe thead th {\n",
       "        text-align: right;\n",
       "    }\n",
       "</style>\n",
       "<table border=\"1\" class=\"dataframe\">\n",
       "  <thead>\n",
       "    <tr style=\"text-align: right;\">\n",
       "      <th></th>\n",
       "      <th>show_id</th>\n",
       "      <th>type</th>\n",
       "      <th>title</th>\n",
       "      <th>country</th>\n",
       "      <th>date_added</th>\n",
       "      <th>release_year</th>\n",
       "      <th>rating</th>\n",
       "      <th>duration</th>\n",
       "      <th>listed_in</th>\n",
       "      <th>description</th>\n",
       "      <th>year_added</th>\n",
       "      <th>month_added</th>\n",
       "      <th>target_ages</th>\n",
       "      <th>principal_country</th>\n",
       "    </tr>\n",
       "  </thead>\n",
       "  <tbody>\n",
       "    <tr>\n",
       "      <th>0</th>\n",
       "      <td>s1</td>\n",
       "      <td>Movie</td>\n",
       "      <td>Dick Johnson Is Dead</td>\n",
       "      <td>United States</td>\n",
       "      <td>September 25, 2021</td>\n",
       "      <td>2020</td>\n",
       "      <td>PG-13</td>\n",
       "      <td>90 min</td>\n",
       "      <td>Documentaries</td>\n",
       "      <td>As her father nears the end of his life, filmm...</td>\n",
       "      <td>2021</td>\n",
       "      <td>September</td>\n",
       "      <td>Teens</td>\n",
       "      <td>United</td>\n",
       "    </tr>\n",
       "  </tbody>\n",
       "</table>\n",
       "</div>"
      ],
      "text/plain": [
       "  show_id   type                 title        country          date_added  \\\n",
       "0      s1  Movie  Dick Johnson Is Dead  United States  September 25, 2021   \n",
       "\n",
       "   release_year rating duration      listed_in  \\\n",
       "0          2020  PG-13   90 min  Documentaries   \n",
       "\n",
       "                                         description year_added month_added  \\\n",
       "0  As her father nears the end of his life, filmm...       2021   September   \n",
       "\n",
       "  target_ages principal_country  \n",
       "0       Teens            United  "
      ]
     },
     "execution_count": 21,
     "metadata": {},
     "output_type": "execute_result"
    }
   ],
   "source": [
    "df.head(1)"
   ]
  },
  {
   "cell_type": "code",
   "execution_count": 22,
   "metadata": {},
   "outputs": [],
   "source": [
    "df['type'] = pd.Categorical(df['type'])\n",
    "df['target_ages'] = pd.Categorical(df['target_ages'], categories=['Kids', 'Older Kids', 'Teens', 'Adults'])\n",
    "df['year_added'] = pd.to_numeric(df['year_added'])"
   ]
  },
  {
   "cell_type": "code",
   "execution_count": 23,
   "metadata": {},
   "outputs": [
    {
     "data": {
      "application/vnd.plotly.v1+json": {
       "config": {
        "plotlyServerURL": "https://plot.ly"
       },
       "data": [
        {
         "domain": {
          "x": [
           0,
           1
          ],
          "y": [
           0,
           1
          ]
         },
         "hovertemplate": "index=%{label}<br>type=%{value}<extra></extra>",
         "labels": [
          "Movie",
          "TV Show"
         ],
         "legendgroup": "",
         "name": "",
         "showlegend": true,
         "textinfo": "percent+label",
         "textposition": "inside",
         "type": "pie",
         "values": [
          6128,
          2666
         ]
        }
       ],
       "layout": {
        "legend": {
         "tracegroupgap": 0
        },
        "margin": {
         "t": 60
        },
        "template": {
         "data": {
          "bar": [
           {
            "error_x": {
             "color": "#2a3f5f"
            },
            "error_y": {
             "color": "#2a3f5f"
            },
            "marker": {
             "line": {
              "color": "#E5ECF6",
              "width": 0.5
             },
             "pattern": {
              "fillmode": "overlay",
              "size": 10,
              "solidity": 0.2
             }
            },
            "type": "bar"
           }
          ],
          "barpolar": [
           {
            "marker": {
             "line": {
              "color": "#E5ECF6",
              "width": 0.5
             },
             "pattern": {
              "fillmode": "overlay",
              "size": 10,
              "solidity": 0.2
             }
            },
            "type": "barpolar"
           }
          ],
          "carpet": [
           {
            "aaxis": {
             "endlinecolor": "#2a3f5f",
             "gridcolor": "white",
             "linecolor": "white",
             "minorgridcolor": "white",
             "startlinecolor": "#2a3f5f"
            },
            "baxis": {
             "endlinecolor": "#2a3f5f",
             "gridcolor": "white",
             "linecolor": "white",
             "minorgridcolor": "white",
             "startlinecolor": "#2a3f5f"
            },
            "type": "carpet"
           }
          ],
          "choropleth": [
           {
            "colorbar": {
             "outlinewidth": 0,
             "ticks": ""
            },
            "type": "choropleth"
           }
          ],
          "contour": [
           {
            "colorbar": {
             "outlinewidth": 0,
             "ticks": ""
            },
            "colorscale": [
             [
              0,
              "#0d0887"
             ],
             [
              0.1111111111111111,
              "#46039f"
             ],
             [
              0.2222222222222222,
              "#7201a8"
             ],
             [
              0.3333333333333333,
              "#9c179e"
             ],
             [
              0.4444444444444444,
              "#bd3786"
             ],
             [
              0.5555555555555556,
              "#d8576b"
             ],
             [
              0.6666666666666666,
              "#ed7953"
             ],
             [
              0.7777777777777778,
              "#fb9f3a"
             ],
             [
              0.8888888888888888,
              "#fdca26"
             ],
             [
              1,
              "#f0f921"
             ]
            ],
            "type": "contour"
           }
          ],
          "contourcarpet": [
           {
            "colorbar": {
             "outlinewidth": 0,
             "ticks": ""
            },
            "type": "contourcarpet"
           }
          ],
          "heatmap": [
           {
            "colorbar": {
             "outlinewidth": 0,
             "ticks": ""
            },
            "colorscale": [
             [
              0,
              "#0d0887"
             ],
             [
              0.1111111111111111,
              "#46039f"
             ],
             [
              0.2222222222222222,
              "#7201a8"
             ],
             [
              0.3333333333333333,
              "#9c179e"
             ],
             [
              0.4444444444444444,
              "#bd3786"
             ],
             [
              0.5555555555555556,
              "#d8576b"
             ],
             [
              0.6666666666666666,
              "#ed7953"
             ],
             [
              0.7777777777777778,
              "#fb9f3a"
             ],
             [
              0.8888888888888888,
              "#fdca26"
             ],
             [
              1,
              "#f0f921"
             ]
            ],
            "type": "heatmap"
           }
          ],
          "heatmapgl": [
           {
            "colorbar": {
             "outlinewidth": 0,
             "ticks": ""
            },
            "colorscale": [
             [
              0,
              "#0d0887"
             ],
             [
              0.1111111111111111,
              "#46039f"
             ],
             [
              0.2222222222222222,
              "#7201a8"
             ],
             [
              0.3333333333333333,
              "#9c179e"
             ],
             [
              0.4444444444444444,
              "#bd3786"
             ],
             [
              0.5555555555555556,
              "#d8576b"
             ],
             [
              0.6666666666666666,
              "#ed7953"
             ],
             [
              0.7777777777777778,
              "#fb9f3a"
             ],
             [
              0.8888888888888888,
              "#fdca26"
             ],
             [
              1,
              "#f0f921"
             ]
            ],
            "type": "heatmapgl"
           }
          ],
          "histogram": [
           {
            "marker": {
             "pattern": {
              "fillmode": "overlay",
              "size": 10,
              "solidity": 0.2
             }
            },
            "type": "histogram"
           }
          ],
          "histogram2d": [
           {
            "colorbar": {
             "outlinewidth": 0,
             "ticks": ""
            },
            "colorscale": [
             [
              0,
              "#0d0887"
             ],
             [
              0.1111111111111111,
              "#46039f"
             ],
             [
              0.2222222222222222,
              "#7201a8"
             ],
             [
              0.3333333333333333,
              "#9c179e"
             ],
             [
              0.4444444444444444,
              "#bd3786"
             ],
             [
              0.5555555555555556,
              "#d8576b"
             ],
             [
              0.6666666666666666,
              "#ed7953"
             ],
             [
              0.7777777777777778,
              "#fb9f3a"
             ],
             [
              0.8888888888888888,
              "#fdca26"
             ],
             [
              1,
              "#f0f921"
             ]
            ],
            "type": "histogram2d"
           }
          ],
          "histogram2dcontour": [
           {
            "colorbar": {
             "outlinewidth": 0,
             "ticks": ""
            },
            "colorscale": [
             [
              0,
              "#0d0887"
             ],
             [
              0.1111111111111111,
              "#46039f"
             ],
             [
              0.2222222222222222,
              "#7201a8"
             ],
             [
              0.3333333333333333,
              "#9c179e"
             ],
             [
              0.4444444444444444,
              "#bd3786"
             ],
             [
              0.5555555555555556,
              "#d8576b"
             ],
             [
              0.6666666666666666,
              "#ed7953"
             ],
             [
              0.7777777777777778,
              "#fb9f3a"
             ],
             [
              0.8888888888888888,
              "#fdca26"
             ],
             [
              1,
              "#f0f921"
             ]
            ],
            "type": "histogram2dcontour"
           }
          ],
          "mesh3d": [
           {
            "colorbar": {
             "outlinewidth": 0,
             "ticks": ""
            },
            "type": "mesh3d"
           }
          ],
          "parcoords": [
           {
            "line": {
             "colorbar": {
              "outlinewidth": 0,
              "ticks": ""
             }
            },
            "type": "parcoords"
           }
          ],
          "pie": [
           {
            "automargin": true,
            "type": "pie"
           }
          ],
          "scatter": [
           {
            "marker": {
             "colorbar": {
              "outlinewidth": 0,
              "ticks": ""
             }
            },
            "type": "scatter"
           }
          ],
          "scatter3d": [
           {
            "line": {
             "colorbar": {
              "outlinewidth": 0,
              "ticks": ""
             }
            },
            "marker": {
             "colorbar": {
              "outlinewidth": 0,
              "ticks": ""
             }
            },
            "type": "scatter3d"
           }
          ],
          "scattercarpet": [
           {
            "marker": {
             "colorbar": {
              "outlinewidth": 0,
              "ticks": ""
             }
            },
            "type": "scattercarpet"
           }
          ],
          "scattergeo": [
           {
            "marker": {
             "colorbar": {
              "outlinewidth": 0,
              "ticks": ""
             }
            },
            "type": "scattergeo"
           }
          ],
          "scattergl": [
           {
            "marker": {
             "colorbar": {
              "outlinewidth": 0,
              "ticks": ""
             }
            },
            "type": "scattergl"
           }
          ],
          "scattermapbox": [
           {
            "marker": {
             "colorbar": {
              "outlinewidth": 0,
              "ticks": ""
             }
            },
            "type": "scattermapbox"
           }
          ],
          "scatterpolar": [
           {
            "marker": {
             "colorbar": {
              "outlinewidth": 0,
              "ticks": ""
             }
            },
            "type": "scatterpolar"
           }
          ],
          "scatterpolargl": [
           {
            "marker": {
             "colorbar": {
              "outlinewidth": 0,
              "ticks": ""
             }
            },
            "type": "scatterpolargl"
           }
          ],
          "scatterternary": [
           {
            "marker": {
             "colorbar": {
              "outlinewidth": 0,
              "ticks": ""
             }
            },
            "type": "scatterternary"
           }
          ],
          "surface": [
           {
            "colorbar": {
             "outlinewidth": 0,
             "ticks": ""
            },
            "colorscale": [
             [
              0,
              "#0d0887"
             ],
             [
              0.1111111111111111,
              "#46039f"
             ],
             [
              0.2222222222222222,
              "#7201a8"
             ],
             [
              0.3333333333333333,
              "#9c179e"
             ],
             [
              0.4444444444444444,
              "#bd3786"
             ],
             [
              0.5555555555555556,
              "#d8576b"
             ],
             [
              0.6666666666666666,
              "#ed7953"
             ],
             [
              0.7777777777777778,
              "#fb9f3a"
             ],
             [
              0.8888888888888888,
              "#fdca26"
             ],
             [
              1,
              "#f0f921"
             ]
            ],
            "type": "surface"
           }
          ],
          "table": [
           {
            "cells": {
             "fill": {
              "color": "#EBF0F8"
             },
             "line": {
              "color": "white"
             }
            },
            "header": {
             "fill": {
              "color": "#C8D4E3"
             },
             "line": {
              "color": "white"
             }
            },
            "type": "table"
           }
          ]
         },
         "layout": {
          "annotationdefaults": {
           "arrowcolor": "#2a3f5f",
           "arrowhead": 0,
           "arrowwidth": 1
          },
          "autotypenumbers": "strict",
          "coloraxis": {
           "colorbar": {
            "outlinewidth": 0,
            "ticks": ""
           }
          },
          "colorscale": {
           "diverging": [
            [
             0,
             "#8e0152"
            ],
            [
             0.1,
             "#c51b7d"
            ],
            [
             0.2,
             "#de77ae"
            ],
            [
             0.3,
             "#f1b6da"
            ],
            [
             0.4,
             "#fde0ef"
            ],
            [
             0.5,
             "#f7f7f7"
            ],
            [
             0.6,
             "#e6f5d0"
            ],
            [
             0.7,
             "#b8e186"
            ],
            [
             0.8,
             "#7fbc41"
            ],
            [
             0.9,
             "#4d9221"
            ],
            [
             1,
             "#276419"
            ]
           ],
           "sequential": [
            [
             0,
             "#0d0887"
            ],
            [
             0.1111111111111111,
             "#46039f"
            ],
            [
             0.2222222222222222,
             "#7201a8"
            ],
            [
             0.3333333333333333,
             "#9c179e"
            ],
            [
             0.4444444444444444,
             "#bd3786"
            ],
            [
             0.5555555555555556,
             "#d8576b"
            ],
            [
             0.6666666666666666,
             "#ed7953"
            ],
            [
             0.7777777777777778,
             "#fb9f3a"
            ],
            [
             0.8888888888888888,
             "#fdca26"
            ],
            [
             1,
             "#f0f921"
            ]
           ],
           "sequentialminus": [
            [
             0,
             "#0d0887"
            ],
            [
             0.1111111111111111,
             "#46039f"
            ],
            [
             0.2222222222222222,
             "#7201a8"
            ],
            [
             0.3333333333333333,
             "#9c179e"
            ],
            [
             0.4444444444444444,
             "#bd3786"
            ],
            [
             0.5555555555555556,
             "#d8576b"
            ],
            [
             0.6666666666666666,
             "#ed7953"
            ],
            [
             0.7777777777777778,
             "#fb9f3a"
            ],
            [
             0.8888888888888888,
             "#fdca26"
            ],
            [
             1,
             "#f0f921"
            ]
           ]
          },
          "colorway": [
           "#636efa",
           "#EF553B",
           "#00cc96",
           "#ab63fa",
           "#FFA15A",
           "#19d3f3",
           "#FF6692",
           "#B6E880",
           "#FF97FF",
           "#FECB52"
          ],
          "font": {
           "color": "#2a3f5f"
          },
          "geo": {
           "bgcolor": "white",
           "lakecolor": "white",
           "landcolor": "#E5ECF6",
           "showlakes": true,
           "showland": true,
           "subunitcolor": "white"
          },
          "hoverlabel": {
           "align": "left"
          },
          "hovermode": "closest",
          "mapbox": {
           "style": "light"
          },
          "paper_bgcolor": "white",
          "plot_bgcolor": "#E5ECF6",
          "polar": {
           "angularaxis": {
            "gridcolor": "white",
            "linecolor": "white",
            "ticks": ""
           },
           "bgcolor": "#E5ECF6",
           "radialaxis": {
            "gridcolor": "white",
            "linecolor": "white",
            "ticks": ""
           }
          },
          "scene": {
           "xaxis": {
            "backgroundcolor": "#E5ECF6",
            "gridcolor": "white",
            "gridwidth": 2,
            "linecolor": "white",
            "showbackground": true,
            "ticks": "",
            "zerolinecolor": "white"
           },
           "yaxis": {
            "backgroundcolor": "#E5ECF6",
            "gridcolor": "white",
            "gridwidth": 2,
            "linecolor": "white",
            "showbackground": true,
            "ticks": "",
            "zerolinecolor": "white"
           },
           "zaxis": {
            "backgroundcolor": "#E5ECF6",
            "gridcolor": "white",
            "gridwidth": 2,
            "linecolor": "white",
            "showbackground": true,
            "ticks": "",
            "zerolinecolor": "white"
           }
          },
          "shapedefaults": {
           "line": {
            "color": "#2a3f5f"
           }
          },
          "ternary": {
           "aaxis": {
            "gridcolor": "white",
            "linecolor": "white",
            "ticks": ""
           },
           "baxis": {
            "gridcolor": "white",
            "linecolor": "white",
            "ticks": ""
           },
           "bgcolor": "#E5ECF6",
           "caxis": {
            "gridcolor": "white",
            "linecolor": "white",
            "ticks": ""
           }
          },
          "title": {
           "x": 0.05
          },
          "xaxis": {
           "automargin": true,
           "gridcolor": "white",
           "linecolor": "white",
           "ticks": "",
           "title": {
            "standoff": 15
           },
           "zerolinecolor": "white",
           "zerolinewidth": 2
          },
          "yaxis": {
           "automargin": true,
           "gridcolor": "white",
           "linecolor": "white",
           "ticks": "",
           "title": {
            "standoff": 15
           },
           "zerolinecolor": "white",
           "zerolinewidth": 2
          }
         }
        }
       }
      }
     },
     "metadata": {},
     "output_type": "display_data"
    }
   ],
   "source": [
    "fig = px.pie(df['type'].value_counts().reset_index(), values='type', names='index')\n",
    "fig.update_traces(textposition='inside', textinfo='percent+label')\n",
    "fig.show()"
   ]
  },
  {
   "cell_type": "code",
   "execution_count": 24,
   "metadata": {},
   "outputs": [],
   "source": [
    "def generate_rating_df(df):\n",
    "  rating_df = df.groupby(['rating', 'target_ages']).agg({'show_id': 'count'}).reset_index()\n",
    "  rating_df = rating_df[rating_df['show_id'] != 0]\n",
    "  rating_df.columns = ['rating', 'target_ages', 'counts']\n",
    "  rating_df = rating_df.sort_values('target_ages')\n",
    "  return rating_df"
   ]
  },
  {
   "cell_type": "code",
   "execution_count": 25,
   "metadata": {},
   "outputs": [
    {
     "data": {
      "application/vnd.plotly.v1+json": {
       "config": {
        "plotlyServerURL": "https://plot.ly"
       },
       "data": [
        {
         "alignmentgroup": "True",
         "hovertemplate": "target_ages=Kids<br>rating=%{x}<br>counts=%{y}<extra></extra>",
         "legendgroup": "Kids",
         "marker": {
          "color": "#636efa",
          "pattern": {
           "shape": ""
          }
         },
         "name": "Kids",
         "offsetgroup": "Kids",
         "orientation": "v",
         "showlegend": true,
         "textposition": "auto",
         "type": "bar",
         "x": [
          "G",
          "TV-G",
          "TV-Y"
         ],
         "xaxis": "x",
         "y": [
          41,
          220,
          306
         ],
         "yaxis": "y"
        },
        {
         "alignmentgroup": "True",
         "hovertemplate": "target_ages=Older Kids<br>rating=%{x}<br>counts=%{y}<extra></extra>",
         "legendgroup": "Older Kids",
         "marker": {
          "color": "#EF553B",
          "pattern": {
           "shape": ""
          }
         },
         "name": "Older Kids",
         "offsetgroup": "Older Kids",
         "orientation": "v",
         "showlegend": true,
         "textposition": "auto",
         "type": "bar",
         "x": [
          "PG",
          "TV-PG",
          "TV-Y7",
          "TV-Y7-FV"
         ],
         "xaxis": "x",
         "y": [
          287,
          861,
          333,
          6
         ],
         "yaxis": "y"
        },
        {
         "alignmentgroup": "True",
         "hovertemplate": "target_ages=Teens<br>rating=%{x}<br>counts=%{y}<extra></extra>",
         "legendgroup": "Teens",
         "marker": {
          "color": "#00cc96",
          "pattern": {
           "shape": ""
          }
         },
         "name": "Teens",
         "offsetgroup": "Teens",
         "orientation": "v",
         "showlegend": true,
         "textposition": "auto",
         "type": "bar",
         "x": [
          "PG-13",
          "TV-14"
         ],
         "xaxis": "x",
         "y": [
          490,
          2157
         ],
         "yaxis": "y"
        },
        {
         "alignmentgroup": "True",
         "hovertemplate": "target_ages=Adults<br>rating=%{x}<br>counts=%{y}<extra></extra>",
         "legendgroup": "Adults",
         "marker": {
          "color": "#ab63fa",
          "pattern": {
           "shape": ""
          }
         },
         "name": "Adults",
         "offsetgroup": "Adults",
         "orientation": "v",
         "showlegend": true,
         "textposition": "auto",
         "type": "bar",
         "x": [
          "NC-17",
          "NR",
          "R",
          "TV-MA",
          "UR"
         ],
         "xaxis": "x",
         "y": [
          3,
          79,
          799,
          3205,
          3
         ],
         "yaxis": "y"
        }
       ],
       "layout": {
        "barmode": "relative",
        "legend": {
         "title": {
          "text": "target_ages"
         },
         "tracegroupgap": 0
        },
        "margin": {
         "t": 60
        },
        "template": {
         "data": {
          "bar": [
           {
            "error_x": {
             "color": "#2a3f5f"
            },
            "error_y": {
             "color": "#2a3f5f"
            },
            "marker": {
             "line": {
              "color": "#E5ECF6",
              "width": 0.5
             },
             "pattern": {
              "fillmode": "overlay",
              "size": 10,
              "solidity": 0.2
             }
            },
            "type": "bar"
           }
          ],
          "barpolar": [
           {
            "marker": {
             "line": {
              "color": "#E5ECF6",
              "width": 0.5
             },
             "pattern": {
              "fillmode": "overlay",
              "size": 10,
              "solidity": 0.2
             }
            },
            "type": "barpolar"
           }
          ],
          "carpet": [
           {
            "aaxis": {
             "endlinecolor": "#2a3f5f",
             "gridcolor": "white",
             "linecolor": "white",
             "minorgridcolor": "white",
             "startlinecolor": "#2a3f5f"
            },
            "baxis": {
             "endlinecolor": "#2a3f5f",
             "gridcolor": "white",
             "linecolor": "white",
             "minorgridcolor": "white",
             "startlinecolor": "#2a3f5f"
            },
            "type": "carpet"
           }
          ],
          "choropleth": [
           {
            "colorbar": {
             "outlinewidth": 0,
             "ticks": ""
            },
            "type": "choropleth"
           }
          ],
          "contour": [
           {
            "colorbar": {
             "outlinewidth": 0,
             "ticks": ""
            },
            "colorscale": [
             [
              0,
              "#0d0887"
             ],
             [
              0.1111111111111111,
              "#46039f"
             ],
             [
              0.2222222222222222,
              "#7201a8"
             ],
             [
              0.3333333333333333,
              "#9c179e"
             ],
             [
              0.4444444444444444,
              "#bd3786"
             ],
             [
              0.5555555555555556,
              "#d8576b"
             ],
             [
              0.6666666666666666,
              "#ed7953"
             ],
             [
              0.7777777777777778,
              "#fb9f3a"
             ],
             [
              0.8888888888888888,
              "#fdca26"
             ],
             [
              1,
              "#f0f921"
             ]
            ],
            "type": "contour"
           }
          ],
          "contourcarpet": [
           {
            "colorbar": {
             "outlinewidth": 0,
             "ticks": ""
            },
            "type": "contourcarpet"
           }
          ],
          "heatmap": [
           {
            "colorbar": {
             "outlinewidth": 0,
             "ticks": ""
            },
            "colorscale": [
             [
              0,
              "#0d0887"
             ],
             [
              0.1111111111111111,
              "#46039f"
             ],
             [
              0.2222222222222222,
              "#7201a8"
             ],
             [
              0.3333333333333333,
              "#9c179e"
             ],
             [
              0.4444444444444444,
              "#bd3786"
             ],
             [
              0.5555555555555556,
              "#d8576b"
             ],
             [
              0.6666666666666666,
              "#ed7953"
             ],
             [
              0.7777777777777778,
              "#fb9f3a"
             ],
             [
              0.8888888888888888,
              "#fdca26"
             ],
             [
              1,
              "#f0f921"
             ]
            ],
            "type": "heatmap"
           }
          ],
          "heatmapgl": [
           {
            "colorbar": {
             "outlinewidth": 0,
             "ticks": ""
            },
            "colorscale": [
             [
              0,
              "#0d0887"
             ],
             [
              0.1111111111111111,
              "#46039f"
             ],
             [
              0.2222222222222222,
              "#7201a8"
             ],
             [
              0.3333333333333333,
              "#9c179e"
             ],
             [
              0.4444444444444444,
              "#bd3786"
             ],
             [
              0.5555555555555556,
              "#d8576b"
             ],
             [
              0.6666666666666666,
              "#ed7953"
             ],
             [
              0.7777777777777778,
              "#fb9f3a"
             ],
             [
              0.8888888888888888,
              "#fdca26"
             ],
             [
              1,
              "#f0f921"
             ]
            ],
            "type": "heatmapgl"
           }
          ],
          "histogram": [
           {
            "marker": {
             "pattern": {
              "fillmode": "overlay",
              "size": 10,
              "solidity": 0.2
             }
            },
            "type": "histogram"
           }
          ],
          "histogram2d": [
           {
            "colorbar": {
             "outlinewidth": 0,
             "ticks": ""
            },
            "colorscale": [
             [
              0,
              "#0d0887"
             ],
             [
              0.1111111111111111,
              "#46039f"
             ],
             [
              0.2222222222222222,
              "#7201a8"
             ],
             [
              0.3333333333333333,
              "#9c179e"
             ],
             [
              0.4444444444444444,
              "#bd3786"
             ],
             [
              0.5555555555555556,
              "#d8576b"
             ],
             [
              0.6666666666666666,
              "#ed7953"
             ],
             [
              0.7777777777777778,
              "#fb9f3a"
             ],
             [
              0.8888888888888888,
              "#fdca26"
             ],
             [
              1,
              "#f0f921"
             ]
            ],
            "type": "histogram2d"
           }
          ],
          "histogram2dcontour": [
           {
            "colorbar": {
             "outlinewidth": 0,
             "ticks": ""
            },
            "colorscale": [
             [
              0,
              "#0d0887"
             ],
             [
              0.1111111111111111,
              "#46039f"
             ],
             [
              0.2222222222222222,
              "#7201a8"
             ],
             [
              0.3333333333333333,
              "#9c179e"
             ],
             [
              0.4444444444444444,
              "#bd3786"
             ],
             [
              0.5555555555555556,
              "#d8576b"
             ],
             [
              0.6666666666666666,
              "#ed7953"
             ],
             [
              0.7777777777777778,
              "#fb9f3a"
             ],
             [
              0.8888888888888888,
              "#fdca26"
             ],
             [
              1,
              "#f0f921"
             ]
            ],
            "type": "histogram2dcontour"
           }
          ],
          "mesh3d": [
           {
            "colorbar": {
             "outlinewidth": 0,
             "ticks": ""
            },
            "type": "mesh3d"
           }
          ],
          "parcoords": [
           {
            "line": {
             "colorbar": {
              "outlinewidth": 0,
              "ticks": ""
             }
            },
            "type": "parcoords"
           }
          ],
          "pie": [
           {
            "automargin": true,
            "type": "pie"
           }
          ],
          "scatter": [
           {
            "marker": {
             "colorbar": {
              "outlinewidth": 0,
              "ticks": ""
             }
            },
            "type": "scatter"
           }
          ],
          "scatter3d": [
           {
            "line": {
             "colorbar": {
              "outlinewidth": 0,
              "ticks": ""
             }
            },
            "marker": {
             "colorbar": {
              "outlinewidth": 0,
              "ticks": ""
             }
            },
            "type": "scatter3d"
           }
          ],
          "scattercarpet": [
           {
            "marker": {
             "colorbar": {
              "outlinewidth": 0,
              "ticks": ""
             }
            },
            "type": "scattercarpet"
           }
          ],
          "scattergeo": [
           {
            "marker": {
             "colorbar": {
              "outlinewidth": 0,
              "ticks": ""
             }
            },
            "type": "scattergeo"
           }
          ],
          "scattergl": [
           {
            "marker": {
             "colorbar": {
              "outlinewidth": 0,
              "ticks": ""
             }
            },
            "type": "scattergl"
           }
          ],
          "scattermapbox": [
           {
            "marker": {
             "colorbar": {
              "outlinewidth": 0,
              "ticks": ""
             }
            },
            "type": "scattermapbox"
           }
          ],
          "scatterpolar": [
           {
            "marker": {
             "colorbar": {
              "outlinewidth": 0,
              "ticks": ""
             }
            },
            "type": "scatterpolar"
           }
          ],
          "scatterpolargl": [
           {
            "marker": {
             "colorbar": {
              "outlinewidth": 0,
              "ticks": ""
             }
            },
            "type": "scatterpolargl"
           }
          ],
          "scatterternary": [
           {
            "marker": {
             "colorbar": {
              "outlinewidth": 0,
              "ticks": ""
             }
            },
            "type": "scatterternary"
           }
          ],
          "surface": [
           {
            "colorbar": {
             "outlinewidth": 0,
             "ticks": ""
            },
            "colorscale": [
             [
              0,
              "#0d0887"
             ],
             [
              0.1111111111111111,
              "#46039f"
             ],
             [
              0.2222222222222222,
              "#7201a8"
             ],
             [
              0.3333333333333333,
              "#9c179e"
             ],
             [
              0.4444444444444444,
              "#bd3786"
             ],
             [
              0.5555555555555556,
              "#d8576b"
             ],
             [
              0.6666666666666666,
              "#ed7953"
             ],
             [
              0.7777777777777778,
              "#fb9f3a"
             ],
             [
              0.8888888888888888,
              "#fdca26"
             ],
             [
              1,
              "#f0f921"
             ]
            ],
            "type": "surface"
           }
          ],
          "table": [
           {
            "cells": {
             "fill": {
              "color": "#EBF0F8"
             },
             "line": {
              "color": "white"
             }
            },
            "header": {
             "fill": {
              "color": "#C8D4E3"
             },
             "line": {
              "color": "white"
             }
            },
            "type": "table"
           }
          ]
         },
         "layout": {
          "annotationdefaults": {
           "arrowcolor": "#2a3f5f",
           "arrowhead": 0,
           "arrowwidth": 1
          },
          "autotypenumbers": "strict",
          "coloraxis": {
           "colorbar": {
            "outlinewidth": 0,
            "ticks": ""
           }
          },
          "colorscale": {
           "diverging": [
            [
             0,
             "#8e0152"
            ],
            [
             0.1,
             "#c51b7d"
            ],
            [
             0.2,
             "#de77ae"
            ],
            [
             0.3,
             "#f1b6da"
            ],
            [
             0.4,
             "#fde0ef"
            ],
            [
             0.5,
             "#f7f7f7"
            ],
            [
             0.6,
             "#e6f5d0"
            ],
            [
             0.7,
             "#b8e186"
            ],
            [
             0.8,
             "#7fbc41"
            ],
            [
             0.9,
             "#4d9221"
            ],
            [
             1,
             "#276419"
            ]
           ],
           "sequential": [
            [
             0,
             "#0d0887"
            ],
            [
             0.1111111111111111,
             "#46039f"
            ],
            [
             0.2222222222222222,
             "#7201a8"
            ],
            [
             0.3333333333333333,
             "#9c179e"
            ],
            [
             0.4444444444444444,
             "#bd3786"
            ],
            [
             0.5555555555555556,
             "#d8576b"
            ],
            [
             0.6666666666666666,
             "#ed7953"
            ],
            [
             0.7777777777777778,
             "#fb9f3a"
            ],
            [
             0.8888888888888888,
             "#fdca26"
            ],
            [
             1,
             "#f0f921"
            ]
           ],
           "sequentialminus": [
            [
             0,
             "#0d0887"
            ],
            [
             0.1111111111111111,
             "#46039f"
            ],
            [
             0.2222222222222222,
             "#7201a8"
            ],
            [
             0.3333333333333333,
             "#9c179e"
            ],
            [
             0.4444444444444444,
             "#bd3786"
            ],
            [
             0.5555555555555556,
             "#d8576b"
            ],
            [
             0.6666666666666666,
             "#ed7953"
            ],
            [
             0.7777777777777778,
             "#fb9f3a"
            ],
            [
             0.8888888888888888,
             "#fdca26"
            ],
            [
             1,
             "#f0f921"
            ]
           ]
          },
          "colorway": [
           "#636efa",
           "#EF553B",
           "#00cc96",
           "#ab63fa",
           "#FFA15A",
           "#19d3f3",
           "#FF6692",
           "#B6E880",
           "#FF97FF",
           "#FECB52"
          ],
          "font": {
           "color": "#2a3f5f"
          },
          "geo": {
           "bgcolor": "white",
           "lakecolor": "white",
           "landcolor": "#E5ECF6",
           "showlakes": true,
           "showland": true,
           "subunitcolor": "white"
          },
          "hoverlabel": {
           "align": "left"
          },
          "hovermode": "closest",
          "mapbox": {
           "style": "light"
          },
          "paper_bgcolor": "white",
          "plot_bgcolor": "#E5ECF6",
          "polar": {
           "angularaxis": {
            "gridcolor": "white",
            "linecolor": "white",
            "ticks": ""
           },
           "bgcolor": "#E5ECF6",
           "radialaxis": {
            "gridcolor": "white",
            "linecolor": "white",
            "ticks": ""
           }
          },
          "scene": {
           "xaxis": {
            "backgroundcolor": "#E5ECF6",
            "gridcolor": "white",
            "gridwidth": 2,
            "linecolor": "white",
            "showbackground": true,
            "ticks": "",
            "zerolinecolor": "white"
           },
           "yaxis": {
            "backgroundcolor": "#E5ECF6",
            "gridcolor": "white",
            "gridwidth": 2,
            "linecolor": "white",
            "showbackground": true,
            "ticks": "",
            "zerolinecolor": "white"
           },
           "zaxis": {
            "backgroundcolor": "#E5ECF6",
            "gridcolor": "white",
            "gridwidth": 2,
            "linecolor": "white",
            "showbackground": true,
            "ticks": "",
            "zerolinecolor": "white"
           }
          },
          "shapedefaults": {
           "line": {
            "color": "#2a3f5f"
           }
          },
          "ternary": {
           "aaxis": {
            "gridcolor": "white",
            "linecolor": "white",
            "ticks": ""
           },
           "baxis": {
            "gridcolor": "white",
            "linecolor": "white",
            "ticks": ""
           },
           "bgcolor": "#E5ECF6",
           "caxis": {
            "gridcolor": "white",
            "linecolor": "white",
            "ticks": ""
           }
          },
          "title": {
           "x": 0.05
          },
          "xaxis": {
           "automargin": true,
           "gridcolor": "white",
           "linecolor": "white",
           "ticks": "",
           "title": {
            "standoff": 15
           },
           "zerolinecolor": "white",
           "zerolinewidth": 2
          },
          "yaxis": {
           "automargin": true,
           "gridcolor": "white",
           "linecolor": "white",
           "ticks": "",
           "title": {
            "standoff": 15
           },
           "zerolinecolor": "white",
           "zerolinewidth": 2
          }
         }
        },
        "xaxis": {
         "anchor": "y",
         "domain": [
          0,
          1
         ],
         "title": {
          "text": "rating"
         }
        },
        "yaxis": {
         "anchor": "x",
         "domain": [
          0,
          1
         ],
         "title": {
          "text": "counts"
         }
        }
       }
      }
     },
     "metadata": {},
     "output_type": "display_data"
    }
   ],
   "source": [
    "rating_df = generate_rating_df(df)\n",
    "fig = px.bar(rating_df, x='rating', y='counts', color='target_ages')\n",
    "fig.show()"
   ]
  },
  {
   "cell_type": "code",
   "execution_count": 26,
   "metadata": {},
   "outputs": [
    {
     "data": {
      "text/html": [
       "<div>\n",
       "<style scoped>\n",
       "    .dataframe tbody tr th:only-of-type {\n",
       "        vertical-align: middle;\n",
       "    }\n",
       "\n",
       "    .dataframe tbody tr th {\n",
       "        vertical-align: top;\n",
       "    }\n",
       "\n",
       "    .dataframe thead th {\n",
       "        text-align: right;\n",
       "    }\n",
       "</style>\n",
       "<table border=\"1\" class=\"dataframe\">\n",
       "  <thead>\n",
       "    <tr style=\"text-align: right;\">\n",
       "      <th></th>\n",
       "      <th>show_id</th>\n",
       "      <th>type</th>\n",
       "      <th>title</th>\n",
       "      <th>country</th>\n",
       "      <th>date_added</th>\n",
       "      <th>release_year</th>\n",
       "      <th>rating</th>\n",
       "      <th>duration</th>\n",
       "      <th>listed_in</th>\n",
       "      <th>description</th>\n",
       "      <th>year_added</th>\n",
       "      <th>month_added</th>\n",
       "      <th>target_ages</th>\n",
       "      <th>principal_country</th>\n",
       "    </tr>\n",
       "  </thead>\n",
       "  <tbody>\n",
       "    <tr>\n",
       "      <th>1</th>\n",
       "      <td>s2</td>\n",
       "      <td>TV Show</td>\n",
       "      <td>Blood &amp; Water</td>\n",
       "      <td>South Africa</td>\n",
       "      <td>September 24, 2021</td>\n",
       "      <td>2021</td>\n",
       "      <td>TV-MA</td>\n",
       "      <td>2 Seasons</td>\n",
       "      <td>International TV Shows, TV Dramas, TV Mysteries</td>\n",
       "      <td>After crossing paths at a party, a Cape Town t...</td>\n",
       "      <td>2021</td>\n",
       "      <td>September</td>\n",
       "      <td>Adults</td>\n",
       "      <td>South</td>\n",
       "    </tr>\n",
       "    <tr>\n",
       "      <th>2</th>\n",
       "      <td>s3</td>\n",
       "      <td>TV Show</td>\n",
       "      <td>Ganglands</td>\n",
       "      <td>United States</td>\n",
       "      <td>September 24, 2021</td>\n",
       "      <td>2021</td>\n",
       "      <td>TV-MA</td>\n",
       "      <td>1 Season</td>\n",
       "      <td>Crime TV Shows, International TV Shows, TV Act...</td>\n",
       "      <td>To protect his family from a powerful drug lor...</td>\n",
       "      <td>2021</td>\n",
       "      <td>September</td>\n",
       "      <td>Adults</td>\n",
       "      <td>United</td>\n",
       "    </tr>\n",
       "    <tr>\n",
       "      <th>3</th>\n",
       "      <td>s4</td>\n",
       "      <td>TV Show</td>\n",
       "      <td>Jailbirds New Orleans</td>\n",
       "      <td>United States</td>\n",
       "      <td>September 24, 2021</td>\n",
       "      <td>2021</td>\n",
       "      <td>TV-MA</td>\n",
       "      <td>1 Season</td>\n",
       "      <td>Docuseries, Reality TV</td>\n",
       "      <td>Feuds, flirtations and toilet talk go down amo...</td>\n",
       "      <td>2021</td>\n",
       "      <td>September</td>\n",
       "      <td>Adults</td>\n",
       "      <td>United</td>\n",
       "    </tr>\n",
       "    <tr>\n",
       "      <th>4</th>\n",
       "      <td>s5</td>\n",
       "      <td>TV Show</td>\n",
       "      <td>Kota Factory</td>\n",
       "      <td>India</td>\n",
       "      <td>September 24, 2021</td>\n",
       "      <td>2021</td>\n",
       "      <td>TV-MA</td>\n",
       "      <td>2 Seasons</td>\n",
       "      <td>International TV Shows, Romantic TV Shows, TV ...</td>\n",
       "      <td>In a city of coaching centers known to train I...</td>\n",
       "      <td>2021</td>\n",
       "      <td>September</td>\n",
       "      <td>Adults</td>\n",
       "      <td>India</td>\n",
       "    </tr>\n",
       "    <tr>\n",
       "      <th>5</th>\n",
       "      <td>s6</td>\n",
       "      <td>TV Show</td>\n",
       "      <td>Midnight Mass</td>\n",
       "      <td>United States</td>\n",
       "      <td>September 24, 2021</td>\n",
       "      <td>2021</td>\n",
       "      <td>TV-MA</td>\n",
       "      <td>1 Season</td>\n",
       "      <td>TV Dramas, TV Horror, TV Mysteries</td>\n",
       "      <td>The arrival of a charismatic young priest brin...</td>\n",
       "      <td>2021</td>\n",
       "      <td>September</td>\n",
       "      <td>Adults</td>\n",
       "      <td>United</td>\n",
       "    </tr>\n",
       "  </tbody>\n",
       "</table>\n",
       "</div>"
      ],
      "text/plain": [
       "  show_id     type                  title        country          date_added  \\\n",
       "1      s2  TV Show          Blood & Water   South Africa  September 24, 2021   \n",
       "2      s3  TV Show              Ganglands  United States  September 24, 2021   \n",
       "3      s4  TV Show  Jailbirds New Orleans  United States  September 24, 2021   \n",
       "4      s5  TV Show           Kota Factory          India  September 24, 2021   \n",
       "5      s6  TV Show          Midnight Mass  United States  September 24, 2021   \n",
       "\n",
       "   release_year rating   duration  \\\n",
       "1          2021  TV-MA  2 Seasons   \n",
       "2          2021  TV-MA   1 Season   \n",
       "3          2021  TV-MA   1 Season   \n",
       "4          2021  TV-MA  2 Seasons   \n",
       "5          2021  TV-MA   1 Season   \n",
       "\n",
       "                                           listed_in  \\\n",
       "1    International TV Shows, TV Dramas, TV Mysteries   \n",
       "2  Crime TV Shows, International TV Shows, TV Act...   \n",
       "3                             Docuseries, Reality TV   \n",
       "4  International TV Shows, Romantic TV Shows, TV ...   \n",
       "5                 TV Dramas, TV Horror, TV Mysteries   \n",
       "\n",
       "                                         description  year_added month_added  \\\n",
       "1  After crossing paths at a party, a Cape Town t...        2021   September   \n",
       "2  To protect his family from a powerful drug lor...        2021   September   \n",
       "3  Feuds, flirtations and toilet talk go down amo...        2021   September   \n",
       "4  In a city of coaching centers known to train I...        2021   September   \n",
       "5  The arrival of a charismatic young priest brin...        2021   September   \n",
       "\n",
       "  target_ages principal_country  \n",
       "1      Adults             South  \n",
       "2      Adults            United  \n",
       "3      Adults            United  \n",
       "4      Adults             India  \n",
       "5      Adults            United  "
      ]
     },
     "execution_count": 26,
     "metadata": {},
     "output_type": "execute_result"
    }
   ],
   "source": [
    "movie_df = df[df['type'] == 'Movie']\n",
    "show_df = df[df['type'] == 'TV Show']\n",
    "\n",
    "show_df.head()"
   ]
  },
  {
   "cell_type": "code",
   "execution_count": 27,
   "metadata": {},
   "outputs": [
    {
     "data": {
      "application/vnd.plotly.v1+json": {
       "config": {
        "plotlyServerURL": "https://plot.ly"
       },
       "data": [
        {
         "domain": {
          "x": [
           0,
           0.45
          ],
          "y": [
           0,
           1
          ]
         },
         "hole": 0.4,
         "hoverinfo": "label+percent+name",
         "labels": [
          "Kids",
          "Kids",
          "Kids",
          "Older Kids",
          "Older Kids",
          "Older Kids",
          "Older Kids",
          "Teens",
          "Teens",
          "Adults",
          "Adults",
          "Adults",
          "Adults",
          "Adults"
         ],
         "textposition": "inside",
         "type": "pie",
         "values": [
          41,
          126,
          131,
          287,
          540,
          139,
          5,
          490,
          1427,
          3,
          75,
          797,
          2062,
          3
         ]
        },
        {
         "domain": {
          "x": [
           0.55,
           1
          ],
          "y": [
           0,
           1
          ]
         },
         "hole": 0.4,
         "hoverinfo": "label+percent+name",
         "labels": [
          "Kids",
          "Kids",
          "Older Kids",
          "Older Kids",
          "Older Kids",
          "Teens",
          "Adults",
          "Adults",
          "Adults"
         ],
         "textposition": "inside",
         "type": "pie",
         "values": [
          94,
          175,
          321,
          194,
          1,
          730,
          4,
          2,
          1143
         ]
        }
       ],
       "layout": {
        "annotations": [
         {
          "font": {
           "size": 12
          },
          "showarrow": false,
          "text": "Movies",
          "x": 0.2,
          "y": 0.5
         },
         {
          "font": {
           "size": 12
          },
          "showarrow": false,
          "text": "TV Shows",
          "x": 0.81,
          "y": 0.5
         }
        ],
        "template": {
         "data": {
          "bar": [
           {
            "error_x": {
             "color": "#2a3f5f"
            },
            "error_y": {
             "color": "#2a3f5f"
            },
            "marker": {
             "line": {
              "color": "#E5ECF6",
              "width": 0.5
             },
             "pattern": {
              "fillmode": "overlay",
              "size": 10,
              "solidity": 0.2
             }
            },
            "type": "bar"
           }
          ],
          "barpolar": [
           {
            "marker": {
             "line": {
              "color": "#E5ECF6",
              "width": 0.5
             },
             "pattern": {
              "fillmode": "overlay",
              "size": 10,
              "solidity": 0.2
             }
            },
            "type": "barpolar"
           }
          ],
          "carpet": [
           {
            "aaxis": {
             "endlinecolor": "#2a3f5f",
             "gridcolor": "white",
             "linecolor": "white",
             "minorgridcolor": "white",
             "startlinecolor": "#2a3f5f"
            },
            "baxis": {
             "endlinecolor": "#2a3f5f",
             "gridcolor": "white",
             "linecolor": "white",
             "minorgridcolor": "white",
             "startlinecolor": "#2a3f5f"
            },
            "type": "carpet"
           }
          ],
          "choropleth": [
           {
            "colorbar": {
             "outlinewidth": 0,
             "ticks": ""
            },
            "type": "choropleth"
           }
          ],
          "contour": [
           {
            "colorbar": {
             "outlinewidth": 0,
             "ticks": ""
            },
            "colorscale": [
             [
              0,
              "#0d0887"
             ],
             [
              0.1111111111111111,
              "#46039f"
             ],
             [
              0.2222222222222222,
              "#7201a8"
             ],
             [
              0.3333333333333333,
              "#9c179e"
             ],
             [
              0.4444444444444444,
              "#bd3786"
             ],
             [
              0.5555555555555556,
              "#d8576b"
             ],
             [
              0.6666666666666666,
              "#ed7953"
             ],
             [
              0.7777777777777778,
              "#fb9f3a"
             ],
             [
              0.8888888888888888,
              "#fdca26"
             ],
             [
              1,
              "#f0f921"
             ]
            ],
            "type": "contour"
           }
          ],
          "contourcarpet": [
           {
            "colorbar": {
             "outlinewidth": 0,
             "ticks": ""
            },
            "type": "contourcarpet"
           }
          ],
          "heatmap": [
           {
            "colorbar": {
             "outlinewidth": 0,
             "ticks": ""
            },
            "colorscale": [
             [
              0,
              "#0d0887"
             ],
             [
              0.1111111111111111,
              "#46039f"
             ],
             [
              0.2222222222222222,
              "#7201a8"
             ],
             [
              0.3333333333333333,
              "#9c179e"
             ],
             [
              0.4444444444444444,
              "#bd3786"
             ],
             [
              0.5555555555555556,
              "#d8576b"
             ],
             [
              0.6666666666666666,
              "#ed7953"
             ],
             [
              0.7777777777777778,
              "#fb9f3a"
             ],
             [
              0.8888888888888888,
              "#fdca26"
             ],
             [
              1,
              "#f0f921"
             ]
            ],
            "type": "heatmap"
           }
          ],
          "heatmapgl": [
           {
            "colorbar": {
             "outlinewidth": 0,
             "ticks": ""
            },
            "colorscale": [
             [
              0,
              "#0d0887"
             ],
             [
              0.1111111111111111,
              "#46039f"
             ],
             [
              0.2222222222222222,
              "#7201a8"
             ],
             [
              0.3333333333333333,
              "#9c179e"
             ],
             [
              0.4444444444444444,
              "#bd3786"
             ],
             [
              0.5555555555555556,
              "#d8576b"
             ],
             [
              0.6666666666666666,
              "#ed7953"
             ],
             [
              0.7777777777777778,
              "#fb9f3a"
             ],
             [
              0.8888888888888888,
              "#fdca26"
             ],
             [
              1,
              "#f0f921"
             ]
            ],
            "type": "heatmapgl"
           }
          ],
          "histogram": [
           {
            "marker": {
             "pattern": {
              "fillmode": "overlay",
              "size": 10,
              "solidity": 0.2
             }
            },
            "type": "histogram"
           }
          ],
          "histogram2d": [
           {
            "colorbar": {
             "outlinewidth": 0,
             "ticks": ""
            },
            "colorscale": [
             [
              0,
              "#0d0887"
             ],
             [
              0.1111111111111111,
              "#46039f"
             ],
             [
              0.2222222222222222,
              "#7201a8"
             ],
             [
              0.3333333333333333,
              "#9c179e"
             ],
             [
              0.4444444444444444,
              "#bd3786"
             ],
             [
              0.5555555555555556,
              "#d8576b"
             ],
             [
              0.6666666666666666,
              "#ed7953"
             ],
             [
              0.7777777777777778,
              "#fb9f3a"
             ],
             [
              0.8888888888888888,
              "#fdca26"
             ],
             [
              1,
              "#f0f921"
             ]
            ],
            "type": "histogram2d"
           }
          ],
          "histogram2dcontour": [
           {
            "colorbar": {
             "outlinewidth": 0,
             "ticks": ""
            },
            "colorscale": [
             [
              0,
              "#0d0887"
             ],
             [
              0.1111111111111111,
              "#46039f"
             ],
             [
              0.2222222222222222,
              "#7201a8"
             ],
             [
              0.3333333333333333,
              "#9c179e"
             ],
             [
              0.4444444444444444,
              "#bd3786"
             ],
             [
              0.5555555555555556,
              "#d8576b"
             ],
             [
              0.6666666666666666,
              "#ed7953"
             ],
             [
              0.7777777777777778,
              "#fb9f3a"
             ],
             [
              0.8888888888888888,
              "#fdca26"
             ],
             [
              1,
              "#f0f921"
             ]
            ],
            "type": "histogram2dcontour"
           }
          ],
          "mesh3d": [
           {
            "colorbar": {
             "outlinewidth": 0,
             "ticks": ""
            },
            "type": "mesh3d"
           }
          ],
          "parcoords": [
           {
            "line": {
             "colorbar": {
              "outlinewidth": 0,
              "ticks": ""
             }
            },
            "type": "parcoords"
           }
          ],
          "pie": [
           {
            "automargin": true,
            "type": "pie"
           }
          ],
          "scatter": [
           {
            "marker": {
             "colorbar": {
              "outlinewidth": 0,
              "ticks": ""
             }
            },
            "type": "scatter"
           }
          ],
          "scatter3d": [
           {
            "line": {
             "colorbar": {
              "outlinewidth": 0,
              "ticks": ""
             }
            },
            "marker": {
             "colorbar": {
              "outlinewidth": 0,
              "ticks": ""
             }
            },
            "type": "scatter3d"
           }
          ],
          "scattercarpet": [
           {
            "marker": {
             "colorbar": {
              "outlinewidth": 0,
              "ticks": ""
             }
            },
            "type": "scattercarpet"
           }
          ],
          "scattergeo": [
           {
            "marker": {
             "colorbar": {
              "outlinewidth": 0,
              "ticks": ""
             }
            },
            "type": "scattergeo"
           }
          ],
          "scattergl": [
           {
            "marker": {
             "colorbar": {
              "outlinewidth": 0,
              "ticks": ""
             }
            },
            "type": "scattergl"
           }
          ],
          "scattermapbox": [
           {
            "marker": {
             "colorbar": {
              "outlinewidth": 0,
              "ticks": ""
             }
            },
            "type": "scattermapbox"
           }
          ],
          "scatterpolar": [
           {
            "marker": {
             "colorbar": {
              "outlinewidth": 0,
              "ticks": ""
             }
            },
            "type": "scatterpolar"
           }
          ],
          "scatterpolargl": [
           {
            "marker": {
             "colorbar": {
              "outlinewidth": 0,
              "ticks": ""
             }
            },
            "type": "scatterpolargl"
           }
          ],
          "scatterternary": [
           {
            "marker": {
             "colorbar": {
              "outlinewidth": 0,
              "ticks": ""
             }
            },
            "type": "scatterternary"
           }
          ],
          "surface": [
           {
            "colorbar": {
             "outlinewidth": 0,
             "ticks": ""
            },
            "colorscale": [
             [
              0,
              "#0d0887"
             ],
             [
              0.1111111111111111,
              "#46039f"
             ],
             [
              0.2222222222222222,
              "#7201a8"
             ],
             [
              0.3333333333333333,
              "#9c179e"
             ],
             [
              0.4444444444444444,
              "#bd3786"
             ],
             [
              0.5555555555555556,
              "#d8576b"
             ],
             [
              0.6666666666666666,
              "#ed7953"
             ],
             [
              0.7777777777777778,
              "#fb9f3a"
             ],
             [
              0.8888888888888888,
              "#fdca26"
             ],
             [
              1,
              "#f0f921"
             ]
            ],
            "type": "surface"
           }
          ],
          "table": [
           {
            "cells": {
             "fill": {
              "color": "#EBF0F8"
             },
             "line": {
              "color": "white"
             }
            },
            "header": {
             "fill": {
              "color": "#C8D4E3"
             },
             "line": {
              "color": "white"
             }
            },
            "type": "table"
           }
          ]
         },
         "layout": {
          "annotationdefaults": {
           "arrowcolor": "#2a3f5f",
           "arrowhead": 0,
           "arrowwidth": 1
          },
          "autotypenumbers": "strict",
          "coloraxis": {
           "colorbar": {
            "outlinewidth": 0,
            "ticks": ""
           }
          },
          "colorscale": {
           "diverging": [
            [
             0,
             "#8e0152"
            ],
            [
             0.1,
             "#c51b7d"
            ],
            [
             0.2,
             "#de77ae"
            ],
            [
             0.3,
             "#f1b6da"
            ],
            [
             0.4,
             "#fde0ef"
            ],
            [
             0.5,
             "#f7f7f7"
            ],
            [
             0.6,
             "#e6f5d0"
            ],
            [
             0.7,
             "#b8e186"
            ],
            [
             0.8,
             "#7fbc41"
            ],
            [
             0.9,
             "#4d9221"
            ],
            [
             1,
             "#276419"
            ]
           ],
           "sequential": [
            [
             0,
             "#0d0887"
            ],
            [
             0.1111111111111111,
             "#46039f"
            ],
            [
             0.2222222222222222,
             "#7201a8"
            ],
            [
             0.3333333333333333,
             "#9c179e"
            ],
            [
             0.4444444444444444,
             "#bd3786"
            ],
            [
             0.5555555555555556,
             "#d8576b"
            ],
            [
             0.6666666666666666,
             "#ed7953"
            ],
            [
             0.7777777777777778,
             "#fb9f3a"
            ],
            [
             0.8888888888888888,
             "#fdca26"
            ],
            [
             1,
             "#f0f921"
            ]
           ],
           "sequentialminus": [
            [
             0,
             "#0d0887"
            ],
            [
             0.1111111111111111,
             "#46039f"
            ],
            [
             0.2222222222222222,
             "#7201a8"
            ],
            [
             0.3333333333333333,
             "#9c179e"
            ],
            [
             0.4444444444444444,
             "#bd3786"
            ],
            [
             0.5555555555555556,
             "#d8576b"
            ],
            [
             0.6666666666666666,
             "#ed7953"
            ],
            [
             0.7777777777777778,
             "#fb9f3a"
            ],
            [
             0.8888888888888888,
             "#fdca26"
            ],
            [
             1,
             "#f0f921"
            ]
           ]
          },
          "colorway": [
           "#636efa",
           "#EF553B",
           "#00cc96",
           "#ab63fa",
           "#FFA15A",
           "#19d3f3",
           "#FF6692",
           "#B6E880",
           "#FF97FF",
           "#FECB52"
          ],
          "font": {
           "color": "#2a3f5f"
          },
          "geo": {
           "bgcolor": "white",
           "lakecolor": "white",
           "landcolor": "#E5ECF6",
           "showlakes": true,
           "showland": true,
           "subunitcolor": "white"
          },
          "hoverlabel": {
           "align": "left"
          },
          "hovermode": "closest",
          "mapbox": {
           "style": "light"
          },
          "paper_bgcolor": "white",
          "plot_bgcolor": "#E5ECF6",
          "polar": {
           "angularaxis": {
            "gridcolor": "white",
            "linecolor": "white",
            "ticks": ""
           },
           "bgcolor": "#E5ECF6",
           "radialaxis": {
            "gridcolor": "white",
            "linecolor": "white",
            "ticks": ""
           }
          },
          "scene": {
           "xaxis": {
            "backgroundcolor": "#E5ECF6",
            "gridcolor": "white",
            "gridwidth": 2,
            "linecolor": "white",
            "showbackground": true,
            "ticks": "",
            "zerolinecolor": "white"
           },
           "yaxis": {
            "backgroundcolor": "#E5ECF6",
            "gridcolor": "white",
            "gridwidth": 2,
            "linecolor": "white",
            "showbackground": true,
            "ticks": "",
            "zerolinecolor": "white"
           },
           "zaxis": {
            "backgroundcolor": "#E5ECF6",
            "gridcolor": "white",
            "gridwidth": 2,
            "linecolor": "white",
            "showbackground": true,
            "ticks": "",
            "zerolinecolor": "white"
           }
          },
          "shapedefaults": {
           "line": {
            "color": "#2a3f5f"
           }
          },
          "ternary": {
           "aaxis": {
            "gridcolor": "white",
            "linecolor": "white",
            "ticks": ""
           },
           "baxis": {
            "gridcolor": "white",
            "linecolor": "white",
            "ticks": ""
           },
           "bgcolor": "#E5ECF6",
           "caxis": {
            "gridcolor": "white",
            "linecolor": "white",
            "ticks": ""
           }
          },
          "title": {
           "x": 0.05
          },
          "xaxis": {
           "automargin": true,
           "gridcolor": "white",
           "linecolor": "white",
           "ticks": "",
           "title": {
            "standoff": 15
           },
           "zerolinecolor": "white",
           "zerolinewidth": 2
          },
          "yaxis": {
           "automargin": true,
           "gridcolor": "white",
           "linecolor": "white",
           "ticks": "",
           "title": {
            "standoff": 15
           },
           "zerolinecolor": "white",
           "zerolinewidth": 2
          }
         }
        },
        "title": {
         "text": "Rating distribution by Type of content"
        }
       }
      }
     },
     "metadata": {},
     "output_type": "display_data"
    }
   ],
   "source": [
    "movie_rating_df = generate_rating_df(movie_df)\n",
    "show_rating_df = generate_rating_df(show_df)\n",
    "\n",
    "fig = make_subplots(rows=1, cols=2, specs=[[{\"type\" : \"pie\"}, {\"type\" : \"pie\"}]])\n",
    "\n",
    "fig.add_trace(\n",
    "  go.Pie(labels=movie_rating_df['target_ages'], values=movie_rating_df['counts']),\n",
    "  row=1, col=1\n",
    ")\n",
    "\n",
    "fig.add_trace(\n",
    "  go.Pie(labels=show_rating_df['target_ages'], values=show_rating_df['counts']),\n",
    "  row=1, col=2\n",
    ")\n",
    "\n",
    "fig.update_traces(textposition='inside', hole=.4, hoverinfo=\"label+percent+name\")\n",
    "fig.update_layout(\n",
    "  title_text=\"Rating distribution by Type of content\",\n",
    "  annotations=[dict(text='Movies', x=0.2, y=0.5, font_size=12, showarrow=False),\n",
    "               dict(text='TV Shows', x=0.81, y=0.5, font_size=12, showarrow=False)]\n",
    ")\n",
    "\n",
    "fig.show()"
   ]
  },
  {
   "cell_type": "code",
   "execution_count": 28,
   "metadata": {},
   "outputs": [
    {
     "data": {
      "application/vnd.plotly.v1+json": {
       "config": {
        "plotlyServerURL": "https://plot.ly"
       },
       "data": [
        {
         "domain": {
          "x": [
           0,
           1
          ],
          "y": [
           0,
           1
          ]
         },
         "hovertemplate": "index=%{label}<br>principal_country=%{value}<extra></extra>",
         "labels": [
          "United",
          "India",
          "South",
          "Japan",
          "Canada",
          "Spain",
          "France",
          "Mexico",
          "Egypt",
          "Turkey",
          "Nigeria",
          "Canada,",
          "France,"
         ],
         "legendgroup": "",
         "name": "",
         "showlegend": true,
         "textinfo": "percent+label",
         "textposition": "inside",
         "type": "pie",
         "values": [
          4680,
          972,
          252,
          244,
          181,
          145,
          124,
          110,
          106,
          105,
          95,
          90,
          88
         ]
        }
       ],
       "layout": {
        "legend": {
         "tracegroupgap": 0
        },
        "margin": {
         "t": 60
        },
        "template": {
         "data": {
          "bar": [
           {
            "error_x": {
             "color": "#2a3f5f"
            },
            "error_y": {
             "color": "#2a3f5f"
            },
            "marker": {
             "line": {
              "color": "#E5ECF6",
              "width": 0.5
             },
             "pattern": {
              "fillmode": "overlay",
              "size": 10,
              "solidity": 0.2
             }
            },
            "type": "bar"
           }
          ],
          "barpolar": [
           {
            "marker": {
             "line": {
              "color": "#E5ECF6",
              "width": 0.5
             },
             "pattern": {
              "fillmode": "overlay",
              "size": 10,
              "solidity": 0.2
             }
            },
            "type": "barpolar"
           }
          ],
          "carpet": [
           {
            "aaxis": {
             "endlinecolor": "#2a3f5f",
             "gridcolor": "white",
             "linecolor": "white",
             "minorgridcolor": "white",
             "startlinecolor": "#2a3f5f"
            },
            "baxis": {
             "endlinecolor": "#2a3f5f",
             "gridcolor": "white",
             "linecolor": "white",
             "minorgridcolor": "white",
             "startlinecolor": "#2a3f5f"
            },
            "type": "carpet"
           }
          ],
          "choropleth": [
           {
            "colorbar": {
             "outlinewidth": 0,
             "ticks": ""
            },
            "type": "choropleth"
           }
          ],
          "contour": [
           {
            "colorbar": {
             "outlinewidth": 0,
             "ticks": ""
            },
            "colorscale": [
             [
              0,
              "#0d0887"
             ],
             [
              0.1111111111111111,
              "#46039f"
             ],
             [
              0.2222222222222222,
              "#7201a8"
             ],
             [
              0.3333333333333333,
              "#9c179e"
             ],
             [
              0.4444444444444444,
              "#bd3786"
             ],
             [
              0.5555555555555556,
              "#d8576b"
             ],
             [
              0.6666666666666666,
              "#ed7953"
             ],
             [
              0.7777777777777778,
              "#fb9f3a"
             ],
             [
              0.8888888888888888,
              "#fdca26"
             ],
             [
              1,
              "#f0f921"
             ]
            ],
            "type": "contour"
           }
          ],
          "contourcarpet": [
           {
            "colorbar": {
             "outlinewidth": 0,
             "ticks": ""
            },
            "type": "contourcarpet"
           }
          ],
          "heatmap": [
           {
            "colorbar": {
             "outlinewidth": 0,
             "ticks": ""
            },
            "colorscale": [
             [
              0,
              "#0d0887"
             ],
             [
              0.1111111111111111,
              "#46039f"
             ],
             [
              0.2222222222222222,
              "#7201a8"
             ],
             [
              0.3333333333333333,
              "#9c179e"
             ],
             [
              0.4444444444444444,
              "#bd3786"
             ],
             [
              0.5555555555555556,
              "#d8576b"
             ],
             [
              0.6666666666666666,
              "#ed7953"
             ],
             [
              0.7777777777777778,
              "#fb9f3a"
             ],
             [
              0.8888888888888888,
              "#fdca26"
             ],
             [
              1,
              "#f0f921"
             ]
            ],
            "type": "heatmap"
           }
          ],
          "heatmapgl": [
           {
            "colorbar": {
             "outlinewidth": 0,
             "ticks": ""
            },
            "colorscale": [
             [
              0,
              "#0d0887"
             ],
             [
              0.1111111111111111,
              "#46039f"
             ],
             [
              0.2222222222222222,
              "#7201a8"
             ],
             [
              0.3333333333333333,
              "#9c179e"
             ],
             [
              0.4444444444444444,
              "#bd3786"
             ],
             [
              0.5555555555555556,
              "#d8576b"
             ],
             [
              0.6666666666666666,
              "#ed7953"
             ],
             [
              0.7777777777777778,
              "#fb9f3a"
             ],
             [
              0.8888888888888888,
              "#fdca26"
             ],
             [
              1,
              "#f0f921"
             ]
            ],
            "type": "heatmapgl"
           }
          ],
          "histogram": [
           {
            "marker": {
             "pattern": {
              "fillmode": "overlay",
              "size": 10,
              "solidity": 0.2
             }
            },
            "type": "histogram"
           }
          ],
          "histogram2d": [
           {
            "colorbar": {
             "outlinewidth": 0,
             "ticks": ""
            },
            "colorscale": [
             [
              0,
              "#0d0887"
             ],
             [
              0.1111111111111111,
              "#46039f"
             ],
             [
              0.2222222222222222,
              "#7201a8"
             ],
             [
              0.3333333333333333,
              "#9c179e"
             ],
             [
              0.4444444444444444,
              "#bd3786"
             ],
             [
              0.5555555555555556,
              "#d8576b"
             ],
             [
              0.6666666666666666,
              "#ed7953"
             ],
             [
              0.7777777777777778,
              "#fb9f3a"
             ],
             [
              0.8888888888888888,
              "#fdca26"
             ],
             [
              1,
              "#f0f921"
             ]
            ],
            "type": "histogram2d"
           }
          ],
          "histogram2dcontour": [
           {
            "colorbar": {
             "outlinewidth": 0,
             "ticks": ""
            },
            "colorscale": [
             [
              0,
              "#0d0887"
             ],
             [
              0.1111111111111111,
              "#46039f"
             ],
             [
              0.2222222222222222,
              "#7201a8"
             ],
             [
              0.3333333333333333,
              "#9c179e"
             ],
             [
              0.4444444444444444,
              "#bd3786"
             ],
             [
              0.5555555555555556,
              "#d8576b"
             ],
             [
              0.6666666666666666,
              "#ed7953"
             ],
             [
              0.7777777777777778,
              "#fb9f3a"
             ],
             [
              0.8888888888888888,
              "#fdca26"
             ],
             [
              1,
              "#f0f921"
             ]
            ],
            "type": "histogram2dcontour"
           }
          ],
          "mesh3d": [
           {
            "colorbar": {
             "outlinewidth": 0,
             "ticks": ""
            },
            "type": "mesh3d"
           }
          ],
          "parcoords": [
           {
            "line": {
             "colorbar": {
              "outlinewidth": 0,
              "ticks": ""
             }
            },
            "type": "parcoords"
           }
          ],
          "pie": [
           {
            "automargin": true,
            "type": "pie"
           }
          ],
          "scatter": [
           {
            "marker": {
             "colorbar": {
              "outlinewidth": 0,
              "ticks": ""
             }
            },
            "type": "scatter"
           }
          ],
          "scatter3d": [
           {
            "line": {
             "colorbar": {
              "outlinewidth": 0,
              "ticks": ""
             }
            },
            "marker": {
             "colorbar": {
              "outlinewidth": 0,
              "ticks": ""
             }
            },
            "type": "scatter3d"
           }
          ],
          "scattercarpet": [
           {
            "marker": {
             "colorbar": {
              "outlinewidth": 0,
              "ticks": ""
             }
            },
            "type": "scattercarpet"
           }
          ],
          "scattergeo": [
           {
            "marker": {
             "colorbar": {
              "outlinewidth": 0,
              "ticks": ""
             }
            },
            "type": "scattergeo"
           }
          ],
          "scattergl": [
           {
            "marker": {
             "colorbar": {
              "outlinewidth": 0,
              "ticks": ""
             }
            },
            "type": "scattergl"
           }
          ],
          "scattermapbox": [
           {
            "marker": {
             "colorbar": {
              "outlinewidth": 0,
              "ticks": ""
             }
            },
            "type": "scattermapbox"
           }
          ],
          "scatterpolar": [
           {
            "marker": {
             "colorbar": {
              "outlinewidth": 0,
              "ticks": ""
             }
            },
            "type": "scatterpolar"
           }
          ],
          "scatterpolargl": [
           {
            "marker": {
             "colorbar": {
              "outlinewidth": 0,
              "ticks": ""
             }
            },
            "type": "scatterpolargl"
           }
          ],
          "scatterternary": [
           {
            "marker": {
             "colorbar": {
              "outlinewidth": 0,
              "ticks": ""
             }
            },
            "type": "scatterternary"
           }
          ],
          "surface": [
           {
            "colorbar": {
             "outlinewidth": 0,
             "ticks": ""
            },
            "colorscale": [
             [
              0,
              "#0d0887"
             ],
             [
              0.1111111111111111,
              "#46039f"
             ],
             [
              0.2222222222222222,
              "#7201a8"
             ],
             [
              0.3333333333333333,
              "#9c179e"
             ],
             [
              0.4444444444444444,
              "#bd3786"
             ],
             [
              0.5555555555555556,
              "#d8576b"
             ],
             [
              0.6666666666666666,
              "#ed7953"
             ],
             [
              0.7777777777777778,
              "#fb9f3a"
             ],
             [
              0.8888888888888888,
              "#fdca26"
             ],
             [
              1,
              "#f0f921"
             ]
            ],
            "type": "surface"
           }
          ],
          "table": [
           {
            "cells": {
             "fill": {
              "color": "#EBF0F8"
             },
             "line": {
              "color": "white"
             }
            },
            "header": {
             "fill": {
              "color": "#C8D4E3"
             },
             "line": {
              "color": "white"
             }
            },
            "type": "table"
           }
          ]
         },
         "layout": {
          "annotationdefaults": {
           "arrowcolor": "#2a3f5f",
           "arrowhead": 0,
           "arrowwidth": 1
          },
          "autotypenumbers": "strict",
          "coloraxis": {
           "colorbar": {
            "outlinewidth": 0,
            "ticks": ""
           }
          },
          "colorscale": {
           "diverging": [
            [
             0,
             "#8e0152"
            ],
            [
             0.1,
             "#c51b7d"
            ],
            [
             0.2,
             "#de77ae"
            ],
            [
             0.3,
             "#f1b6da"
            ],
            [
             0.4,
             "#fde0ef"
            ],
            [
             0.5,
             "#f7f7f7"
            ],
            [
             0.6,
             "#e6f5d0"
            ],
            [
             0.7,
             "#b8e186"
            ],
            [
             0.8,
             "#7fbc41"
            ],
            [
             0.9,
             "#4d9221"
            ],
            [
             1,
             "#276419"
            ]
           ],
           "sequential": [
            [
             0,
             "#0d0887"
            ],
            [
             0.1111111111111111,
             "#46039f"
            ],
            [
             0.2222222222222222,
             "#7201a8"
            ],
            [
             0.3333333333333333,
             "#9c179e"
            ],
            [
             0.4444444444444444,
             "#bd3786"
            ],
            [
             0.5555555555555556,
             "#d8576b"
            ],
            [
             0.6666666666666666,
             "#ed7953"
            ],
            [
             0.7777777777777778,
             "#fb9f3a"
            ],
            [
             0.8888888888888888,
             "#fdca26"
            ],
            [
             1,
             "#f0f921"
            ]
           ],
           "sequentialminus": [
            [
             0,
             "#0d0887"
            ],
            [
             0.1111111111111111,
             "#46039f"
            ],
            [
             0.2222222222222222,
             "#7201a8"
            ],
            [
             0.3333333333333333,
             "#9c179e"
            ],
            [
             0.4444444444444444,
             "#bd3786"
            ],
            [
             0.5555555555555556,
             "#d8576b"
            ],
            [
             0.6666666666666666,
             "#ed7953"
            ],
            [
             0.7777777777777778,
             "#fb9f3a"
            ],
            [
             0.8888888888888888,
             "#fdca26"
            ],
            [
             1,
             "#f0f921"
            ]
           ]
          },
          "colorway": [
           "#636efa",
           "#EF553B",
           "#00cc96",
           "#ab63fa",
           "#FFA15A",
           "#19d3f3",
           "#FF6692",
           "#B6E880",
           "#FF97FF",
           "#FECB52"
          ],
          "font": {
           "color": "#2a3f5f"
          },
          "geo": {
           "bgcolor": "white",
           "lakecolor": "white",
           "landcolor": "#E5ECF6",
           "showlakes": true,
           "showland": true,
           "subunitcolor": "white"
          },
          "hoverlabel": {
           "align": "left"
          },
          "hovermode": "closest",
          "mapbox": {
           "style": "light"
          },
          "paper_bgcolor": "white",
          "plot_bgcolor": "#E5ECF6",
          "polar": {
           "angularaxis": {
            "gridcolor": "white",
            "linecolor": "white",
            "ticks": ""
           },
           "bgcolor": "#E5ECF6",
           "radialaxis": {
            "gridcolor": "white",
            "linecolor": "white",
            "ticks": ""
           }
          },
          "scene": {
           "xaxis": {
            "backgroundcolor": "#E5ECF6",
            "gridcolor": "white",
            "gridwidth": 2,
            "linecolor": "white",
            "showbackground": true,
            "ticks": "",
            "zerolinecolor": "white"
           },
           "yaxis": {
            "backgroundcolor": "#E5ECF6",
            "gridcolor": "white",
            "gridwidth": 2,
            "linecolor": "white",
            "showbackground": true,
            "ticks": "",
            "zerolinecolor": "white"
           },
           "zaxis": {
            "backgroundcolor": "#E5ECF6",
            "gridcolor": "white",
            "gridwidth": 2,
            "linecolor": "white",
            "showbackground": true,
            "ticks": "",
            "zerolinecolor": "white"
           }
          },
          "shapedefaults": {
           "line": {
            "color": "#2a3f5f"
           }
          },
          "ternary": {
           "aaxis": {
            "gridcolor": "white",
            "linecolor": "white",
            "ticks": ""
           },
           "baxis": {
            "gridcolor": "white",
            "linecolor": "white",
            "ticks": ""
           },
           "bgcolor": "#E5ECF6",
           "caxis": {
            "gridcolor": "white",
            "linecolor": "white",
            "ticks": ""
           }
          },
          "title": {
           "x": 0.05
          },
          "xaxis": {
           "automargin": true,
           "gridcolor": "white",
           "linecolor": "white",
           "ticks": "",
           "title": {
            "standoff": 15
           },
           "zerolinecolor": "white",
           "zerolinewidth": 2
          },
          "yaxis": {
           "automargin": true,
           "gridcolor": "white",
           "linecolor": "white",
           "ticks": "",
           "title": {
            "standoff": 15
           },
           "zerolinecolor": "white",
           "zerolinewidth": 2
          }
         }
        }
       }
      }
     },
     "metadata": {},
     "output_type": "display_data"
    }
   ],
   "source": [
    "country_df = df['principal_country'].value_counts().reset_index()\n",
    "country_df = country_df[country_df['principal_country'] / country_df['principal_country'].sum() > 0.01]\n",
    "\n",
    "fig = px.pie(country_df, values='principal_country', names='index')\n",
    "fig.update_traces(textposition='inside', textinfo='percent+label')\n",
    "fig.show()"
   ]
  },
  {
   "cell_type": "code",
   "execution_count": 29,
   "metadata": {},
   "outputs": [
    {
     "data": {
      "application/vnd.plotly.v1+json": {
       "config": {
        "plotlyServerURL": "https://plot.ly"
       },
       "data": [
        {
         "alignmentgroup": "True",
         "bingroup": "x",
         "hovertemplate": "principal_country=%{x}<br>count=%{y}<extra></extra>",
         "legendgroup": "",
         "marker": {
          "color": "#636efa",
          "pattern": {
           "shape": ""
          }
         },
         "name": "",
         "offsetgroup": "",
         "orientation": "v",
         "showlegend": false,
         "type": "histogram",
         "x": [
          "United",
          "South",
          "United",
          "United",
          "India",
          "United",
          "United",
          "United",
          "United",
          "United",
          "United",
          "United",
          "Germany,",
          "United",
          "United",
          "United",
          "United",
          "Mexico",
          "United",
          "United",
          "United",
          "Turkey",
          "United",
          "United",
          "India",
          "Australia",
          "United",
          "United",
          "United",
          "United",
          "United",
          "United",
          "United",
          "United",
          "United",
          "United",
          "United",
          "Finland",
          "China,",
          "India",
          "United",
          "United",
          "United",
          "United",
          "United",
          "United",
          "South",
          "United",
          "United",
          "Nigeria",
          "India",
          "Japan",
          "Japan",
          "Japan",
          "Japan",
          "United",
          "Japan",
          "Japan",
          "Japan",
          "Japan",
          "Japan",
          "Japan",
          "Japan",
          "Japan",
          "United",
          "United",
          "India",
          "United",
          "United",
          "India",
          "United",
          "United",
          "United",
          "Nigeria",
          "United",
          "United",
          "Japan",
          "United",
          "United",
          "United",
          "United",
          "United",
          "United",
          "United",
          "Nigeria",
          "United",
          "United",
          "United",
          "United",
          "United",
          "Spain,",
          "France",
          "Belgium",
          "United",
          "United",
          "United",
          "United",
          "United",
          "United",
          "France,",
          "United",
          "United",
          "United",
          "United",
          "South",
          "India",
          "United",
          "United",
          "Australia",
          "Spain",
          "United",
          "United",
          "United",
          "United",
          "India",
          "United",
          "India",
          "United",
          "India",
          "United",
          "Australia",
          "United",
          "United",
          "United",
          "South",
          "United",
          "India",
          "United",
          "United",
          "Germany,",
          "United",
          "United",
          "United",
          "South",
          "United",
          "United",
          "United",
          "Australia,",
          "United",
          "United",
          "Argentina,",
          "United",
          "Germany,",
          "United",
          "United",
          "United",
          "United",
          "United",
          "United",
          "United",
          "United",
          "China,",
          "United",
          "Russia",
          "Japan",
          "United",
          "United",
          "Canada",
          "United",
          "Hong",
          "United",
          "United",
          "United",
          "United",
          "United",
          "United",
          "Italy,",
          "United",
          "United",
          "United",
          "United",
          "United",
          "United",
          "United",
          "United",
          "United",
          "United",
          "United",
          "United",
          "United",
          "United",
          "United",
          "United",
          "United",
          "United",
          "United",
          "United",
          "United",
          "France",
          "United",
          "India",
          "United",
          "India",
          ",",
          "United",
          "India",
          "United",
          "United",
          "Nigeria",
          "India",
          "India",
          "India",
          "India",
          "India",
          "India",
          "India",
          "India",
          "India",
          "India",
          "India",
          "India",
          "India",
          "Ireland",
          "United",
          "United",
          "India",
          "India",
          "India",
          "United",
          "Japan",
          "United",
          "United",
          "United",
          "United",
          "United",
          "United",
          "United",
          "United",
          "United",
          "United",
          "United",
          "United",
          "United",
          "United",
          "United",
          "United",
          "United",
          "United",
          "United",
          "United",
          "United",
          "United",
          "United",
          "United",
          "United",
          "United",
          "United",
          "United",
          "United",
          "United",
          "United",
          "United",
          "United",
          "India",
          "United",
          "United",
          "United",
          "United",
          "United",
          "India,",
          "United",
          "United",
          "United",
          "United",
          "United",
          "Japan",
          "India",
          "New",
          "United",
          "Italy",
          "Italy,",
          "United",
          "United",
          "France",
          "United",
          "Argentina",
          "Spain",
          "Jordan",
          "Colombia",
          "United",
          "United",
          "Nigeria",
          "Mexico",
          "Belgium,",
          "United",
          "Switzerland,",
          "United",
          "United",
          "Colombia",
          "South",
          "United",
          "Japan",
          "United",
          "South",
          "United",
          "United",
          "Israel,",
          "India",
          "Nigeria",
          "France",
          "Canada,",
          "India",
          "Brazil",
          "Argentina",
          "United",
          "Argentina,",
          "Nigeria",
          "United",
          "United",
          "United",
          "United",
          "Mexico",
          "United",
          "Taiwan",
          "United",
          "United",
          "Taiwan",
          "United",
          "United",
          "Taiwan",
          "United",
          "Taiwan",
          "Taiwan",
          "United",
          "Italy",
          "United",
          "United",
          "United",
          "Bulgaria,",
          "United",
          "United",
          "United",
          "United",
          "United",
          "United",
          "United",
          "United",
          "United",
          "Japan",
          "United",
          "United",
          "United",
          "United",
          "United",
          "United",
          "United",
          "United",
          "Spain,",
          "United",
          "United",
          "United",
          "United",
          "United",
          "United",
          "United",
          "United",
          "United",
          "Spain,",
          "United",
          "United",
          "United",
          "United",
          "United",
          "United",
          "United",
          ",",
          "United",
          "United",
          "United",
          "United",
          "United",
          "United",
          "United",
          "United",
          "Nigeria",
          "United",
          "United",
          "Poland",
          "United",
          "United",
          "United",
          "United",
          "United",
          "India",
          "United",
          "Germany",
          "United",
          "United",
          "United",
          "France,",
          "United",
          "Canada,",
          "United",
          "Australia",
          "United",
          "United",
          "United",
          "United",
          "United",
          "United",
          "United",
          "Spain",
          "United",
          "United",
          "United",
          "United",
          "United",
          "United",
          "United",
          "United",
          "India",
          "United",
          "United",
          "United",
          "United",
          "India",
          "United",
          "United",
          "United",
          "United",
          "United",
          "United",
          "United",
          "United",
          "United",
          "United",
          "New",
          "United",
          "United",
          "Nigeria",
          "United",
          "United",
          "United",
          "United",
          "Argentina",
          "United",
          "Saudi",
          "United",
          "United",
          "Thailand",
          "United",
          "United",
          "United",
          "United",
          "United",
          "United",
          "United",
          "United",
          "United",
          "United",
          "United",
          "United",
          "Indonesia",
          "Japan",
          "United",
          "United",
          "South",
          "Egypt,",
          "United",
          "United",
          "United",
          "United",
          "United",
          "Italy",
          "United",
          "United",
          "United",
          "United",
          "United",
          "United",
          "United",
          "United",
          "United",
          "United",
          "United",
          "United",
          "United",
          "United",
          "Germany",
          "United",
          "United",
          "United",
          "United",
          "United",
          "United",
          "United",
          "Hong",
          "United",
          "United",
          "Kuwait,",
          "United",
          "United",
          "United",
          "United",
          "United",
          "United",
          "France,",
          "United",
          "United",
          "United",
          "United",
          "United",
          "Nigeria",
          "Poland",
          "United",
          "United",
          "Australia",
          "United",
          "France,",
          "United",
          "Canada",
          "United",
          "France,",
          "United",
          "United",
          "United",
          "Thailand",
          "Japan",
          "India",
          "United",
          "United",
          "Canada",
          "Russia",
          "United",
          "Japan",
          "United",
          "United",
          "Ireland,",
          "India",
          "Egypt",
          "United",
          "Malaysia",
          "United",
          "Israel",
          "Indonesia",
          "Canada",
          "Australia",
          "Japan",
          "United",
          "Australia,",
          "United",
          "India",
          "India",
          "Belgium,",
          "Canada",
          "South",
          "United",
          "United",
          "United",
          "United",
          "United",
          "India",
          "United",
          "France",
          "Nigeria",
          "South",
          "South",
          "Australia,",
          "United",
          "United",
          "United",
          "United",
          "United",
          "United",
          "United",
          "Australia,",
          "United",
          "United",
          "United",
          "Vietnam",
          "United",
          "United",
          "United",
          "United",
          "United",
          "United",
          "United",
          "United",
          "France,",
          "United",
          "United",
          "United",
          "United",
          "United",
          "United",
          "United",
          "United",
          "United",
          "United",
          "United",
          "United",
          "United",
          "United",
          "United",
          "United",
          "Germany,",
          "United",
          "United",
          "United",
          "United",
          "United",
          "United",
          "United",
          "United",
          "United",
          "United",
          "United",
          "United",
          "United",
          "United",
          "United",
          "United",
          "United",
          "Nigeria",
          "United",
          "United",
          "United",
          "Sweden",
          "United",
          "United",
          "United",
          "United",
          "United",
          "United",
          "United",
          "Mexico",
          "United",
          "China",
          "United",
          "United",
          "United",
          "Japan",
          "United",
          "United",
          "France",
          "Lebanon",
          "United",
          "United",
          "United",
          "United",
          "United",
          "United",
          "Japan",
          "United",
          "United",
          "United",
          "United",
          "United",
          "United",
          "United",
          "Brazil",
          "Nigeria",
          "United",
          "United",
          "Romania",
          "Romania",
          "Romania",
          "United",
          "United",
          "Thailand",
          "United",
          "France",
          "United",
          "United",
          "Spain",
          "Finland,",
          "United",
          "United",
          "United",
          "Spain",
          "United",
          "United",
          "United",
          "Argentina",
          "United",
          "Japan",
          "United",
          "Canada,",
          "United",
          "Thailand",
          "United",
          "United",
          "Australia",
          "United",
          "Spain",
          "United",
          "South",
          "United",
          "Nigeria",
          "United",
          "United",
          "United",
          "United",
          "United",
          "Lebanon,",
          "United",
          "Canada,",
          "United",
          "Philippines",
          "Iceland",
          "United",
          "Canada",
          "United",
          "Turkey",
          "United",
          "Germany",
          "United",
          "United",
          "United",
          "Argentina",
          "United",
          "Italy",
          "United",
          "United",
          "United",
          "United",
          "United",
          "United",
          "United",
          "United",
          "United",
          "United",
          "United",
          "United",
          "United",
          "United",
          "United",
          "United",
          "United",
          "United",
          "United",
          "South",
          "United",
          "Denmark",
          "France,",
          "India",
          "United",
          "Philippines,",
          "United",
          "China,",
          "United",
          "Lebanon,",
          "Vietnam",
          "Canada,",
          "Colombia",
          "United",
          "United",
          "Nigeria",
          "United",
          "United",
          "Mexico,",
          "United",
          "United",
          "Colombia",
          "United",
          "Netherlands",
          "Nigeria",
          "United",
          "United",
          "United",
          "United",
          "United",
          "South",
          "United",
          "South",
          "Spain",
          "Mexico",
          "Japan",
          "Sweden",
          "Argentina",
          "United",
          "United",
          "Italy",
          "Philippines",
          "United",
          "United",
          "United",
          "United",
          "Japan",
          "United",
          "United",
          "United",
          "Canada,",
          "Brazil",
          "United",
          "United",
          "United",
          "United",
          "United",
          "United",
          "United",
          "United",
          "United",
          "United",
          "Nigeria",
          "United",
          "United",
          "United",
          "United",
          "United",
          "United",
          "United",
          "Germany,",
          "Japan",
          "Canada,",
          "United",
          "United",
          "United",
          "United",
          "United",
          "United",
          "United",
          "United",
          "United",
          "United",
          "United",
          "United",
          "United",
          "United",
          "United",
          "United",
          "United",
          "United",
          "United",
          "United",
          "United",
          "United",
          "United",
          "United",
          "United",
          "United",
          "United",
          "United",
          "Israel",
          "United",
          "United",
          "Thailand",
          "Norway,",
          "Argentina",
          "Syria,",
          "Italy",
          "United",
          "United",
          "Japan",
          "United",
          "United",
          "United",
          "United",
          "United",
          "United",
          "India",
          "United",
          "United",
          "United",
          "United",
          "United",
          "United",
          "Spain",
          "United",
          "Egypt",
          "Australia",
          "United",
          "United",
          "United",
          "United",
          "United",
          "United",
          "United",
          "Canada,",
          "Mexico",
          "United",
          "India",
          "United",
          "India",
          "United",
          "United",
          "India",
          "India",
          "Belgium,",
          "United",
          "United",
          "South",
          "Mauritius",
          "United",
          "South",
          "Canada,",
          "United",
          "Austria",
          "United",
          "United",
          "United",
          "United",
          "India",
          "United",
          "Mexico,",
          "France,",
          "United",
          "United",
          "United",
          "Spain",
          "United",
          "United",
          "South",
          "India",
          "United",
          "China",
          "Turkey",
          "United",
          "United",
          "India",
          "United",
          "India",
          "United",
          "India",
          "United",
          "Germany,",
          "United",
          "United",
          "India",
          "United",
          "Mexico,",
          "United",
          "United",
          "United",
          "United",
          "United",
          "United",
          "United",
          "United",
          "United",
          "United",
          "United",
          "United",
          "United",
          "United",
          "United",
          "United",
          "United",
          "United",
          "United",
          "United",
          "United",
          "United",
          "United",
          "China",
          "United",
          "United",
          "United",
          "United",
          "United",
          "United",
          "United",
          "United",
          "United",
          "Canada",
          "France,",
          "United",
          "United",
          "United",
          "India",
          "United",
          "United",
          "United",
          "United",
          "United",
          "United",
          "Brazil",
          "United",
          "Poland",
          "United",
          "United",
          "Spain",
          "Turkey",
          "India",
          "India",
          "United",
          "Turkey",
          "Turkey",
          "Turkey",
          "Turkey",
          "Turkey",
          "Turkey",
          "Turkey",
          "Spain",
          "Turkey",
          "Turkey",
          "Turkey",
          "United",
          "Thailand",
          "Turkey",
          "Turkey",
          "Egypt",
          "United",
          "United",
          "Nigeria",
          "Turkey",
          "Japan",
          "Australia,",
          "India",
          "Germany,",
          "United",
          "Canada,",
          "Mexico",
          "Italy",
          "Australia",
          "United",
          "United",
          "United",
          "United",
          "United",
          "United",
          "United",
          "Mexico",
          "France,",
          "France,",
          "United",
          "India",
          "India",
          "India",
          "India,",
          "India",
          "India",
          "India",
          "India",
          "United",
          "United",
          "United",
          "Canada,",
          "United",
          "United",
          "Philippines",
          "Germany",
          "South",
          "United",
          "United",
          "Czech",
          "United",
          "India",
          "United",
          "United",
          "Japan",
          "Japan",
          "United",
          "United",
          "Japan",
          "United",
          "United",
          "Lebanon",
          "United",
          "China,",
          "Japan",
          "Japan",
          "United",
          "United",
          "United",
          "United",
          "United",
          "United",
          "Italy,",
          "United",
          "United",
          "United",
          "South",
          "United",
          "South",
          "Canada",
          "China,",
          "Thailand",
          "United",
          "India",
          "United",
          "United",
          "United",
          "United",
          "United",
          "United",
          "United",
          "United",
          "United",
          "Israel,",
          "China",
          "United",
          "United",
          "United",
          "China",
          "South",
          "Nigeria",
          "India",
          "United",
          "United",
          "Indonesia",
          "Japan",
          "United",
          "India",
          "United",
          "United",
          "United",
          "United",
          "India",
          "Cameroon",
          "United",
          "United",
          "United",
          "China",
          "United",
          "United",
          "United",
          "Nigeria",
          "India",
          "Netherlands",
          "France",
          "United",
          "United",
          "United",
          "India",
          "India",
          "United",
          "Lebanon,",
          "United",
          "United",
          "Japan,",
          "United",
          "India",
          "Uruguay,",
          "United",
          "United",
          "United",
          "United",
          "United",
          "United",
          "United",
          "Japan",
          "United",
          "United",
          "United",
          "United",
          "Indonesia",
          "Egypt,",
          "United",
          "United",
          "United",
          "India",
          "United",
          "United",
          "United",
          "Ireland,",
          "United",
          "United",
          "South",
          "Japan",
          "United",
          "China,",
          "United",
          "United",
          "United",
          "Nigeria",
          "United",
          "United",
          "United",
          "United",
          "Ireland,",
          "United",
          "Turkey",
          "Spain",
          "Spain",
          "India",
          "United",
          "Italy",
          "United",
          "Japan",
          "Russia,",
          "United",
          "South",
          "South",
          "South",
          "United",
          "Japan",
          "Taiwan",
          "United",
          "United",
          "United",
          "United",
          "United",
          "United",
          "China",
          "Nigeria",
          "Japan",
          "United",
          "Brazil",
          "United",
          "United",
          "United",
          "United",
          "United",
          "Nigeria",
          "United",
          "Belgium",
          "United",
          "Germany",
          "United",
          "United",
          "Egypt",
          "India",
          "United",
          "United",
          "United",
          "United",
          "United",
          "Turkey",
          "Kenya",
          "South",
          "Turkey",
          "Turkey",
          "United",
          "United",
          "Turkey",
          "Turkey",
          "United",
          "United",
          "Turkey",
          "Spain,",
          "Indonesia",
          "United",
          "France",
          "United",
          "United",
          "Germany",
          "India",
          "India,",
          "Egypt",
          "India",
          "United",
          "Colombia",
          "Nigeria",
          "Spain",
          "United",
          "France",
          "Indonesia",
          "United",
          "United",
          "United",
          "United",
          "United",
          "United",
          "India",
          "United",
          "United",
          "United",
          "United",
          "United",
          "United",
          "United",
          "Germany",
          "United",
          "United",
          "United",
          "United",
          "Japan",
          "Belgium,",
          "United",
          "Spain",
          "Argentina,",
          "United",
          "United",
          "United",
          "India",
          "Chile,",
          "Germany",
          "United",
          "Indonesia",
          "United",
          "United",
          "United",
          "Japan",
          "United",
          "United",
          "United",
          "United",
          "United",
          "Canada",
          "United",
          "India",
          "India",
          "United",
          "Canada,",
          "South",
          "Taiwan",
          "United",
          "United",
          "United",
          "United",
          "India",
          "Uruguay",
          "India",
          "Germany",
          "India",
          "South",
          "United",
          "South",
          "United",
          "United",
          "United",
          "United",
          "United",
          "United",
          "India",
          "United",
          "United",
          "United",
          "United",
          "United",
          "Nigeria",
          "United",
          "United",
          "United",
          "Spain",
          "India",
          "United",
          "United",
          "Mexico",
          "Luxembourg",
          "Mexico",
          "Spain",
          "Indonesia",
          "United",
          "Sweden",
          "Poland",
          "United",
          "United",
          "France",
          "United",
          "United",
          "United",
          "United",
          "China",
          "United",
          "France",
          "Bangladesh",
          "Spain",
          "Brazil",
          "Taiwan",
          "United",
          "South",
          "United",
          "Italy",
          "China",
          "Poland",
          "Spain,",
          "United",
          "Colombia",
          "United",
          "Mexico",
          "United",
          "United",
          "Canada",
          "United",
          "United",
          "United",
          "United",
          "United",
          "Philippines",
          "United",
          "Canada,",
          "United",
          "United",
          "France",
          "Portugal,",
          "United",
          "Spain",
          "United",
          "United",
          "United",
          "Indonesia",
          "Turkey",
          "United",
          "United",
          "India",
          "United",
          "Australia,",
          "Nigeria",
          "United",
          "United",
          "United",
          "Canada",
          "South",
          "Japan",
          "Portugal,",
          "United",
          "India,",
          "United",
          "United",
          "United",
          "Mexico",
          "United",
          "United",
          "United",
          "United",
          "United",
          "United",
          "United",
          "United",
          "United",
          "United",
          "Brazil",
          "United",
          "Hungary,",
          "United",
          "United",
          "United",
          "United",
          "India",
          "United",
          "South",
          "Indonesia",
          "Indonesia",
          "United",
          "United",
          "Argentina",
          "United",
          "United",
          "United",
          "France",
          "India",
          "India",
          "Canada,",
          "United",
          "India",
          "United",
          "India,",
          "India",
          "United",
          "Turkey",
          "Spain",
          "Indonesia",
          "France,",
          "Canada,",
          "United",
          "United",
          "France",
          "United",
          "Mexico,",
          "India",
          "United",
          "United",
          "United",
          "Norway",
          "United",
          "United",
          "United",
          "United",
          "United",
          "United",
          "United",
          "United",
          "United",
          "United",
          "United",
          "United",
          "United",
          "United",
          "Mexico",
          "United",
          "United",
          "Canada,",
          "United",
          "United",
          "United",
          "United",
          "South",
          "United",
          "United",
          "United",
          "India",
          "United",
          "Indonesia",
          "Indonesia",
          "United",
          "United",
          "Denmark,",
          "Italy",
          "United",
          "Taiwan",
          "United",
          "South",
          "United",
          "United",
          "United",
          "Senegal",
          "France,",
          "India",
          "Canada",
          "India",
          "United",
          "Philippines",
          "United",
          "Indonesia",
          "Indonesia",
          "Philippines",
          "United",
          "United",
          "Taiwan",
          "United",
          "United",
          "South",
          "Netherlands",
          "United",
          "United",
          "United",
          "United",
          "United",
          "United",
          "Egypt",
          "United",
          "United",
          "South",
          "United",
          "Norway",
          "United",
          "United",
          "Malaysia",
          "India",
          "Malaysia",
          "Malaysia",
          "Colombia",
          "Canada",
          "Indonesia",
          "Philippines",
          "Netherlands",
          "South",
          "Philippines",
          "United",
          "United",
          "Brazil",
          "United",
          "Philippines,",
          "South",
          "United",
          "United",
          "United",
          "Japan",
          "United",
          "United",
          "India",
          "United",
          "Canada",
          "United",
          "United",
          "United",
          "United",
          "Ireland,",
          "United",
          "United",
          "United",
          "United",
          "Lebanon",
          "France",
          "United",
          "United",
          "United",
          "Spain",
          "United",
          "India",
          "Japan",
          "Canada,",
          "United",
          "Philippines",
          "Philippines",
          "Philippines",
          "Philippines",
          "Saudi",
          "Egypt",
          "Italy",
          "United",
          "United",
          "United",
          "Singapore",
          "United",
          "Brazil",
          "Kuwait",
          "United",
          "United",
          "United",
          "United",
          "South",
          "United",
          "United",
          "France",
          "Taiwan",
          "Canada",
          "India",
          "United",
          "United",
          "Germany",
          "South",
          "Turkey",
          "United",
          "United",
          "United",
          "Philippines",
          "France,",
          "United",
          "Brazil",
          "Philippines",
          "United",
          "Iceland",
          "Indonesia",
          "Poland",
          "Germany",
          "United",
          "United",
          "United",
          "United",
          "United",
          "United",
          "Spain,",
          "United",
          "United",
          "United",
          "United",
          "United",
          "Hong",
          "Australia,",
          "United",
          "United",
          "United",
          "South",
          "United",
          "United",
          "United",
          "Philippines",
          "Philippines",
          "United",
          "United",
          "United",
          "South",
          "United",
          "United",
          "Spain",
          "India",
          "Australia",
          "Germany",
          "United",
          "Italy",
          "South",
          "Philippines",
          "United",
          "United",
          "Philippines",
          "United",
          "Japan",
          "United",
          "Canada",
          "United",
          "India",
          "Nigeria",
          "United",
          "United",
          "Argentina",
          "Egypt",
          "United",
          "United",
          "South",
          "Egypt",
          "United",
          "United",
          "Kenya",
          "United",
          "China",
          "United",
          "United",
          "India",
          "United",
          "United",
          "India",
          "India",
          "India",
          "India",
          "Philippines",
          "India",
          "India",
          "India",
          "United",
          "Philippines",
          "India",
          "United",
          "United",
          "United",
          "United",
          "United",
          "United",
          "United",
          "United",
          "United",
          "Japan",
          "United",
          "Canada",
          "Canada,",
          "United",
          "United",
          "United",
          "United",
          "United",
          "India",
          "United",
          "Brazil",
          "Italy",
          "Spain",
          "Philippines",
          "Turkey",
          "Philippines",
          "United",
          "South",
          "India",
          "Argentina",
          "United",
          "Brazil",
          "Australia",
          "United",
          "United",
          "Lebanon,",
          "Austria",
          "United",
          "United",
          "United",
          "Japan,",
          "Nigeria",
          "United",
          "Taiwan",
          "Spain,",
          "United",
          "Australia",
          "United",
          "Philippines",
          "Argentina",
          "Canada",
          "Philippines",
          "United",
          "Egypt",
          "Canada",
          "Canada",
          "Sweden",
          "India",
          "Germany",
          "Japan",
          "United",
          "United",
          "Canada",
          "Canada,",
          "United",
          "United",
          "United",
          "United",
          "United",
          "Canada",
          "United",
          "United",
          "United",
          "United",
          "Canada",
          "Denmark,",
          "United",
          "United",
          "United",
          "United",
          "United",
          "France,",
          "South",
          "Spain,",
          "United",
          "South",
          "United",
          "Brazil",
          "Norway",
          "Australia",
          "United",
          "United",
          "Nigeria",
          "India",
          "United",
          "United",
          "France",
          "United",
          "Italy",
          "Mexico,",
          "Philippines",
          "United",
          "United",
          "United",
          "Poland",
          "United",
          "United",
          "United",
          "Argentina",
          "United",
          "Taiwan",
          "India",
          "Ireland,",
          "Australia",
          "Brazil",
          "Germany",
          "United",
          "China,",
          "United",
          "Spain",
          "United",
          "United",
          "Norway",
          "Philippines",
          "United",
          "Philippines",
          "Canada,",
          "United",
          "Canada,",
          "United",
          "United",
          "Canada",
          "United",
          "Lebanon",
          "Lebanon",
          "Lebanon",
          "Lebanon,",
          "Lebanon",
          "France,",
          "Lebanon",
          "Lebanon,",
          "Lebanon,",
          "France,",
          "France,",
          "United",
          "France,",
          "Lebanon",
          "Lebanon,",
          "Sweden,",
          "United",
          "South",
          "United",
          "Kenya",
          "United",
          "United",
          "France",
          "Mexico,",
          "United",
          "United",
          "United",
          "United",
          "United",
          "Egypt",
          "United",
          "United",
          "Indonesia,",
          "Indonesia",
          "United",
          "United",
          "India",
          "United",
          "Taiwan",
          "United",
          "Mexico",
          "India",
          "United",
          "United",
          "India",
          "India",
          "India",
          "United",
          "India",
          "India",
          "United",
          "United",
          "India",
          "Turkey,",
          "Canada",
          "United",
          "United",
          "France",
          "South",
          "Argentina",
          "South",
          "United",
          "United",
          "Russia",
          "United",
          "United",
          "Canada",
          "United",
          "India",
          "United",
          "Canada",
          "Turkey",
          "United",
          "United",
          "Turkey",
          "United",
          "United",
          "United",
          "Australia",
          "Nigeria",
          "India",
          "Italy",
          "Turkey",
          "United",
          "Mexico",
          "Malaysia",
          "Serbia,",
          "United",
          "South",
          "United",
          "South",
          "Japan",
          "United",
          "Brazil",
          "United",
          "New",
          "United",
          "United",
          "Germany,",
          "United",
          "Argentina",
          "Japan",
          "United",
          "Saudi",
          "United",
          "United",
          "United",
          "United",
          "Mexico",
          "United",
          "Namibia",
          "Japan",
          "United",
          "United",
          "United",
          "United",
          "Australia",
          "United",
          "United",
          "United",
          "South",
          "India",
          "India",
          "India",
          "India",
          "India",
          "India",
          "India",
          "India",
          "India",
          "United",
          "United",
          "United",
          "India",
          "Germany",
          "United",
          "United",
          "United",
          "South",
          "United",
          "United",
          "United",
          "United",
          "United",
          "United",
          "United",
          "Japan",
          "Japan",
          "Japan",
          "Japan",
          "Japan",
          "United",
          "Japan",
          "Egypt",
          "India",
          "India",
          "United",
          "India",
          "India",
          "India",
          "India",
          "United",
          "United",
          "United",
          "Indonesia",
          "India",
          "United",
          "France",
          "United",
          "United",
          "United",
          "Germany",
          "Italy",
          "United",
          "United",
          "United",
          "Poland",
          "United",
          "United",
          "Spain",
          "United",
          "United",
          "Thailand,",
          "United",
          "France,",
          "United",
          "United",
          "United",
          "Nigeria",
          "United",
          "Mexico",
          "France",
          "United",
          "United",
          "Germany,",
          "Spain",
          "United",
          "United",
          "India",
          "India",
          "India",
          "India",
          "India",
          "India",
          "United",
          "United",
          "India",
          "Turkey",
          "India",
          "India",
          "Indonesia",
          "Egypt",
          "United",
          "India",
          "France",
          "United",
          "Spain",
          "Argentina",
          "United",
          "South",
          "South",
          "South",
          "Turkey",
          "United",
          "United",
          "Australia,",
          "United",
          "United",
          "United",
          "South",
          "United",
          "Nigeria",
          "Philippines",
          "Brazil",
          "Indonesia",
          "United",
          "United",
          "United",
          "Germany",
          "Germany,",
          "Vietnam",
          "United",
          "Hong",
          "Philippines",
          "Netherlands",
          "Japan",
          "United",
          "Denmark",
          "Japan,",
          "Japan",
          "Japan",
          "United",
          "France",
          "France,",
          "United",
          "United",
          "United",
          "India",
          "Spain",
          "United",
          "Italy",
          "Japan",
          "United",
          "United",
          "Canada",
          "India",
          "United",
          "United",
          "United",
          "India",
          "South",
          "Spain",
          "Japan",
          "United",
          "Taiwan",
          "United",
          "Colombia",
          "United",
          "United",
          "United",
          "United",
          "United",
          "United",
          "United",
          "United",
          "Nigeria",
          "India",
          "Mexico",
          "United",
          "Canada",
          "United",
          "South",
          "United",
          "Egypt",
          "Argentina",
          "United",
          "United",
          "United",
          "United",
          "Nigeria",
          "Indonesia",
          "United",
          "Indonesia",
          "United",
          "United",
          "South",
          "United",
          "Denmark",
          "Saudi",
          "India",
          "Brazil",
          "United",
          "Canada",
          "United",
          "United",
          "United",
          "United",
          "Colombia",
          "United",
          "Japan",
          "France",
          "United",
          "United",
          "United",
          "India",
          "United",
          "United",
          "United",
          "Japan",
          "United",
          "United",
          "Nigeria",
          "United",
          "Germany",
          "Spain",
          "United",
          "Germany",
          "United",
          "United",
          "United",
          "United",
          "United",
          "United",
          "Canada",
          "Uruguay",
          "Denmark,",
          "France",
          "United",
          "United",
          "United",
          "United",
          "Brazil",
          "United",
          "United",
          "United",
          "United",
          "United",
          "Canada",
          "Japan",
          "United",
          "Canada",
          "Canada",
          "Turkey,",
          "Japan",
          "United",
          "United",
          "Canada",
          "United",
          "Germany",
          "India",
          "South",
          "United",
          "United",
          "United",
          "Peru,",
          "United",
          "India",
          "United",
          "Nigeria",
          "Mozambique",
          "Brazil,",
          "Poland",
          "United",
          "United",
          "United",
          "United",
          "United",
          "India",
          "China",
          "India",
          "China,",
          "United",
          "Nigeria",
          "Spain,",
          "Japan",
          "Spain",
          "United",
          "United",
          "South",
          "South",
          "United",
          "Norway",
          "United",
          "Hong",
          "United",
          "United",
          "United",
          "France,",
          "France",
          "Australia",
          "United",
          "United",
          "United",
          "Brazil",
          "Nigeria",
          "United",
          "France,",
          "Nigeria",
          "Mexico",
          "United",
          "United",
          "Belarus",
          "Nigeria",
          "Italy",
          "United",
          "Australia",
          "France",
          "South",
          "Brazil",
          "United",
          "Egypt",
          "United",
          "United",
          "United",
          "Belgium",
          "United",
          "Japan",
          "Turkey",
          "South",
          "New",
          "United",
          "Australia",
          "United",
          "United",
          "United",
          "United",
          "United",
          "India",
          "India",
          "India",
          "India",
          "India",
          "India",
          "India",
          "India",
          "India",
          "India",
          "India",
          "Thailand",
          "India",
          "India",
          "India",
          "India",
          "India",
          "India",
          "India",
          "United",
          "India",
          "India",
          "India",
          "India",
          "India",
          "India",
          "India",
          "India",
          "India",
          "Spain",
          "United",
          "Indonesia,",
          "Switzerland,",
          "Japan",
          "United",
          "United",
          "Ghana",
          "United",
          "Brazil",
          "United",
          "Italy",
          "United",
          "Taiwan",
          "United",
          "Spain",
          "Turkey",
          "Canada",
          "United",
          "Turkey",
          "United",
          "United",
          "United",
          "Spain,",
          "United",
          "France",
          "Italy",
          "Japan",
          "United",
          "Chile,",
          "United",
          "Indonesia",
          "Nigeria",
          "United",
          "Germany,",
          "Australia",
          "Colombia",
          "United",
          "United",
          "Nigeria",
          "Philippines",
          "India",
          "United",
          "India",
          "South",
          "India",
          "India",
          "India",
          "United",
          "India",
          "United",
          "Chile",
          "United",
          "United",
          "India",
          "Nigeria",
          "South",
          "United",
          "Nigeria",
          "United",
          "India",
          "France,",
          "United",
          "United",
          "United",
          "France",
          "Brazil",
          "Turkey",
          "Egypt,",
          "United",
          "France,",
          "Japan",
          "Egypt,",
          "France,",
          "Egypt",
          "Egypt",
          "Egypt",
          "United",
          "Philippines",
          "Thailand",
          "Egypt",
          "Lebanon",
          "Egypt",
          "Egypt",
          "Canada,",
          "United",
          "United",
          "United",
          "Nigeria,",
          "United",
          "United",
          "United",
          "Argentina,",
          "Malaysia",
          "Nigeria",
          "United",
          "India",
          "United",
          "Indonesia",
          "India",
          "United",
          "United",
          "United",
          "Germany",
          "United",
          "Japan",
          "Japan",
          "Mexico",
          "Poland,",
          "United",
          "Saudi",
          "Italy",
          "United",
          "United",
          "United",
          "South",
          "Brazil",
          "South",
          "United",
          "Poland",
          "India",
          "India",
          "United",
          "United",
          "United",
          "Egypt",
          "United",
          "India",
          "Nigeria",
          "United",
          "United",
          "United",
          "United",
          "Japan",
          "Turkey",
          "Turkey",
          "Egypt",
          "United",
          "United",
          "United",
          "Egypt",
          "Egypt",
          "Egypt",
          "United",
          "Egypt",
          "Egypt",
          "Egypt",
          "Canada",
          "Saudi",
          "Egypt",
          "Egypt",
          "Japan",
          "India",
          "Zimbabwe",
          "South",
          "United",
          "Japan",
          "Japan",
          "Japan,",
          "South",
          "South",
          "United",
          "United",
          "Romania,",
          "United",
          "India",
          "United",
          "France,",
          "Ireland",
          "Japan",
          "United",
          "United",
          "Argentina",
          "Australia",
          "Mexico,",
          "Australia",
          "China",
          "United",
          "United",
          "India",
          "United",
          "Indonesia",
          "Indonesia",
          "United",
          "Nigeria",
          "Japan",
          "United",
          "Canada",
          "Indonesia",
          "Kuwait",
          "United",
          "United",
          "Chile",
          "South",
          "Egypt",
          "United",
          "United",
          "Egypt",
          "Egypt",
          "Egypt",
          "Canada,",
          "United",
          "United",
          "United",
          "United",
          "Mexico",
          "Colombia",
          "India",
          "Egypt",
          "Egypt",
          "Egypt",
          "Egypt",
          "Egypt",
          "Egypt",
          "United",
          "United",
          "Egypt",
          "Egypt",
          "Saudi",
          "Egypt",
          "Nigeria",
          "United",
          "United",
          "Kuwait",
          "South",
          "South",
          "United",
          "Lebanon",
          "Spain",
          "France",
          "United",
          "United",
          "Japan",
          "United",
          "Thailand",
          "South",
          "Australia",
          "United",
          "Indonesia",
          "Indonesia",
          "United",
          "India",
          "United",
          "Mexico",
          "Nigeria",
          "Kuwait",
          "India",
          "United",
          "United",
          "Canada",
          "United",
          "India",
          "India",
          "Finland,",
          "United",
          "United",
          "United",
          "Italy",
          "United",
          "Canada",
          "United",
          "Canada",
          "United",
          "Kuwait",
          "China",
          "Indonesia",
          "United",
          "United",
          "United",
          "India,",
          "Brazil",
          "India",
          "Argentina",
          "United",
          "Colombia",
          "United",
          "United",
          "United",
          "United",
          "United",
          "United",
          "United",
          "United",
          "United",
          "United",
          "France,",
          "United",
          "United",
          "United",
          "United",
          "Russia",
          "South",
          "Italy,",
          "Japan",
          "India",
          "Canada",
          "India",
          "Australia,",
          "United",
          "United",
          "United",
          "United",
          "United",
          "United",
          "United",
          "Japan",
          "United",
          "United",
          "Brazil",
          "Japan",
          "Taiwan",
          "United",
          "Turkey",
          "South",
          "Nigeria",
          "United",
          "United",
          "India",
          "South",
          "Turkey",
          "Turkey,",
          "Egypt",
          "Turkey",
          "Turkey",
          "Italy,",
          "Turkey",
          "United",
          "Turkey",
          "Turkey",
          "United",
          "Egypt",
          "Romania",
          "India",
          "India",
          "United",
          "United",
          "India",
          "Egypt",
          "South",
          "United",
          "Egypt",
          "France,",
          "Egypt",
          "Egypt",
          "Egypt",
          "Egypt",
          "United",
          "United",
          "United",
          "India",
          "Turkey",
          "India",
          "Japan,",
          "Indonesia",
          "Indonesia",
          "Mexico",
          "Indonesia",
          "South",
          "United",
          "United",
          "Poland",
          "Nigeria",
          "Spain",
          "Canada,",
          "United",
          "Japan",
          "United",
          "Puerto",
          "United",
          "United",
          "India",
          "India",
          "South",
          "United",
          "Turkey",
          "France,",
          "Mexico",
          "India",
          "Germany",
          "United",
          "Spain,",
          "Uruguay,",
          "France",
          "Israel",
          "United",
          "United",
          "Brazil",
          "United",
          "Turkey",
          "Philippines",
          "India",
          "United",
          "India",
          "United",
          "Nigeria",
          "Nigeria",
          "United",
          "Canada",
          "United",
          "United",
          "United",
          "France",
          "United",
          "Italy",
          "United",
          "Japan",
          "United",
          "Philippines",
          "United",
          "United",
          "United",
          "United",
          "United",
          "Ireland,",
          "United",
          "Chile",
          "United",
          "United",
          "Spain",
          "United",
          "Japan",
          "Japan",
          "India",
          "India,",
          "India",
          "United",
          "Sweden",
          "India,",
          "India",
          "India",
          "India",
          "India",
          "India",
          "India",
          "United",
          "India",
          "India",
          "India",
          "India",
          "India",
          "India",
          "India",
          "India",
          "United",
          "India",
          "India",
          "United",
          "Japan",
          "India",
          "United",
          "United",
          "Netherlands,",
          "United",
          "United",
          "India",
          "China",
          "United",
          "India",
          "India",
          "United",
          "United",
          "United",
          "Canada",
          "India",
          "United",
          "Canada,",
          "United",
          "India",
          "South",
          "United",
          "United",
          "United",
          "India",
          "India",
          "United",
          "Canada",
          "Canada",
          "Canada",
          "United",
          "United",
          "Hungary",
          "United",
          "Thailand",
          "Germany",
          "Germany",
          "United",
          "United",
          "Hungary",
          "Spain",
          "United",
          "Austria,",
          "Taiwan,",
          "United",
          "Argentina",
          "United",
          "United",
          "Mexico",
          "United",
          "United",
          "India",
          "United",
          "United",
          "United",
          "Italy",
          "France",
          "United",
          "Japan,",
          "Saudi",
          "United",
          "Sweden",
          "Japan",
          "Netherlands",
          "United",
          "United",
          "United",
          "United",
          "United",
          "India",
          "United",
          "United",
          "United",
          "United",
          "India",
          "United",
          "South",
          "Norway",
          "Australia",
          "United",
          "South",
          "United",
          "Turkey",
          "Iceland",
          "United",
          "United",
          "Brazil,",
          "Canada,",
          "United",
          "Pakistan,",
          "United",
          "South",
          "India",
          "France",
          "United",
          "United",
          "Spain",
          "United",
          "Nigeria",
          "United",
          "India",
          "Thailand",
          "Romania,",
          "United",
          "Romania",
          "Spain",
          "United",
          "Brazil",
          "United",
          "India",
          "South",
          "United",
          "United",
          "Japan",
          "Germany",
          "India",
          "United",
          "United",
          "United",
          "United",
          "United",
          "South",
          "United",
          "United",
          "France",
          "United",
          "United",
          "Colombia",
          "India",
          "South",
          "Spain",
          "Mexico",
          "India",
          "United",
          "Japan",
          "Japan",
          "Saudi",
          "Nigeria",
          "Nigeria",
          "United",
          "Nigeria",
          "Nigeria",
          "United",
          "United",
          "Nigeria",
          "United",
          "United",
          "South",
          "United",
          "Canada",
          "United",
          "South",
          "United",
          "Argentina",
          "Germany",
          "India",
          "United",
          "India",
          "South",
          "Brazil",
          "Romania,",
          "United",
          "France,",
          "United",
          "United",
          "Nigeria",
          "United",
          "United",
          "United",
          "Cyprus",
          "United",
          "Philippines",
          "Poland",
          "Germany",
          "South",
          "India",
          "India",
          "Nigeria",
          "Japan",
          "United",
          "Mexico,",
          "United",
          "Thailand",
          "South",
          "United",
          "United",
          "United",
          "United",
          "Mexico",
          "Indonesia",
          "United",
          "United",
          "United",
          "Poland,",
          "India",
          "Ghana",
          "United",
          "Nigeria",
          "United",
          "India",
          "Canada,",
          "United",
          "United",
          "United",
          "Japan",
          "Kenya,",
          "United",
          "United",
          "United",
          "United",
          "United",
          "United",
          "United",
          "India",
          "Spain",
          "United",
          "India",
          "Japan",
          "South",
          "United",
          "Canada,",
          "France,",
          "Netherlands",
          "United",
          "Japan",
          "Japan",
          "United",
          "United",
          "India",
          "Japan",
          "Mexico",
          "France",
          "Nigeria",
          "Italy",
          "United",
          "Spain",
          "Japan",
          "United",
          "United",
          "United",
          "France,",
          "United",
          "United",
          "Brazil",
          "India",
          "India",
          "India",
          "United",
          "Taiwan",
          "South",
          "United",
          "Nigeria",
          "United",
          "United",
          "United",
          "Mexico",
          "United",
          "Japan",
          "Taiwan,",
          "United",
          "United",
          "Uruguay,",
          "United",
          "India",
          "United",
          "India",
          "United",
          "United",
          "United",
          "Netherlands",
          "Canada",
          "Germany",
          "United",
          "United",
          "China",
          "United",
          "United",
          "United",
          "Japan",
          "Japan",
          "United",
          "India",
          "Spain,",
          "United",
          "Austria",
          "United",
          "United",
          "France",
          "Poland",
          "United",
          "United",
          "India",
          "United",
          "United",
          "United",
          "India",
          "United",
          "United",
          "Australia",
          "France",
          "United",
          "United",
          "United",
          "Spain",
          "United",
          "Mexico",
          "Canada",
          "India",
          "United",
          "Belgium",
          "Indonesia,",
          "South",
          "Canada",
          "United",
          "Japan",
          "United",
          "United",
          "United",
          "South",
          "India",
          "United",
          "United",
          "South",
          "United",
          "United",
          "Netherlands,",
          "Spain,",
          "Mexico,",
          "Japan",
          "Indonesia",
          "South",
          "United",
          "United",
          "South",
          "United",
          "South",
          "India",
          "India",
          "Japan",
          "United",
          "United",
          "Norway,",
          "United",
          "South",
          "South",
          "United",
          "China",
          "Japan",
          "Japan",
          "South",
          "Argentina,",
          "United",
          "United",
          "Italy",
          "France",
          "United",
          "United",
          "Japan",
          "United",
          "Israel,",
          "France,",
          "United",
          "Japan",
          "Mexico",
          "United",
          "United",
          "United",
          "United",
          "Australia",
          "Nigeria",
          "Mauritius,",
          "Nigeria",
          "United",
          "Nigeria",
          "United",
          "United",
          "United",
          "United",
          "France",
          "Poland",
          "United",
          "United",
          "United",
          "Bangladesh",
          "United",
          "India",
          "South",
          "United",
          "South",
          "Nigeria",
          "India",
          "India",
          "India",
          "India,",
          "India",
          "India",
          "Japan",
          "United",
          "India",
          "Nigeria",
          "India",
          "India",
          "India",
          "Ghana",
          "India",
          "United",
          "India",
          "United",
          "India",
          "United",
          "Nigeria",
          "South",
          "Nigeria",
          "United",
          "Taiwan",
          "United",
          "United",
          "India,",
          "Egypt",
          "United",
          "United",
          "United",
          "India",
          "Brazil",
          "United",
          "Nigeria",
          "United",
          "United",
          "United",
          "Japan",
          "Nigeria",
          "United",
          "Japan",
          "Brazil",
          "United",
          "Spain",
          "United",
          "Nigeria",
          "United",
          "United",
          "United",
          "United",
          "United",
          "China",
          "Colombia",
          "United",
          "United",
          "United",
          "India",
          "United",
          "Philippines,",
          "United",
          "India",
          "Australia",
          "India",
          "India",
          "United",
          "India",
          "United",
          "Thailand",
          "India",
          "France",
          "Romania,",
          "South",
          "Uruguay,",
          "India",
          "France,",
          "United",
          "Nigeria",
          "France",
          "South",
          "Mexico,",
          "United",
          "Nigeria",
          "Nigeria",
          "United",
          "Nigeria",
          "United",
          "Japan",
          "Brazil",
          "United",
          "France",
          "United",
          "India",
          "United",
          "Canada,",
          "United",
          "United",
          "United",
          "Poland",
          "United",
          "Mexico",
          "India",
          "Spain",
          "United",
          "China",
          "France",
          "United",
          "Japan",
          "United",
          "United",
          "United",
          "Brazil",
          "United",
          "Singapore,",
          "United",
          "United",
          "United",
          "Thailand",
          "United",
          "India",
          "Germany",
          "Mexico",
          "India",
          "France",
          "United",
          "United",
          "Taiwan",
          "Finland,",
          "United",
          "United",
          "United",
          "Taiwan",
          "United",
          "Colombia",
          "Argentina",
          "India",
          "India",
          "United",
          "South",
          "Japan",
          "Japan",
          "Spain,",
          "Taiwan",
          "United",
          "Taiwan",
          "South",
          "India,",
          "Mexico",
          "Japan",
          "Thailand",
          "United",
          "Turkey",
          "United",
          "France",
          "Thailand",
          "Argentina,",
          "South",
          "United",
          "United",
          "China",
          "United",
          "India",
          "United",
          "United",
          "United",
          "France",
          "Colombia",
          "India",
          "United",
          "Japan",
          "China,",
          "Brazil",
          "United",
          "United",
          "United",
          "United",
          "South",
          "United",
          "United",
          "United",
          "India",
          "United",
          "United",
          "United",
          "United",
          "United",
          "United",
          "United",
          "United",
          "United",
          "United",
          "United",
          "United",
          "United",
          "Spain",
          "United",
          "France",
          "United",
          "United",
          "United",
          "United",
          "Japan",
          "India",
          "United",
          "Japan",
          "United",
          "United",
          "Japan",
          "Japan",
          "Japan",
          "United",
          "United",
          "United",
          "Canada,",
          "United",
          "United",
          "Italy,",
          "Mexico",
          "Canada",
          "Argentina,",
          "Germany",
          "Mexico",
          "Argentina",
          "United",
          "Taiwan",
          "United",
          "South",
          "India",
          "South",
          "United",
          "United",
          "United",
          "United",
          "Mexico,",
          "United",
          "China",
          "China",
          "United",
          "Brazil",
          "Turkey",
          "United",
          "Spain",
          "United",
          "Argentina",
          "United",
          "France",
          "Spain",
          "United",
          "Switzerland",
          "China",
          "United",
          "United",
          "Singapore,",
          "United",
          "United",
          "Hong",
          "United",
          "United",
          "United",
          "France,",
          "South",
          "United",
          "United",
          "United",
          "United",
          "United",
          "United",
          "United",
          "United",
          "United",
          "Turkey",
          "India",
          "United",
          "Spain",
          "United",
          "Nigeria",
          "United",
          "United",
          "Netherlands",
          "Nigeria",
          "India",
          "Indonesia",
          "China",
          "Australia",
          "South",
          "United",
          "United",
          "South",
          "South",
          "United",
          "United",
          "Turkey",
          "Canada",
          "France",
          "South",
          "Turkey",
          "United",
          "United",
          "United",
          "Nigeria",
          "Japan",
          "France",
          "Spain,",
          "United",
          "United",
          "Japan",
          "United",
          "United",
          "United",
          "United",
          "United",
          "Indonesia",
          "Mexico",
          "South",
          "India",
          "United",
          "Turkey",
          "United",
          "Canada,",
          "Turkey",
          "United",
          "United",
          "United",
          "United",
          "United",
          "United",
          "United",
          "Mexico",
          "United",
          "South",
          "South",
          "India",
          "India",
          "Netherlands",
          "India",
          "India",
          "India",
          "United",
          "South",
          "United",
          "Germany,",
          "South",
          "South",
          "United",
          "United",
          "United",
          "United",
          "United",
          "Japan",
          "India",
          "Turkey",
          "Argentina",
          "United",
          "United",
          "India",
          "Hong",
          "Mexico",
          "United",
          "United",
          "Australia",
          "United",
          "United",
          "United",
          "United",
          "India",
          "United",
          "India",
          "South",
          "United",
          "United",
          "Germany",
          "Spain",
          "United",
          "United",
          "Spain",
          "Turkey",
          "Canada",
          "India",
          "South",
          "United",
          "United",
          "United",
          "United",
          "United",
          "India",
          "United",
          "United",
          "Japan",
          "Turkey",
          "France",
          "China",
          "United",
          "United",
          "United",
          "United",
          "United",
          "United",
          "United",
          "India",
          "India",
          "India",
          "Turkey",
          "France",
          "United",
          "Pakistan",
          "India",
          "Brazil,",
          "United",
          "United",
          "Japan",
          "Denmark,",
          "United",
          "United",
          "United",
          "China,",
          "United",
          "Colombia",
          "Chile",
          "United",
          "United",
          "Colombia",
          "United",
          "Spain",
          "United",
          "Brazil",
          "United",
          "United",
          "United",
          "Hong",
          "United",
          "United",
          "India",
          "India",
          "China,",
          "India",
          "United",
          "United",
          "India,",
          "United",
          "United",
          "Philippines",
          "United",
          "United",
          "Spain",
          "Argentina",
          "Russia",
          "United",
          "Colombia",
          "South",
          "United",
          "United",
          "United",
          "Canada",
          "China",
          "Spain",
          "Spain",
          "United",
          "India,",
          "Taiwan",
          "Brazil",
          "United",
          "India",
          "India",
          "United",
          "Mexico",
          "United",
          "United",
          "United",
          "United",
          "United",
          "India",
          "United",
          "Brazil",
          "United",
          "South",
          "Lebanon",
          "United",
          "Malaysia,",
          "South",
          "South",
          "South",
          "South",
          "South",
          "United",
          "India",
          "United",
          "Philippines",
          "United",
          "United",
          "United",
          "United",
          "United",
          "United",
          "Mexico",
          "Netherlands",
          "United",
          "United",
          "United",
          "India",
          "India",
          "Thailand",
          "Australia",
          "Canada",
          "United",
          "United",
          "Spain",
          "Philippines,",
          "France,",
          "South",
          "Argentina",
          "United",
          "United",
          "Australia,",
          "United",
          "United",
          "Hong",
          "Hong",
          "Hong",
          "Hong",
          "Hong",
          "Spain",
          "United",
          "United",
          "India",
          "South",
          "United",
          "India",
          "United",
          "China",
          "India",
          "United",
          "Japan",
          "Japan",
          "Japan",
          "Japan",
          "United",
          "Spain",
          "Sweden",
          "Taiwan,",
          "United",
          "Germany",
          "South",
          "United",
          "France,",
          "Germany,",
          "United",
          "Spain",
          "United",
          "United",
          "Argentina",
          "China",
          "United",
          "United",
          "United",
          "United",
          "Australia",
          "Thailand",
          "Thailand",
          "South",
          "United",
          "United",
          "United",
          "France",
          "France",
          "Japan",
          "United",
          "Thailand",
          "India",
          "United",
          "India",
          "United",
          "Colombia,",
          "United",
          "Australia",
          "Mexico",
          "Australia,",
          "Spain",
          "United",
          "United",
          "Mexico",
          "Japan",
          "India",
          "India",
          "United",
          "Japan",
          "Thailand,",
          "Argentina,",
          "Colombia",
          "Japan",
          "United",
          "Argentina",
          "Japan",
          "Japan",
          "United",
          "New",
          "United",
          "Japan",
          "India",
          "France",
          "United",
          "Brazil",
          "United",
          "United",
          "Germany",
          "Japan",
          "Japan",
          "Sweden,",
          "India",
          "India",
          "Japan",
          "China",
          "Spain",
          "Belgium",
          "United",
          "France,",
          "Brazil",
          "United",
          "United",
          "India",
          "United",
          "United",
          "United",
          "Mexico",
          "Jordan",
          "United",
          "Indonesia",
          "United",
          "United",
          "Malaysia",
          "Uruguay,",
          "United",
          "Spain",
          "Australia",
          "India",
          "France,",
          "Germany",
          "India",
          "United",
          "United",
          "United",
          "Germany",
          "Japan",
          "United",
          "Netherlands",
          "United",
          "United",
          "United",
          "United",
          "South",
          "India",
          "Taiwan",
          "India",
          "Japan",
          "Romania",
          "Hong",
          "Canada",
          "India",
          "United",
          "India",
          "China",
          "United",
          "South",
          "United",
          "United",
          "United",
          "Austria",
          "United",
          "United",
          "United",
          "United",
          "United",
          "United",
          "India",
          "United",
          "United",
          "Mexico",
          "Mexico",
          "Spain",
          "Denmark,",
          "Spain",
          "United",
          "Philippines",
          "United",
          "Italy",
          "United",
          "United",
          "United",
          "India",
          "United",
          "United",
          "India",
          "Argentina",
          "United",
          "United",
          "Japan",
          "United",
          "United",
          "United",
          "New",
          "China,",
          "Chile,",
          "France",
          "Hong",
          "United",
          "Spain",
          "United",
          "Brazil",
          "China",
          "United",
          "United",
          "Taiwan",
          "United",
          "United",
          "United",
          "United",
          "United",
          "United",
          "United",
          "United",
          "United",
          "South",
          "United",
          "Kuwait",
          "Lebanon",
          "United",
          "United",
          "China",
          "United",
          "Mexico",
          "Canada,",
          "Spain",
          "United",
          "United",
          "South",
          "United",
          "United",
          "India",
          "United",
          "Japan",
          "United",
          "United",
          "Malaysia",
          "India",
          "Hong",
          "Taiwan",
          "United",
          "Hong",
          "Japan",
          "United",
          "Taiwan",
          "United",
          "Taiwan",
          "United",
          "India",
          "Mexico,",
          "United",
          "Colombia",
          "Turkey",
          "India",
          "United",
          "United",
          "United",
          "Denmark",
          "United",
          "United",
          "Taiwan",
          "Australia",
          "India",
          "Taiwan",
          "Japan,",
          "Brazil",
          "United",
          "Italy,",
          "United",
          "Mexico",
          "United",
          "United",
          "United",
          "India",
          "India",
          "United",
          "India,",
          "India",
          "India",
          "India",
          "India",
          "India",
          "United",
          "United",
          "Spain",
          "Turkey",
          "Turkey",
          "Italy",
          "United",
          "United",
          "United",
          "South",
          "Brazil",
          "Canada,",
          "United",
          "India",
          "United",
          "United",
          "United",
          "United",
          "United",
          "United",
          "India",
          "Sweden",
          "Malaysia",
          "Canada,",
          "United",
          "Mexico",
          "United",
          "South",
          "United",
          "Indonesia",
          "Lebanon",
          "India",
          "Malaysia",
          "United",
          "United",
          "China",
          "Pakistan,",
          "South",
          "United",
          "United",
          "United",
          "Ghana,",
          "United",
          "India",
          "Mexico,",
          "France",
          "United",
          "United",
          "United",
          "United",
          "United",
          "France,",
          "Japan",
          "Indonesia",
          "Indonesia",
          "United",
          "India",
          "United",
          "Spain",
          "Thailand",
          "United",
          "Mexico",
          "India",
          "Spain",
          "United",
          "United",
          "United",
          "United",
          "United",
          "Canada",
          "Japan",
          "Philippines",
          "Philippines",
          "Philippines",
          "Philippines",
          "Philippines",
          "Uruguay",
          "United",
          "India",
          "Japan",
          "United",
          "United",
          "Taiwan",
          "United",
          "France,",
          "Italy",
          "Netherlands,",
          "Spain",
          "United",
          "United",
          "United",
          "United",
          "United",
          "United",
          "Malaysia",
          "United",
          "United",
          "United",
          "Philippines",
          "Philippines",
          "Philippines",
          "Philippines",
          "Philippines",
          "Egypt",
          "Egypt",
          "United",
          "United",
          "Egypt",
          "Egypt",
          "United",
          "United",
          "Egypt",
          "United",
          "Turkey",
          "United",
          "France",
          "United",
          "United",
          "United",
          "Philippines",
          "Philippines",
          "Philippines",
          "Philippines",
          "United",
          "Australia",
          "South",
          "United",
          "Philippines",
          "Philippines",
          "Japan",
          "United",
          "Austria,",
          "Thailand",
          "Thailand",
          "France,",
          "India",
          "United",
          "United",
          "Canada",
          "Canada",
          "United",
          "United",
          "United",
          "United",
          "Japan",
          "Paraguay,",
          "United",
          "Spain,",
          "Spain,",
          "Philippines",
          "Philippines",
          "Philippines",
          "Philippines",
          "India",
          "Philippines",
          "Philippines",
          "Philippines",
          "Philippines",
          "Philippines",
          "Philippines",
          "United",
          "United",
          "India",
          "Spain",
          "United",
          "United",
          "India",
          "United",
          "France",
          "India",
          "United",
          "Brazil",
          "South",
          "United",
          "Canada",
          "India",
          "United",
          "United",
          "India",
          "India",
          "United",
          "Brazil",
          "India",
          "India",
          "India",
          "Denmark",
          "United",
          "India",
          "India",
          "India",
          "United",
          "New",
          "Argentina",
          "India",
          "Spain",
          "United",
          "United",
          "Spain",
          "United",
          "Taiwan",
          "Belgium",
          "United",
          "United",
          "United",
          "United",
          "Spain",
          "Egypt",
          "Egypt",
          "South",
          "United",
          "United",
          "Egypt",
          "Japan",
          "South",
          "United",
          "India",
          "United",
          "Taiwan",
          "United",
          "United",
          "United",
          "United",
          "United",
          "United",
          "Russia",
          "Japan",
          "United",
          "United",
          "Malaysia",
          "China,",
          "United",
          "United",
          "India,",
          "India",
          "United",
          "South",
          "Spain",
          "United",
          "Indonesia,",
          "India",
          "Indonesia",
          "Indonesia",
          "Indonesia",
          "Taiwan",
          "United",
          "Philippines",
          "Spain,",
          "United",
          "Mexico",
          "Spain",
          "Argentina,",
          "United",
          "United",
          "United",
          "Argentina",
          "Turkey",
          "United",
          "United",
          "United",
          "United",
          "United",
          "Brazil",
          "Mexico",
          "India",
          "United",
          "United",
          "United",
          "Pakistan",
          "India",
          "India",
          "Taiwan",
          "India",
          "Pakistan",
          "South",
          "United",
          "Indonesia",
          "Indonesia",
          "Taiwan",
          "India",
          "Philippines",
          "United",
          "United",
          "Ireland",
          "United",
          "United",
          "Spain",
          "United",
          "Spain,",
          "Israel",
          "Japan",
          "India",
          "Bangladesh",
          "Thailand",
          "Iceland,",
          "United",
          "Nigeria",
          "United",
          "United",
          "United",
          "United",
          "Thailand",
          "United",
          "India",
          "United",
          "Japan",
          "India",
          "India",
          "Croatia",
          "United",
          "United",
          "United",
          "United",
          "United",
          "United",
          "United",
          "United",
          "United",
          "Mexico",
          "United",
          "United",
          "United",
          "United",
          "Taiwan",
          "United",
          "Japan",
          "United",
          "United",
          "United",
          "United",
          "United",
          "United",
          "United",
          "Thailand",
          "Uruguay,",
          "United",
          "Israel",
          "India",
          "United",
          "India",
          "United",
          "Spain",
          "United",
          "Taiwan",
          "United",
          "United",
          "United",
          "United",
          "United",
          "France,",
          "United",
          "Taiwan",
          "Japan",
          "Taiwan",
          "Taiwan",
          "Germany",
          "Japan",
          "Poland,",
          "Turkey",
          "Singapore",
          "Japan",
          "Japan",
          "Singapore",
          "Singapore",
          "Singapore",
          "India",
          "United",
          "India",
          "United",
          "India",
          "China",
          "United",
          "United",
          "United",
          "Canada,",
          "United",
          "United",
          "United",
          "United",
          "Philippines",
          "United",
          "United",
          "United",
          "United",
          "Spain",
          "India",
          "South",
          "United",
          "Mexico,",
          "United",
          "United",
          "Australia",
          "Canada,",
          "United",
          "Japan",
          "United",
          "United",
          "Italy",
          "Germany",
          "United",
          "United",
          "United",
          "United",
          "Australia",
          "United",
          "United",
          "United",
          "United",
          "South",
          "South",
          "Pakistan",
          "China,",
          "Hong",
          "Mexico",
          "Norway,",
          "Hong",
          "Hong",
          "India",
          "Malaysia",
          "Hong",
          "Hong",
          "Australia",
          "United",
          "Hong",
          "China,",
          "Hong",
          "United",
          "Hong",
          "India",
          "United",
          "Hong",
          "China",
          "Poland,",
          "United",
          "Ireland,",
          "United",
          "Mexico",
          "Italy,",
          "Japan",
          "India",
          "India",
          "United",
          "France",
          "Mexico,",
          "United",
          "United",
          "United",
          "Canada",
          "Spain",
          "United",
          "United",
          "United",
          "Spain",
          "United",
          "United",
          "United",
          "Indonesia",
          "Indonesia",
          "United",
          "United",
          "United",
          "China",
          "United",
          "United",
          "United",
          "France,",
          "Canada",
          "United",
          "United",
          "Brazil",
          "India",
          "United",
          "Canada",
          "India",
          "Indonesia",
          "India",
          "India",
          "India",
          "Spain",
          "Philippines",
          "United",
          "Denmark",
          "Germany,",
          "Hong",
          "Germany",
          "United",
          "United",
          "Brazil",
          "Colombia",
          "South",
          "United",
          "France,",
          "United",
          "India",
          "United",
          "Malaysia",
          "Brazil",
          "United",
          "United",
          "United",
          "France,",
          "United",
          "India",
          "India",
          "India",
          "India",
          "India",
          "India",
          "India",
          "India",
          "Canada",
          "India",
          "Argentina",
          "United",
          "India",
          "India",
          "United",
          "Brazil",
          "United",
          "India",
          "India",
          "India",
          "India",
          "India",
          "India",
          "India",
          "India",
          "India",
          "India",
          "United",
          "India",
          "India",
          "United",
          "India",
          "India",
          "India",
          "India",
          "India",
          "India",
          "India",
          "India",
          "India",
          "United",
          "United",
          "United",
          "South",
          "India",
          "India",
          "India",
          "Spain,",
          "Philippines",
          "Japan",
          "Hong",
          "United",
          "Russia,",
          "Spain,",
          "Colombia",
          "United",
          "United",
          "India",
          "United",
          "United",
          "United",
          "United",
          "United",
          "China",
          "United",
          "United",
          "Peru",
          "China",
          "Australia",
          "United",
          "Mexico,",
          "United",
          "United",
          "South",
          "United",
          "United",
          "India",
          "United",
          "Thailand",
          "Hong",
          "Indonesia,",
          "United",
          "India",
          "Canada",
          "Australia",
          "United",
          "India",
          "India",
          "United",
          "India",
          "United",
          "United",
          "Spain,",
          "United",
          "United",
          "Indonesia",
          "United",
          "United",
          "United",
          "United",
          "United",
          "United",
          "Norway,",
          "Brazil",
          "United",
          "United",
          "Malaysia",
          "United",
          "United",
          "United",
          "Czech",
          "Japan",
          "United",
          "United",
          "United",
          "South",
          "United",
          "United",
          "United",
          "United",
          "United",
          "United",
          "United",
          "United",
          "United",
          "United",
          "United",
          "United",
          "United",
          "United",
          "United",
          "United",
          "United",
          "United",
          "United",
          "United",
          "India",
          "Canada",
          "India",
          "India",
          "India",
          "India",
          "India",
          "India",
          "United",
          "India",
          "United",
          "India",
          "India",
          "India",
          "United",
          "India",
          "India",
          "India",
          "India",
          "India",
          "India",
          "India",
          "India",
          "India",
          "India",
          "India",
          "India",
          "India",
          "India",
          "India",
          "India",
          "India",
          "India",
          "United",
          "United",
          "United",
          "India",
          "India",
          "India",
          "India",
          "India,",
          "India",
          "India",
          "India",
          "India",
          "India",
          "India",
          "India",
          "United",
          "India",
          "United",
          "India",
          "United",
          "India",
          "India",
          "India",
          "India",
          "India,",
          "India",
          "Pakistan",
          "United",
          "Brazil",
          "China",
          "United",
          "United",
          "United",
          "Canada",
          "South",
          "Indonesia",
          "Spain",
          "United",
          "United",
          "Japan",
          "United",
          "United",
          "Brazil",
          "United",
          "Japan",
          "Canada,",
          "Lebanon",
          "United",
          "United",
          "Mexico",
          "United",
          "United",
          "Israel,",
          "United",
          "China",
          "United",
          "South",
          "Italy",
          "United",
          "United",
          "Netherlands",
          "United",
          "United",
          "United",
          "United",
          "United",
          "United",
          "China,",
          "United",
          "United",
          "Belgium,",
          "India",
          "United",
          "Thailand",
          "United",
          "Taiwan",
          "France,",
          "India",
          "India",
          "India",
          "India,",
          "Australia",
          "France",
          "Spain",
          "United",
          "United",
          "Spain",
          "United",
          "United",
          "Colombia",
          "India",
          "India",
          "India",
          "United",
          "United",
          "United",
          "India",
          "Canada",
          "China",
          "United",
          "United",
          "India",
          "India",
          "India",
          "India",
          "India",
          "United",
          "United",
          "Spain,",
          "United",
          "South",
          "India",
          "United",
          "Australia",
          "United",
          "United",
          "United",
          "United",
          "United",
          "Argentina,",
          "United",
          "United",
          "Taiwan",
          "India",
          "India",
          "India",
          "China,",
          "Spain",
          "United",
          "United",
          "India",
          "India",
          "India",
          "India",
          "India",
          "India",
          "India",
          "India",
          "India",
          "India",
          "India",
          "India",
          "India",
          "India",
          "India",
          "India",
          "India",
          "India",
          "India",
          "Mexico",
          "United",
          "Argentina,",
          "Japan",
          "Japan",
          "France",
          "Japan",
          "Australia",
          "Australia",
          "Australia",
          "France,",
          "Mexico",
          "Mexico,",
          "United",
          "Japan",
          "Australia,",
          "Spain",
          "India",
          "United",
          "Spain",
          "United",
          "New",
          "China,",
          "United",
          "United",
          "Japan",
          "Canada,",
          "Brazil",
          "Spain",
          "United",
          "Spain",
          "Japan",
          "Australia",
          "United",
          "China",
          "United",
          "United",
          "Mexico",
          "Israel",
          "United",
          "United",
          "South",
          "United",
          "Argentina",
          "United",
          "Spain",
          "France,",
          "United",
          "United",
          "United",
          "United",
          "China,",
          "India",
          "United",
          "India",
          "India",
          "United",
          "India",
          "India",
          "India",
          "United",
          "Mexico",
          "India",
          "United",
          "India",
          "United",
          "United",
          "Spain",
          "United",
          "United",
          "Chile",
          "United",
          "Colombia,",
          "United",
          "United",
          "United",
          "United",
          "Brazil",
          "Japan",
          "France",
          "United",
          "United",
          "United",
          "United",
          "China",
          "Australia",
          "United",
          "India",
          "Israel",
          "Peru",
          "United",
          "Spain",
          "Chile,",
          "United",
          "United",
          "United",
          "Australia",
          "Mexico",
          "France",
          "United",
          "Japan",
          "India",
          "Thailand",
          "France",
          "United",
          "Germany",
          "United",
          "United",
          "United",
          "Spain",
          "South",
          "Argentina",
          "United",
          "United",
          "United",
          "Japan",
          "United",
          "South",
          "United",
          "Canada,",
          "United",
          "Argentina,",
          "India",
          "Japan",
          "Japan",
          "United",
          "United",
          "United",
          "Mexico",
          "United",
          "United",
          "United",
          "United",
          "Germany",
          "United",
          "Canada,",
          "United",
          "United",
          "France",
          "United",
          "Italy,",
          "United",
          "Mexico",
          "China,",
          "Spain",
          "Colombia",
          "Cambodia",
          "India",
          "India",
          "Italy,",
          "United",
          "Argentina,",
          "United",
          "Canada",
          "United",
          "Spain",
          "United",
          "United",
          "United",
          "United",
          "France",
          "India",
          "United",
          "United",
          "Spain",
          "Saudi",
          "India",
          "France",
          "United",
          "United",
          "United",
          "Spain",
          "United",
          "United",
          "United",
          "United",
          "United",
          "Germany",
          "United",
          "Brazil",
          "South",
          "United",
          "United",
          "Canada,",
          "United",
          "Brazil",
          "Germany",
          "France",
          "United",
          "United",
          "United",
          "France",
          "United",
          "Colombia",
          "United",
          "Philippines",
          "United",
          "United",
          "Spain,",
          "United",
          "United",
          "Mexico,",
          "Argentina",
          "United",
          "France",
          "Bulgaria",
          "France",
          "India",
          "United",
          "Argentina,",
          "India",
          "Sweden",
          "United",
          "United",
          "India",
          "India",
          "India",
          "India",
          "India",
          "United",
          "United",
          "United",
          "United",
          "United",
          "Mexico",
          "United",
          "Canada",
          "Canada",
          "Canada",
          "United",
          "United",
          "Philippines,",
          "United",
          "Netherlands,",
          "United",
          "United",
          "United",
          "India",
          "United",
          "United",
          "Argentina",
          "United",
          "United",
          "United",
          "Japan",
          "Sweden",
          "Egypt",
          "Belgium",
          "Poland",
          "South",
          "Japan",
          "United",
          "United",
          "Japan",
          "United",
          "United",
          "South",
          "India",
          "Bulgaria,",
          "Norway,",
          "United",
          "United",
          "United",
          "Argentina",
          "Chile",
          "Canada",
          "Canada",
          "United",
          "United",
          "India",
          "India",
          "India",
          "United",
          "Germany",
          "India",
          "Spain",
          "India",
          "Canada",
          "Canada",
          "Canada",
          "Canada",
          "Canada",
          "India",
          "India",
          "South",
          "United",
          "United",
          "Spain",
          "South",
          "France",
          "United",
          "United",
          "United",
          "South",
          "United",
          "Japan",
          "Argentina",
          "United",
          "United",
          "United",
          "Japan",
          "United",
          "India",
          "United",
          "United",
          "Georgia",
          "United",
          "United",
          "United",
          "United",
          "United",
          "United",
          "Hungary",
          "South",
          "United",
          "United",
          "United",
          "Germany",
          "United",
          "United",
          "Spain",
          "United",
          "Singapore",
          "Mexico",
          "Argentina",
          "United",
          "Bulgaria,",
          "South",
          "Colombia",
          "United",
          "United",
          "United",
          "Japan",
          "United",
          "United",
          "Canada,",
          "United",
          "Spain",
          "Colombia",
          "Japan",
          "United",
          "Soviet",
          "India",
          "Australia,",
          "United",
          "Czech",
          "United",
          "South",
          "United",
          "Colombia",
          "India",
          "United",
          "United",
          "United",
          "Japan",
          "United",
          "Spain",
          "Japan",
          "Japan",
          "United",
          "Japan",
          "France",
          "United",
          "United",
          "Canada",
          "France",
          "France",
          "United",
          "Germany",
          "United",
          "United",
          "United",
          "United",
          "United",
          "Australia,",
          "United",
          "Argentina",
          "Canada",
          "Mexico,",
          "United",
          "Canada,",
          "South",
          "United",
          "United",
          "India",
          "United",
          "South",
          "United",
          "United",
          "United",
          "United",
          "United",
          "India",
          "India,",
          "Australia,",
          "United",
          "United",
          "India",
          "Japan,",
          "United",
          "United",
          "Malaysia",
          "United",
          "Japan",
          "India,",
          "Georgia,",
          "France",
          "United",
          "United",
          "United",
          "United",
          "United",
          "United",
          "India",
          "United",
          "Spain",
          "Japan",
          "United",
          "United",
          "South",
          "United",
          "United",
          "Australia,",
          "United",
          "United",
          "United",
          "Canada,",
          "United",
          "United",
          "United",
          "United",
          "Japan",
          "Russia",
          "United",
          "Canada",
          "Japan",
          "Japan",
          "United",
          "Mexico",
          "Brazil",
          "Japan",
          "United",
          "United",
          "United",
          "United",
          "India",
          "United",
          "Canada",
          "India",
          "Spain",
          "United",
          "Germany",
          "China",
          "United",
          "United",
          "United",
          "United",
          "Singapore",
          "United",
          "United",
          "United",
          "Canada",
          "United",
          "United",
          "United",
          "United",
          "United",
          "Canada,",
          "United",
          "United",
          "United",
          "United",
          "United",
          "United",
          "France",
          "United",
          "India",
          "United",
          "United",
          "India",
          "New",
          "France",
          "India,",
          "United",
          "Germany,",
          "Turkey,",
          "Mexico",
          "United",
          "United",
          "United",
          "Saudi",
          "Spain",
          "United",
          "Japan",
          "China",
          "Greece,",
          "United",
          "South",
          "Japan",
          "United",
          "Spain",
          "United",
          "United",
          "Canada",
          "United",
          "France,",
          "United",
          "United",
          "Singapore",
          "Singapore",
          "Norway,",
          "Mexico",
          "Taiwan",
          "United",
          "United",
          "United",
          "United",
          "United",
          "United",
          "United",
          "United",
          "United",
          "France,",
          "United",
          "United",
          "Canada",
          "Canada",
          "Spain,",
          "United",
          "United",
          "United",
          "United",
          "Cambodia,",
          "United",
          "United",
          "United",
          "Australia",
          "United",
          "United",
          "United",
          "Spain",
          "Chile",
          "United",
          "United",
          "United",
          "United",
          "United",
          "United",
          "United",
          "United",
          "Taiwan",
          "Taiwan",
          "India",
          "United",
          "Japan",
          "Japan",
          "United",
          "India",
          "India",
          "Japan",
          "Japan",
          "United",
          "India",
          "United",
          "United",
          "India",
          "India",
          "United",
          "Germany",
          "United",
          "France",
          "India,",
          "Argentina,",
          "China",
          "United",
          "Argentina,",
          "Argentina",
          "United",
          "United",
          "Australia",
          "United",
          "United",
          "United",
          "United",
          "United",
          "United",
          "Turkey",
          "United",
          "United",
          "Japan",
          "United",
          "United",
          "Mexico",
          "United",
          "United",
          "United",
          "India",
          "United",
          "United",
          "India",
          "United",
          "United",
          "United",
          "France,",
          "Mexico",
          "United",
          "United",
          "United",
          "Spain,",
          "Singapore",
          "Taiwan",
          "South",
          "Russia",
          "Ireland",
          "United",
          "United",
          "Taiwan",
          "Russia",
          "United",
          "United",
          "United",
          "Australia",
          "United",
          "Chile,",
          "Singapore",
          "United",
          "France",
          "United",
          "United",
          "United",
          "United",
          "United",
          "Sweden,",
          "India",
          "United",
          "Spain",
          "Spain",
          "United",
          "United",
          "United",
          "United",
          "United",
          "United",
          "Canada",
          "China",
          "China",
          "China",
          "United",
          "China",
          "France",
          "Turkey",
          "Australia",
          "Singapore",
          "India",
          "United",
          "United",
          "Netherlands",
          "Turkey",
          "India",
          "United",
          "India",
          "Singapore",
          "India",
          "United",
          "Spain",
          "Singapore",
          "Singapore",
          "Singapore",
          "Singapore",
          "Singapore",
          "India",
          "Singapore",
          "Singapore",
          "Spain",
          "United",
          "United",
          "Japan",
          "South",
          "United",
          "United",
          "Netherlands,",
          "United",
          "India",
          "United",
          "United",
          "United",
          "United",
          "United",
          "United",
          "United",
          "Italy,",
          "India",
          "Brazil",
          "United",
          "United",
          "South",
          "South",
          "South",
          "South",
          "China",
          "South",
          "South",
          "Canada,",
          "India",
          "Indonesia",
          "Spain",
          "United",
          "United",
          "South",
          "India",
          "United",
          "United",
          "United",
          "United",
          "India",
          "United",
          "Brazil",
          "France,",
          "Canada,",
          "Singapore",
          "United",
          "United",
          "India",
          "India",
          "India",
          "Spain",
          "Denmark",
          "Singapore",
          "United",
          "United",
          "United",
          "India",
          "United",
          "United",
          "India",
          "United",
          "France",
          "United",
          "Japan",
          "Thailand",
          "Brazil",
          "United",
          "United",
          "India",
          "India",
          "United",
          "United",
          "India",
          "Czech",
          "Germany,",
          "United",
          "United",
          "United",
          "France,",
          "United",
          "United",
          "Australia",
          "Mexico",
          "United",
          "United",
          "Singapore,",
          "India",
          "India",
          "France,",
          "France,",
          "United",
          "Canada",
          "India",
          "Canada",
          "Spain,",
          "United",
          "South",
          "South",
          "United",
          "Canada,",
          "South",
          "Spain",
          "India",
          "South",
          "Sweden",
          "United",
          "Canada",
          "United",
          "United",
          "United",
          "United",
          "United",
          "United",
          "Germany",
          "Germany",
          "Germany",
          "Italy",
          "Nigeria",
          "France,",
          "Spain",
          "United",
          "Mexico",
          "United",
          "United",
          "South",
          "United",
          "Spain,",
          "United",
          "Turkey",
          "Brazil",
          "United",
          "India",
          "United",
          "India",
          "United",
          "India",
          "Spain",
          "Argentina",
          "Spain",
          "United",
          "United",
          "United",
          "United",
          "United",
          "United",
          "Brazil",
          "United",
          "United",
          "United",
          "Japan",
          "United",
          "United",
          "United",
          "Australia",
          "South",
          "Japan",
          "United",
          "India",
          "Canada",
          "United",
          "India",
          "United",
          "United",
          "Portugal,",
          "United",
          "United",
          "South",
          "Turkey",
          "United",
          "United",
          "India",
          "South",
          "United",
          "India",
          "Brazil",
          "Brazil",
          "United",
          "Mexico",
          "South",
          "Turkey",
          "United",
          "Spain",
          "United",
          "Spain,",
          "South",
          "India",
          "Germany",
          "South",
          "Canada",
          "South",
          "Spain",
          "Chile,",
          "United",
          "United",
          "South",
          "Japan",
          "United",
          "Italy",
          "West",
          "United",
          "Mexico",
          "United",
          "India",
          "India",
          "India",
          "Spain",
          "Spain",
          "Canada,",
          "United",
          "Mexico",
          "France",
          "United",
          "Brazil",
          "United",
          "France",
          "India",
          "United",
          "United",
          "Germany",
          "Austria,",
          "Germany",
          "Germany",
          "France",
          "United",
          "Lebanon,",
          "United",
          "United",
          "United",
          "United",
          "United",
          "Canada",
          "United",
          "United",
          "India",
          "United",
          "France,",
          "United",
          "India",
          "Mexico",
          "South",
          "Japan",
          "United",
          "Mexico",
          "United",
          "United",
          "France,",
          "United",
          "United",
          "United",
          "United",
          "Germany",
          "South",
          "United",
          "South",
          "South",
          "South",
          "China",
          "South",
          "Japan",
          "South",
          "United",
          "South",
          "Israel,",
          "Canada,",
          "Mexico",
          "United",
          "United",
          "United",
          "United",
          "United",
          "Taiwan",
          "United",
          "France,",
          "United",
          "United",
          "United",
          "United",
          "France",
          "Canada",
          "Canada,",
          "United",
          "United",
          "India",
          "United",
          "Peru",
          "Taiwan",
          "Taiwan",
          "India",
          "United",
          "Taiwan",
          "United",
          "India",
          "Mexico",
          "United",
          "United",
          "United",
          "India",
          "Mexico",
          "United",
          "United",
          "France,",
          "Colombia",
          "United",
          "Germany",
          "India",
          "United",
          "France",
          "United",
          "Iceland",
          "United",
          "United",
          "Austria",
          "United",
          "Taiwan",
          "Taiwan",
          "Taiwan",
          "Taiwan",
          "Taiwan",
          "Taiwan",
          "United",
          "United",
          "Spain",
          "Canada",
          "Canada,",
          "United",
          "France",
          "France,",
          "Canada",
          "France",
          "Spain",
          "United",
          "United",
          "France",
          "Japan",
          "Japan",
          "Japan",
          "France",
          "Japan",
          "United",
          "Japan",
          "United",
          "United",
          "United",
          "United",
          "United",
          "United",
          "Ireland,",
          "United",
          "Taiwan",
          "Taiwan",
          "New",
          "Brazil",
          "Taiwan",
          "India",
          "Taiwan",
          "United",
          "Chile,",
          "Taiwan",
          "Spain",
          "United",
          "United",
          "United",
          "Netherlands",
          "Taiwan",
          "India",
          "United",
          "Italy",
          "Taiwan",
          "Denmark,",
          "United",
          "United",
          "United",
          "United",
          "United",
          "United",
          "United",
          "United",
          "United",
          "Canada,",
          "United",
          "United",
          "United",
          "United",
          "United",
          "United",
          "United",
          "United",
          "United",
          "United",
          "United",
          "Taiwan",
          "United",
          "Japan",
          "United",
          "United",
          "United",
          "United",
          "United",
          "United",
          "United",
          "United",
          "United",
          "United",
          "United",
          "United",
          "United",
          "United",
          "United",
          "United",
          "Colombia",
          "United",
          "United",
          "United",
          "United",
          "United",
          "United",
          "Canada",
          "India,",
          "Japan",
          "United",
          "United",
          "India",
          "United",
          "Mexico",
          "United",
          "China,",
          "United",
          "Japan",
          "Australia",
          "Australia",
          "United",
          "United",
          "Canada,",
          "United",
          "United",
          "Belgium,",
          "United",
          "Japan,",
          "United",
          "Canada",
          "Japan",
          "United",
          "Canada",
          "United",
          "United",
          "United",
          "United",
          "Japan",
          "China,",
          "United",
          "United",
          "United",
          "United",
          "United",
          "United",
          "United",
          "Mexico",
          "Hong",
          "Hong",
          "United",
          "United",
          "France",
          "United",
          "United",
          "Canada",
          "United",
          "Japan",
          "United",
          "United",
          "United",
          "United",
          "United",
          "United",
          "United",
          "United",
          "United",
          "United",
          "United",
          "United",
          "United",
          "United",
          "United",
          "United",
          "United",
          "United",
          "United",
          "Germany,",
          "United",
          "United",
          "United",
          "United",
          "United",
          "United",
          "Mexico",
          "United",
          "United",
          "United",
          "United",
          "France",
          "United",
          "United",
          "United",
          "United",
          "United",
          "United",
          "United",
          "Norway,",
          "Canada",
          "United",
          "United",
          "United",
          "United",
          "United",
          "United",
          "United",
          "United",
          "United",
          "United",
          "United",
          "United",
          "United",
          "United",
          "United",
          "United",
          "United",
          "United",
          "United",
          "United",
          "United",
          "United",
          "United",
          "United",
          "United",
          "United",
          "United",
          "United",
          "United",
          "United",
          "Spain,",
          "United",
          "Denmark",
          "United",
          "United",
          "United",
          "United",
          "India",
          "India",
          "Nigeria",
          "United",
          "Norway,",
          "India",
          "United",
          "India",
          "India",
          "India",
          "United",
          "Canada",
          "Canada",
          "United",
          "Iceland",
          "Turkey",
          "United",
          "Turkey",
          "United",
          "United",
          "United",
          "Spain",
          "United",
          "United",
          "United",
          "South",
          "United",
          "United",
          "United",
          "Hong",
          "United",
          "United",
          "United",
          "United",
          "United",
          "United",
          "South",
          "United",
          "United",
          "United",
          "India",
          "United",
          "South",
          "Argentina",
          "United",
          "United",
          "United",
          "United",
          "Indonesia",
          "Canada",
          "Egypt",
          "United",
          "Denmark,",
          "United",
          "United",
          "United",
          "United",
          "United",
          "United",
          "Indonesia",
          "New",
          "India",
          "United",
          "India",
          "Pakistan",
          "United",
          "United",
          "India",
          "United",
          "United",
          "United",
          "United",
          "Netherlands,",
          "Canada,",
          "India",
          "United",
          "Taiwan",
          "United",
          "United",
          "United",
          "United",
          "United",
          "United",
          "South",
          "United",
          "United",
          "United",
          "Brazil",
          "United",
          "Netherlands",
          "United",
          "United",
          "United",
          "Canada",
          "India",
          "Iran,",
          "United",
          "United",
          "Israel,",
          "United",
          "United",
          "United",
          "India",
          "United",
          "United",
          "United",
          "Canada",
          "United",
          "Turkey",
          "India",
          "India",
          "India",
          "India",
          "India",
          "India",
          "Egypt",
          "India",
          "South",
          "United",
          "United",
          "Argentina",
          "Mexico",
          "Canada",
          "United",
          "United",
          "Turkey,",
          "Canada",
          "United",
          "France",
          "Australia,",
          "India",
          "Canada,",
          "United",
          "United",
          "United",
          "United",
          "United",
          "United",
          "United",
          "United",
          "India",
          "India",
          "United",
          "United",
          "India",
          "India",
          "Egypt",
          "United",
          "Spain",
          "United",
          "United",
          "United",
          "Sweden,",
          "United",
          "Ireland,",
          "Spain,",
          "United",
          "United",
          "United",
          "United",
          "United",
          "United",
          "United",
          "United",
          "United",
          "United",
          "United",
          "United",
          "India",
          "Egypt",
          "United",
          "United",
          "United",
          "United",
          "United",
          "United",
          "United",
          "United",
          "United",
          "Canada",
          "Canada,",
          "United",
          "United",
          "United",
          "United",
          "United",
          "United",
          "United",
          "India",
          "United",
          "United",
          "United",
          "United",
          "Egypt",
          "Taiwan",
          "United",
          "Egypt",
          "India",
          "Spain",
          "United",
          "United",
          "United",
          "United",
          "India,",
          "India",
          "India",
          "India",
          "United",
          "Brazil,",
          "United",
          "Egypt",
          "United",
          "United",
          "India",
          "Japan",
          "United",
          "United",
          "United",
          "France,",
          "United",
          "Egypt",
          "Indonesia",
          "United",
          "United",
          "United",
          "United",
          "United",
          "South",
          "United",
          "Canada",
          "United",
          "Canada,",
          "United",
          "Chile",
          "United",
          "Australia",
          "Bulgaria,",
          "United",
          "Sweden,",
          "India",
          "India",
          "Turkey",
          "France,",
          "India",
          "Brazil",
          "Canada",
          "United",
          "Australia,",
          "United",
          "United",
          "United",
          "Singapore,",
          "United",
          "India",
          "India",
          "United",
          "Chile",
          "United",
          "United",
          "United",
          "Pakistan",
          "Turkey",
          "United",
          "United",
          "Thailand",
          "United",
          "Thailand",
          "Thailand",
          "Spain",
          "India",
          "Australia,",
          "United",
          "United",
          "United",
          "United",
          "United",
          "United",
          "United",
          "United",
          "United",
          "United",
          "United",
          "Chile",
          "India",
          "United",
          "United",
          "Italy",
          "United",
          "United",
          "United",
          "United",
          "India",
          "India",
          "United",
          "United",
          "Russia",
          "Germany",
          "United",
          "United",
          "Canada",
          "South",
          "Canada",
          "United",
          "United",
          "United",
          "Indonesia",
          "Egypt",
          "United",
          "United",
          "United",
          "Japan,",
          "United",
          "United",
          "Turkey",
          "India",
          "United",
          "United",
          "Canada",
          "United",
          "United",
          "United",
          "United",
          "Turkey",
          "Germany",
          "United",
          "United",
          "India",
          "Egypt",
          "Japan",
          "United",
          "India,",
          "India",
          "India",
          "India",
          "United",
          "India",
          "India",
          "India",
          "United",
          "United",
          "United",
          "United",
          "United",
          "United",
          "Denmark",
          "United",
          "United",
          "United",
          "United",
          "United",
          "India",
          "India",
          "Canada",
          "United",
          "Vietnam",
          "Canada",
          "Spain",
          "India",
          "United",
          "United",
          "Turkey",
          "Spain",
          "United",
          "United",
          "United",
          "Argentina,",
          "United",
          "United",
          "United",
          "United",
          "Australia,",
          "France",
          "Thailand",
          "France",
          "United",
          "France,",
          "United",
          "United",
          "United",
          "United",
          "Germany,",
          "United",
          "Canada",
          "United",
          "United",
          "Canada",
          "Denmark,",
          "India",
          "United",
          "Ireland,",
          "United",
          "United",
          "United",
          "Netherlands",
          "Australia",
          "United",
          "India",
          "United",
          "United",
          "United",
          "United",
          "United",
          "Canada,",
          "Brazil",
          "United",
          "United",
          "United",
          "United",
          "United",
          "United",
          "United",
          "India",
          "Australia",
          "United",
          "United",
          "United",
          "United",
          "China",
          "United",
          "Canada",
          "Canada",
          "Canada",
          "United",
          "Indonesia,",
          "Netherlands,",
          "United",
          "United",
          "United",
          "United",
          "South",
          "United",
          "United",
          "United",
          "Belgium,",
          "United",
          "United",
          "Indonesia",
          "Argentina",
          "South",
          "United",
          "India",
          "United",
          "United",
          "United",
          "Italy",
          "Mexico,",
          "United",
          "United",
          "Canada",
          "United",
          "South",
          "United",
          "United",
          "France",
          "France,",
          "India",
          "Ireland",
          "United",
          "Philippines",
          "United",
          "United",
          "United",
          "United",
          "Japan",
          "United",
          "Hong",
          "Hong",
          "United",
          "United",
          "China,",
          "United",
          "Canada",
          "Norway",
          "India",
          "United",
          "India",
          "India",
          "India",
          "Pakistan",
          "Germany,",
          "United",
          "Indonesia",
          "United",
          "United",
          "United",
          "United",
          "India",
          "United",
          "Canada",
          "Hong",
          "United",
          "India,",
          "Australia",
          "United",
          "South",
          "United",
          "United",
          "United",
          "United",
          "United",
          "United",
          "India",
          "India",
          "United",
          "Nigeria",
          "United",
          "United",
          "China",
          "United",
          "United",
          "United",
          "United",
          "United",
          "United",
          "United",
          "Canada,",
          "United",
          "United",
          "United",
          "Argentina",
          "Malaysia",
          "Pakistan",
          "India",
          "United",
          "United",
          "Brazil,",
          "United",
          "United",
          "United",
          "United",
          "United",
          "United",
          "India",
          "United",
          "United",
          "United",
          "United",
          "United",
          "Germany,",
          "France,",
          "United",
          "United",
          "United",
          "United",
          "United",
          "United",
          "United",
          "United",
          "United",
          "India",
          "United",
          "United",
          "India",
          "Germany,",
          "India",
          "Canada,",
          "United",
          "United",
          "United",
          "India",
          "United",
          "United",
          "Czech",
          "United",
          "Vietnam",
          "Ireland",
          "Turkey",
          "India",
          "United",
          "United",
          "United",
          "Canada",
          "United",
          "United",
          "Canada",
          "Australia",
          "United",
          "United",
          "India",
          "France",
          "Taiwan,",
          "United",
          "United",
          "India",
          "Turkey",
          "United",
          "United",
          "United",
          "United",
          "Argentina",
          "India",
          "United",
          "United",
          "Australia",
          "Germany,",
          "Germany",
          "Mexico",
          "United",
          "United",
          "United",
          "Ireland",
          "India",
          "United",
          "United",
          "India",
          "India",
          "India",
          "United",
          "China",
          "Taiwan",
          "United",
          "Netherlands",
          "United",
          "United",
          "India",
          "United",
          "United",
          "India",
          "United",
          "Canada",
          "United",
          "United",
          "United",
          "United",
          "Australia",
          "India",
          "United",
          "United",
          "Denmark,",
          "United",
          "United",
          "United",
          "United",
          "Egypt",
          "United",
          "United",
          "Finland,",
          "Canada",
          "India",
          "India",
          "United",
          "India",
          "China,",
          "United",
          "United",
          "France,",
          "United",
          "India",
          "United",
          "United",
          "Canada",
          "Hong",
          "United",
          "United",
          "South",
          "United",
          "United",
          "United",
          "United",
          "United",
          "Denmark,",
          "United",
          "United",
          "United",
          "France",
          "France",
          "France",
          "United",
          "United",
          "United",
          "United",
          "United",
          "United",
          "Hong",
          "United",
          "United",
          "United",
          "France,",
          "United",
          "United",
          "United",
          "United",
          "United",
          "United",
          "United",
          "Germany",
          "Germany,",
          "United",
          "United",
          "United",
          "Pakistan,",
          "India",
          "United",
          "United",
          "United",
          "Brazil",
          "United",
          "United",
          "United",
          "United",
          "Taiwan",
          "United",
          "United",
          "India",
          "India",
          "India",
          "India",
          "United",
          "Spain",
          "Colombia",
          "Colombia",
          "Mexico",
          "Venezuela",
          "United",
          "Spain",
          "United",
          "United",
          "Netherlands",
          "United",
          "United",
          "France",
          "United",
          "United",
          "United",
          "United",
          "Indonesia",
          "Australia",
          "United",
          "Canada,",
          "United",
          "United",
          "India",
          "United",
          "United",
          "United",
          "Canada,",
          "United",
          "Canada",
          "Hong",
          "United",
          "United",
          "Poland",
          "Argentina",
          "Mexico",
          "India",
          "Italy",
          "United",
          "United",
          "United",
          "United",
          "Spain,",
          "United",
          "United",
          "United",
          "China",
          "United",
          "United",
          "Norway",
          "United",
          "United",
          "United",
          "United",
          "Turkey",
          "Turkey",
          "Turkey",
          "Turkey",
          "United",
          "United",
          "Japan",
          "United",
          "India",
          "United",
          "United",
          "Germany",
          "India",
          "United",
          "India",
          "Egypt",
          "United",
          "United",
          "United",
          "India",
          "United",
          "United",
          "Nigeria",
          "United",
          "United",
          "Turkey",
          "United",
          "Indonesia",
          "United",
          "United",
          "United",
          "Italy,",
          "India",
          "United",
          "United",
          "United",
          "United",
          "United",
          "United",
          "United",
          "Hong",
          "United",
          "Canada,",
          "Egypt",
          "United",
          "South",
          "Hong",
          "United",
          "United",
          "United",
          "Spain",
          "United",
          "United",
          "Mexico",
          "United",
          "United",
          "United",
          "United",
          "United",
          "United",
          "United",
          "Brazil",
          "United",
          "United",
          "United",
          "Germany,",
          "Spain,",
          "United",
          "United",
          "United",
          "United",
          "United",
          "United",
          "United",
          "Egypt",
          "United",
          "United",
          "United",
          "United",
          "Germany",
          "Egypt",
          "France,",
          "United",
          "United",
          "United",
          "United",
          "United",
          "Canada,",
          "United",
          "Vietnam",
          "United",
          "United",
          "Brazil,",
          "India",
          "Russia",
          "United",
          "Indonesia",
          "Taiwan",
          "India",
          "United",
          "Japan",
          "Indonesia",
          "Indonesia",
          "Japan,",
          "India",
          "India",
          "United",
          "United",
          "United",
          "Sweden",
          "United",
          "Italy,",
          "United",
          "United",
          "United",
          "United",
          "United",
          "India",
          "Thailand,",
          "Japan",
          "United",
          "Japan",
          "United",
          "Japan",
          "India",
          "Indonesia",
          "United",
          "United",
          "Philippines",
          "United",
          "United",
          "United",
          "United",
          "China,",
          "United",
          "United",
          "United",
          "India",
          "Japan",
          "United",
          "United",
          "United",
          "Australia",
          "India",
          "Italy,",
          "United",
          "Turkey",
          "United",
          "United",
          "United",
          "Egypt",
          "United",
          "United",
          "United",
          "United",
          "United",
          "United",
          "United",
          "United",
          "United",
          "India",
          "Germany,",
          "United",
          "Spain",
          "India",
          "United",
          "United",
          "United",
          "United",
          "United",
          "Nigeria",
          "United",
          "United",
          "Canada",
          "United",
          "Chile",
          "Turkey",
          "Turkey",
          "United",
          "India",
          "Turkey",
          "United",
          "United",
          "United",
          "India",
          "United",
          "Egypt",
          "United",
          "United",
          "United",
          "United",
          "Taiwan",
          "United",
          "Mexico",
          "United",
          "United",
          "United",
          "Russia,",
          "United",
          "United",
          "United",
          "United",
          "United",
          "United",
          "Malaysia",
          "United",
          "United",
          "United",
          "India",
          "Indonesia",
          "United",
          "United",
          "Australia",
          "Canada,",
          "United",
          "Ireland,",
          "United",
          "United",
          "United",
          "Australia",
          "United",
          "United",
          "United",
          "Canada",
          "United",
          "United",
          "United",
          "Canada,",
          "United",
          "United",
          "United",
          "United",
          "India",
          "United",
          "Hong",
          "Denmark",
          "United",
          "South",
          "India",
          "China",
          "Australia",
          "Canada",
          "United",
          "United",
          "United",
          "India,",
          "Argentina",
          "India",
          "Australia",
          "United",
          "United",
          "France",
          "Pakistan",
          "United",
          "Turkey",
          "Australia",
          "United",
          "United",
          "Thailand",
          "Thailand",
          "India",
          "United",
          "United",
          "United",
          "United",
          "India",
          "United",
          "United",
          "Thailand",
          "United",
          "United",
          "India",
          "Ireland,",
          "United",
          "United",
          "United",
          "United",
          "United",
          "Belgium",
          "Poland,",
          "United",
          "United",
          "United",
          "Slovenia,",
          "United",
          "United",
          "Mexico,",
          "United",
          "Canada,",
          "United",
          "United",
          "United",
          "India",
          "United",
          "India",
          "India",
          "Pakistan",
          "United",
          "Canada",
          "United",
          "United",
          "United",
          "United",
          "United",
          "United",
          "United",
          "Argentina",
          "India,",
          "United",
          "United",
          "United",
          "Mexico",
          "China",
          "China,",
          "United",
          "United",
          "United",
          "United",
          "Thailand",
          "United",
          "United",
          "United",
          "United",
          "Canada,",
          "China,",
          "India",
          "United",
          "United",
          "United",
          "United",
          "France",
          "Taiwan",
          "United",
          "United",
          "Turkey",
          "Serbia,",
          "India",
          "United",
          "United",
          "United",
          "India",
          "United",
          "United",
          "United",
          "United",
          "United",
          "United",
          "United",
          "United",
          "Germany,",
          "Germany,",
          "India",
          "United",
          "United",
          "Israel",
          "United",
          "Mexico",
          "Canada",
          "United",
          "Canada",
          "Japan",
          "Japan",
          "Japan",
          "United",
          "Canada",
          "South",
          "India",
          "India",
          "United",
          "United",
          "Canada,",
          "India",
          "United",
          "South",
          "India",
          "United",
          "United",
          "Spain",
          "Egypt",
          "United",
          "United",
          "India",
          "France,",
          "Canada",
          "United",
          "United",
          "Vietnam",
          "India",
          "United",
          "India",
          "India",
          "Pakistan",
          "Japan",
          "United",
          "Poland",
          "United",
          "United",
          "United",
          "United",
          "Ireland,",
          "United",
          "India",
          "United",
          "Russia",
          "United",
          "United",
          "United",
          "India",
          "United",
          "India",
          "United",
          "United",
          "United",
          "India",
          "Chile",
          "Mexico",
          "India",
          "United",
          "United",
          "United",
          "United",
          "United",
          "United",
          "United",
          "Germany,",
          "Hong",
          "United",
          "Japan",
          "United",
          "Turkey",
          "India",
          "India",
          "India",
          "India",
          "India",
          "India",
          "United",
          "India",
          "United",
          "India",
          "India",
          "India",
          "United",
          "India",
          "United",
          "India",
          "India",
          "United",
          "United",
          "United",
          "United",
          "United",
          "United",
          "United",
          "Pakistan",
          "India",
          "India",
          "India",
          "India",
          "India",
          "India",
          "India",
          "India",
          "United",
          "United",
          "United",
          "Philippines",
          "Netherlands,",
          "United",
          "United",
          "United",
          "France",
          "United",
          "United",
          "United",
          "United",
          "Hungary",
          "United",
          "United",
          "United",
          "United",
          "United",
          "France,",
          "India",
          "United",
          "United",
          "United",
          "Malaysia",
          "Japan",
          "United",
          "United",
          "United",
          "United",
          "United",
          "United",
          "India",
          "Norway,",
          "United",
          "United",
          "United",
          "United",
          "India",
          "United",
          "United",
          "United",
          "United",
          "United",
          "United",
          "United",
          "India",
          "Hong",
          "Mexico,",
          "United",
          "China,",
          "United",
          "United",
          "Turkey",
          "Turkey",
          "India",
          "United",
          "India",
          "Argentina",
          "United",
          "United",
          "Italy",
          "United",
          "Mexico",
          "Mexico",
          "Colombia,",
          "India",
          "Thailand",
          "Hong",
          "United",
          "United",
          "Colombia",
          "India",
          "United",
          "United",
          "South",
          "United",
          "United",
          "United",
          "France",
          "France",
          "United",
          "United",
          "United",
          "United",
          "United",
          "United",
          "India",
          "United",
          "United",
          "China",
          "Hong",
          "United",
          "United",
          "United",
          "Denmark",
          "United",
          "Denmark,",
          "United",
          "United",
          "France",
          "United",
          "Turkey",
          "United",
          "Canada",
          "United",
          "United",
          "United",
          "United",
          "Canada",
          "Hong",
          "United",
          "Mexico",
          "United",
          "United",
          "United",
          "Egypt",
          "United",
          "Hong",
          "Australia",
          "Australia",
          "Australia",
          "United",
          "United",
          "United",
          "United",
          "United",
          "United",
          "United",
          "United",
          "United",
          "Spain",
          "Mexico",
          "United",
          "United",
          "France,",
          "Mexico",
          "United",
          "South",
          "United",
          "United",
          "Canada",
          "Hong",
          "Germany",
          "India",
          "United",
          "United",
          "Colombia",
          "United",
          "Canada",
          "Taiwan",
          "United",
          "Hong",
          "India",
          "Hong",
          "South",
          "United",
          "United",
          "Egypt",
          "Indonesia",
          "United",
          "Germany,",
          "United",
          "United",
          "Hong",
          "Argentina",
          "China",
          "India",
          "India",
          "Argentina,",
          "India",
          "India,",
          "United",
          "India",
          "Australia,",
          "United",
          "United",
          "United",
          "Hong",
          "India",
          "United",
          "Chile",
          "Italy",
          "Japan",
          "France,",
          "France",
          "Norway",
          "India",
          "India",
          "India",
          "India",
          "Hong",
          "Turkey,",
          "India",
          "India",
          "India",
          "United",
          "United",
          "United",
          "United",
          "India",
          "India",
          "United",
          "United",
          "United",
          "United",
          "United",
          "India",
          "India",
          "United",
          "Canada,",
          "United",
          "United",
          "India",
          "United",
          "United",
          "Hong",
          "United",
          "United",
          "India",
          "United",
          "United",
          "Japan",
          "United",
          "United",
          "India",
          "South",
          "Argentina",
          "India",
          "United",
          "Hong",
          "Egypt",
          "United",
          "United",
          "India",
          "Mexico",
          "Canada",
          "United",
          "Canada",
          "Poland,",
          "United",
          "United",
          "Australia",
          "India",
          "United",
          "United",
          "South",
          "Germany,",
          "United",
          "United",
          "Canada,",
          "Indonesia",
          "United",
          "Spain",
          "Nigeria",
          "United",
          "India",
          "United",
          "United",
          "India",
          "United",
          "United",
          "United",
          "France",
          "India",
          "United",
          "Canada,",
          "United",
          "India",
          "Mexico",
          "Japan",
          "Norway,",
          "United",
          "United",
          "Taiwan",
          "United",
          "United",
          "United",
          "United",
          "Malaysia",
          "United",
          "India",
          "United",
          "United",
          "Nigeria",
          "China,",
          "South",
          "United",
          "United",
          "United",
          "United",
          "United",
          "Canada",
          "Egypt",
          "Germany,",
          "United",
          "United",
          "United",
          "United",
          "United",
          "United",
          "United",
          "United",
          "United",
          "United",
          "United",
          "United",
          "United",
          "Canada",
          "United",
          "United",
          "United",
          "United",
          "United",
          "France,",
          "Pakistan,",
          "Germany,",
          "United",
          "India",
          "India",
          "Australia",
          "United",
          "United",
          "United",
          "Israel,",
          "Hong",
          "United",
          "Canada",
          "Egypt",
          "United",
          "India",
          "France",
          "United",
          "United",
          "United",
          "Spain",
          "United",
          "Canada",
          "India",
          "United",
          "Egypt",
          "United",
          "Canada",
          "Italy",
          "United",
          "Switzerland,",
          "United",
          "United",
          "United",
          "United",
          "Hong",
          "United",
          "United",
          "United",
          "Thailand",
          "United",
          "United",
          "United",
          "India",
          "United",
          "Italy,",
          "Ireland",
          "United",
          "India",
          "United",
          "Japan",
          "United",
          "United",
          "United",
          "United",
          "United",
          "India",
          "United",
          "United",
          "United",
          "United",
          "United",
          "United",
          "United",
          "United",
          "United",
          "United",
          "United",
          "Chile,",
          "United",
          "United",
          "United",
          "United",
          "India",
          "United",
          "United",
          "United",
          "United",
          "United",
          "Japan",
          "Canada,",
          "India",
          "Chile",
          "United",
          "Norway",
          "United",
          "India,",
          "United",
          "United",
          "United",
          "United",
          "United",
          "United",
          "United",
          "United",
          "United",
          "United",
          "United",
          "United",
          "United",
          "United",
          "United",
          "United",
          "United",
          "United",
          "United",
          "United",
          "United",
          "United",
          "United",
          "United",
          "United",
          "United",
          "United",
          "Germany",
          "United",
          "Israel",
          "Italy",
          "Japan",
          "United",
          "United",
          "Denmark,",
          "Denmark,",
          "United",
          "United",
          "United",
          "France,",
          "Australia",
          "United",
          "United",
          "United",
          "Hong",
          "Spain",
          "United",
          "Thailand",
          "Thailand",
          "United",
          "Canada",
          "United",
          "United",
          "France",
          "Egypt",
          "Hong",
          "Brazil,",
          "India",
          "United",
          "United",
          "United",
          "United",
          "United",
          "Italy,",
          "Thailand",
          "United",
          "India",
          "United",
          "United",
          "India",
          "United",
          "Denmark,",
          "Australia,",
          "United",
          "South",
          "United",
          "China,",
          "United",
          "United",
          "South",
          "China,",
          "United",
          "Hong",
          "United",
          "India",
          "Australia,",
          "India",
          "United",
          "Canada,",
          "China",
          "United",
          "United",
          "India",
          "United",
          "United",
          "India",
          "Venezuela,",
          "Australia",
          "Thailand",
          "United",
          "United",
          "Hong",
          "United",
          "United",
          "Spain",
          "United",
          "India",
          "Canada",
          "United",
          "Canada",
          "India",
          "India",
          "United",
          "United",
          "Colombia,",
          "United",
          "India",
          "United",
          "United",
          "Turkey",
          "United",
          "India",
          "United",
          "India",
          "Thailand",
          "United",
          "United",
          "Malaysia",
          "United",
          "Ireland,",
          "United",
          "Canada",
          "United",
          "United",
          "France,",
          "United",
          "United",
          "United",
          "France,",
          "United",
          "India",
          "Thailand",
          "Nigeria",
          "India",
          "United",
          "United",
          "India",
          "United",
          "India",
          "Argentina",
          "France",
          "United",
          "United",
          "United",
          "France,",
          "United",
          "United",
          "Canada,",
          "Switzerland,",
          "United",
          "United",
          "Portugal,",
          "United",
          "India",
          "United",
          "United",
          "United",
          "United",
          "United",
          "United",
          "France,",
          "United",
          "United",
          "United",
          "United",
          "United",
          "United",
          "United",
          "United",
          "United",
          "United",
          "United",
          "United",
          "United",
          "United",
          "United",
          "United",
          "United",
          "United",
          "United",
          "United",
          "United",
          "United",
          "India,",
          "United",
          "India",
          "United",
          "United",
          "Hong",
          "United",
          "United",
          "United",
          "United",
          "Canada",
          "Argentina",
          "India",
          "United",
          "Canada,",
          "United",
          "India",
          "India",
          "United",
          "United",
          "United",
          "Taiwan",
          "United",
          "United",
          "United",
          "United",
          "United",
          "United",
          "United",
          "Brazil",
          "India",
          "United",
          "India",
          "United",
          "China",
          "India",
          "India",
          "United",
          "India",
          "India",
          "Singapore,",
          "India",
          "South",
          "India",
          "Pakistan",
          "United",
          "India",
          "Egypt",
          "India",
          "United",
          "United",
          "Mexico",
          "Canada",
          "United",
          "Australia",
          "United",
          "India",
          "United",
          "United",
          "Egypt",
          "United",
          "United",
          "Malaysia",
          "Canada,",
          "United",
          "United",
          "Canada",
          "Germany,",
          "United",
          "United",
          "Hong",
          "India",
          "United",
          "Hong",
          "United",
          "United",
          "Mexico",
          "United",
          "United",
          "India",
          "United",
          "India",
          "India",
          "India",
          "India",
          "Nigeria",
          "Italy",
          "United",
          "United",
          "United",
          "United",
          "United",
          "United",
          "United",
          "United",
          "Egypt",
          "United",
          "United",
          "India,",
          "Ireland,",
          "Canada",
          "United",
          "Thailand",
          "United",
          "United",
          "United",
          "United",
          "Mexico",
          "India",
          "Mexico",
          "Hong",
          "United",
          "India",
          "United",
          "United",
          "United",
          "Japan",
          "United",
          "United",
          "United",
          "India",
          "Italy",
          "United",
          "India",
          "Italy,",
          "Turkey",
          "Canada",
          "India",
          "Pakistan",
          "India",
          "United",
          "India",
          "India",
          "India",
          "Egypt",
          "India",
          "India",
          "Egypt",
          "South",
          "United",
          "United",
          "India",
          "India",
          "United",
          "Australia,",
          "France",
          "Canada",
          "Australia,",
          "India",
          "India",
          "India",
          "United",
          "United",
          "India",
          "India",
          "United",
          "United",
          "Egypt",
          "United",
          "United",
          "United",
          "United",
          "United",
          "United",
          "Italy,",
          "United",
          "United",
          "United",
          "United",
          "United",
          "United",
          "United",
          "United",
          "United",
          "United",
          "Sweden,",
          "United",
          "Hong",
          "South",
          "United",
          "United",
          "United",
          "United",
          "United",
          "United",
          "United",
          "United",
          "United",
          "United",
          "United",
          "Turkey",
          "United",
          "Canada",
          "Guatemala",
          "Ukraine",
          "United",
          "United",
          "United",
          "United",
          "Mexico",
          "United",
          "Israel",
          "India",
          "Italy,",
          "India",
          "India",
          "India",
          "Hong",
          "United",
          "India",
          "United",
          "United",
          "United",
          "United",
          "India",
          "United",
          "Australia",
          "Australia",
          "India",
          "United",
          "United",
          "United",
          "India,",
          "Thailand",
          "Italy,",
          "United",
          "India",
          "United",
          "Canada,",
          "United",
          "Russia",
          "Colombia,",
          "United",
          "India",
          "Indonesia",
          "Switzerland,",
          "Peru",
          "United",
          "United",
          "Thailand,",
          "United",
          "United",
          "China,",
          "China,",
          "United",
          "United",
          "United",
          "United",
          "United",
          "United",
          "United",
          "United",
          "United",
          "United",
          "United",
          "United",
          "United",
          "India",
          "United",
          "Indonesia",
          "Mexico",
          "United",
          "United",
          "Czech",
          "United",
          "United",
          "Australia,",
          "United",
          "Thailand",
          "United",
          "United",
          "United",
          "United",
          "United",
          "United",
          "United",
          "United",
          "United",
          "United",
          "United",
          "United",
          "United",
          "United",
          "Jamaica,",
          "United",
          "United",
          "United",
          "Spain",
          "United",
          "United",
          "Canada",
          "Canada,",
          "United",
          "United",
          "United",
          "Switzerland",
          "United",
          "United",
          "Egypt",
          "United",
          "India",
          "Thailand",
          "United",
          "United",
          "South",
          "United",
          "Australia,",
          "United",
          "India",
          "United",
          "Canada",
          "United",
          "France,",
          "Australia,",
          "Netherlands,",
          "United",
          "United",
          "South",
          "Brazil",
          "United",
          "United",
          "United",
          "Italy,",
          "Thailand",
          "India",
          "Israel",
          "United",
          "South",
          "United",
          "Denmark,",
          "India,",
          "India",
          "India",
          "United",
          "India",
          "United",
          "United",
          "United",
          "United",
          "United",
          "United",
          "Indonesia",
          "United",
          "United",
          "United",
          "United",
          "India",
          "United",
          "United",
          "United",
          "United",
          "China,",
          "Hong",
          "United",
          "India",
          "India",
          "United",
          "France,",
          "United",
          "India",
          "France",
          "United",
          "United",
          "Egypt",
          "United",
          "United",
          "India",
          "United",
          "Hong",
          "United",
          "United",
          "India",
          "United",
          "Argentina,",
          "Hong",
          "Mexico",
          "United",
          "United",
          "France",
          "United",
          "India",
          "United",
          "India",
          "India",
          "United",
          "United",
          "United",
          "Mexico,",
          "Canada",
          "United",
          "United",
          "Canada",
          "United",
          "United",
          "Argentina",
          "South",
          "United",
          "United",
          "United",
          "Finland,",
          "United",
          "Egypt",
          "Singapore",
          "Spain,",
          "Canada,",
          "United",
          "France,",
          "United",
          "United",
          "United",
          "United",
          "United",
          "Hong",
          "United",
          "United",
          "United",
          "Brazil",
          "United",
          "United",
          "United",
          "United",
          "Canada,",
          "United",
          "United",
          "United",
          "United",
          "United",
          "France",
          "United",
          "United",
          "United",
          "United",
          "United",
          "United",
          "Ireland,",
          "United",
          "Nigeria",
          "United",
          "United",
          "United",
          "Hong",
          "United",
          "United",
          "Israel,",
          "India",
          "Canada",
          "United",
          "United",
          "United",
          "Egypt",
          "Nigeria",
          "United",
          "Australia",
          "Egypt",
          "Spain,",
          "Mexico,",
          "United",
          "United",
          "United",
          "United",
          "United",
          "United",
          "Canada",
          "Israel,",
          "Egypt",
          "United",
          "South",
          "United",
          "United",
          "Poland",
          "United",
          "United",
          "United",
          "India",
          "Indonesia",
          "United",
          "India",
          "United",
          "Australia",
          "Austria,",
          "Canada,",
          "United",
          "Argentina,",
          "United",
          "Italy,",
          "United",
          "Japan",
          "United",
          "United",
          "Indonesia",
          "United",
          "Canada",
          "United",
          "United",
          "United",
          "United",
          "United",
          "United",
          "United",
          "United",
          "United",
          "United",
          "United",
          "United",
          "United",
          "United",
          "Nigeria",
          "United",
          "United",
          "Brazil",
          "United",
          "United",
          "Hong",
          "United",
          "United",
          "Hong",
          "United",
          "United",
          "United",
          "United",
          "United",
          "United",
          "New",
          "United",
          "United",
          "Norway",
          "Indonesia",
          "United",
          "United",
          "United",
          "India",
          "Israel",
          "United",
          "United",
          "United",
          "United",
          "United",
          "United",
          "United",
          "South",
          "United",
          "India",
          "United",
          "United",
          "United",
          "United",
          "United",
          "United",
          "Spain,",
          "Canada",
          "United",
          "Canada",
          "Spain",
          "United",
          "United",
          "Thailand",
          "United",
          "United",
          "India",
          "India",
          "Canada",
          "United",
          "United",
          "United",
          "United",
          "United",
          "United",
          "Mexico",
          "Denmark",
          "United",
          "United",
          "United",
          "United",
          "United",
          "United",
          "United",
          "United",
          "United",
          "United",
          "France",
          "United",
          "United",
          "India,",
          "Indonesia",
          "United",
          "United",
          "United",
          "Canada,",
          "South",
          "United",
          "United",
          "Belgium,",
          "Australia",
          "France,",
          "United",
          "Brazil",
          "United",
          "United",
          "United",
          "United",
          "India",
          "United",
          "Canada,",
          "United",
          "France,",
          "Germany",
          "United",
          "Ireland,",
          "Ireland",
          "United",
          "United",
          "United",
          "Denmark,",
          "New",
          "New",
          "United",
          "United",
          "Poland",
          "Hong",
          "United",
          "United",
          "United",
          "United",
          "United",
          "United",
          "United",
          "United",
          "South",
          "United",
          "United",
          "United",
          "United",
          "France",
          "Spain",
          "Denmark",
          "United",
          "New",
          "United",
          "Sweden",
          "United",
          "United",
          "Italy",
          "United",
          "United",
          "United",
          "United",
          "United",
          "Canada",
          "United",
          "Germany",
          "United",
          "United",
          "United",
          "Philippines",
          "United",
          "United",
          "United",
          "United",
          "United",
          "United",
          "United",
          "United",
          "Germany",
          "United",
          "United",
          "Somalia,",
          "United",
          "United",
          "India",
          "Egypt",
          "United",
          "Canada,",
          "South",
          "United",
          "United",
          "United",
          "South",
          "United",
          "United",
          "United",
          "Canada",
          "Indonesia",
          "United",
          "United",
          "India",
          "United",
          "United",
          "United",
          "United",
          "New",
          "United",
          "France",
          "United",
          "Serbia,",
          "Egypt",
          "United",
          "United",
          "United",
          "United",
          "Russia",
          "United",
          "United",
          "Australia,",
          "United",
          "United",
          "Denmark,",
          "Australia",
          "Germany,",
          "United",
          "United",
          "United",
          "United",
          "United",
          "India",
          "United",
          "Italy",
          "United",
          "Mexico",
          "Indonesia",
          "Ukraine",
          "United",
          "United",
          "United",
          "Poland",
          "United",
          "United",
          "United",
          "United",
          "United",
          "United",
          "United",
          "United",
          "United",
          "United",
          "United",
          "United",
          "United",
          "Egypt",
          "United",
          "United",
          "United",
          "United",
          "United",
          "United",
          "United",
          "United",
          "United",
          "United",
          "Ireland,",
          "United",
          "United",
          "United",
          "Thailand",
          "United",
          "United",
          "Belgium,",
          "United",
          "United",
          "United",
          "Egypt",
          "United",
          "Australia,",
          "New",
          "United",
          "Philippines",
          "Nigeria",
          "United",
          "United",
          "United",
          "China",
          "United",
          "Israel",
          "France",
          "United",
          "United",
          "Canada",
          "Taiwan",
          "Ireland",
          "Hong",
          "Canada",
          "India",
          "United",
          "United",
          "Thailand",
          "South",
          "China",
          "Belgium",
          "India,",
          "Thailand",
          "United",
          "United",
          "United",
          "United",
          "Hong",
          "United",
          "United",
          "United",
          "China",
          "China",
          "India",
          "India",
          "United",
          "United",
          "United",
          "United",
          "Germany,",
          "United",
          "United",
          "United",
          "Canada",
          "United",
          "United",
          "United",
          "United",
          "United",
          "India",
          "United",
          "United",
          "United",
          "United",
          "India",
          "Thailand",
          "South",
          "United",
          "United",
          "United",
          "United",
          "United",
          "United",
          "Canada",
          "United",
          "United",
          "United",
          "United",
          "South",
          "United",
          "United",
          "India",
          "India",
          "India",
          "United",
          "United",
          "Russia",
          "United",
          "United",
          "United",
          "United",
          "Canada,",
          "India",
          "United",
          "United",
          "United",
          "Japan,",
          "United",
          "United",
          "United",
          "India",
          "United",
          "Canada",
          "Australia",
          "United",
          "India",
          "Thailand",
          "United",
          "United",
          "United",
          "United",
          "Switzerland,",
          "Canada",
          "United",
          "United",
          "Canada,",
          "Egypt",
          "United",
          "India",
          "Egypt",
          "United",
          "United",
          "United",
          "United",
          "India",
          "India",
          "United",
          "United",
          "United",
          "United",
          "United",
          "United",
          "United",
          "India",
          "India",
          "Turkey",
          "India",
          "South",
          "United",
          "Pakistan",
          "India",
          "India",
          "United",
          "United",
          "United",
          "United",
          "United",
          "United",
          "India",
          "United",
          "United",
          "Egypt",
          "Mexico",
          "Poland",
          "United",
          "United",
          "United",
          "United",
          "Spain",
          "United",
          "United",
          "United",
          "Poland",
          "United",
          "Hong",
          "United",
          "India",
          "United",
          "United",
          "United",
          "Poland",
          "United",
          "China",
          "Turkey",
          "Taiwan",
          "United",
          "United",
          "United",
          "Indonesia",
          "United",
          "United",
          "Peru,",
          "Germany,",
          "United",
          "United",
          "United",
          "United",
          "United",
          "United",
          "Taiwan",
          "United",
          "Canada,",
          "United",
          "United",
          "United",
          "United",
          "United",
          "United",
          "United",
          "France,",
          "United",
          "Australia",
          "Turkey",
          "United",
          "United",
          "United",
          "Canada",
          "United",
          "United",
          "United",
          "United",
          "United",
          "United",
          "United",
          "Pakistan",
          "India",
          "United",
          "United",
          "Canada,",
          "United",
          "United",
          "Mexico",
          "India",
          "India",
          "India",
          "India",
          "India",
          "Egypt,",
          "India",
          "France,",
          "Thailand",
          "Thailand",
          "Thailand",
          "United",
          "Japan,",
          "United",
          "United",
          "Russia,",
          "United",
          "United",
          "United",
          "Croatia,",
          "Philippines",
          "United",
          "United",
          "Hong",
          "United",
          "Egypt,",
          "Japan,",
          "Turkey",
          "United",
          "India",
          "India",
          "Pakistan",
          "United",
          "United",
          "United",
          "United",
          "United",
          "India"
         ],
         "xaxis": "x",
         "yaxis": "y"
        }
       ],
       "layout": {
        "barmode": "relative",
        "legend": {
         "tracegroupgap": 0
        },
        "margin": {
         "t": 60
        },
        "template": {
         "data": {
          "bar": [
           {
            "error_x": {
             "color": "#2a3f5f"
            },
            "error_y": {
             "color": "#2a3f5f"
            },
            "marker": {
             "line": {
              "color": "#E5ECF6",
              "width": 0.5
             },
             "pattern": {
              "fillmode": "overlay",
              "size": 10,
              "solidity": 0.2
             }
            },
            "type": "bar"
           }
          ],
          "barpolar": [
           {
            "marker": {
             "line": {
              "color": "#E5ECF6",
              "width": 0.5
             },
             "pattern": {
              "fillmode": "overlay",
              "size": 10,
              "solidity": 0.2
             }
            },
            "type": "barpolar"
           }
          ],
          "carpet": [
           {
            "aaxis": {
             "endlinecolor": "#2a3f5f",
             "gridcolor": "white",
             "linecolor": "white",
             "minorgridcolor": "white",
             "startlinecolor": "#2a3f5f"
            },
            "baxis": {
             "endlinecolor": "#2a3f5f",
             "gridcolor": "white",
             "linecolor": "white",
             "minorgridcolor": "white",
             "startlinecolor": "#2a3f5f"
            },
            "type": "carpet"
           }
          ],
          "choropleth": [
           {
            "colorbar": {
             "outlinewidth": 0,
             "ticks": ""
            },
            "type": "choropleth"
           }
          ],
          "contour": [
           {
            "colorbar": {
             "outlinewidth": 0,
             "ticks": ""
            },
            "colorscale": [
             [
              0,
              "#0d0887"
             ],
             [
              0.1111111111111111,
              "#46039f"
             ],
             [
              0.2222222222222222,
              "#7201a8"
             ],
             [
              0.3333333333333333,
              "#9c179e"
             ],
             [
              0.4444444444444444,
              "#bd3786"
             ],
             [
              0.5555555555555556,
              "#d8576b"
             ],
             [
              0.6666666666666666,
              "#ed7953"
             ],
             [
              0.7777777777777778,
              "#fb9f3a"
             ],
             [
              0.8888888888888888,
              "#fdca26"
             ],
             [
              1,
              "#f0f921"
             ]
            ],
            "type": "contour"
           }
          ],
          "contourcarpet": [
           {
            "colorbar": {
             "outlinewidth": 0,
             "ticks": ""
            },
            "type": "contourcarpet"
           }
          ],
          "heatmap": [
           {
            "colorbar": {
             "outlinewidth": 0,
             "ticks": ""
            },
            "colorscale": [
             [
              0,
              "#0d0887"
             ],
             [
              0.1111111111111111,
              "#46039f"
             ],
             [
              0.2222222222222222,
              "#7201a8"
             ],
             [
              0.3333333333333333,
              "#9c179e"
             ],
             [
              0.4444444444444444,
              "#bd3786"
             ],
             [
              0.5555555555555556,
              "#d8576b"
             ],
             [
              0.6666666666666666,
              "#ed7953"
             ],
             [
              0.7777777777777778,
              "#fb9f3a"
             ],
             [
              0.8888888888888888,
              "#fdca26"
             ],
             [
              1,
              "#f0f921"
             ]
            ],
            "type": "heatmap"
           }
          ],
          "heatmapgl": [
           {
            "colorbar": {
             "outlinewidth": 0,
             "ticks": ""
            },
            "colorscale": [
             [
              0,
              "#0d0887"
             ],
             [
              0.1111111111111111,
              "#46039f"
             ],
             [
              0.2222222222222222,
              "#7201a8"
             ],
             [
              0.3333333333333333,
              "#9c179e"
             ],
             [
              0.4444444444444444,
              "#bd3786"
             ],
             [
              0.5555555555555556,
              "#d8576b"
             ],
             [
              0.6666666666666666,
              "#ed7953"
             ],
             [
              0.7777777777777778,
              "#fb9f3a"
             ],
             [
              0.8888888888888888,
              "#fdca26"
             ],
             [
              1,
              "#f0f921"
             ]
            ],
            "type": "heatmapgl"
           }
          ],
          "histogram": [
           {
            "marker": {
             "pattern": {
              "fillmode": "overlay",
              "size": 10,
              "solidity": 0.2
             }
            },
            "type": "histogram"
           }
          ],
          "histogram2d": [
           {
            "colorbar": {
             "outlinewidth": 0,
             "ticks": ""
            },
            "colorscale": [
             [
              0,
              "#0d0887"
             ],
             [
              0.1111111111111111,
              "#46039f"
             ],
             [
              0.2222222222222222,
              "#7201a8"
             ],
             [
              0.3333333333333333,
              "#9c179e"
             ],
             [
              0.4444444444444444,
              "#bd3786"
             ],
             [
              0.5555555555555556,
              "#d8576b"
             ],
             [
              0.6666666666666666,
              "#ed7953"
             ],
             [
              0.7777777777777778,
              "#fb9f3a"
             ],
             [
              0.8888888888888888,
              "#fdca26"
             ],
             [
              1,
              "#f0f921"
             ]
            ],
            "type": "histogram2d"
           }
          ],
          "histogram2dcontour": [
           {
            "colorbar": {
             "outlinewidth": 0,
             "ticks": ""
            },
            "colorscale": [
             [
              0,
              "#0d0887"
             ],
             [
              0.1111111111111111,
              "#46039f"
             ],
             [
              0.2222222222222222,
              "#7201a8"
             ],
             [
              0.3333333333333333,
              "#9c179e"
             ],
             [
              0.4444444444444444,
              "#bd3786"
             ],
             [
              0.5555555555555556,
              "#d8576b"
             ],
             [
              0.6666666666666666,
              "#ed7953"
             ],
             [
              0.7777777777777778,
              "#fb9f3a"
             ],
             [
              0.8888888888888888,
              "#fdca26"
             ],
             [
              1,
              "#f0f921"
             ]
            ],
            "type": "histogram2dcontour"
           }
          ],
          "mesh3d": [
           {
            "colorbar": {
             "outlinewidth": 0,
             "ticks": ""
            },
            "type": "mesh3d"
           }
          ],
          "parcoords": [
           {
            "line": {
             "colorbar": {
              "outlinewidth": 0,
              "ticks": ""
             }
            },
            "type": "parcoords"
           }
          ],
          "pie": [
           {
            "automargin": true,
            "type": "pie"
           }
          ],
          "scatter": [
           {
            "marker": {
             "colorbar": {
              "outlinewidth": 0,
              "ticks": ""
             }
            },
            "type": "scatter"
           }
          ],
          "scatter3d": [
           {
            "line": {
             "colorbar": {
              "outlinewidth": 0,
              "ticks": ""
             }
            },
            "marker": {
             "colorbar": {
              "outlinewidth": 0,
              "ticks": ""
             }
            },
            "type": "scatter3d"
           }
          ],
          "scattercarpet": [
           {
            "marker": {
             "colorbar": {
              "outlinewidth": 0,
              "ticks": ""
             }
            },
            "type": "scattercarpet"
           }
          ],
          "scattergeo": [
           {
            "marker": {
             "colorbar": {
              "outlinewidth": 0,
              "ticks": ""
             }
            },
            "type": "scattergeo"
           }
          ],
          "scattergl": [
           {
            "marker": {
             "colorbar": {
              "outlinewidth": 0,
              "ticks": ""
             }
            },
            "type": "scattergl"
           }
          ],
          "scattermapbox": [
           {
            "marker": {
             "colorbar": {
              "outlinewidth": 0,
              "ticks": ""
             }
            },
            "type": "scattermapbox"
           }
          ],
          "scatterpolar": [
           {
            "marker": {
             "colorbar": {
              "outlinewidth": 0,
              "ticks": ""
             }
            },
            "type": "scatterpolar"
           }
          ],
          "scatterpolargl": [
           {
            "marker": {
             "colorbar": {
              "outlinewidth": 0,
              "ticks": ""
             }
            },
            "type": "scatterpolargl"
           }
          ],
          "scatterternary": [
           {
            "marker": {
             "colorbar": {
              "outlinewidth": 0,
              "ticks": ""
             }
            },
            "type": "scatterternary"
           }
          ],
          "surface": [
           {
            "colorbar": {
             "outlinewidth": 0,
             "ticks": ""
            },
            "colorscale": [
             [
              0,
              "#0d0887"
             ],
             [
              0.1111111111111111,
              "#46039f"
             ],
             [
              0.2222222222222222,
              "#7201a8"
             ],
             [
              0.3333333333333333,
              "#9c179e"
             ],
             [
              0.4444444444444444,
              "#bd3786"
             ],
             [
              0.5555555555555556,
              "#d8576b"
             ],
             [
              0.6666666666666666,
              "#ed7953"
             ],
             [
              0.7777777777777778,
              "#fb9f3a"
             ],
             [
              0.8888888888888888,
              "#fdca26"
             ],
             [
              1,
              "#f0f921"
             ]
            ],
            "type": "surface"
           }
          ],
          "table": [
           {
            "cells": {
             "fill": {
              "color": "#EBF0F8"
             },
             "line": {
              "color": "white"
             }
            },
            "header": {
             "fill": {
              "color": "#C8D4E3"
             },
             "line": {
              "color": "white"
             }
            },
            "type": "table"
           }
          ]
         },
         "layout": {
          "annotationdefaults": {
           "arrowcolor": "#2a3f5f",
           "arrowhead": 0,
           "arrowwidth": 1
          },
          "autotypenumbers": "strict",
          "coloraxis": {
           "colorbar": {
            "outlinewidth": 0,
            "ticks": ""
           }
          },
          "colorscale": {
           "diverging": [
            [
             0,
             "#8e0152"
            ],
            [
             0.1,
             "#c51b7d"
            ],
            [
             0.2,
             "#de77ae"
            ],
            [
             0.3,
             "#f1b6da"
            ],
            [
             0.4,
             "#fde0ef"
            ],
            [
             0.5,
             "#f7f7f7"
            ],
            [
             0.6,
             "#e6f5d0"
            ],
            [
             0.7,
             "#b8e186"
            ],
            [
             0.8,
             "#7fbc41"
            ],
            [
             0.9,
             "#4d9221"
            ],
            [
             1,
             "#276419"
            ]
           ],
           "sequential": [
            [
             0,
             "#0d0887"
            ],
            [
             0.1111111111111111,
             "#46039f"
            ],
            [
             0.2222222222222222,
             "#7201a8"
            ],
            [
             0.3333333333333333,
             "#9c179e"
            ],
            [
             0.4444444444444444,
             "#bd3786"
            ],
            [
             0.5555555555555556,
             "#d8576b"
            ],
            [
             0.6666666666666666,
             "#ed7953"
            ],
            [
             0.7777777777777778,
             "#fb9f3a"
            ],
            [
             0.8888888888888888,
             "#fdca26"
            ],
            [
             1,
             "#f0f921"
            ]
           ],
           "sequentialminus": [
            [
             0,
             "#0d0887"
            ],
            [
             0.1111111111111111,
             "#46039f"
            ],
            [
             0.2222222222222222,
             "#7201a8"
            ],
            [
             0.3333333333333333,
             "#9c179e"
            ],
            [
             0.4444444444444444,
             "#bd3786"
            ],
            [
             0.5555555555555556,
             "#d8576b"
            ],
            [
             0.6666666666666666,
             "#ed7953"
            ],
            [
             0.7777777777777778,
             "#fb9f3a"
            ],
            [
             0.8888888888888888,
             "#fdca26"
            ],
            [
             1,
             "#f0f921"
            ]
           ]
          },
          "colorway": [
           "#636efa",
           "#EF553B",
           "#00cc96",
           "#ab63fa",
           "#FFA15A",
           "#19d3f3",
           "#FF6692",
           "#B6E880",
           "#FF97FF",
           "#FECB52"
          ],
          "font": {
           "color": "#2a3f5f"
          },
          "geo": {
           "bgcolor": "white",
           "lakecolor": "white",
           "landcolor": "#E5ECF6",
           "showlakes": true,
           "showland": true,
           "subunitcolor": "white"
          },
          "hoverlabel": {
           "align": "left"
          },
          "hovermode": "closest",
          "mapbox": {
           "style": "light"
          },
          "paper_bgcolor": "white",
          "plot_bgcolor": "#E5ECF6",
          "polar": {
           "angularaxis": {
            "gridcolor": "white",
            "linecolor": "white",
            "ticks": ""
           },
           "bgcolor": "#E5ECF6",
           "radialaxis": {
            "gridcolor": "white",
            "linecolor": "white",
            "ticks": ""
           }
          },
          "scene": {
           "xaxis": {
            "backgroundcolor": "#E5ECF6",
            "gridcolor": "white",
            "gridwidth": 2,
            "linecolor": "white",
            "showbackground": true,
            "ticks": "",
            "zerolinecolor": "white"
           },
           "yaxis": {
            "backgroundcolor": "#E5ECF6",
            "gridcolor": "white",
            "gridwidth": 2,
            "linecolor": "white",
            "showbackground": true,
            "ticks": "",
            "zerolinecolor": "white"
           },
           "zaxis": {
            "backgroundcolor": "#E5ECF6",
            "gridcolor": "white",
            "gridwidth": 2,
            "linecolor": "white",
            "showbackground": true,
            "ticks": "",
            "zerolinecolor": "white"
           }
          },
          "shapedefaults": {
           "line": {
            "color": "#2a3f5f"
           }
          },
          "ternary": {
           "aaxis": {
            "gridcolor": "white",
            "linecolor": "white",
            "ticks": ""
           },
           "baxis": {
            "gridcolor": "white",
            "linecolor": "white",
            "ticks": ""
           },
           "bgcolor": "#E5ECF6",
           "caxis": {
            "gridcolor": "white",
            "linecolor": "white",
            "ticks": ""
           }
          },
          "title": {
           "x": 0.05
          },
          "xaxis": {
           "automargin": true,
           "gridcolor": "white",
           "linecolor": "white",
           "ticks": "",
           "title": {
            "standoff": 15
           },
           "zerolinecolor": "white",
           "zerolinewidth": 2
          },
          "yaxis": {
           "automargin": true,
           "gridcolor": "white",
           "linecolor": "white",
           "ticks": "",
           "title": {
            "standoff": 15
           },
           "zerolinecolor": "white",
           "zerolinewidth": 2
          }
         }
        },
        "xaxis": {
         "anchor": "y",
         "categoryorder": "total descending",
         "domain": [
          0,
          1
         ],
         "title": {
          "text": "principal_country"
         }
        },
        "yaxis": {
         "anchor": "x",
         "domain": [
          0,
          1
         ],
         "title": {
          "text": "count"
         }
        }
       }
      }
     },
     "metadata": {},
     "output_type": "display_data"
    }
   ],
   "source": [
    "fig = px.histogram(df, x='principal_country')\n",
    "fig.update_xaxes(categoryorder='total descending')\n",
    "fig.show()"
   ]
  },
  {
   "cell_type": "code",
   "execution_count": 32,
   "metadata": {},
   "outputs": [
    {
     "data": {
      "application/vnd.plotly.v1+json": {
       "config": {
        "plotlyServerURL": "https://plot.ly"
       },
       "data": [
        {
         "marker": {
          "color": "green"
         },
         "mode": "lines+markers",
         "name": "Movie: Released Year",
         "type": "scatter",
         "x": [
          2011,
          2012,
          2013,
          2014,
          2015,
          2016,
          2017,
          2018,
          2019,
          2020,
          2021
         ],
         "y": [
          145,
          173,
          225,
          264,
          397,
          658,
          766,
          767,
          633,
          517,
          277
         ]
        },
        {
         "marker": {
          "color": "darkgreen"
         },
         "mode": "lines+markers",
         "name": "TV Show: Released Year",
         "type": "scatter",
         "x": [
          2011,
          2012,
          2013,
          2014,
          2015,
          2016,
          2017,
          2018,
          2019,
          2020,
          2021
         ],
         "y": [
          40,
          63,
          62,
          88,
          160,
          243,
          265,
          379,
          397,
          436,
          315
         ]
        },
        {
         "marker": {
          "color": "orange"
         },
         "mode": "lines+markers",
         "name": "Movie: added Year",
         "type": "scatter",
         "x": [
          2011,
          2012,
          2013,
          2014,
          2015,
          2016,
          2017,
          2018,
          2019,
          2020,
          2021
         ],
         "y": [
          13,
          3,
          6,
          19,
          56,
          251,
          838,
          1237,
          1424,
          1284,
          993
         ]
        },
        {
         "marker": {
          "color": "darkorange"
         },
         "mode": "lines+markers",
         "name": "TV Show: added Year",
         "type": "scatter",
         "x": [
          2011,
          2012,
          2013,
          2014,
          2015,
          2016,
          2017,
          2018,
          2019,
          2020,
          2021
         ],
         "y": [
          0,
          0,
          5,
          5,
          26,
          176,
          349,
          412,
          592,
          595,
          505
         ]
        }
       ],
       "layout": {
        "template": {
         "data": {
          "bar": [
           {
            "error_x": {
             "color": "#2a3f5f"
            },
            "error_y": {
             "color": "#2a3f5f"
            },
            "marker": {
             "line": {
              "color": "#E5ECF6",
              "width": 0.5
             },
             "pattern": {
              "fillmode": "overlay",
              "size": 10,
              "solidity": 0.2
             }
            },
            "type": "bar"
           }
          ],
          "barpolar": [
           {
            "marker": {
             "line": {
              "color": "#E5ECF6",
              "width": 0.5
             },
             "pattern": {
              "fillmode": "overlay",
              "size": 10,
              "solidity": 0.2
             }
            },
            "type": "barpolar"
           }
          ],
          "carpet": [
           {
            "aaxis": {
             "endlinecolor": "#2a3f5f",
             "gridcolor": "white",
             "linecolor": "white",
             "minorgridcolor": "white",
             "startlinecolor": "#2a3f5f"
            },
            "baxis": {
             "endlinecolor": "#2a3f5f",
             "gridcolor": "white",
             "linecolor": "white",
             "minorgridcolor": "white",
             "startlinecolor": "#2a3f5f"
            },
            "type": "carpet"
           }
          ],
          "choropleth": [
           {
            "colorbar": {
             "outlinewidth": 0,
             "ticks": ""
            },
            "type": "choropleth"
           }
          ],
          "contour": [
           {
            "colorbar": {
             "outlinewidth": 0,
             "ticks": ""
            },
            "colorscale": [
             [
              0,
              "#0d0887"
             ],
             [
              0.1111111111111111,
              "#46039f"
             ],
             [
              0.2222222222222222,
              "#7201a8"
             ],
             [
              0.3333333333333333,
              "#9c179e"
             ],
             [
              0.4444444444444444,
              "#bd3786"
             ],
             [
              0.5555555555555556,
              "#d8576b"
             ],
             [
              0.6666666666666666,
              "#ed7953"
             ],
             [
              0.7777777777777778,
              "#fb9f3a"
             ],
             [
              0.8888888888888888,
              "#fdca26"
             ],
             [
              1,
              "#f0f921"
             ]
            ],
            "type": "contour"
           }
          ],
          "contourcarpet": [
           {
            "colorbar": {
             "outlinewidth": 0,
             "ticks": ""
            },
            "type": "contourcarpet"
           }
          ],
          "heatmap": [
           {
            "colorbar": {
             "outlinewidth": 0,
             "ticks": ""
            },
            "colorscale": [
             [
              0,
              "#0d0887"
             ],
             [
              0.1111111111111111,
              "#46039f"
             ],
             [
              0.2222222222222222,
              "#7201a8"
             ],
             [
              0.3333333333333333,
              "#9c179e"
             ],
             [
              0.4444444444444444,
              "#bd3786"
             ],
             [
              0.5555555555555556,
              "#d8576b"
             ],
             [
              0.6666666666666666,
              "#ed7953"
             ],
             [
              0.7777777777777778,
              "#fb9f3a"
             ],
             [
              0.8888888888888888,
              "#fdca26"
             ],
             [
              1,
              "#f0f921"
             ]
            ],
            "type": "heatmap"
           }
          ],
          "heatmapgl": [
           {
            "colorbar": {
             "outlinewidth": 0,
             "ticks": ""
            },
            "colorscale": [
             [
              0,
              "#0d0887"
             ],
             [
              0.1111111111111111,
              "#46039f"
             ],
             [
              0.2222222222222222,
              "#7201a8"
             ],
             [
              0.3333333333333333,
              "#9c179e"
             ],
             [
              0.4444444444444444,
              "#bd3786"
             ],
             [
              0.5555555555555556,
              "#d8576b"
             ],
             [
              0.6666666666666666,
              "#ed7953"
             ],
             [
              0.7777777777777778,
              "#fb9f3a"
             ],
             [
              0.8888888888888888,
              "#fdca26"
             ],
             [
              1,
              "#f0f921"
             ]
            ],
            "type": "heatmapgl"
           }
          ],
          "histogram": [
           {
            "marker": {
             "pattern": {
              "fillmode": "overlay",
              "size": 10,
              "solidity": 0.2
             }
            },
            "type": "histogram"
           }
          ],
          "histogram2d": [
           {
            "colorbar": {
             "outlinewidth": 0,
             "ticks": ""
            },
            "colorscale": [
             [
              0,
              "#0d0887"
             ],
             [
              0.1111111111111111,
              "#46039f"
             ],
             [
              0.2222222222222222,
              "#7201a8"
             ],
             [
              0.3333333333333333,
              "#9c179e"
             ],
             [
              0.4444444444444444,
              "#bd3786"
             ],
             [
              0.5555555555555556,
              "#d8576b"
             ],
             [
              0.6666666666666666,
              "#ed7953"
             ],
             [
              0.7777777777777778,
              "#fb9f3a"
             ],
             [
              0.8888888888888888,
              "#fdca26"
             ],
             [
              1,
              "#f0f921"
             ]
            ],
            "type": "histogram2d"
           }
          ],
          "histogram2dcontour": [
           {
            "colorbar": {
             "outlinewidth": 0,
             "ticks": ""
            },
            "colorscale": [
             [
              0,
              "#0d0887"
             ],
             [
              0.1111111111111111,
              "#46039f"
             ],
             [
              0.2222222222222222,
              "#7201a8"
             ],
             [
              0.3333333333333333,
              "#9c179e"
             ],
             [
              0.4444444444444444,
              "#bd3786"
             ],
             [
              0.5555555555555556,
              "#d8576b"
             ],
             [
              0.6666666666666666,
              "#ed7953"
             ],
             [
              0.7777777777777778,
              "#fb9f3a"
             ],
             [
              0.8888888888888888,
              "#fdca26"
             ],
             [
              1,
              "#f0f921"
             ]
            ],
            "type": "histogram2dcontour"
           }
          ],
          "mesh3d": [
           {
            "colorbar": {
             "outlinewidth": 0,
             "ticks": ""
            },
            "type": "mesh3d"
           }
          ],
          "parcoords": [
           {
            "line": {
             "colorbar": {
              "outlinewidth": 0,
              "ticks": ""
             }
            },
            "type": "parcoords"
           }
          ],
          "pie": [
           {
            "automargin": true,
            "type": "pie"
           }
          ],
          "scatter": [
           {
            "marker": {
             "colorbar": {
              "outlinewidth": 0,
              "ticks": ""
             }
            },
            "type": "scatter"
           }
          ],
          "scatter3d": [
           {
            "line": {
             "colorbar": {
              "outlinewidth": 0,
              "ticks": ""
             }
            },
            "marker": {
             "colorbar": {
              "outlinewidth": 0,
              "ticks": ""
             }
            },
            "type": "scatter3d"
           }
          ],
          "scattercarpet": [
           {
            "marker": {
             "colorbar": {
              "outlinewidth": 0,
              "ticks": ""
             }
            },
            "type": "scattercarpet"
           }
          ],
          "scattergeo": [
           {
            "marker": {
             "colorbar": {
              "outlinewidth": 0,
              "ticks": ""
             }
            },
            "type": "scattergeo"
           }
          ],
          "scattergl": [
           {
            "marker": {
             "colorbar": {
              "outlinewidth": 0,
              "ticks": ""
             }
            },
            "type": "scattergl"
           }
          ],
          "scattermapbox": [
           {
            "marker": {
             "colorbar": {
              "outlinewidth": 0,
              "ticks": ""
             }
            },
            "type": "scattermapbox"
           }
          ],
          "scatterpolar": [
           {
            "marker": {
             "colorbar": {
              "outlinewidth": 0,
              "ticks": ""
             }
            },
            "type": "scatterpolar"
           }
          ],
          "scatterpolargl": [
           {
            "marker": {
             "colorbar": {
              "outlinewidth": 0,
              "ticks": ""
             }
            },
            "type": "scatterpolargl"
           }
          ],
          "scatterternary": [
           {
            "marker": {
             "colorbar": {
              "outlinewidth": 0,
              "ticks": ""
             }
            },
            "type": "scatterternary"
           }
          ],
          "surface": [
           {
            "colorbar": {
             "outlinewidth": 0,
             "ticks": ""
            },
            "colorscale": [
             [
              0,
              "#0d0887"
             ],
             [
              0.1111111111111111,
              "#46039f"
             ],
             [
              0.2222222222222222,
              "#7201a8"
             ],
             [
              0.3333333333333333,
              "#9c179e"
             ],
             [
              0.4444444444444444,
              "#bd3786"
             ],
             [
              0.5555555555555556,
              "#d8576b"
             ],
             [
              0.6666666666666666,
              "#ed7953"
             ],
             [
              0.7777777777777778,
              "#fb9f3a"
             ],
             [
              0.8888888888888888,
              "#fdca26"
             ],
             [
              1,
              "#f0f921"
             ]
            ],
            "type": "surface"
           }
          ],
          "table": [
           {
            "cells": {
             "fill": {
              "color": "#EBF0F8"
             },
             "line": {
              "color": "white"
             }
            },
            "header": {
             "fill": {
              "color": "#C8D4E3"
             },
             "line": {
              "color": "white"
             }
            },
            "type": "table"
           }
          ]
         },
         "layout": {
          "annotationdefaults": {
           "arrowcolor": "#2a3f5f",
           "arrowhead": 0,
           "arrowwidth": 1
          },
          "autotypenumbers": "strict",
          "coloraxis": {
           "colorbar": {
            "outlinewidth": 0,
            "ticks": ""
           }
          },
          "colorscale": {
           "diverging": [
            [
             0,
             "#8e0152"
            ],
            [
             0.1,
             "#c51b7d"
            ],
            [
             0.2,
             "#de77ae"
            ],
            [
             0.3,
             "#f1b6da"
            ],
            [
             0.4,
             "#fde0ef"
            ],
            [
             0.5,
             "#f7f7f7"
            ],
            [
             0.6,
             "#e6f5d0"
            ],
            [
             0.7,
             "#b8e186"
            ],
            [
             0.8,
             "#7fbc41"
            ],
            [
             0.9,
             "#4d9221"
            ],
            [
             1,
             "#276419"
            ]
           ],
           "sequential": [
            [
             0,
             "#0d0887"
            ],
            [
             0.1111111111111111,
             "#46039f"
            ],
            [
             0.2222222222222222,
             "#7201a8"
            ],
            [
             0.3333333333333333,
             "#9c179e"
            ],
            [
             0.4444444444444444,
             "#bd3786"
            ],
            [
             0.5555555555555556,
             "#d8576b"
            ],
            [
             0.6666666666666666,
             "#ed7953"
            ],
            [
             0.7777777777777778,
             "#fb9f3a"
            ],
            [
             0.8888888888888888,
             "#fdca26"
            ],
            [
             1,
             "#f0f921"
            ]
           ],
           "sequentialminus": [
            [
             0,
             "#0d0887"
            ],
            [
             0.1111111111111111,
             "#46039f"
            ],
            [
             0.2222222222222222,
             "#7201a8"
            ],
            [
             0.3333333333333333,
             "#9c179e"
            ],
            [
             0.4444444444444444,
             "#bd3786"
            ],
            [
             0.5555555555555556,
             "#d8576b"
            ],
            [
             0.6666666666666666,
             "#ed7953"
            ],
            [
             0.7777777777777778,
             "#fb9f3a"
            ],
            [
             0.8888888888888888,
             "#fdca26"
            ],
            [
             1,
             "#f0f921"
            ]
           ]
          },
          "colorway": [
           "#636efa",
           "#EF553B",
           "#00cc96",
           "#ab63fa",
           "#FFA15A",
           "#19d3f3",
           "#FF6692",
           "#B6E880",
           "#FF97FF",
           "#FECB52"
          ],
          "font": {
           "color": "#2a3f5f"
          },
          "geo": {
           "bgcolor": "white",
           "lakecolor": "white",
           "landcolor": "#E5ECF6",
           "showlakes": true,
           "showland": true,
           "subunitcolor": "white"
          },
          "hoverlabel": {
           "align": "left"
          },
          "hovermode": "closest",
          "mapbox": {
           "style": "light"
          },
          "paper_bgcolor": "white",
          "plot_bgcolor": "#E5ECF6",
          "polar": {
           "angularaxis": {
            "gridcolor": "white",
            "linecolor": "white",
            "ticks": ""
           },
           "bgcolor": "#E5ECF6",
           "radialaxis": {
            "gridcolor": "white",
            "linecolor": "white",
            "ticks": ""
           }
          },
          "scene": {
           "xaxis": {
            "backgroundcolor": "#E5ECF6",
            "gridcolor": "white",
            "gridwidth": 2,
            "linecolor": "white",
            "showbackground": true,
            "ticks": "",
            "zerolinecolor": "white"
           },
           "yaxis": {
            "backgroundcolor": "#E5ECF6",
            "gridcolor": "white",
            "gridwidth": 2,
            "linecolor": "white",
            "showbackground": true,
            "ticks": "",
            "zerolinecolor": "white"
           },
           "zaxis": {
            "backgroundcolor": "#E5ECF6",
            "gridcolor": "white",
            "gridwidth": 2,
            "linecolor": "white",
            "showbackground": true,
            "ticks": "",
            "zerolinecolor": "white"
           }
          },
          "shapedefaults": {
           "line": {
            "color": "#2a3f5f"
           }
          },
          "ternary": {
           "aaxis": {
            "gridcolor": "white",
            "linecolor": "white",
            "ticks": ""
           },
           "baxis": {
            "gridcolor": "white",
            "linecolor": "white",
            "ticks": ""
           },
           "bgcolor": "#E5ECF6",
           "caxis": {
            "gridcolor": "white",
            "linecolor": "white",
            "ticks": ""
           }
          },
          "title": {
           "x": 0.05
          },
          "xaxis": {
           "automargin": true,
           "gridcolor": "white",
           "linecolor": "white",
           "ticks": "",
           "title": {
            "standoff": 15
           },
           "zerolinecolor": "white",
           "zerolinewidth": 2
          },
          "yaxis": {
           "automargin": true,
           "gridcolor": "white",
           "linecolor": "white",
           "ticks": "",
           "title": {
            "standoff": 15
           },
           "zerolinecolor": "white",
           "zerolinewidth": 2
          }
         }
        },
        "xaxis": {
         "categoryorder": "total descending"
        }
       }
      }
     },
     "metadata": {},
     "output_type": "display_data"
    }
   ],
   "source": [
    "released_year_df = df.loc[df['release_year'] > 2010].groupby(['release_year', 'type']).agg({'show_id' : 'count'}).reset_index()\n",
    "added_year_df = df.loc[df['year_added'] > 2010].groupby(['year_added', 'type']).agg({'show_id' : 'count'}).reset_index()\n",
    "\n",
    "fig = go.Figure()\n",
    "fig.add_trace(go.Scatter(\n",
    "  x=released_year_df.loc[released_year_df['type'] == 'Movie']['release_year'],\n",
    "  y=released_year_df.loc[released_year_df['type'] == 'Movie']['show_id'],\n",
    "  mode='lines+markers',\n",
    "  name='Movie: Released Year',\n",
    "  marker_color='green'\n",
    "))\n",
    "fig.add_trace(go.Scatter(\n",
    "  x=released_year_df.loc[released_year_df['type'] == 'TV Show']['release_year'],\n",
    "  y=released_year_df.loc[released_year_df['type'] == 'TV Show']['show_id'],\n",
    "  mode='lines+markers',\n",
    "  name='TV Show: Released Year',\n",
    "  marker_color='darkgreen'\n",
    "))\n",
    "fig.add_trace(go.Scatter(\n",
    "  x=added_year_df.loc[added_year_df['type'] == 'Movie']['year_added'],\n",
    "  y=added_year_df.loc[added_year_df['type'] == 'Movie']['show_id'],\n",
    "  mode='lines+markers',\n",
    "  name='Movie: added Year',\n",
    "  marker_color='orange'\n",
    "))\n",
    "fig.add_trace(go.Scatter(\n",
    "  x=added_year_df.loc[added_year_df['type'] == 'TV Show']['year_added'],\n",
    "  y=added_year_df.loc[added_year_df['type'] == 'TV Show']['show_id'],\n",
    "  mode='lines+markers',\n",
    "  name='TV Show: added Year',\n",
    "  marker_color='darkorange'\n",
    "))\n",
    "fig.update_xaxes(categoryorder='total descending')\n",
    "fig.show()"
   ]
  },
  {
   "cell_type": "code",
   "execution_count": 35,
   "metadata": {},
   "outputs": [
    {
     "data": {
      "text/plain": [
       "<AxesSubplot:xlabel='release_year'>"
      ]
     },
     "execution_count": 35,
     "metadata": {},
     "output_type": "execute_result"
    },
    {
     "data": {
      "image/png": "[encoded data removed]",
      "text/plain": [
       "<Figure size 432x288 with 1 Axes>"
      ]
     },
     "metadata": {
      "needs_background": "light"
     },
     "output_type": "display_data"
    }
   ],
   "source": [
    "from scipy.stats import norm # 정규분포\n",
    "\n",
    "sns.distplot(df.loc[df['release_year'] > 2000, 'release_year'], fit=norm, kde=False)"
   ]
  },
  {
   "cell_type": "code",
   "execution_count": 36,
   "metadata": {},
   "outputs": [
    {
     "data": {
      "text/html": [
       "<div>\n",
       "<style scoped>\n",
       "    .dataframe tbody tr th:only-of-type {\n",
       "        vertical-align: middle;\n",
       "    }\n",
       "\n",
       "    .dataframe tbody tr th {\n",
       "        vertical-align: top;\n",
       "    }\n",
       "\n",
       "    .dataframe thead th {\n",
       "        text-align: right;\n",
       "    }\n",
       "</style>\n",
       "<table border=\"1\" class=\"dataframe\">\n",
       "  <thead>\n",
       "    <tr style=\"text-align: right;\">\n",
       "      <th></th>\n",
       "      <th>show_id</th>\n",
       "      <th>type</th>\n",
       "      <th>title</th>\n",
       "      <th>country</th>\n",
       "      <th>date_added</th>\n",
       "      <th>release_year</th>\n",
       "      <th>rating</th>\n",
       "      <th>duration</th>\n",
       "      <th>listed_in</th>\n",
       "      <th>description</th>\n",
       "      <th>year_added</th>\n",
       "      <th>month_added</th>\n",
       "      <th>target_ages</th>\n",
       "      <th>principal_country</th>\n",
       "    </tr>\n",
       "  </thead>\n",
       "  <tbody>\n",
       "    <tr>\n",
       "      <th>0</th>\n",
       "      <td>s1</td>\n",
       "      <td>Movie</td>\n",
       "      <td>Dick Johnson Is Dead</td>\n",
       "      <td>United States</td>\n",
       "      <td>September 25, 2021</td>\n",
       "      <td>2020</td>\n",
       "      <td>PG-13</td>\n",
       "      <td>90 min</td>\n",
       "      <td>Documentaries</td>\n",
       "      <td>As her father nears the end of his life, filmm...</td>\n",
       "      <td>2021</td>\n",
       "      <td>September</td>\n",
       "      <td>Teens</td>\n",
       "      <td>United</td>\n",
       "    </tr>\n",
       "    <tr>\n",
       "      <th>6</th>\n",
       "      <td>s7</td>\n",
       "      <td>Movie</td>\n",
       "      <td>My Little Pony: A New Generation</td>\n",
       "      <td>United States</td>\n",
       "      <td>September 24, 2021</td>\n",
       "      <td>2021</td>\n",
       "      <td>PG</td>\n",
       "      <td>91 min</td>\n",
       "      <td>Children &amp; Family Movies</td>\n",
       "      <td>Equestria's divided. But a bright-eyed hero be...</td>\n",
       "      <td>2021</td>\n",
       "      <td>September</td>\n",
       "      <td>Older Kids</td>\n",
       "      <td>United</td>\n",
       "    </tr>\n",
       "    <tr>\n",
       "      <th>7</th>\n",
       "      <td>s8</td>\n",
       "      <td>Movie</td>\n",
       "      <td>Sankofa</td>\n",
       "      <td>United States, Ghana, Burkina Faso, United Kin...</td>\n",
       "      <td>September 24, 2021</td>\n",
       "      <td>1993</td>\n",
       "      <td>TV-MA</td>\n",
       "      <td>125 min</td>\n",
       "      <td>Dramas, Independent Movies, International Movies</td>\n",
       "      <td>On a photo shoot in Ghana, an American model s...</td>\n",
       "      <td>2021</td>\n",
       "      <td>September</td>\n",
       "      <td>Adults</td>\n",
       "      <td>United</td>\n",
       "    </tr>\n",
       "    <tr>\n",
       "      <th>9</th>\n",
       "      <td>s10</td>\n",
       "      <td>Movie</td>\n",
       "      <td>The Starling</td>\n",
       "      <td>United States</td>\n",
       "      <td>September 24, 2021</td>\n",
       "      <td>2021</td>\n",
       "      <td>PG-13</td>\n",
       "      <td>104 min</td>\n",
       "      <td>Comedies, Dramas</td>\n",
       "      <td>A woman adjusting to life after a loss contend...</td>\n",
       "      <td>2021</td>\n",
       "      <td>September</td>\n",
       "      <td>Teens</td>\n",
       "      <td>United</td>\n",
       "    </tr>\n",
       "    <tr>\n",
       "      <th>12</th>\n",
       "      <td>s13</td>\n",
       "      <td>Movie</td>\n",
       "      <td>Je Suis Karl</td>\n",
       "      <td>Germany, Czech Republic</td>\n",
       "      <td>September 23, 2021</td>\n",
       "      <td>2021</td>\n",
       "      <td>TV-MA</td>\n",
       "      <td>127 min</td>\n",
       "      <td>Dramas, International Movies</td>\n",
       "      <td>After most of her family is murdered in a terr...</td>\n",
       "      <td>2021</td>\n",
       "      <td>September</td>\n",
       "      <td>Adults</td>\n",
       "      <td>Germany,</td>\n",
       "    </tr>\n",
       "    <tr>\n",
       "      <th>...</th>\n",
       "      <td>...</td>\n",
       "      <td>...</td>\n",
       "      <td>...</td>\n",
       "      <td>...</td>\n",
       "      <td>...</td>\n",
       "      <td>...</td>\n",
       "      <td>...</td>\n",
       "      <td>...</td>\n",
       "      <td>...</td>\n",
       "      <td>...</td>\n",
       "      <td>...</td>\n",
       "      <td>...</td>\n",
       "      <td>...</td>\n",
       "      <td>...</td>\n",
       "    </tr>\n",
       "    <tr>\n",
       "      <th>8801</th>\n",
       "      <td>s8802</td>\n",
       "      <td>Movie</td>\n",
       "      <td>Zinzana</td>\n",
       "      <td>United Arab Emirates, Jordan</td>\n",
       "      <td>March 9, 2016</td>\n",
       "      <td>2015</td>\n",
       "      <td>TV-MA</td>\n",
       "      <td>96 min</td>\n",
       "      <td>Dramas, International Movies, Thrillers</td>\n",
       "      <td>Recovering alcoholic Talal wakes up inside a s...</td>\n",
       "      <td>2016</td>\n",
       "      <td>March</td>\n",
       "      <td>Adults</td>\n",
       "      <td>United</td>\n",
       "    </tr>\n",
       "    <tr>\n",
       "      <th>8802</th>\n",
       "      <td>s8803</td>\n",
       "      <td>Movie</td>\n",
       "      <td>Zodiac</td>\n",
       "      <td>United States</td>\n",
       "      <td>November 20, 2019</td>\n",
       "      <td>2007</td>\n",
       "      <td>R</td>\n",
       "      <td>158 min</td>\n",
       "      <td>Cult Movies, Dramas, Thrillers</td>\n",
       "      <td>A political cartoonist, a crime reporter and a...</td>\n",
       "      <td>2019</td>\n",
       "      <td>November</td>\n",
       "      <td>Adults</td>\n",
       "      <td>United</td>\n",
       "    </tr>\n",
       "    <tr>\n",
       "      <th>8804</th>\n",
       "      <td>s8805</td>\n",
       "      <td>Movie</td>\n",
       "      <td>Zombieland</td>\n",
       "      <td>United States</td>\n",
       "      <td>November 1, 2019</td>\n",
       "      <td>2009</td>\n",
       "      <td>R</td>\n",
       "      <td>88 min</td>\n",
       "      <td>Comedies, Horror Movies</td>\n",
       "      <td>Looking to survive in a world taken over by zo...</td>\n",
       "      <td>2019</td>\n",
       "      <td>November</td>\n",
       "      <td>Adults</td>\n",
       "      <td>United</td>\n",
       "    </tr>\n",
       "    <tr>\n",
       "      <th>8805</th>\n",
       "      <td>s8806</td>\n",
       "      <td>Movie</td>\n",
       "      <td>Zoom</td>\n",
       "      <td>United States</td>\n",
       "      <td>January 11, 2020</td>\n",
       "      <td>2006</td>\n",
       "      <td>PG</td>\n",
       "      <td>88 min</td>\n",
       "      <td>Children &amp; Family Movies, Comedies</td>\n",
       "      <td>Dragged from civilian life, a former superhero...</td>\n",
       "      <td>2020</td>\n",
       "      <td>January</td>\n",
       "      <td>Older Kids</td>\n",
       "      <td>United</td>\n",
       "    </tr>\n",
       "    <tr>\n",
       "      <th>8806</th>\n",
       "      <td>s8807</td>\n",
       "      <td>Movie</td>\n",
       "      <td>Zubaan</td>\n",
       "      <td>India</td>\n",
       "      <td>March 2, 2019</td>\n",
       "      <td>2015</td>\n",
       "      <td>TV-14</td>\n",
       "      <td>111 min</td>\n",
       "      <td>Dramas, International Movies, Music &amp; Musicals</td>\n",
       "      <td>A scrappy but poor boy worms his way into a ty...</td>\n",
       "      <td>2019</td>\n",
       "      <td>March</td>\n",
       "      <td>Teens</td>\n",
       "      <td>India</td>\n",
       "    </tr>\n",
       "  </tbody>\n",
       "</table>\n",
       "<p>6128 rows × 14 columns</p>\n",
       "</div>"
      ],
      "text/plain": [
       "     show_id   type                             title  \\\n",
       "0         s1  Movie              Dick Johnson Is Dead   \n",
       "6         s7  Movie  My Little Pony: A New Generation   \n",
       "7         s8  Movie                           Sankofa   \n",
       "9        s10  Movie                      The Starling   \n",
       "12       s13  Movie                      Je Suis Karl   \n",
       "...      ...    ...                               ...   \n",
       "8801   s8802  Movie                           Zinzana   \n",
       "8802   s8803  Movie                            Zodiac   \n",
       "8804   s8805  Movie                        Zombieland   \n",
       "8805   s8806  Movie                              Zoom   \n",
       "8806   s8807  Movie                            Zubaan   \n",
       "\n",
       "                                                country          date_added  \\\n",
       "0                                         United States  September 25, 2021   \n",
       "6                                         United States  September 24, 2021   \n",
       "7     United States, Ghana, Burkina Faso, United Kin...  September 24, 2021   \n",
       "9                                         United States  September 24, 2021   \n",
       "12                              Germany, Czech Republic  September 23, 2021   \n",
       "...                                                 ...                 ...   \n",
       "8801                       United Arab Emirates, Jordan       March 9, 2016   \n",
       "8802                                      United States   November 20, 2019   \n",
       "8804                                      United States    November 1, 2019   \n",
       "8805                                      United States    January 11, 2020   \n",
       "8806                                              India       March 2, 2019   \n",
       "\n",
       "      release_year rating duration  \\\n",
       "0             2020  PG-13   90 min   \n",
       "6             2021     PG   91 min   \n",
       "7             1993  TV-MA  125 min   \n",
       "9             2021  PG-13  104 min   \n",
       "12            2021  TV-MA  127 min   \n",
       "...            ...    ...      ...   \n",
       "8801          2015  TV-MA   96 min   \n",
       "8802          2007      R  158 min   \n",
       "8804          2009      R   88 min   \n",
       "8805          2006     PG   88 min   \n",
       "8806          2015  TV-14  111 min   \n",
       "\n",
       "                                             listed_in  \\\n",
       "0                                        Documentaries   \n",
       "6                             Children & Family Movies   \n",
       "7     Dramas, Independent Movies, International Movies   \n",
       "9                                     Comedies, Dramas   \n",
       "12                        Dramas, International Movies   \n",
       "...                                                ...   \n",
       "8801           Dramas, International Movies, Thrillers   \n",
       "8802                    Cult Movies, Dramas, Thrillers   \n",
       "8804                           Comedies, Horror Movies   \n",
       "8805                Children & Family Movies, Comedies   \n",
       "8806    Dramas, International Movies, Music & Musicals   \n",
       "\n",
       "                                            description  year_added  \\\n",
       "0     As her father nears the end of his life, filmm...        2021   \n",
       "6     Equestria's divided. But a bright-eyed hero be...        2021   \n",
       "7     On a photo shoot in Ghana, an American model s...        2021   \n",
       "9     A woman adjusting to life after a loss contend...        2021   \n",
       "12    After most of her family is murdered in a terr...        2021   \n",
       "...                                                 ...         ...   \n",
       "8801  Recovering alcoholic Talal wakes up inside a s...        2016   \n",
       "8802  A political cartoonist, a crime reporter and a...        2019   \n",
       "8804  Looking to survive in a world taken over by zo...        2019   \n",
       "8805  Dragged from civilian life, a former superhero...        2020   \n",
       "8806  A scrappy but poor boy worms his way into a ty...        2019   \n",
       "\n",
       "     month_added target_ages principal_country  \n",
       "0      September       Teens            United  \n",
       "6      September  Older Kids            United  \n",
       "7      September      Adults            United  \n",
       "9      September       Teens            United  \n",
       "12     September      Adults          Germany,  \n",
       "...          ...         ...               ...  \n",
       "8801       March      Adults            United  \n",
       "8802    November      Adults            United  \n",
       "8804    November      Adults            United  \n",
       "8805     January  Older Kids            United  \n",
       "8806       March       Teens             India  \n",
       "\n",
       "[6128 rows x 14 columns]"
      ]
     },
     "execution_count": 36,
     "metadata": {},
     "output_type": "execute_result"
    }
   ],
   "source": [
    "movie_df"
   ]
  },
  {
   "cell_type": "code",
   "execution_count": 37,
   "metadata": {},
   "outputs": [
    {
     "data": {
      "text/plain": [
       "0                                         [Documentaries]\n",
       "6                              [Children & Family Movies]\n",
       "7       [Dramas, Independent Movies, International Mov...\n",
       "9                                      [Comedies, Dramas]\n",
       "12                         [Dramas, International Movies]\n",
       "                              ...                        \n",
       "8801            [Dramas, International Movies, Thrillers]\n",
       "8802                     [Cult Movies, Dramas, Thrillers]\n",
       "8804                            [Comedies, Horror Movies]\n",
       "8805                 [Children & Family Movies, Comedies]\n",
       "8806     [Dramas, International Movies, Music & Musicals]\n",
       "Name: genre, Length: 6128, dtype: object"
      ]
     },
     "metadata": {},
     "output_type": "display_data"
    },
    {
     "data": {
      "text/plain": [
       "1       [International TV Shows, TV Dramas, TV Mysteries]\n",
       "2       [Crime TV Shows, International TV Shows, TV Ac...\n",
       "3                                [Docuseries, Reality TV]\n",
       "4       [International TV Shows, Romantic TV Shows, TV...\n",
       "5                    [TV Dramas, TV Horror, TV Mysteries]\n",
       "                              ...                        \n",
       "8795                             [Anime Series, Kids' TV]\n",
       "8796                  [International TV Shows, TV Dramas]\n",
       "8797                                           [Kids' TV]\n",
       "8800    [International TV Shows, Romantic TV Shows, TV...\n",
       "8803             [Kids' TV, Korean TV Shows, TV Comedies]\n",
       "Name: genre, Length: 2666, dtype: object"
      ]
     },
     "metadata": {},
     "output_type": "display_data"
    }
   ],
   "source": [
    "movie_df['genre'] = movie_df['listed_in'].apply(lambda x: x.replace(' ,', ',').replace(', ', ',').split(','))\n",
    "show_df['genre'] = show_df['listed_in'].apply(lambda x: x.replace(' ,', ',').replace(', ', ',').split(','))\n",
    "display(movie_df['genre'])\n",
    "display(show_df['genre'])"
   ]
  },
  {
   "cell_type": "code",
   "execution_count": 38,
   "metadata": {},
   "outputs": [],
   "source": [
    "from sklearn.preprocessing import MultiLabelBinarizer"
   ]
  },
  {
   "cell_type": "code",
   "execution_count": 39,
   "metadata": {},
   "outputs": [],
   "source": [
    "def calculate_mlb(series):\n",
    "  mlb = MultiLabelBinarizer()\n",
    "  mlb_df = pd.DataFrame(mlb.fit_transform(series), columns=mlb.classes_, index=series.index)\n",
    "  return mlb_df"
   ]
  },
  {
   "cell_type": "code",
   "execution_count": 51,
   "metadata": {},
   "outputs": [],
   "source": [
    "def top_genres(df, title='Top ones'):\n",
    "  genres_df = calculate_mlb(df['genre'])\n",
    "  tdata = genres_df.sum().sort_values(ascending=False)\n",
    "  fig = go.Figure()\n",
    "  fig.add_trace(go.Bar(\n",
    "    x=tdata.index,\n",
    "    y=tdata.values,\n",
    "  ))\n",
    "  fig.update_xaxes(categoryorder='total descending')\n",
    "  fig.update_layout(title=title)\n",
    "  fig.show()"
   ]
  },
  {
   "cell_type": "code",
   "execution_count": 52,
   "metadata": {},
   "outputs": [
    {
     "data": {
      "application/vnd.plotly.v1+json": {
       "config": {
        "plotlyServerURL": "https://plot.ly"
       },
       "data": [
        {
         "type": "bar",
         "x": [
          "International Movies",
          "Dramas",
          "Comedies",
          "Documentaries",
          "Action & Adventure",
          "Independent Movies",
          "Children & Family Movies",
          "Romantic Movies",
          "Thrillers",
          "Music & Musicals",
          "Horror Movies",
          "Stand-Up Comedy",
          "Sci-Fi & Fantasy",
          "Sports Movies",
          "Classic Movies",
          "LGBTQ Movies",
          "Cult Movies",
          "Anime Features",
          "Faith & Spirituality",
          "Movies"
         ],
         "y": [
          2752,
          2427,
          1674,
          869,
          859,
          756,
          641,
          616,
          577,
          375,
          357,
          343,
          243,
          219,
          116,
          102,
          71,
          71,
          65,
          54
         ]
        }
       ],
       "layout": {
        "template": {
         "data": {
          "bar": [
           {
            "error_x": {
             "color": "#2a3f5f"
            },
            "error_y": {
             "color": "#2a3f5f"
            },
            "marker": {
             "line": {
              "color": "#E5ECF6",
              "width": 0.5
             },
             "pattern": {
              "fillmode": "overlay",
              "size": 10,
              "solidity": 0.2
             }
            },
            "type": "bar"
           }
          ],
          "barpolar": [
           {
            "marker": {
             "line": {
              "color": "#E5ECF6",
              "width": 0.5
             },
             "pattern": {
              "fillmode": "overlay",
              "size": 10,
              "solidity": 0.2
             }
            },
            "type": "barpolar"
           }
          ],
          "carpet": [
           {
            "aaxis": {
             "endlinecolor": "#2a3f5f",
             "gridcolor": "white",
             "linecolor": "white",
             "minorgridcolor": "white",
             "startlinecolor": "#2a3f5f"
            },
            "baxis": {
             "endlinecolor": "#2a3f5f",
             "gridcolor": "white",
             "linecolor": "white",
             "minorgridcolor": "white",
             "startlinecolor": "#2a3f5f"
            },
            "type": "carpet"
           }
          ],
          "choropleth": [
           {
            "colorbar": {
             "outlinewidth": 0,
             "ticks": ""
            },
            "type": "choropleth"
           }
          ],
          "contour": [
           {
            "colorbar": {
             "outlinewidth": 0,
             "ticks": ""
            },
            "colorscale": [
             [
              0,
              "#0d0887"
             ],
             [
              0.1111111111111111,
              "#46039f"
             ],
             [
              0.2222222222222222,
              "#7201a8"
             ],
             [
              0.3333333333333333,
              "#9c179e"
             ],
             [
              0.4444444444444444,
              "#bd3786"
             ],
             [
              0.5555555555555556,
              "#d8576b"
             ],
             [
              0.6666666666666666,
              "#ed7953"
             ],
             [
              0.7777777777777778,
              "#fb9f3a"
             ],
             [
              0.8888888888888888,
              "#fdca26"
             ],
             [
              1,
              "#f0f921"
             ]
            ],
            "type": "contour"
           }
          ],
          "contourcarpet": [
           {
            "colorbar": {
             "outlinewidth": 0,
             "ticks": ""
            },
            "type": "contourcarpet"
           }
          ],
          "heatmap": [
           {
            "colorbar": {
             "outlinewidth": 0,
             "ticks": ""
            },
            "colorscale": [
             [
              0,
              "#0d0887"
             ],
             [
              0.1111111111111111,
              "#46039f"
             ],
             [
              0.2222222222222222,
              "#7201a8"
             ],
             [
              0.3333333333333333,
              "#9c179e"
             ],
             [
              0.4444444444444444,
              "#bd3786"
             ],
             [
              0.5555555555555556,
              "#d8576b"
             ],
             [
              0.6666666666666666,
              "#ed7953"
             ],
             [
              0.7777777777777778,
              "#fb9f3a"
             ],
             [
              0.8888888888888888,
              "#fdca26"
             ],
             [
              1,
              "#f0f921"
             ]
            ],
            "type": "heatmap"
           }
          ],
          "heatmapgl": [
           {
            "colorbar": {
             "outlinewidth": 0,
             "ticks": ""
            },
            "colorscale": [
             [
              0,
              "#0d0887"
             ],
             [
              0.1111111111111111,
              "#46039f"
             ],
             [
              0.2222222222222222,
              "#7201a8"
             ],
             [
              0.3333333333333333,
              "#9c179e"
             ],
             [
              0.4444444444444444,
              "#bd3786"
             ],
             [
              0.5555555555555556,
              "#d8576b"
             ],
             [
              0.6666666666666666,
              "#ed7953"
             ],
             [
              0.7777777777777778,
              "#fb9f3a"
             ],
             [
              0.8888888888888888,
              "#fdca26"
             ],
             [
              1,
              "#f0f921"
             ]
            ],
            "type": "heatmapgl"
           }
          ],
          "histogram": [
           {
            "marker": {
             "pattern": {
              "fillmode": "overlay",
              "size": 10,
              "solidity": 0.2
             }
            },
            "type": "histogram"
           }
          ],
          "histogram2d": [
           {
            "colorbar": {
             "outlinewidth": 0,
             "ticks": ""
            },
            "colorscale": [
             [
              0,
              "#0d0887"
             ],
             [
              0.1111111111111111,
              "#46039f"
             ],
             [
              0.2222222222222222,
              "#7201a8"
             ],
             [
              0.3333333333333333,
              "#9c179e"
             ],
             [
              0.4444444444444444,
              "#bd3786"
             ],
             [
              0.5555555555555556,
              "#d8576b"
             ],
             [
              0.6666666666666666,
              "#ed7953"
             ],
             [
              0.7777777777777778,
              "#fb9f3a"
             ],
             [
              0.8888888888888888,
              "#fdca26"
             ],
             [
              1,
              "#f0f921"
             ]
            ],
            "type": "histogram2d"
           }
          ],
          "histogram2dcontour": [
           {
            "colorbar": {
             "outlinewidth": 0,
             "ticks": ""
            },
            "colorscale": [
             [
              0,
              "#0d0887"
             ],
             [
              0.1111111111111111,
              "#46039f"
             ],
             [
              0.2222222222222222,
              "#7201a8"
             ],
             [
              0.3333333333333333,
              "#9c179e"
             ],
             [
              0.4444444444444444,
              "#bd3786"
             ],
             [
              0.5555555555555556,
              "#d8576b"
             ],
             [
              0.6666666666666666,
              "#ed7953"
             ],
             [
              0.7777777777777778,
              "#fb9f3a"
             ],
             [
              0.8888888888888888,
              "#fdca26"
             ],
             [
              1,
              "#f0f921"
             ]
            ],
            "type": "histogram2dcontour"
           }
          ],
          "mesh3d": [
           {
            "colorbar": {
             "outlinewidth": 0,
             "ticks": ""
            },
            "type": "mesh3d"
           }
          ],
          "parcoords": [
           {
            "line": {
             "colorbar": {
              "outlinewidth": 0,
              "ticks": ""
             }
            },
            "type": "parcoords"
           }
          ],
          "pie": [
           {
            "automargin": true,
            "type": "pie"
           }
          ],
          "scatter": [
           {
            "marker": {
             "colorbar": {
              "outlinewidth": 0,
              "ticks": ""
             }
            },
            "type": "scatter"
           }
          ],
          "scatter3d": [
           {
            "line": {
             "colorbar": {
              "outlinewidth": 0,
              "ticks": ""
             }
            },
            "marker": {
             "colorbar": {
              "outlinewidth": 0,
              "ticks": ""
             }
            },
            "type": "scatter3d"
           }
          ],
          "scattercarpet": [
           {
            "marker": {
             "colorbar": {
              "outlinewidth": 0,
              "ticks": ""
             }
            },
            "type": "scattercarpet"
           }
          ],
          "scattergeo": [
           {
            "marker": {
             "colorbar": {
              "outlinewidth": 0,
              "ticks": ""
             }
            },
            "type": "scattergeo"
           }
          ],
          "scattergl": [
           {
            "marker": {
             "colorbar": {
              "outlinewidth": 0,
              "ticks": ""
             }
            },
            "type": "scattergl"
           }
          ],
          "scattermapbox": [
           {
            "marker": {
             "colorbar": {
              "outlinewidth": 0,
              "ticks": ""
             }
            },
            "type": "scattermapbox"
           }
          ],
          "scatterpolar": [
           {
            "marker": {
             "colorbar": {
              "outlinewidth": 0,
              "ticks": ""
             }
            },
            "type": "scatterpolar"
           }
          ],
          "scatterpolargl": [
           {
            "marker": {
             "colorbar": {
              "outlinewidth": 0,
              "ticks": ""
             }
            },
            "type": "scatterpolargl"
           }
          ],
          "scatterternary": [
           {
            "marker": {
             "colorbar": {
              "outlinewidth": 0,
              "ticks": ""
             }
            },
            "type": "scatterternary"
           }
          ],
          "surface": [
           {
            "colorbar": {
             "outlinewidth": 0,
             "ticks": ""
            },
            "colorscale": [
             [
              0,
              "#0d0887"
             ],
             [
              0.1111111111111111,
              "#46039f"
             ],
             [
              0.2222222222222222,
              "#7201a8"
             ],
             [
              0.3333333333333333,
              "#9c179e"
             ],
             [
              0.4444444444444444,
              "#bd3786"
             ],
             [
              0.5555555555555556,
              "#d8576b"
             ],
             [
              0.6666666666666666,
              "#ed7953"
             ],
             [
              0.7777777777777778,
              "#fb9f3a"
             ],
             [
              0.8888888888888888,
              "#fdca26"
             ],
             [
              1,
              "#f0f921"
             ]
            ],
            "type": "surface"
           }
          ],
          "table": [
           {
            "cells": {
             "fill": {
              "color": "#EBF0F8"
             },
             "line": {
              "color": "white"
             }
            },
            "header": {
             "fill": {
              "color": "#C8D4E3"
             },
             "line": {
              "color": "white"
             }
            },
            "type": "table"
           }
          ]
         },
         "layout": {
          "annotationdefaults": {
           "arrowcolor": "#2a3f5f",
           "arrowhead": 0,
           "arrowwidth": 1
          },
          "autotypenumbers": "strict",
          "coloraxis": {
           "colorbar": {
            "outlinewidth": 0,
            "ticks": ""
           }
          },
          "colorscale": {
           "diverging": [
            [
             0,
             "#8e0152"
            ],
            [
             0.1,
             "#c51b7d"
            ],
            [
             0.2,
             "#de77ae"
            ],
            [
             0.3,
             "#f1b6da"
            ],
            [
             0.4,
             "#fde0ef"
            ],
            [
             0.5,
             "#f7f7f7"
            ],
            [
             0.6,
             "#e6f5d0"
            ],
            [
             0.7,
             "#b8e186"
            ],
            [
             0.8,
             "#7fbc41"
            ],
            [
             0.9,
             "#4d9221"
            ],
            [
             1,
             "#276419"
            ]
           ],
           "sequential": [
            [
             0,
             "#0d0887"
            ],
            [
             0.1111111111111111,
             "#46039f"
            ],
            [
             0.2222222222222222,
             "#7201a8"
            ],
            [
             0.3333333333333333,
             "#9c179e"
            ],
            [
             0.4444444444444444,
             "#bd3786"
            ],
            [
             0.5555555555555556,
             "#d8576b"
            ],
            [
             0.6666666666666666,
             "#ed7953"
            ],
            [
             0.7777777777777778,
             "#fb9f3a"
            ],
            [
             0.8888888888888888,
             "#fdca26"
            ],
            [
             1,
             "#f0f921"
            ]
           ],
           "sequentialminus": [
            [
             0,
             "#0d0887"
            ],
            [
             0.1111111111111111,
             "#46039f"
            ],
            [
             0.2222222222222222,
             "#7201a8"
            ],
            [
             0.3333333333333333,
             "#9c179e"
            ],
            [
             0.4444444444444444,
             "#bd3786"
            ],
            [
             0.5555555555555556,
             "#d8576b"
            ],
            [
             0.6666666666666666,
             "#ed7953"
            ],
            [
             0.7777777777777778,
             "#fb9f3a"
            ],
            [
             0.8888888888888888,
             "#fdca26"
            ],
            [
             1,
             "#f0f921"
            ]
           ]
          },
          "colorway": [
           "#636efa",
           "#EF553B",
           "#00cc96",
           "#ab63fa",
           "#FFA15A",
           "#19d3f3",
           "#FF6692",
           "#B6E880",
           "#FF97FF",
           "#FECB52"
          ],
          "font": {
           "color": "#2a3f5f"
          },
          "geo": {
           "bgcolor": "white",
           "lakecolor": "white",
           "landcolor": "#E5ECF6",
           "showlakes": true,
           "showland": true,
           "subunitcolor": "white"
          },
          "hoverlabel": {
           "align": "left"
          },
          "hovermode": "closest",
          "mapbox": {
           "style": "light"
          },
          "paper_bgcolor": "white",
          "plot_bgcolor": "#E5ECF6",
          "polar": {
           "angularaxis": {
            "gridcolor": "white",
            "linecolor": "white",
            "ticks": ""
           },
           "bgcolor": "#E5ECF6",
           "radialaxis": {
            "gridcolor": "white",
            "linecolor": "white",
            "ticks": ""
           }
          },
          "scene": {
           "xaxis": {
            "backgroundcolor": "#E5ECF6",
            "gridcolor": "white",
            "gridwidth": 2,
            "linecolor": "white",
            "showbackground": true,
            "ticks": "",
            "zerolinecolor": "white"
           },
           "yaxis": {
            "backgroundcolor": "#E5ECF6",
            "gridcolor": "white",
            "gridwidth": 2,
            "linecolor": "white",
            "showbackground": true,
            "ticks": "",
            "zerolinecolor": "white"
           },
           "zaxis": {
            "backgroundcolor": "#E5ECF6",
            "gridcolor": "white",
            "gridwidth": 2,
            "linecolor": "white",
            "showbackground": true,
            "ticks": "",
            "zerolinecolor": "white"
           }
          },
          "shapedefaults": {
           "line": {
            "color": "#2a3f5f"
           }
          },
          "ternary": {
           "aaxis": {
            "gridcolor": "white",
            "linecolor": "white",
            "ticks": ""
           },
           "baxis": {
            "gridcolor": "white",
            "linecolor": "white",
            "ticks": ""
           },
           "bgcolor": "#E5ECF6",
           "caxis": {
            "gridcolor": "white",
            "linecolor": "white",
            "ticks": ""
           }
          },
          "title": {
           "x": 0.05
          },
          "xaxis": {
           "automargin": true,
           "gridcolor": "white",
           "linecolor": "white",
           "ticks": "",
           "title": {
            "standoff": 15
           },
           "zerolinecolor": "white",
           "zerolinewidth": 2
          },
          "yaxis": {
           "automargin": true,
           "gridcolor": "white",
           "linecolor": "white",
           "ticks": "",
           "title": {
            "standoff": 15
           },
           "zerolinecolor": "white",
           "zerolinewidth": 2
          }
         }
        },
        "title": {
         "text": "Top Movies Genres"
        },
        "xaxis": {
         "categoryorder": "total descending"
        }
       }
      }
     },
     "metadata": {},
     "output_type": "display_data"
    }
   ],
   "source": [
    "top_genres(movie_df, title='Top Movies Genres')"
   ]
  },
  {
   "cell_type": "code",
   "execution_count": 53,
   "metadata": {},
   "outputs": [],
   "source": [
    "top_movies_genres = [\n",
    "    'International Movies',\n",
    "    'Dramas',\n",
    "    'Comedies',\n",
    "    'Documentaries',\n",
    "    'Action & Adventure',\n",
    "]"
   ]
  },
  {
   "cell_type": "code",
   "execution_count": 54,
   "metadata": {},
   "outputs": [
    {
     "data": {
      "application/vnd.plotly.v1+json": {
       "config": {
        "plotlyServerURL": "https://plot.ly"
       },
       "data": [
        {
         "type": "bar",
         "x": [
          "International TV Shows",
          "TV Dramas",
          "TV Comedies",
          "Crime TV Shows",
          "Kids' TV",
          "Docuseries",
          "Romantic TV Shows",
          "Reality TV",
          "British TV Shows",
          "Anime Series",
          "Spanish-Language TV Shows",
          "TV Action & Adventure",
          "Korean TV Shows",
          "TV Mysteries",
          "Science & Nature TV",
          "TV Sci-Fi & Fantasy",
          "TV Horror",
          "Teen TV Shows",
          "TV Thrillers",
          "Stand-Up Comedy & Talk Shows",
          "Classic & Cult TV",
          "TV Shows"
         ],
         "y": [
          1350,
          762,
          574,
          469,
          449,
          394,
          370,
          255,
          252,
          175,
          173,
          167,
          151,
          98,
          92,
          83,
          75,
          69,
          57,
          56,
          26,
          16
         ]
        }
       ],
       "layout": {
        "template": {
         "data": {
          "bar": [
           {
            "error_x": {
             "color": "#2a3f5f"
            },
            "error_y": {
             "color": "#2a3f5f"
            },
            "marker": {
             "line": {
              "color": "#E5ECF6",
              "width": 0.5
             },
             "pattern": {
              "fillmode": "overlay",
              "size": 10,
              "solidity": 0.2
             }
            },
            "type": "bar"
           }
          ],
          "barpolar": [
           {
            "marker": {
             "line": {
              "color": "#E5ECF6",
              "width": 0.5
             },
             "pattern": {
              "fillmode": "overlay",
              "size": 10,
              "solidity": 0.2
             }
            },
            "type": "barpolar"
           }
          ],
          "carpet": [
           {
            "aaxis": {
             "endlinecolor": "#2a3f5f",
             "gridcolor": "white",
             "linecolor": "white",
             "minorgridcolor": "white",
             "startlinecolor": "#2a3f5f"
            },
            "baxis": {
             "endlinecolor": "#2a3f5f",
             "gridcolor": "white",
             "linecolor": "white",
             "minorgridcolor": "white",
             "startlinecolor": "#2a3f5f"
            },
            "type": "carpet"
           }
          ],
          "choropleth": [
           {
            "colorbar": {
             "outlinewidth": 0,
             "ticks": ""
            },
            "type": "choropleth"
           }
          ],
          "contour": [
           {
            "colorbar": {
             "outlinewidth": 0,
             "ticks": ""
            },
            "colorscale": [
             [
              0,
              "#0d0887"
             ],
             [
              0.1111111111111111,
              "#46039f"
             ],
             [
              0.2222222222222222,
              "#7201a8"
             ],
             [
              0.3333333333333333,
              "#9c179e"
             ],
             [
              0.4444444444444444,
              "#bd3786"
             ],
             [
              0.5555555555555556,
              "#d8576b"
             ],
             [
              0.6666666666666666,
              "#ed7953"
             ],
             [
              0.7777777777777778,
              "#fb9f3a"
             ],
             [
              0.8888888888888888,
              "#fdca26"
             ],
             [
              1,
              "#f0f921"
             ]
            ],
            "type": "contour"
           }
          ],
          "contourcarpet": [
           {
            "colorbar": {
             "outlinewidth": 0,
             "ticks": ""
            },
            "type": "contourcarpet"
           }
          ],
          "heatmap": [
           {
            "colorbar": {
             "outlinewidth": 0,
             "ticks": ""
            },
            "colorscale": [
             [
              0,
              "#0d0887"
             ],
             [
              0.1111111111111111,
              "#46039f"
             ],
             [
              0.2222222222222222,
              "#7201a8"
             ],
             [
              0.3333333333333333,
              "#9c179e"
             ],
             [
              0.4444444444444444,
              "#bd3786"
             ],
             [
              0.5555555555555556,
              "#d8576b"
             ],
             [
              0.6666666666666666,
              "#ed7953"
             ],
             [
              0.7777777777777778,
              "#fb9f3a"
             ],
             [
              0.8888888888888888,
              "#fdca26"
             ],
             [
              1,
              "#f0f921"
             ]
            ],
            "type": "heatmap"
           }
          ],
          "heatmapgl": [
           {
            "colorbar": {
             "outlinewidth": 0,
             "ticks": ""
            },
            "colorscale": [
             [
              0,
              "#0d0887"
             ],
             [
              0.1111111111111111,
              "#46039f"
             ],
             [
              0.2222222222222222,
              "#7201a8"
             ],
             [
              0.3333333333333333,
              "#9c179e"
             ],
             [
              0.4444444444444444,
              "#bd3786"
             ],
             [
              0.5555555555555556,
              "#d8576b"
             ],
             [
              0.6666666666666666,
              "#ed7953"
             ],
             [
              0.7777777777777778,
              "#fb9f3a"
             ],
             [
              0.8888888888888888,
              "#fdca26"
             ],
             [
              1,
              "#f0f921"
             ]
            ],
            "type": "heatmapgl"
           }
          ],
          "histogram": [
           {
            "marker": {
             "pattern": {
              "fillmode": "overlay",
              "size": 10,
              "solidity": 0.2
             }
            },
            "type": "histogram"
           }
          ],
          "histogram2d": [
           {
            "colorbar": {
             "outlinewidth": 0,
             "ticks": ""
            },
            "colorscale": [
             [
              0,
              "#0d0887"
             ],
             [
              0.1111111111111111,
              "#46039f"
             ],
             [
              0.2222222222222222,
              "#7201a8"
             ],
             [
              0.3333333333333333,
              "#9c179e"
             ],
             [
              0.4444444444444444,
              "#bd3786"
             ],
             [
              0.5555555555555556,
              "#d8576b"
             ],
             [
              0.6666666666666666,
              "#ed7953"
             ],
             [
              0.7777777777777778,
              "#fb9f3a"
             ],
             [
              0.8888888888888888,
              "#fdca26"
             ],
             [
              1,
              "#f0f921"
             ]
            ],
            "type": "histogram2d"
           }
          ],
          "histogram2dcontour": [
           {
            "colorbar": {
             "outlinewidth": 0,
             "ticks": ""
            },
            "colorscale": [
             [
              0,
              "#0d0887"
             ],
             [
              0.1111111111111111,
              "#46039f"
             ],
             [
              0.2222222222222222,
              "#7201a8"
             ],
             [
              0.3333333333333333,
              "#9c179e"
             ],
             [
              0.4444444444444444,
              "#bd3786"
             ],
             [
              0.5555555555555556,
              "#d8576b"
             ],
             [
              0.6666666666666666,
              "#ed7953"
             ],
             [
              0.7777777777777778,
              "#fb9f3a"
             ],
             [
              0.8888888888888888,
              "#fdca26"
             ],
             [
              1,
              "#f0f921"
             ]
            ],
            "type": "histogram2dcontour"
           }
          ],
          "mesh3d": [
           {
            "colorbar": {
             "outlinewidth": 0,
             "ticks": ""
            },
            "type": "mesh3d"
           }
          ],
          "parcoords": [
           {
            "line": {
             "colorbar": {
              "outlinewidth": 0,
              "ticks": ""
             }
            },
            "type": "parcoords"
           }
          ],
          "pie": [
           {
            "automargin": true,
            "type": "pie"
           }
          ],
          "scatter": [
           {
            "marker": {
             "colorbar": {
              "outlinewidth": 0,
              "ticks": ""
             }
            },
            "type": "scatter"
           }
          ],
          "scatter3d": [
           {
            "line": {
             "colorbar": {
              "outlinewidth": 0,
              "ticks": ""
             }
            },
            "marker": {
             "colorbar": {
              "outlinewidth": 0,
              "ticks": ""
             }
            },
            "type": "scatter3d"
           }
          ],
          "scattercarpet": [
           {
            "marker": {
             "colorbar": {
              "outlinewidth": 0,
              "ticks": ""
             }
            },
            "type": "scattercarpet"
           }
          ],
          "scattergeo": [
           {
            "marker": {
             "colorbar": {
              "outlinewidth": 0,
              "ticks": ""
             }
            },
            "type": "scattergeo"
           }
          ],
          "scattergl": [
           {
            "marker": {
             "colorbar": {
              "outlinewidth": 0,
              "ticks": ""
             }
            },
            "type": "scattergl"
           }
          ],
          "scattermapbox": [
           {
            "marker": {
             "colorbar": {
              "outlinewidth": 0,
              "ticks": ""
             }
            },
            "type": "scattermapbox"
           }
          ],
          "scatterpolar": [
           {
            "marker": {
             "colorbar": {
              "outlinewidth": 0,
              "ticks": ""
             }
            },
            "type": "scatterpolar"
           }
          ],
          "scatterpolargl": [
           {
            "marker": {
             "colorbar": {
              "outlinewidth": 0,
              "ticks": ""
             }
            },
            "type": "scatterpolargl"
           }
          ],
          "scatterternary": [
           {
            "marker": {
             "colorbar": {
              "outlinewidth": 0,
              "ticks": ""
             }
            },
            "type": "scatterternary"
           }
          ],
          "surface": [
           {
            "colorbar": {
             "outlinewidth": 0,
             "ticks": ""
            },
            "colorscale": [
             [
              0,
              "#0d0887"
             ],
             [
              0.1111111111111111,
              "#46039f"
             ],
             [
              0.2222222222222222,
              "#7201a8"
             ],
             [
              0.3333333333333333,
              "#9c179e"
             ],
             [
              0.4444444444444444,
              "#bd3786"
             ],
             [
              0.5555555555555556,
              "#d8576b"
             ],
             [
              0.6666666666666666,
              "#ed7953"
             ],
             [
              0.7777777777777778,
              "#fb9f3a"
             ],
             [
              0.8888888888888888,
              "#fdca26"
             ],
             [
              1,
              "#f0f921"
             ]
            ],
            "type": "surface"
           }
          ],
          "table": [
           {
            "cells": {
             "fill": {
              "color": "#EBF0F8"
             },
             "line": {
              "color": "white"
             }
            },
            "header": {
             "fill": {
              "color": "#C8D4E3"
             },
             "line": {
              "color": "white"
             }
            },
            "type": "table"
           }
          ]
         },
         "layout": {
          "annotationdefaults": {
           "arrowcolor": "#2a3f5f",
           "arrowhead": 0,
           "arrowwidth": 1
          },
          "autotypenumbers": "strict",
          "coloraxis": {
           "colorbar": {
            "outlinewidth": 0,
            "ticks": ""
           }
          },
          "colorscale": {
           "diverging": [
            [
             0,
             "#8e0152"
            ],
            [
             0.1,
             "#c51b7d"
            ],
            [
             0.2,
             "#de77ae"
            ],
            [
             0.3,
             "#f1b6da"
            ],
            [
             0.4,
             "#fde0ef"
            ],
            [
             0.5,
             "#f7f7f7"
            ],
            [
             0.6,
             "#e6f5d0"
            ],
            [
             0.7,
             "#b8e186"
            ],
            [
             0.8,
             "#7fbc41"
            ],
            [
             0.9,
             "#4d9221"
            ],
            [
             1,
             "#276419"
            ]
           ],
           "sequential": [
            [
             0,
             "#0d0887"
            ],
            [
             0.1111111111111111,
             "#46039f"
            ],
            [
             0.2222222222222222,
             "#7201a8"
            ],
            [
             0.3333333333333333,
             "#9c179e"
            ],
            [
             0.4444444444444444,
             "#bd3786"
            ],
            [
             0.5555555555555556,
             "#d8576b"
            ],
            [
             0.6666666666666666,
             "#ed7953"
            ],
            [
             0.7777777777777778,
             "#fb9f3a"
            ],
            [
             0.8888888888888888,
             "#fdca26"
            ],
            [
             1,
             "#f0f921"
            ]
           ],
           "sequentialminus": [
            [
             0,
             "#0d0887"
            ],
            [
             0.1111111111111111,
             "#46039f"
            ],
            [
             0.2222222222222222,
             "#7201a8"
            ],
            [
             0.3333333333333333,
             "#9c179e"
            ],
            [
             0.4444444444444444,
             "#bd3786"
            ],
            [
             0.5555555555555556,
             "#d8576b"
            ],
            [
             0.6666666666666666,
             "#ed7953"
            ],
            [
             0.7777777777777778,
             "#fb9f3a"
            ],
            [
             0.8888888888888888,
             "#fdca26"
            ],
            [
             1,
             "#f0f921"
            ]
           ]
          },
          "colorway": [
           "#636efa",
           "#EF553B",
           "#00cc96",
           "#ab63fa",
           "#FFA15A",
           "#19d3f3",
           "#FF6692",
           "#B6E880",
           "#FF97FF",
           "#FECB52"
          ],
          "font": {
           "color": "#2a3f5f"
          },
          "geo": {
           "bgcolor": "white",
           "lakecolor": "white",
           "landcolor": "#E5ECF6",
           "showlakes": true,
           "showland": true,
           "subunitcolor": "white"
          },
          "hoverlabel": {
           "align": "left"
          },
          "hovermode": "closest",
          "mapbox": {
           "style": "light"
          },
          "paper_bgcolor": "white",
          "plot_bgcolor": "#E5ECF6",
          "polar": {
           "angularaxis": {
            "gridcolor": "white",
            "linecolor": "white",
            "ticks": ""
           },
           "bgcolor": "#E5ECF6",
           "radialaxis": {
            "gridcolor": "white",
            "linecolor": "white",
            "ticks": ""
           }
          },
          "scene": {
           "xaxis": {
            "backgroundcolor": "#E5ECF6",
            "gridcolor": "white",
            "gridwidth": 2,
            "linecolor": "white",
            "showbackground": true,
            "ticks": "",
            "zerolinecolor": "white"
           },
           "yaxis": {
            "backgroundcolor": "#E5ECF6",
            "gridcolor": "white",
            "gridwidth": 2,
            "linecolor": "white",
            "showbackground": true,
            "ticks": "",
            "zerolinecolor": "white"
           },
           "zaxis": {
            "backgroundcolor": "#E5ECF6",
            "gridcolor": "white",
            "gridwidth": 2,
            "linecolor": "white",
            "showbackground": true,
            "ticks": "",
            "zerolinecolor": "white"
           }
          },
          "shapedefaults": {
           "line": {
            "color": "#2a3f5f"
           }
          },
          "ternary": {
           "aaxis": {
            "gridcolor": "white",
            "linecolor": "white",
            "ticks": ""
           },
           "baxis": {
            "gridcolor": "white",
            "linecolor": "white",
            "ticks": ""
           },
           "bgcolor": "#E5ECF6",
           "caxis": {
            "gridcolor": "white",
            "linecolor": "white",
            "ticks": ""
           }
          },
          "title": {
           "x": 0.05
          },
          "xaxis": {
           "automargin": true,
           "gridcolor": "white",
           "linecolor": "white",
           "ticks": "",
           "title": {
            "standoff": 15
           },
           "zerolinecolor": "white",
           "zerolinewidth": 2
          },
          "yaxis": {
           "automargin": true,
           "gridcolor": "white",
           "linecolor": "white",
           "ticks": "",
           "title": {
            "standoff": 15
           },
           "zerolinecolor": "white",
           "zerolinewidth": 2
          }
         }
        },
        "title": {
         "text": "Top TV Shows Genres"
        },
        "xaxis": {
         "categoryorder": "total descending"
        }
       }
      }
     },
     "metadata": {},
     "output_type": "display_data"
    }
   ],
   "source": [
    "top_genres(show_df, title='Top TV Shows Genres')"
   ]
  },
  {
   "cell_type": "code",
   "execution_count": 62,
   "metadata": {},
   "outputs": [
    {
     "data": {
      "image/png": "[encoded data removed]",
      "text/plain": [
       "<Figure size 720x504 with 2 Axes>"
      ]
     },
     "metadata": {
      "needs_background": "light"
     },
     "output_type": "display_data"
    }
   ],
   "source": [
    "genres_df = calculate_mlb(movie_df['genre'])\n",
    "\n",
    "movie_corr = genres_df.corr()\n",
    "movie_mask = np.zeros_like(movie_corr, dtype=np.bool)\n",
    "movie_mask[np.triu_indices_from(movie_mask)] = True\n",
    "fig, ax = plt.subplots(figsize=(10, 7))\n",
    "sns.heatmap(movie_corr, mask=movie_mask, cmap='coolwarm', vmax=.5, vmin=-.5, center=0, linewidths=.5, cbar_kws={'shrink': 0.6})\n",
    "\n",
    "plt.show()"
   ]
  },
  {
   "cell_type": "code",
   "execution_count": 67,
   "metadata": {},
   "outputs": [
    {
     "data": {
      "image/png": "[encoded data removed]",
      "text/plain": [
       "<Figure size 720x504 with 2 Axes>"
      ]
     },
     "metadata": {
      "needs_background": "light"
     },
     "output_type": "display_data"
    }
   ],
   "source": [
    "genres_df = calculate_mlb(show_df['genre'])\n",
    "\n",
    "show_corr = genres_df.corr()\n",
    "show_mask = np.zeros_like(show_corr, dtype=np.bool)\n",
    "show_mask[np.triu_indices_from(show_mask)] = True\n",
    "fig, ax = plt.subplots(figsize=(10, 7))\n",
    "pl = sns.heatmap(show_corr, mask=show_mask, cmap= \"coolwarm\", vmax=.5, vmin=-.5, center=0, linewidths=.5,\n",
    "                 cbar_kws={\"shrink\": 0.6})\n",
    "plt.show()"
   ]
  },
  {
   "cell_type": "code",
   "execution_count": null,
   "metadata": {},
   "outputs": [],
   "source": []
  }
 ],
 "metadata": {
  "interpreter": {
   "hash": "aa2d47bc11f4184ec0f4ad036b942f7d7cdb077768e25a9953837c39fb45c11e"
  },
  "kernelspec": {
   "display_name": "Python 3.7.2 32-bit",
   "language": "python",
   "name": "python3"
  },
  "language_info": {
   "codemirror_mode": {
    "name": "ipython",
    "version": 3
   },
   "file_extension": ".py",
   "mimetype": "text/x-python",
   "name": "python",
   "nbconvert_exporter": "python",
   "pygments_lexer": "ipython3",
   "version": "3.7.2"
  },
  "orig_nbformat": 4
 },
 "nbformat": 4,
 "nbformat_minor": 2
}
